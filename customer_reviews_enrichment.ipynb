{
 "cells": [
  {
   "cell_type": "markdown",
   "metadata": {},
   "source": [
    "# Customer Reviews Enrichment - Sentiment Analysis"
   ]
  },
  {
   "cell_type": "code",
   "execution_count": 15,
   "metadata": {},
   "outputs": [],
   "source": [
    "# Import Libaries\n",
    "import pandas as pd\n",
    "import mysql.connector\n",
    "import nltk\n",
    "from nltk.sentiment.vader import SentimentIntensityAnalyzer\n"
   ]
  },
  {
   "cell_type": "markdown",
   "metadata": {},
   "source": [
    "### Vader Lexicon\n",
    "The vader_lexicon is at the core of VADER's ability to provide accurate and nuanced sentiment analysis for informal and emotive text, making it a popular choice for tasks involving social media or casual communication."
   ]
  },
  {
   "cell_type": "code",
   "execution_count": 16,
   "metadata": {},
   "outputs": [
    {
     "name": "stderr",
     "output_type": "stream",
     "text": [
      "[nltk_data] Downloading package vader_lexicon to\n",
      "[nltk_data]     /Users/sauravghag/nltk_data...\n",
      "[nltk_data]   Package vader_lexicon is already up-to-date!\n"
     ]
    },
    {
     "data": {
      "text/plain": [
       "True"
      ]
     },
     "execution_count": 16,
     "metadata": {},
     "output_type": "execute_result"
    }
   ],
   "source": [
    "# Download the VADER lexicon for sentiment analysis if not already present.\n",
    "nltk.download('vader_lexicon')\n"
   ]
  },
  {
   "cell_type": "code",
   "execution_count": 17,
   "metadata": {},
   "outputs": [],
   "source": [
    "# Define a function to fetch data from a SQL database using a SQL query\n",
    "def fetch_data_from_sql():\n",
    "    # Define the connection string with parameters for the database connection\n",
    "    conn = mysql.connector.connect(\n",
    "    host='localhost',\n",
    "    user='root',\n",
    "    password='root1234',\n",
    "    database='marketinganalysis'\n",
    "    )\n",
    "    # cursor = conn.cursor()\n",
    "    # Establish the connection to the database\n",
    "    # conn = pyodbc.connect(conn_str)\n",
    "    \n",
    "    # Define the SQL query to fetch customer reviews data\n",
    "    query = \"SELECT ReviewID, CustomerID, ProductID, ReviewDate, Rating, ReviewText FROM customer_reviews\"\n",
    "    \n",
    "    # Execute the query and fetch the data into a DataFrame\n",
    "    df = pd.read_sql(query, conn)\n",
    "    \n",
    "    # Close the connection to free up resources\n",
    "    conn.close()\n",
    "    \n",
    "    # Return the fetched data as a DataFrame\n",
    "    return df\n"
   ]
  },
  {
   "cell_type": "code",
   "execution_count": 18,
   "metadata": {},
   "outputs": [
    {
     "name": "stderr",
     "output_type": "stream",
     "text": [
      "/var/folders/zq/ghh4l0mn5078c1nk59q9r3qw0000gn/T/ipykernel_10542/3863904897.py:18: UserWarning: pandas only supports SQLAlchemy connectable (engine/connection) or database string URI or sqlite3 DBAPI2 connection. Other DBAPI2 objects are not tested. Please consider using SQLAlchemy.\n",
      "  df = pd.read_sql(query, conn)\n"
     ]
    }
   ],
   "source": [
    "# Fetch the customer reviews data from the SQL database\n",
    "customer_reviews_df = fetch_data_from_sql()\n"
   ]
  },
  {
   "cell_type": "code",
   "execution_count": 19,
   "metadata": {},
   "outputs": [],
   "source": [
    "# Initialize the VADER sentiment intensity analyzer for analyzing the sentiment of text data\n",
    "sia = SentimentIntensityAnalyzer()\n"
   ]
  },
  {
   "cell_type": "code",
   "execution_count": 20,
   "metadata": {},
   "outputs": [],
   "source": [
    "# Define a function to calculate sentiment scores using VADER\n",
    "def calculate_sentiment(review):\n",
    "    # Get the sentiment scores for the review text\n",
    "    sentiment = sia.polarity_scores(review)\n",
    "    # Return the compound score, which is a normalized score between -1 (most negative) and 1 (most positive)\n",
    "    return sentiment['compound']\n"
   ]
  },
  {
   "cell_type": "code",
   "execution_count": 21,
   "metadata": {},
   "outputs": [],
   "source": [
    "# Define a function to categorize sentiment using both the sentiment score and the review rating\n",
    "def categorize_sentiment(score, rating):\n",
    "    # Use both the text sentiment score and the numerical rating to determine sentiment category\n",
    "    if score > 0.05:  # Positive sentiment score\n",
    "        if rating >= 4:\n",
    "            return 'Positive'  # High rating and positive sentiment\n",
    "        elif rating == 3:\n",
    "            return 'Mixed Positive'  # Neutral rating but positive sentiment\n",
    "        else:\n",
    "            return 'Mixed Negative'  # Low rating but positive sentiment\n",
    "    elif score < -0.05:  # Negative sentiment score\n",
    "        if rating <= 2:\n",
    "            return 'Negative'  # Low rating and negative sentiment\n",
    "        elif rating == 3:\n",
    "            return 'Mixed Negative'  # Neutral rating but negative sentiment\n",
    "        else:\n",
    "            return 'Mixed Positive'  # High rating but negative sentiment\n",
    "    else:  # Neutral sentiment score\n",
    "        if rating >= 4:\n",
    "            return 'Positive'  # High rating with neutral sentiment\n",
    "        elif rating <= 2:\n",
    "            return 'Negative'  # Low rating with neutral sentiment\n",
    "        else:\n",
    "            return 'Neutral'  # Neutral rating and neutral sentiment\n"
   ]
  },
  {
   "cell_type": "code",
   "execution_count": 22,
   "metadata": {},
   "outputs": [],
   "source": [
    "# Define a function to bucket sentiment scores into text ranges\n",
    "def sentiment_bucket(score):\n",
    "    if score >= 0.5:\n",
    "        return '0.5 to 1.0'  # Strongly positive sentiment\n",
    "    elif 0.0 <= score < 0.5:\n",
    "        return '0.0 to 0.49'  # Mildly positive sentiment\n",
    "    elif -0.5 <= score < 0.0:\n",
    "        return '-0.49 to 0.0'  # Mildly negative sentiment\n",
    "    else:\n",
    "        return '-1.0 to -0.5'  # Strongly negative sentiment\n"
   ]
  },
  {
   "cell_type": "code",
   "execution_count": 23,
   "metadata": {},
   "outputs": [],
   "source": [
    "# Apply sentiment analysis to calculate sentiment scores for each review\n",
    "customer_reviews_df['SentimentScore'] = customer_reviews_df['ReviewText'].apply(calculate_sentiment)\n"
   ]
  },
  {
   "cell_type": "code",
   "execution_count": 24,
   "metadata": {},
   "outputs": [],
   "source": [
    "# Apply sentiment categorization using both text and rating\n",
    "customer_reviews_df['SentimentCategory'] = customer_reviews_df.apply(\n",
    "    lambda row: categorize_sentiment(row['SentimentScore'], row['Rating']), axis=1)\n"
   ]
  },
  {
   "cell_type": "code",
   "execution_count": 25,
   "metadata": {},
   "outputs": [],
   "source": [
    "# Apply sentiment bucketing to categorize scores into defined ranges\n",
    "customer_reviews_df['SentimentBucket'] = customer_reviews_df['SentimentScore'].apply(sentiment_bucket)\n"
   ]
  },
  {
   "cell_type": "code",
   "execution_count": 26,
   "metadata": {},
   "outputs": [
    {
     "name": "stdout",
     "output_type": "stream",
     "text": [
      "   ReviewID  CustomerID  ProductID  ReviewDate  Rating  \\\n",
      "0         1          77         18  2023-12-23       3   \n",
      "1         2          80         19  2024-12-25       5   \n",
      "2         3          50         13  2025-01-26       4   \n",
      "3         4          78         15  2025-04-21       3   \n",
      "4         5          64          2  2023-07-16       3   \n",
      "\n",
      "                                 ReviewText  SentimentScore SentimentCategory  \\\n",
      "0   Average  experience,  nothing  special.         -0.3089    Mixed Negative   \n",
      "1            The  quality  is    top-notch.          0.0000          Positive   \n",
      "2   Five  stars  for  the  quick  delivery.          0.0000          Positive   \n",
      "3  Good  quality,  but  could  be  cheaper.          0.2382    Mixed Positive   \n",
      "4   Average  experience,  nothing  special.         -0.3089    Mixed Negative   \n",
      "\n",
      "  SentimentBucket  \n",
      "0    -0.49 to 0.0  \n",
      "1     0.0 to 0.49  \n",
      "2     0.0 to 0.49  \n",
      "3     0.0 to 0.49  \n",
      "4    -0.49 to 0.0  \n"
     ]
    }
   ],
   "source": [
    "# Display the first few rows of the DataFrame with sentiment scores, categories, and buckets\n",
    "print(customer_reviews_df.head())\n"
   ]
  },
  {
   "cell_type": "code",
   "execution_count": 27,
   "metadata": {},
   "outputs": [
    {
     "data": {
      "text/html": [
       "<div>\n",
       "<style scoped>\n",
       "    .dataframe tbody tr th:only-of-type {\n",
       "        vertical-align: middle;\n",
       "    }\n",
       "\n",
       "    .dataframe tbody tr th {\n",
       "        vertical-align: top;\n",
       "    }\n",
       "\n",
       "    .dataframe thead th {\n",
       "        text-align: right;\n",
       "    }\n",
       "</style>\n",
       "<table border=\"1\" class=\"dataframe\">\n",
       "  <thead>\n",
       "    <tr style=\"text-align: right;\">\n",
       "      <th></th>\n",
       "      <th>ReviewID</th>\n",
       "      <th>CustomerID</th>\n",
       "      <th>ProductID</th>\n",
       "      <th>ReviewDate</th>\n",
       "      <th>Rating</th>\n",
       "      <th>ReviewText</th>\n",
       "      <th>SentimentScore</th>\n",
       "      <th>SentimentCategory</th>\n",
       "      <th>SentimentBucket</th>\n",
       "    </tr>\n",
       "  </thead>\n",
       "  <tbody>\n",
       "    <tr>\n",
       "      <th>0</th>\n",
       "      <td>1</td>\n",
       "      <td>77</td>\n",
       "      <td>18</td>\n",
       "      <td>2023-12-23</td>\n",
       "      <td>3</td>\n",
       "      <td>Average  experience,  nothing  special.</td>\n",
       "      <td>-0.3089</td>\n",
       "      <td>Mixed Negative</td>\n",
       "      <td>-0.49 to 0.0</td>\n",
       "    </tr>\n",
       "    <tr>\n",
       "      <th>1</th>\n",
       "      <td>2</td>\n",
       "      <td>80</td>\n",
       "      <td>19</td>\n",
       "      <td>2024-12-25</td>\n",
       "      <td>5</td>\n",
       "      <td>The  quality  is    top-notch.</td>\n",
       "      <td>0.0000</td>\n",
       "      <td>Positive</td>\n",
       "      <td>0.0 to 0.49</td>\n",
       "    </tr>\n",
       "    <tr>\n",
       "      <th>2</th>\n",
       "      <td>3</td>\n",
       "      <td>50</td>\n",
       "      <td>13</td>\n",
       "      <td>2025-01-26</td>\n",
       "      <td>4</td>\n",
       "      <td>Five  stars  for  the  quick  delivery.</td>\n",
       "      <td>0.0000</td>\n",
       "      <td>Positive</td>\n",
       "      <td>0.0 to 0.49</td>\n",
       "    </tr>\n",
       "    <tr>\n",
       "      <th>3</th>\n",
       "      <td>4</td>\n",
       "      <td>78</td>\n",
       "      <td>15</td>\n",
       "      <td>2025-04-21</td>\n",
       "      <td>3</td>\n",
       "      <td>Good  quality,  but  could  be  cheaper.</td>\n",
       "      <td>0.2382</td>\n",
       "      <td>Mixed Positive</td>\n",
       "      <td>0.0 to 0.49</td>\n",
       "    </tr>\n",
       "    <tr>\n",
       "      <th>4</th>\n",
       "      <td>5</td>\n",
       "      <td>64</td>\n",
       "      <td>2</td>\n",
       "      <td>2023-07-16</td>\n",
       "      <td>3</td>\n",
       "      <td>Average  experience,  nothing  special.</td>\n",
       "      <td>-0.3089</td>\n",
       "      <td>Mixed Negative</td>\n",
       "      <td>-0.49 to 0.0</td>\n",
       "    </tr>\n",
       "  </tbody>\n",
       "</table>\n",
       "</div>"
      ],
      "text/plain": [
       "   ReviewID  CustomerID  ProductID  ReviewDate  Rating  \\\n",
       "0         1          77         18  2023-12-23       3   \n",
       "1         2          80         19  2024-12-25       5   \n",
       "2         3          50         13  2025-01-26       4   \n",
       "3         4          78         15  2025-04-21       3   \n",
       "4         5          64          2  2023-07-16       3   \n",
       "\n",
       "                                 ReviewText  SentimentScore SentimentCategory  \\\n",
       "0   Average  experience,  nothing  special.         -0.3089    Mixed Negative   \n",
       "1            The  quality  is    top-notch.          0.0000          Positive   \n",
       "2   Five  stars  for  the  quick  delivery.          0.0000          Positive   \n",
       "3  Good  quality,  but  could  be  cheaper.          0.2382    Mixed Positive   \n",
       "4   Average  experience,  nothing  special.         -0.3089    Mixed Negative   \n",
       "\n",
       "  SentimentBucket  \n",
       "0    -0.49 to 0.0  \n",
       "1     0.0 to 0.49  \n",
       "2     0.0 to 0.49  \n",
       "3     0.0 to 0.49  \n",
       "4    -0.49 to 0.0  "
      ]
     },
     "execution_count": 27,
     "metadata": {},
     "output_type": "execute_result"
    }
   ],
   "source": [
    "customer_reviews_df.head()\n"
   ]
  },
  {
   "cell_type": "code",
   "execution_count": 28,
   "metadata": {},
   "outputs": [],
   "source": [
    "# Save the DataFrame with sentiment scores, categories, and buckets to a new CSV file\n",
    "customer_reviews_df.to_csv('customer_reviews_with_sentiment.csv', index=False)\n"
   ]
  }
 ],
 "metadata": {
  "kernelspec": {
   "display_name": "base",
   "language": "python",
   "name": "python3"
  },
  "language_info": {
   "codemirror_mode": {
    "name": "ipython",
    "version": 3
   },
   "file_extension": ".py",
   "mimetype": "text/x-python",
   "name": "python",
   "nbconvert_exporter": "python",
   "pygments_lexer": "ipython3",
   "version": "3.11.5"
  }
 },
 "nbformat": 4,
 "nbformat_minor": 2
}
