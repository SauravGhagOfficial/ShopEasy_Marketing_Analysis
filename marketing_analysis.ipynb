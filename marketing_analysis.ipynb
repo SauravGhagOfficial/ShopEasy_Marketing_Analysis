{
    "metadata": {
        "kernelspec": {
            "name": "SQL",
            "display_name": "SQL",
            "language": "sql"
        },
        "language_info": {
            "name": "sql",
            "version": ""
        }
    },
    "nbformat_minor": 2,
    "nbformat": 4,
    "cells": [
        {
            "cell_type": "code",
            "source": [
                "USE marketinganalysis;"
            ],
            "metadata": {
                "language": "sql",
                "azdata_cell_guid": "11c5ac33-5c08-41c0-a14e-92ac3195ad49"
            },
            "outputs": [
                {
                    "output_type": "display_data",
                    "data": {
                        "text/html": "Commands completed successfully"
                    },
                    "metadata": {}
                },
                {
                    "output_type": "display_data",
                    "data": {
                        "text/html": "Total execution time: 00:00:00"
                    },
                    "metadata": {}
                }
            ],
            "execution_count": 9
        },
        {
            "cell_type": "code",
            "source": [
                "SELECT * FROM customer_journey;"
            ],
            "metadata": {
                "azdata_cell_guid": "72233aad-ad38-4646-91d3-0253fdfd7763",
                "language": "sql"
            },
            "outputs": [
                {
                    "output_type": "display_data",
                    "data": {
                        "text/html": "(100 row(s) affected)"
                    },
                    "metadata": {}
                },
                {
                    "output_type": "display_data",
                    "data": {
                        "text/html": "Total execution time: 00:00:01.006"
                    },
                    "metadata": {}
                },
                {
                    "output_type": "execute_result",
                    "metadata": {},
                    "execution_count": 10,
                    "data": {
                        "application/vnd.dataresource+json": {
                            "schema": {
                                "fields": [
                                    {
                                        "name": "JourneyID"
                                    },
                                    {
                                        "name": "CustomerID"
                                    },
                                    {
                                        "name": "ProductID"
                                    },
                                    {
                                        "name": "VisitDate"
                                    },
                                    {
                                        "name": "Stage"
                                    },
                                    {
                                        "name": "Action"
                                    },
                                    {
                                        "name": "Duration"
                                    }
                                ]
                            },
                            "data": [
                                {
                                    "JourneyID": "1",
                                    "CustomerID": "64",
                                    "ProductID": "18",
                                    "VisitDate": "2024-06-10",
                                    "Stage": "Checkout",
                                    "Action": "Drop-off",
                                    "Duration": ""
                                },
                                {
                                    "JourneyID": "2",
                                    "CustomerID": "94",
                                    "ProductID": "11",
                                    "VisitDate": "2025-07-09",
                                    "Stage": "Checkout",
                                    "Action": "Drop-off",
                                    "Duration": ""
                                },
                                {
                                    "JourneyID": "3",
                                    "CustomerID": "34",
                                    "ProductID": "8",
                                    "VisitDate": "2024-06-14",
                                    "Stage": "ProductPage",
                                    "Action": "View",
                                    "Duration": "235.0"
                                },
                                {
                                    "JourneyID": "4",
                                    "CustomerID": "33",
                                    "ProductID": "18",
                                    "VisitDate": "2025-05-28",
                                    "Stage": "Checkout",
                                    "Action": "Drop-off",
                                    "Duration": ""
                                },
                                {
                                    "JourneyID": "5",
                                    "CustomerID": "91",
                                    "ProductID": "10",
                                    "VisitDate": "2023-02-11",
                                    "Stage": "Homepage",
                                    "Action": "Click",
                                    "Duration": "156.0"
                                },
                                {
                                    "JourneyID": "6",
                                    "CustomerID": "54",
                                    "ProductID": "11",
                                    "VisitDate": "2025-12-19",
                                    "Stage": "Homepage",
                                    "Action": "View",
                                    "Duration": "264.0"
                                },
                                {
                                    "JourneyID": "7",
                                    "CustomerID": "80",
                                    "ProductID": "4",
                                    "VisitDate": "2023-08-25",
                                    "Stage": "Homepage",
                                    "Action": "View",
                                    "Duration": "298.0"
                                },
                                {
                                    "JourneyID": "8",
                                    "CustomerID": "99",
                                    "ProductID": "10",
                                    "VisitDate": "2025-07-03",
                                    "Stage": "ProductPage",
                                    "Action": "View",
                                    "Duration": "287.0"
                                },
                                {
                                    "JourneyID": "9",
                                    "CustomerID": "31",
                                    "ProductID": "4",
                                    "VisitDate": "2025-06-13",
                                    "Stage": "ProductPage",
                                    "Action": "View",
                                    "Duration": "278.0"
                                },
                                {
                                    "JourneyID": "10",
                                    "CustomerID": "44",
                                    "ProductID": "16",
                                    "VisitDate": "2025-04-23",
                                    "Stage": "ProductPage",
                                    "Action": "View",
                                    "Duration": "30.0"
                                },
                                {
                                    "JourneyID": "11",
                                    "CustomerID": "23",
                                    "ProductID": "12",
                                    "VisitDate": "2023-08-22",
                                    "Stage": "Checkout",
                                    "Action": "Drop-off",
                                    "Duration": ""
                                },
                                {
                                    "JourneyID": "12",
                                    "CustomerID": "97",
                                    "ProductID": "12",
                                    "VisitDate": "2023-07-28",
                                    "Stage": "ProductPage",
                                    "Action": "View",
                                    "Duration": "227.0"
                                },
                                {
                                    "JourneyID": "13",
                                    "CustomerID": "83",
                                    "ProductID": "5",
                                    "VisitDate": "2024-06-20",
                                    "Stage": "Homepage",
                                    "Action": "View",
                                    "Duration": "223.0"
                                },
                                {
                                    "JourneyID": "14",
                                    "CustomerID": "14",
                                    "ProductID": "13",
                                    "VisitDate": "2025-11-01",
                                    "Stage": "ProductPage",
                                    "Action": "View",
                                    "Duration": "13.0"
                                },
                                {
                                    "JourneyID": "15",
                                    "CustomerID": "9",
                                    "ProductID": "1",
                                    "VisitDate": "2025-11-04",
                                    "Stage": "ProductPage",
                                    "Action": "View",
                                    "Duration": "292.0"
                                },
                                {
                                    "JourneyID": "16",
                                    "CustomerID": "14",
                                    "ProductID": "16",
                                    "VisitDate": "2024-07-17",
                                    "Stage": "Homepage",
                                    "Action": "View",
                                    "Duration": "46.0"
                                },
                                {
                                    "JourneyID": "17",
                                    "CustomerID": "67",
                                    "ProductID": "2",
                                    "VisitDate": "2025-12-11",
                                    "Stage": "Homepage",
                                    "Action": "View",
                                    "Duration": "185.0"
                                },
                                {
                                    "JourneyID": "18",
                                    "CustomerID": "70",
                                    "ProductID": "15",
                                    "VisitDate": "2025-10-13",
                                    "Stage": "Homepage",
                                    "Action": "View",
                                    "Duration": "191.0"
                                },
                                {
                                    "JourneyID": "19",
                                    "CustomerID": "9",
                                    "ProductID": "1",
                                    "VisitDate": "2024-08-15",
                                    "Stage": "Homepage",
                                    "Action": "View",
                                    "Duration": "187.0"
                                },
                                {
                                    "JourneyID": "20",
                                    "CustomerID": "44",
                                    "ProductID": "18",
                                    "VisitDate": "2024-02-19",
                                    "Stage": "productpage",
                                    "Action": "View",
                                    "Duration": "154.0"
                                },
                                {
                                    "JourneyID": "21",
                                    "CustomerID": "58",
                                    "ProductID": "20",
                                    "VisitDate": "2024-03-07",
                                    "Stage": "Checkout",
                                    "Action": "Drop-off",
                                    "Duration": ""
                                },
                                {
                                    "JourneyID": "22",
                                    "CustomerID": "12",
                                    "ProductID": "1",
                                    "VisitDate": "2025-11-19",
                                    "Stage": "Homepage",
                                    "Action": "Click",
                                    "Duration": "20.0"
                                },
                                {
                                    "JourneyID": "23",
                                    "CustomerID": "58",
                                    "ProductID": "1",
                                    "VisitDate": "2023-07-05",
                                    "Stage": "Homepage",
                                    "Action": "View",
                                    "Duration": "48.0"
                                },
                                {
                                    "JourneyID": "24",
                                    "CustomerID": "77",
                                    "ProductID": "6",
                                    "VisitDate": "2025-06-25",
                                    "Stage": "Checkout",
                                    "Action": "Drop-off",
                                    "Duration": ""
                                },
                                {
                                    "JourneyID": "25",
                                    "CustomerID": "75",
                                    "ProductID": "12",
                                    "VisitDate": "2023-11-23",
                                    "Stage": "ProductPage",
                                    "Action": "View",
                                    "Duration": "239.0"
                                },
                                {
                                    "JourneyID": "26",
                                    "CustomerID": "78",
                                    "ProductID": "20",
                                    "VisitDate": "2024-04-17",
                                    "Stage": "Homepage",
                                    "Action": "View",
                                    "Duration": "129.0"
                                },
                                {
                                    "JourneyID": "27",
                                    "CustomerID": "36",
                                    "ProductID": "9",
                                    "VisitDate": "2024-08-10",
                                    "Stage": "Homepage",
                                    "Action": "View",
                                    "Duration": "214.0"
                                },
                                {
                                    "JourneyID": "28",
                                    "CustomerID": "1",
                                    "ProductID": "20",
                                    "VisitDate": "2025-09-26",
                                    "Stage": "ProductPage",
                                    "Action": "View",
                                    "Duration": "64.0"
                                },
                                {
                                    "JourneyID": "29",
                                    "CustomerID": "12",
                                    "ProductID": "17",
                                    "VisitDate": "2025-06-01",
                                    "Stage": "Homepage",
                                    "Action": "View",
                                    "Duration": "205.0"
                                },
                                {
                                    "JourneyID": "30",
                                    "CustomerID": "48",
                                    "ProductID": "2",
                                    "VisitDate": "2023-05-03",
                                    "Stage": "ProductPage",
                                    "Action": "View",
                                    "Duration": "242.0"
                                },
                                {
                                    "JourneyID": "31",
                                    "CustomerID": "81",
                                    "ProductID": "19",
                                    "VisitDate": "2023-04-04",
                                    "Stage": "Homepage",
                                    "Action": "View",
                                    "Duration": "130.0"
                                },
                                {
                                    "JourneyID": "32",
                                    "CustomerID": "67",
                                    "ProductID": "11",
                                    "VisitDate": "2023-09-04",
                                    "Stage": "Checkout",
                                    "Action": "Drop-off",
                                    "Duration": ""
                                },
                                {
                                    "JourneyID": "33",
                                    "CustomerID": "2",
                                    "ProductID": "5",
                                    "VisitDate": "2025-08-10",
                                    "Stage": "Homepage",
                                    "Action": "View",
                                    "Duration": "26.0"
                                },
                                {
                                    "JourneyID": "34",
                                    "CustomerID": "55",
                                    "ProductID": "15",
                                    "VisitDate": "2023-10-26",
                                    "Stage": "Homepage",
                                    "Action": "View",
                                    "Duration": "233.0"
                                },
                                {
                                    "JourneyID": "35",
                                    "CustomerID": "60",
                                    "ProductID": "19",
                                    "VisitDate": "2023-06-21",
                                    "Stage": "homepage",
                                    "Action": "Click",
                                    "Duration": "162.0"
                                },
                                {
                                    "JourneyID": "36",
                                    "CustomerID": "17",
                                    "ProductID": "2",
                                    "VisitDate": "2023-11-20",
                                    "Stage": "Checkout",
                                    "Action": "Purchase",
                                    "Duration": "137.0"
                                },
                                {
                                    "JourneyID": "37",
                                    "CustomerID": "38",
                                    "ProductID": "17",
                                    "VisitDate": "2024-06-18",
                                    "Stage": "Checkout",
                                    "Action": "Drop-off",
                                    "Duration": ""
                                },
                                {
                                    "JourneyID": "38",
                                    "CustomerID": "13",
                                    "ProductID": "18",
                                    "VisitDate": "2023-02-23",
                                    "Stage": "ProductPage",
                                    "Action": "View",
                                    "Duration": "227.0"
                                },
                                {
                                    "JourneyID": "39",
                                    "CustomerID": "63",
                                    "ProductID": "18",
                                    "VisitDate": "2023-08-10",
                                    "Stage": "ProductPage",
                                    "Action": "View",
                                    "Duration": "233.0"
                                },
                                {
                                    "JourneyID": "40",
                                    "CustomerID": "4",
                                    "ProductID": "12",
                                    "VisitDate": "2024-12-22",
                                    "Stage": "Homepage",
                                    "Action": "View",
                                    "Duration": "110.0"
                                },
                                {
                                    "JourneyID": "41",
                                    "CustomerID": "92",
                                    "ProductID": "5",
                                    "VisitDate": "2025-11-23",
                                    "Stage": "ProductPage",
                                    "Action": "View",
                                    "Duration": "124.0"
                                },
                                {
                                    "JourneyID": "42",
                                    "CustomerID": "95",
                                    "ProductID": "10",
                                    "VisitDate": "2025-01-28",
                                    "Stage": "Homepage",
                                    "Action": "View",
                                    "Duration": "172.0"
                                },
                                {
                                    "JourneyID": "43",
                                    "CustomerID": "21",
                                    "ProductID": "8",
                                    "VisitDate": "2025-03-14",
                                    "Stage": "Homepage",
                                    "Action": "View",
                                    "Duration": "40.0"
                                },
                                {
                                    "JourneyID": "44",
                                    "CustomerID": "29",
                                    "ProductID": "3",
                                    "VisitDate": "2024-02-29",
                                    "Stage": "Homepage",
                                    "Action": "View",
                                    "Duration": "193.0"
                                },
                                {
                                    "JourneyID": "45",
                                    "CustomerID": "94",
                                    "ProductID": "6",
                                    "VisitDate": "2023-06-07",
                                    "Stage": "productpage",
                                    "Action": "View",
                                    "Duration": "118.0"
                                },
                                {
                                    "JourneyID": "46",
                                    "CustomerID": "30",
                                    "ProductID": "19",
                                    "VisitDate": "2025-10-27",
                                    "Stage": "Homepage",
                                    "Action": "View",
                                    "Duration": "210.0"
                                },
                                {
                                    "JourneyID": "47",
                                    "CustomerID": "30",
                                    "ProductID": "20",
                                    "VisitDate": "2024-02-18",
                                    "Stage": "checkout",
                                    "Action": "Drop-off",
                                    "Duration": ""
                                },
                                {
                                    "JourneyID": "48",
                                    "CustomerID": "52",
                                    "ProductID": "13",
                                    "VisitDate": "2025-02-01",
                                    "Stage": "Homepage",
                                    "Action": "View",
                                    "Duration": "241.0"
                                },
                                {
                                    "JourneyID": "49",
                                    "CustomerID": "93",
                                    "ProductID": "14",
                                    "VisitDate": "2023-04-09",
                                    "Stage": "Homepage",
                                    "Action": "Click",
                                    "Duration": "69.0"
                                },
                                {
                                    "JourneyID": "50",
                                    "CustomerID": "5",
                                    "ProductID": "9",
                                    "VisitDate": "2024-04-19",
                                    "Stage": "Homepage",
                                    "Action": "View",
                                    "Duration": "44.0"
                                },
                                {
                                    "JourneyID": "51",
                                    "CustomerID": "65",
                                    "ProductID": "8",
                                    "VisitDate": "2025-09-29",
                                    "Stage": "ProductPage",
                                    "Action": "View",
                                    "Duration": "272.0"
                                },
                                {
                                    "JourneyID": "52",
                                    "CustomerID": "15",
                                    "ProductID": "9",
                                    "VisitDate": "2025-08-07",
                                    "Stage": "Checkout",
                                    "Action": "Drop-off",
                                    "Duration": ""
                                },
                                {
                                    "JourneyID": "53",
                                    "CustomerID": "24",
                                    "ProductID": "4",
                                    "VisitDate": "2024-04-05",
                                    "Stage": "Homepage",
                                    "Action": "View",
                                    "Duration": "182.0"
                                },
                                {
                                    "JourneyID": "54",
                                    "CustomerID": "9",
                                    "ProductID": "11",
                                    "VisitDate": "2024-11-19",
                                    "Stage": "checkout",
                                    "Action": "Drop-off",
                                    "Duration": ""
                                },
                                {
                                    "JourneyID": "55",
                                    "CustomerID": "1",
                                    "ProductID": "7",
                                    "VisitDate": "2024-03-17",
                                    "Stage": "Checkout",
                                    "Action": "Drop-off",
                                    "Duration": ""
                                },
                                {
                                    "JourneyID": "56",
                                    "CustomerID": "97",
                                    "ProductID": "11",
                                    "VisitDate": "2023-12-20",
                                    "Stage": "Homepage",
                                    "Action": "Click",
                                    "Duration": "234.0"
                                },
                                {
                                    "JourneyID": "57",
                                    "CustomerID": "52",
                                    "ProductID": "14",
                                    "VisitDate": "2024-12-02",
                                    "Stage": "Homepage",
                                    "Action": "View",
                                    "Duration": "253.0"
                                },
                                {
                                    "JourneyID": "58",
                                    "CustomerID": "51",
                                    "ProductID": "20",
                                    "VisitDate": "2025-03-08",
                                    "Stage": "ProductPage",
                                    "Action": "View",
                                    "Duration": "174.0"
                                },
                                {
                                    "JourneyID": "59",
                                    "CustomerID": "32",
                                    "ProductID": "8",
                                    "VisitDate": "2024-08-19",
                                    "Stage": "Homepage",
                                    "Action": "View",
                                    "Duration": "238.0"
                                },
                                {
                                    "JourneyID": "60",
                                    "CustomerID": "19",
                                    "ProductID": "6",
                                    "VisitDate": "2025-06-17",
                                    "Stage": "ProductPage",
                                    "Action": "View",
                                    "Duration": "190.0"
                                },
                                {
                                    "JourneyID": "61",
                                    "CustomerID": "69",
                                    "ProductID": "20",
                                    "VisitDate": "2025-07-12",
                                    "Stage": "Homepage",
                                    "Action": "Click",
                                    "Duration": "14.0"
                                },
                                {
                                    "JourneyID": "62",
                                    "CustomerID": "42",
                                    "ProductID": "1",
                                    "VisitDate": "2024-10-22",
                                    "Stage": "Homepage",
                                    "Action": "View",
                                    "Duration": "186.0"
                                },
                                {
                                    "JourneyID": "63",
                                    "CustomerID": "51",
                                    "ProductID": "15",
                                    "VisitDate": "2025-05-22",
                                    "Stage": "Homepage",
                                    "Action": "View",
                                    "Duration": "139.0"
                                },
                                {
                                    "JourneyID": "64",
                                    "CustomerID": "86",
                                    "ProductID": "20",
                                    "VisitDate": "2023-07-03",
                                    "Stage": "ProductPage",
                                    "Action": "View",
                                    "Duration": "77.0"
                                },
                                {
                                    "JourneyID": "65",
                                    "CustomerID": "54",
                                    "ProductID": "10",
                                    "VisitDate": "2023-12-23",
                                    "Stage": "Homepage",
                                    "Action": "View",
                                    "Duration": "101.0"
                                },
                                {
                                    "JourneyID": "66",
                                    "CustomerID": "52",
                                    "ProductID": "2",
                                    "VisitDate": "2023-11-16",
                                    "Stage": "homepage",
                                    "Action": "Click",
                                    "Duration": "242.0"
                                },
                                {
                                    "JourneyID": "67",
                                    "CustomerID": "25",
                                    "ProductID": "1",
                                    "VisitDate": "2023-05-21",
                                    "Stage": "ProductPage",
                                    "Action": "Click",
                                    "Duration": "57.0"
                                },
                                {
                                    "JourneyID": "68",
                                    "CustomerID": "45",
                                    "ProductID": "16",
                                    "VisitDate": "2023-04-29",
                                    "Stage": "ProductPage",
                                    "Action": "Click",
                                    "Duration": "250.0"
                                },
                                {
                                    "JourneyID": "69",
                                    "CustomerID": "82",
                                    "ProductID": "19",
                                    "VisitDate": "2025-02-21",
                                    "Stage": "ProductPage",
                                    "Action": "Click",
                                    "Duration": "158.0"
                                },
                                {
                                    "JourneyID": "70",
                                    "CustomerID": "75",
                                    "ProductID": "17",
                                    "VisitDate": "2023-07-07",
                                    "Stage": "Homepage",
                                    "Action": "View",
                                    "Duration": "297.0"
                                },
                                {
                                    "JourneyID": "71",
                                    "CustomerID": "40",
                                    "ProductID": "20",
                                    "VisitDate": "2023-07-13",
                                    "Stage": "Checkout",
                                    "Action": "Drop-off",
                                    "Duration": ""
                                },
                                {
                                    "JourneyID": "72",
                                    "CustomerID": "47",
                                    "ProductID": "15",
                                    "VisitDate": "2023-08-23",
                                    "Stage": "Homepage",
                                    "Action": "Click",
                                    "Duration": "34.0"
                                },
                                {
                                    "JourneyID": "73",
                                    "CustomerID": "20",
                                    "ProductID": "16",
                                    "VisitDate": "2024-09-17",
                                    "Stage": "Homepage",
                                    "Action": "View",
                                    "Duration": "17.0"
                                },
                                {
                                    "JourneyID": "74",
                                    "CustomerID": "81",
                                    "ProductID": "13",
                                    "VisitDate": "2024-09-26",
                                    "Stage": "Homepage",
                                    "Action": "Click",
                                    "Duration": "291.0"
                                },
                                {
                                    "JourneyID": "75",
                                    "CustomerID": "93",
                                    "ProductID": "1",
                                    "VisitDate": "2024-10-01",
                                    "Stage": "ProductPage",
                                    "Action": "Click",
                                    "Duration": "279.0"
                                },
                                {
                                    "JourneyID": "76",
                                    "CustomerID": "42",
                                    "ProductID": "17",
                                    "VisitDate": "2025-05-29",
                                    "Stage": "Checkout",
                                    "Action": "Purchase",
                                    "Duration": "261.0"
                                },
                                {
                                    "JourneyID": "77",
                                    "CustomerID": "36",
                                    "ProductID": "4",
                                    "VisitDate": "2023-06-02",
                                    "Stage": "Homepage",
                                    "Action": "Click",
                                    "Duration": "100.0"
                                },
                                {
                                    "JourneyID": "78",
                                    "CustomerID": "46",
                                    "ProductID": "17",
                                    "VisitDate": "2025-06-15",
                                    "Stage": "Checkout",
                                    "Action": "Purchase",
                                    "Duration": "122.0"
                                },
                                {
                                    "JourneyID": "79",
                                    "CustomerID": "75",
                                    "ProductID": "10",
                                    "VisitDate": "2023-11-13",
                                    "Stage": "Homepage",
                                    "Action": "View",
                                    "Duration": "244.0"
                                },
                                {
                                    "JourneyID": "80",
                                    "CustomerID": "64",
                                    "ProductID": "6",
                                    "VisitDate": "2025-04-06",
                                    "Stage": "Homepage",
                                    "Action": "Click",
                                    "Duration": "161.0"
                                },
                                {
                                    "JourneyID": "81",
                                    "CustomerID": "89",
                                    "ProductID": "15",
                                    "VisitDate": "2025-10-27",
                                    "Stage": "Checkout",
                                    "Action": "Purchase",
                                    "Duration": "246.0"
                                },
                                {
                                    "JourneyID": "82",
                                    "CustomerID": "64",
                                    "ProductID": "2",
                                    "VisitDate": "2025-06-07",
                                    "Stage": "Homepage",
                                    "Action": "Click",
                                    "Duration": "261.0"
                                },
                                {
                                    "JourneyID": "83",
                                    "CustomerID": "54",
                                    "ProductID": "8",
                                    "VisitDate": "2024-01-18",
                                    "Stage": "ProductPage",
                                    "Action": "Click",
                                    "Duration": "83.0"
                                },
                                {
                                    "JourneyID": "84",
                                    "CustomerID": "79",
                                    "ProductID": "15",
                                    "VisitDate": "2025-03-09",
                                    "Stage": "Checkout",
                                    "Action": "Purchase",
                                    "Duration": "48.0"
                                },
                                {
                                    "JourneyID": "85",
                                    "CustomerID": "56",
                                    "ProductID": "4",
                                    "VisitDate": "2023-05-26",
                                    "Stage": "Homepage",
                                    "Action": "Click",
                                    "Duration": "166.0"
                                },
                                {
                                    "JourneyID": "86",
                                    "CustomerID": "83",
                                    "ProductID": "3",
                                    "VisitDate": "2023-09-06",
                                    "Stage": "Homepage",
                                    "Action": "View",
                                    "Duration": "79.0"
                                },
                                {
                                    "JourneyID": "87",
                                    "CustomerID": "2",
                                    "ProductID": "2",
                                    "VisitDate": "2023-09-25",
                                    "Stage": "Homepage",
                                    "Action": "View",
                                    "Duration": "277.0"
                                },
                                {
                                    "JourneyID": "88",
                                    "CustomerID": "15",
                                    "ProductID": "20",
                                    "VisitDate": "2025-12-18",
                                    "Stage": "homepage",
                                    "Action": "View",
                                    "Duration": "136.0"
                                },
                                {
                                    "JourneyID": "89",
                                    "CustomerID": "14",
                                    "ProductID": "9",
                                    "VisitDate": "2025-04-18",
                                    "Stage": "Homepage",
                                    "Action": "Click",
                                    "Duration": "104.0"
                                },
                                {
                                    "JourneyID": "90",
                                    "CustomerID": "49",
                                    "ProductID": "8",
                                    "VisitDate": "2025-03-25",
                                    "Stage": "Homepage",
                                    "Action": "View",
                                    "Duration": "248.0"
                                },
                                {
                                    "JourneyID": "91",
                                    "CustomerID": "99",
                                    "ProductID": "10",
                                    "VisitDate": "2023-12-07",
                                    "Stage": "Homepage",
                                    "Action": "Click",
                                    "Duration": "244.0"
                                },
                                {
                                    "JourneyID": "92",
                                    "CustomerID": "88",
                                    "ProductID": "14",
                                    "VisitDate": "2025-03-09",
                                    "Stage": "Homepage",
                                    "Action": "View",
                                    "Duration": "29.0"
                                },
                                {
                                    "JourneyID": "93",
                                    "CustomerID": "43",
                                    "ProductID": "8",
                                    "VisitDate": "2023-08-22",
                                    "Stage": "Checkout",
                                    "Action": "Drop-off",
                                    "Duration": ""
                                },
                                {
                                    "JourneyID": "94",
                                    "CustomerID": "15",
                                    "ProductID": "18",
                                    "VisitDate": "2024-09-20",
                                    "Stage": "Homepage",
                                    "Action": "Click",
                                    "Duration": "143.0"
                                },
                                {
                                    "JourneyID": "95",
                                    "CustomerID": "60",
                                    "ProductID": "8",
                                    "VisitDate": "2024-09-14",
                                    "Stage": "Homepage",
                                    "Action": "View",
                                    "Duration": "182.0"
                                },
                                {
                                    "JourneyID": "96",
                                    "CustomerID": "22",
                                    "ProductID": "9",
                                    "VisitDate": "2024-07-28",
                                    "Stage": "ProductPage",
                                    "Action": "View",
                                    "Duration": "212.0"
                                },
                                {
                                    "JourneyID": "97",
                                    "CustomerID": "92",
                                    "ProductID": "19",
                                    "VisitDate": "2025-05-26",
                                    "Stage": "homepage",
                                    "Action": "View",
                                    "Duration": "203.0"
                                },
                                {
                                    "JourneyID": "98",
                                    "CustomerID": "95",
                                    "ProductID": "8",
                                    "VisitDate": "2025-05-25",
                                    "Stage": "Homepage",
                                    "Action": "Click",
                                    "Duration": "68.0"
                                },
                                {
                                    "JourneyID": "99",
                                    "CustomerID": "58",
                                    "ProductID": "16",
                                    "VisitDate": "2024-07-06",
                                    "Stage": "Checkout",
                                    "Action": "Purchase",
                                    "Duration": "87.0"
                                },
                                {
                                    "JourneyID": "100",
                                    "CustomerID": "92",
                                    "ProductID": "10",
                                    "VisitDate": "2024-04-06",
                                    "Stage": "ProductPage",
                                    "Action": "View",
                                    "Duration": "237.0"
                                }
                            ]
                        },
                        "text/html": [
                            "<table>",
                            "<tr><th>JourneyID</th><th>CustomerID</th><th>ProductID</th><th>VisitDate</th><th>Stage</th><th>Action</th><th>Duration</th></tr>",
                            "<tr><td>1</td><td>64</td><td>18</td><td>2024-06-10</td><td>Checkout</td><td>Drop-off</td><td></td></tr>",
                            "<tr><td>2</td><td>94</td><td>11</td><td>2025-07-09</td><td>Checkout</td><td>Drop-off</td><td></td></tr>",
                            "<tr><td>3</td><td>34</td><td>8</td><td>2024-06-14</td><td>ProductPage</td><td>View</td><td>235.0</td></tr>",
                            "<tr><td>4</td><td>33</td><td>18</td><td>2025-05-28</td><td>Checkout</td><td>Drop-off</td><td></td></tr>",
                            "<tr><td>5</td><td>91</td><td>10</td><td>2023-02-11</td><td>Homepage</td><td>Click</td><td>156.0</td></tr>",
                            "<tr><td>6</td><td>54</td><td>11</td><td>2025-12-19</td><td>Homepage</td><td>View</td><td>264.0</td></tr>",
                            "<tr><td>7</td><td>80</td><td>4</td><td>2023-08-25</td><td>Homepage</td><td>View</td><td>298.0</td></tr>",
                            "<tr><td>8</td><td>99</td><td>10</td><td>2025-07-03</td><td>ProductPage</td><td>View</td><td>287.0</td></tr>",
                            "<tr><td>9</td><td>31</td><td>4</td><td>2025-06-13</td><td>ProductPage</td><td>View</td><td>278.0</td></tr>",
                            "<tr><td>10</td><td>44</td><td>16</td><td>2025-04-23</td><td>ProductPage</td><td>View</td><td>30.0</td></tr>",
                            "<tr><td>11</td><td>23</td><td>12</td><td>2023-08-22</td><td>Checkout</td><td>Drop-off</td><td></td></tr>",
                            "<tr><td>12</td><td>97</td><td>12</td><td>2023-07-28</td><td>ProductPage</td><td>View</td><td>227.0</td></tr>",
                            "<tr><td>13</td><td>83</td><td>5</td><td>2024-06-20</td><td>Homepage</td><td>View</td><td>223.0</td></tr>",
                            "<tr><td>14</td><td>14</td><td>13</td><td>2025-11-01</td><td>ProductPage</td><td>View</td><td>13.0</td></tr>",
                            "<tr><td>15</td><td>9</td><td>1</td><td>2025-11-04</td><td>ProductPage</td><td>View</td><td>292.0</td></tr>",
                            "<tr><td>16</td><td>14</td><td>16</td><td>2024-07-17</td><td>Homepage</td><td>View</td><td>46.0</td></tr>",
                            "<tr><td>17</td><td>67</td><td>2</td><td>2025-12-11</td><td>Homepage</td><td>View</td><td>185.0</td></tr>",
                            "<tr><td>18</td><td>70</td><td>15</td><td>2025-10-13</td><td>Homepage</td><td>View</td><td>191.0</td></tr>",
                            "<tr><td>19</td><td>9</td><td>1</td><td>2024-08-15</td><td>Homepage</td><td>View</td><td>187.0</td></tr>",
                            "<tr><td>20</td><td>44</td><td>18</td><td>2024-02-19</td><td>productpage</td><td>View</td><td>154.0</td></tr>",
                            "<tr><td>21</td><td>58</td><td>20</td><td>2024-03-07</td><td>Checkout</td><td>Drop-off</td><td></td></tr>",
                            "<tr><td>22</td><td>12</td><td>1</td><td>2025-11-19</td><td>Homepage</td><td>Click</td><td>20.0</td></tr>",
                            "<tr><td>23</td><td>58</td><td>1</td><td>2023-07-05</td><td>Homepage</td><td>View</td><td>48.0</td></tr>",
                            "<tr><td>24</td><td>77</td><td>6</td><td>2025-06-25</td><td>Checkout</td><td>Drop-off</td><td></td></tr>",
                            "<tr><td>25</td><td>75</td><td>12</td><td>2023-11-23</td><td>ProductPage</td><td>View</td><td>239.0</td></tr>",
                            "<tr><td>26</td><td>78</td><td>20</td><td>2024-04-17</td><td>Homepage</td><td>View</td><td>129.0</td></tr>",
                            "<tr><td>27</td><td>36</td><td>9</td><td>2024-08-10</td><td>Homepage</td><td>View</td><td>214.0</td></tr>",
                            "<tr><td>28</td><td>1</td><td>20</td><td>2025-09-26</td><td>ProductPage</td><td>View</td><td>64.0</td></tr>",
                            "<tr><td>29</td><td>12</td><td>17</td><td>2025-06-01</td><td>Homepage</td><td>View</td><td>205.0</td></tr>",
                            "<tr><td>30</td><td>48</td><td>2</td><td>2023-05-03</td><td>ProductPage</td><td>View</td><td>242.0</td></tr>",
                            "<tr><td>31</td><td>81</td><td>19</td><td>2023-04-04</td><td>Homepage</td><td>View</td><td>130.0</td></tr>",
                            "<tr><td>32</td><td>67</td><td>11</td><td>2023-09-04</td><td>Checkout</td><td>Drop-off</td><td></td></tr>",
                            "<tr><td>33</td><td>2</td><td>5</td><td>2025-08-10</td><td>Homepage</td><td>View</td><td>26.0</td></tr>",
                            "<tr><td>34</td><td>55</td><td>15</td><td>2023-10-26</td><td>Homepage</td><td>View</td><td>233.0</td></tr>",
                            "<tr><td>35</td><td>60</td><td>19</td><td>2023-06-21</td><td>homepage</td><td>Click</td><td>162.0</td></tr>",
                            "<tr><td>36</td><td>17</td><td>2</td><td>2023-11-20</td><td>Checkout</td><td>Purchase</td><td>137.0</td></tr>",
                            "<tr><td>37</td><td>38</td><td>17</td><td>2024-06-18</td><td>Checkout</td><td>Drop-off</td><td></td></tr>",
                            "<tr><td>38</td><td>13</td><td>18</td><td>2023-02-23</td><td>ProductPage</td><td>View</td><td>227.0</td></tr>",
                            "<tr><td>39</td><td>63</td><td>18</td><td>2023-08-10</td><td>ProductPage</td><td>View</td><td>233.0</td></tr>",
                            "<tr><td>40</td><td>4</td><td>12</td><td>2024-12-22</td><td>Homepage</td><td>View</td><td>110.0</td></tr>",
                            "<tr><td>41</td><td>92</td><td>5</td><td>2025-11-23</td><td>ProductPage</td><td>View</td><td>124.0</td></tr>",
                            "<tr><td>42</td><td>95</td><td>10</td><td>2025-01-28</td><td>Homepage</td><td>View</td><td>172.0</td></tr>",
                            "<tr><td>43</td><td>21</td><td>8</td><td>2025-03-14</td><td>Homepage</td><td>View</td><td>40.0</td></tr>",
                            "<tr><td>44</td><td>29</td><td>3</td><td>2024-02-29</td><td>Homepage</td><td>View</td><td>193.0</td></tr>",
                            "<tr><td>45</td><td>94</td><td>6</td><td>2023-06-07</td><td>productpage</td><td>View</td><td>118.0</td></tr>",
                            "<tr><td>46</td><td>30</td><td>19</td><td>2025-10-27</td><td>Homepage</td><td>View</td><td>210.0</td></tr>",
                            "<tr><td>47</td><td>30</td><td>20</td><td>2024-02-18</td><td>checkout</td><td>Drop-off</td><td></td></tr>",
                            "<tr><td>48</td><td>52</td><td>13</td><td>2025-02-01</td><td>Homepage</td><td>View</td><td>241.0</td></tr>",
                            "<tr><td>49</td><td>93</td><td>14</td><td>2023-04-09</td><td>Homepage</td><td>Click</td><td>69.0</td></tr>",
                            "<tr><td>50</td><td>5</td><td>9</td><td>2024-04-19</td><td>Homepage</td><td>View</td><td>44.0</td></tr>",
                            "<tr><td>51</td><td>65</td><td>8</td><td>2025-09-29</td><td>ProductPage</td><td>View</td><td>272.0</td></tr>",
                            "<tr><td>52</td><td>15</td><td>9</td><td>2025-08-07</td><td>Checkout</td><td>Drop-off</td><td></td></tr>",
                            "<tr><td>53</td><td>24</td><td>4</td><td>2024-04-05</td><td>Homepage</td><td>View</td><td>182.0</td></tr>",
                            "<tr><td>54</td><td>9</td><td>11</td><td>2024-11-19</td><td>checkout</td><td>Drop-off</td><td></td></tr>",
                            "<tr><td>55</td><td>1</td><td>7</td><td>2024-03-17</td><td>Checkout</td><td>Drop-off</td><td></td></tr>",
                            "<tr><td>56</td><td>97</td><td>11</td><td>2023-12-20</td><td>Homepage</td><td>Click</td><td>234.0</td></tr>",
                            "<tr><td>57</td><td>52</td><td>14</td><td>2024-12-02</td><td>Homepage</td><td>View</td><td>253.0</td></tr>",
                            "<tr><td>58</td><td>51</td><td>20</td><td>2025-03-08</td><td>ProductPage</td><td>View</td><td>174.0</td></tr>",
                            "<tr><td>59</td><td>32</td><td>8</td><td>2024-08-19</td><td>Homepage</td><td>View</td><td>238.0</td></tr>",
                            "<tr><td>60</td><td>19</td><td>6</td><td>2025-06-17</td><td>ProductPage</td><td>View</td><td>190.0</td></tr>",
                            "<tr><td>61</td><td>69</td><td>20</td><td>2025-07-12</td><td>Homepage</td><td>Click</td><td>14.0</td></tr>",
                            "<tr><td>62</td><td>42</td><td>1</td><td>2024-10-22</td><td>Homepage</td><td>View</td><td>186.0</td></tr>",
                            "<tr><td>63</td><td>51</td><td>15</td><td>2025-05-22</td><td>Homepage</td><td>View</td><td>139.0</td></tr>",
                            "<tr><td>64</td><td>86</td><td>20</td><td>2023-07-03</td><td>ProductPage</td><td>View</td><td>77.0</td></tr>",
                            "<tr><td>65</td><td>54</td><td>10</td><td>2023-12-23</td><td>Homepage</td><td>View</td><td>101.0</td></tr>",
                            "<tr><td>66</td><td>52</td><td>2</td><td>2023-11-16</td><td>homepage</td><td>Click</td><td>242.0</td></tr>",
                            "<tr><td>67</td><td>25</td><td>1</td><td>2023-05-21</td><td>ProductPage</td><td>Click</td><td>57.0</td></tr>",
                            "<tr><td>68</td><td>45</td><td>16</td><td>2023-04-29</td><td>ProductPage</td><td>Click</td><td>250.0</td></tr>",
                            "<tr><td>69</td><td>82</td><td>19</td><td>2025-02-21</td><td>ProductPage</td><td>Click</td><td>158.0</td></tr>",
                            "<tr><td>70</td><td>75</td><td>17</td><td>2023-07-07</td><td>Homepage</td><td>View</td><td>297.0</td></tr>",
                            "<tr><td>71</td><td>40</td><td>20</td><td>2023-07-13</td><td>Checkout</td><td>Drop-off</td><td></td></tr>",
                            "<tr><td>72</td><td>47</td><td>15</td><td>2023-08-23</td><td>Homepage</td><td>Click</td><td>34.0</td></tr>",
                            "<tr><td>73</td><td>20</td><td>16</td><td>2024-09-17</td><td>Homepage</td><td>View</td><td>17.0</td></tr>",
                            "<tr><td>74</td><td>81</td><td>13</td><td>2024-09-26</td><td>Homepage</td><td>Click</td><td>291.0</td></tr>",
                            "<tr><td>75</td><td>93</td><td>1</td><td>2024-10-01</td><td>ProductPage</td><td>Click</td><td>279.0</td></tr>",
                            "<tr><td>76</td><td>42</td><td>17</td><td>2025-05-29</td><td>Checkout</td><td>Purchase</td><td>261.0</td></tr>",
                            "<tr><td>77</td><td>36</td><td>4</td><td>2023-06-02</td><td>Homepage</td><td>Click</td><td>100.0</td></tr>",
                            "<tr><td>78</td><td>46</td><td>17</td><td>2025-06-15</td><td>Checkout</td><td>Purchase</td><td>122.0</td></tr>",
                            "<tr><td>79</td><td>75</td><td>10</td><td>2023-11-13</td><td>Homepage</td><td>View</td><td>244.0</td></tr>",
                            "<tr><td>80</td><td>64</td><td>6</td><td>2025-04-06</td><td>Homepage</td><td>Click</td><td>161.0</td></tr>",
                            "<tr><td>81</td><td>89</td><td>15</td><td>2025-10-27</td><td>Checkout</td><td>Purchase</td><td>246.0</td></tr>",
                            "<tr><td>82</td><td>64</td><td>2</td><td>2025-06-07</td><td>Homepage</td><td>Click</td><td>261.0</td></tr>",
                            "<tr><td>83</td><td>54</td><td>8</td><td>2024-01-18</td><td>ProductPage</td><td>Click</td><td>83.0</td></tr>",
                            "<tr><td>84</td><td>79</td><td>15</td><td>2025-03-09</td><td>Checkout</td><td>Purchase</td><td>48.0</td></tr>",
                            "<tr><td>85</td><td>56</td><td>4</td><td>2023-05-26</td><td>Homepage</td><td>Click</td><td>166.0</td></tr>",
                            "<tr><td>86</td><td>83</td><td>3</td><td>2023-09-06</td><td>Homepage</td><td>View</td><td>79.0</td></tr>",
                            "<tr><td>87</td><td>2</td><td>2</td><td>2023-09-25</td><td>Homepage</td><td>View</td><td>277.0</td></tr>",
                            "<tr><td>88</td><td>15</td><td>20</td><td>2025-12-18</td><td>homepage</td><td>View</td><td>136.0</td></tr>",
                            "<tr><td>89</td><td>14</td><td>9</td><td>2025-04-18</td><td>Homepage</td><td>Click</td><td>104.0</td></tr>",
                            "<tr><td>90</td><td>49</td><td>8</td><td>2025-03-25</td><td>Homepage</td><td>View</td><td>248.0</td></tr>",
                            "<tr><td>91</td><td>99</td><td>10</td><td>2023-12-07</td><td>Homepage</td><td>Click</td><td>244.0</td></tr>",
                            "<tr><td>92</td><td>88</td><td>14</td><td>2025-03-09</td><td>Homepage</td><td>View</td><td>29.0</td></tr>",
                            "<tr><td>93</td><td>43</td><td>8</td><td>2023-08-22</td><td>Checkout</td><td>Drop-off</td><td></td></tr>",
                            "<tr><td>94</td><td>15</td><td>18</td><td>2024-09-20</td><td>Homepage</td><td>Click</td><td>143.0</td></tr>",
                            "<tr><td>95</td><td>60</td><td>8</td><td>2024-09-14</td><td>Homepage</td><td>View</td><td>182.0</td></tr>",
                            "<tr><td>96</td><td>22</td><td>9</td><td>2024-07-28</td><td>ProductPage</td><td>View</td><td>212.0</td></tr>",
                            "<tr><td>97</td><td>92</td><td>19</td><td>2025-05-26</td><td>homepage</td><td>View</td><td>203.0</td></tr>",
                            "<tr><td>98</td><td>95</td><td>8</td><td>2025-05-25</td><td>Homepage</td><td>Click</td><td>68.0</td></tr>",
                            "<tr><td>99</td><td>58</td><td>16</td><td>2024-07-06</td><td>Checkout</td><td>Purchase</td><td>87.0</td></tr>",
                            "<tr><td>100</td><td>92</td><td>10</td><td>2024-04-06</td><td>ProductPage</td><td>View</td><td>237.0</td></tr>",
                            "</table>"
                        ]
                    }
                }
            ],
            "execution_count": 10
        },
        {
            "cell_type": "markdown",
            "source": [
                "<span style=\"color: #6a9955;\"><b>- SQL statement to join dim_customers with dim_geography to enrich customer data with geographic information</b></span>"
            ],
            "metadata": {
                "azdata_cell_guid": "920f5980-8471-499b-9de7-d01438205ea2"
            },
            "attachments": {}
        },
        {
            "cell_type": "code",
            "source": [
                "SELECT * FROM customers;"
            ],
            "metadata": {
                "azdata_cell_guid": "a3877742-25fd-4368-b519-0da40d90fe27",
                "language": "sql"
            },
            "outputs": [
                {
                    "output_type": "display_data",
                    "data": {
                        "text/html": "(100 row(s) affected)"
                    },
                    "metadata": {}
                },
                {
                    "output_type": "display_data",
                    "data": {
                        "text/html": "Total execution time: 00:00:01.006"
                    },
                    "metadata": {}
                },
                {
                    "output_type": "execute_result",
                    "metadata": {},
                    "execution_count": 11,
                    "data": {
                        "application/vnd.dataresource+json": {
                            "schema": {
                                "fields": [
                                    {
                                        "name": "CustomerID"
                                    },
                                    {
                                        "name": "CustomerName"
                                    },
                                    {
                                        "name": "Email"
                                    },
                                    {
                                        "name": "Gender"
                                    },
                                    {
                                        "name": "Age"
                                    },
                                    {
                                        "name": "GeographyID"
                                    }
                                ]
                            },
                            "data": [
                                {
                                    "CustomerID": "1",
                                    "CustomerName": "Emma Anderson",
                                    "Email": "emma.anderson@example.com",
                                    "Gender": "Male",
                                    "Age": "50",
                                    "GeographyID": "2"
                                },
                                {
                                    "CustomerID": "2",
                                    "CustomerName": "Sarah Brown",
                                    "Email": "sarah.brown@example.com",
                                    "Gender": "Female",
                                    "Age": "37",
                                    "GeographyID": "4"
                                },
                                {
                                    "CustomerID": "3",
                                    "CustomerName": "Robert Hernandez",
                                    "Email": "robert.hernandez@example.com",
                                    "Gender": "Female",
                                    "Age": "26",
                                    "GeographyID": "6"
                                },
                                {
                                    "CustomerID": "4",
                                    "CustomerName": "David Garcia",
                                    "Email": "david.garcia@example.com",
                                    "Gender": "Male",
                                    "Age": "25",
                                    "GeographyID": "8"
                                },
                                {
                                    "CustomerID": "5",
                                    "CustomerName": "Emma Miller",
                                    "Email": "emma.miller@example.com",
                                    "Gender": "Female",
                                    "Age": "41",
                                    "GeographyID": "4"
                                },
                                {
                                    "CustomerID": "6",
                                    "CustomerName": "Daniel Rodriguez",
                                    "Email": "daniel.rodriguez@example.com",
                                    "Gender": "Male",
                                    "Age": "31",
                                    "GeographyID": "7"
                                },
                                {
                                    "CustomerID": "7",
                                    "CustomerName": "Laura Miller",
                                    "Email": "laura.miller@example.com",
                                    "Gender": "Male",
                                    "Age": "35",
                                    "GeographyID": "7"
                                },
                                {
                                    "CustomerID": "8",
                                    "CustomerName": "James Gonzalez",
                                    "Email": "james.gonzalez@example.com",
                                    "Gender": "Female",
                                    "Age": "18",
                                    "GeographyID": "8"
                                },
                                {
                                    "CustomerID": "9",
                                    "CustomerName": "Emily Thomas",
                                    "Email": "emily.thomas@example.com",
                                    "Gender": "Male",
                                    "Age": "29",
                                    "GeographyID": "10"
                                },
                                {
                                    "CustomerID": "10",
                                    "CustomerName": "Chris Davis",
                                    "Email": "chris.davis@example.com",
                                    "Gender": "Female",
                                    "Age": "46",
                                    "GeographyID": "2"
                                },
                                {
                                    "CustomerID": "11",
                                    "CustomerName": "Emma Garcia",
                                    "Email": "emma.garcia@example.com",
                                    "Gender": "Male",
                                    "Age": "54",
                                    "GeographyID": "10"
                                },
                                {
                                    "CustomerID": "12",
                                    "CustomerName": "James Lopez",
                                    "Email": "james.lopez@example.com",
                                    "Gender": "Female",
                                    "Age": "43",
                                    "GeographyID": "7"
                                },
                                {
                                    "CustomerID": "13",
                                    "CustomerName": "David Wilson",
                                    "Email": "david.wilson@example.com",
                                    "Gender": "Male",
                                    "Age": "50",
                                    "GeographyID": "1"
                                },
                                {
                                    "CustomerID": "14",
                                    "CustomerName": "Olivia Wilson",
                                    "Email": "olivia.wilson@example.com",
                                    "Gender": "Male",
                                    "Age": "60",
                                    "GeographyID": "4"
                                },
                                {
                                    "CustomerID": "15",
                                    "CustomerName": "Emma Martinez",
                                    "Email": "emma.martinez@example.com",
                                    "Gender": "Male",
                                    "Age": "32",
                                    "GeographyID": "9"
                                },
                                {
                                    "CustomerID": "16",
                                    "CustomerName": "Michael Martinez",
                                    "Email": "michael.martinez@example.com",
                                    "Gender": "Male",
                                    "Age": "40",
                                    "GeographyID": "5"
                                },
                                {
                                    "CustomerID": "17",
                                    "CustomerName": "Daniel Thomas",
                                    "Email": "daniel.thomas@example.com",
                                    "Gender": "Female",
                                    "Age": "46",
                                    "GeographyID": "2"
                                },
                                {
                                    "CustomerID": "18",
                                    "CustomerName": "Robert Lopez",
                                    "Email": "robert.lopez@example.com",
                                    "Gender": "Female",
                                    "Age": "38",
                                    "GeographyID": "5"
                                },
                                {
                                    "CustomerID": "19",
                                    "CustomerName": "Emma Wilson",
                                    "Email": "emma.wilson@example.com",
                                    "Gender": "Female",
                                    "Age": "36",
                                    "GeographyID": "6"
                                },
                                {
                                    "CustomerID": "20",
                                    "CustomerName": "David Johnson",
                                    "Email": "david.johnson@example.com",
                                    "Gender": "Male",
                                    "Age": "22",
                                    "GeographyID": "1"
                                },
                                {
                                    "CustomerID": "21",
                                    "CustomerName": "Olivia Gonzalez",
                                    "Email": "olivia.gonzalez@example.com",
                                    "Gender": "Female",
                                    "Age": "40",
                                    "GeographyID": "4"
                                },
                                {
                                    "CustomerID": "22",
                                    "CustomerName": "Alex Wilson",
                                    "Email": "alex.wilson@example.com",
                                    "Gender": "Male",
                                    "Age": "53",
                                    "GeographyID": "2"
                                },
                                {
                                    "CustomerID": "23",
                                    "CustomerName": "Isabella Garcia",
                                    "Email": "isabella.garcia@example.com",
                                    "Gender": "Female",
                                    "Age": "37",
                                    "GeographyID": "5"
                                },
                                {
                                    "CustomerID": "24",
                                    "CustomerName": "Chris Hernandez",
                                    "Email": "chris.hernandez@example.com",
                                    "Gender": "Male",
                                    "Age": "25",
                                    "GeographyID": "5"
                                },
                                {
                                    "CustomerID": "25",
                                    "CustomerName": "David Anderson",
                                    "Email": "david.anderson@example.com",
                                    "Gender": "Male",
                                    "Age": "26",
                                    "GeographyID": "5"
                                },
                                {
                                    "CustomerID": "26",
                                    "CustomerName": "Isabella Thomas",
                                    "Email": "isabella.thomas@example.com",
                                    "Gender": "Male",
                                    "Age": "31",
                                    "GeographyID": "1"
                                },
                                {
                                    "CustomerID": "27",
                                    "CustomerName": "John Rodriguez",
                                    "Email": "john.rodriguez@example.com",
                                    "Gender": "Male",
                                    "Age": "23",
                                    "GeographyID": "1"
                                },
                                {
                                    "CustomerID": "28",
                                    "CustomerName": "Emily Davis",
                                    "Email": "emily.davis@example.com",
                                    "Gender": "Female",
                                    "Age": "18",
                                    "GeographyID": "9"
                                },
                                {
                                    "CustomerID": "29",
                                    "CustomerName": "Sophia Anderson",
                                    "Email": "sophia.anderson@example.com",
                                    "Gender": "Female",
                                    "Age": "26",
                                    "GeographyID": "5"
                                },
                                {
                                    "CustomerID": "30",
                                    "CustomerName": "Alex Garcia",
                                    "Email": "alex.garcia@example.com",
                                    "Gender": "Female",
                                    "Age": "33",
                                    "GeographyID": "7"
                                },
                                {
                                    "CustomerID": "31",
                                    "CustomerName": "Daniel Jones",
                                    "Email": "daniel.jones@example.com",
                                    "Gender": "Male",
                                    "Age": "33",
                                    "GeographyID": "10"
                                },
                                {
                                    "CustomerID": "32",
                                    "CustomerName": "Laura Anderson",
                                    "Email": "laura.anderson@example.com",
                                    "Gender": "Female",
                                    "Age": "29",
                                    "GeographyID": "4"
                                },
                                {
                                    "CustomerID": "33",
                                    "CustomerName": "David Thomas",
                                    "Email": "david.thomas@example.com",
                                    "Gender": "Male",
                                    "Age": "22",
                                    "GeographyID": "4"
                                },
                                {
                                    "CustomerID": "34",
                                    "CustomerName": "Daniel Miller",
                                    "Email": "daniel.miller@example.com",
                                    "Gender": "Male",
                                    "Age": "57",
                                    "GeographyID": "3"
                                },
                                {
                                    "CustomerID": "35",
                                    "CustomerName": "Robert Rodriguez",
                                    "Email": "robert.rodriguez@example.com",
                                    "Gender": "Female",
                                    "Age": "46",
                                    "GeographyID": "2"
                                },
                                {
                                    "CustomerID": "36",
                                    "CustomerName": "Emma Johnson",
                                    "Email": "emma.johnson@example.com",
                                    "Gender": "Female",
                                    "Age": "63",
                                    "GeographyID": "3"
                                },
                                {
                                    "CustomerID": "37",
                                    "CustomerName": "Olivia Lopez",
                                    "Email": "olivia.lopez@example.com",
                                    "Gender": "Female",
                                    "Age": "44",
                                    "GeographyID": "2"
                                },
                                {
                                    "CustomerID": "38",
                                    "CustomerName": "John Garcia",
                                    "Email": "john.garcia@example.com",
                                    "Gender": "Male",
                                    "Age": "28",
                                    "GeographyID": "4"
                                },
                                {
                                    "CustomerID": "39",
                                    "CustomerName": "Jane Miller",
                                    "Email": "jane.miller@example.com",
                                    "Gender": "Female",
                                    "Age": "64",
                                    "GeographyID": "5"
                                },
                                {
                                    "CustomerID": "40",
                                    "CustomerName": "Olivia Thomas",
                                    "Email": "olivia.thomas@example.com",
                                    "Gender": "Female",
                                    "Age": "67",
                                    "GeographyID": "2"
                                },
                                {
                                    "CustomerID": "41",
                                    "CustomerName": "Laura Wilson",
                                    "Email": "laura.wilson@example.com",
                                    "Gender": "Male",
                                    "Age": "45",
                                    "GeographyID": "2"
                                },
                                {
                                    "CustomerID": "42",
                                    "CustomerName": "John Gonzalez",
                                    "Email": "john.gonzalez@example.com",
                                    "Gender": "Female",
                                    "Age": "69",
                                    "GeographyID": "1"
                                },
                                {
                                    "CustomerID": "43",
                                    "CustomerName": "Olivia Hernandez",
                                    "Email": "olivia.hernandez@example.com",
                                    "Gender": "Male",
                                    "Age": "53",
                                    "GeographyID": "8"
                                },
                                {
                                    "CustomerID": "44",
                                    "CustomerName": "Olivia Brown",
                                    "Email": "olivia.brown@example.com",
                                    "Gender": "Female",
                                    "Age": "59",
                                    "GeographyID": "9"
                                },
                                {
                                    "CustomerID": "45",
                                    "CustomerName": "Sarah Hernandez",
                                    "Email": "sarah.hernandez@example.com",
                                    "Gender": "Female",
                                    "Age": "36",
                                    "GeographyID": "5"
                                },
                                {
                                    "CustomerID": "46",
                                    "CustomerName": "Chris Johnson",
                                    "Email": "chris.johnson@example.com",
                                    "Gender": "Male",
                                    "Age": "52",
                                    "GeographyID": "4"
                                },
                                {
                                    "CustomerID": "47",
                                    "CustomerName": "Sophia Thomas",
                                    "Email": "sophia.thomas@example.com",
                                    "Gender": "Male",
                                    "Age": "69",
                                    "GeographyID": "6"
                                },
                                {
                                    "CustomerID": "48",
                                    "CustomerName": "Alex Gonzalez",
                                    "Email": "alex.gonzalez@example.com",
                                    "Gender": "Female",
                                    "Age": "48",
                                    "GeographyID": "7"
                                },
                                {
                                    "CustomerID": "49",
                                    "CustomerName": "Michael Smith",
                                    "Email": "michael.smith@example.com",
                                    "Gender": "Female",
                                    "Age": "61",
                                    "GeographyID": "4"
                                },
                                {
                                    "CustomerID": "50",
                                    "CustomerName": "Olivia Miller",
                                    "Email": "olivia.miller@example.com",
                                    "Gender": "Male",
                                    "Age": "36",
                                    "GeographyID": "3"
                                },
                                {
                                    "CustomerID": "51",
                                    "CustomerName": "Michael Davis",
                                    "Email": "michael.davis@example.com",
                                    "Gender": "Female",
                                    "Age": "63",
                                    "GeographyID": "10"
                                },
                                {
                                    "CustomerID": "52",
                                    "CustomerName": "Robert Williams",
                                    "Email": "robert.williams@example.com",
                                    "Gender": "Female",
                                    "Age": "41",
                                    "GeographyID": "9"
                                },
                                {
                                    "CustomerID": "53",
                                    "CustomerName": "Emma Thomas",
                                    "Email": "emma.thomas@example.com",
                                    "Gender": "Female",
                                    "Age": "19",
                                    "GeographyID": "2"
                                },
                                {
                                    "CustomerID": "54",
                                    "CustomerName": "Michael Gonzalez",
                                    "Email": "michael.gonzalez@example.com",
                                    "Gender": "Female",
                                    "Age": "24",
                                    "GeographyID": "5"
                                },
                                {
                                    "CustomerID": "55",
                                    "CustomerName": "Emily Lopez",
                                    "Email": "emily.lopez@example.com",
                                    "Gender": "Female",
                                    "Age": "60",
                                    "GeographyID": "1"
                                },
                                {
                                    "CustomerID": "56",
                                    "CustomerName": "Sophia Davis",
                                    "Email": "sophia.davis@example.com",
                                    "Gender": "Female",
                                    "Age": "66",
                                    "GeographyID": "9"
                                },
                                {
                                    "CustomerID": "57",
                                    "CustomerName": "James Rodriguez",
                                    "Email": "james.rodriguez@example.com",
                                    "Gender": "Male",
                                    "Age": "48",
                                    "GeographyID": "4"
                                },
                                {
                                    "CustomerID": "58",
                                    "CustomerName": "Jane Williams",
                                    "Email": "jane.williams@example.com",
                                    "Gender": "Male",
                                    "Age": "34",
                                    "GeographyID": "10"
                                },
                                {
                                    "CustomerID": "59",
                                    "CustomerName": "James Smith",
                                    "Email": "james.smith@example.com",
                                    "Gender": "Female",
                                    "Age": "44",
                                    "GeographyID": "6"
                                },
                                {
                                    "CustomerID": "60",
                                    "CustomerName": "John Thomas",
                                    "Email": "john.thomas@example.com",
                                    "Gender": "Male",
                                    "Age": "53",
                                    "GeographyID": "6"
                                },
                                {
                                    "CustomerID": "61",
                                    "CustomerName": "Emma Rodriguez",
                                    "Email": "emma.rodriguez@example.com",
                                    "Gender": "Female",
                                    "Age": "67",
                                    "GeographyID": "2"
                                },
                                {
                                    "CustomerID": "62",
                                    "CustomerName": "Michael Hernandez",
                                    "Email": "michael.hernandez@example.com",
                                    "Gender": "Male",
                                    "Age": "60",
                                    "GeographyID": "8"
                                },
                                {
                                    "CustomerID": "63",
                                    "CustomerName": "John Davis",
                                    "Email": "john.davis@example.com",
                                    "Gender": "Male",
                                    "Age": "27",
                                    "GeographyID": "9"
                                },
                                {
                                    "CustomerID": "64",
                                    "CustomerName": "Sarah Martinez",
                                    "Email": "sarah.martinez@example.com",
                                    "Gender": "Female",
                                    "Age": "62",
                                    "GeographyID": "7"
                                },
                                {
                                    "CustomerID": "65",
                                    "CustomerName": "Olivia Rodriguez",
                                    "Email": "olivia.rodriguez@example.com",
                                    "Gender": "Female",
                                    "Age": "31",
                                    "GeographyID": "5"
                                },
                                {
                                    "CustomerID": "66",
                                    "CustomerName": "Isabella Martinez",
                                    "Email": "isabella.martinez@example.com",
                                    "Gender": "Female",
                                    "Age": "24",
                                    "GeographyID": "8"
                                },
                                {
                                    "CustomerID": "67",
                                    "CustomerName": "Alex Johnson",
                                    "Email": "alex.johnson@example.com",
                                    "Gender": "Female",
                                    "Age": "56",
                                    "GeographyID": "4"
                                },
                                {
                                    "CustomerID": "68",
                                    "CustomerName": "David Gonzalez",
                                    "Email": "david.gonzalez@example.com",
                                    "Gender": "Female",
                                    "Age": "57",
                                    "GeographyID": "6"
                                },
                                {
                                    "CustomerID": "69",
                                    "CustomerName": "Emma Gonzalez",
                                    "Email": "emma.gonzalez@example.com",
                                    "Gender": "Male",
                                    "Age": "26",
                                    "GeographyID": "4"
                                },
                                {
                                    "CustomerID": "70",
                                    "CustomerName": "James Garcia",
                                    "Email": "james.garcia@example.com",
                                    "Gender": "Female",
                                    "Age": "31",
                                    "GeographyID": "7"
                                },
                                {
                                    "CustomerID": "71",
                                    "CustomerName": "Isabella Miller",
                                    "Email": "isabella.miller@example.com",
                                    "Gender": "Female",
                                    "Age": "25",
                                    "GeographyID": "5"
                                },
                                {
                                    "CustomerID": "72",
                                    "CustomerName": "Sophia Miller",
                                    "Email": "sophia.miller@example.com",
                                    "Gender": "Female",
                                    "Age": "34",
                                    "GeographyID": "8"
                                },
                                {
                                    "CustomerID": "73",
                                    "CustomerName": "Sarah Gonzalez",
                                    "Email": "sarah.gonzalez@example.com",
                                    "Gender": "Male",
                                    "Age": "40",
                                    "GeographyID": "4"
                                },
                                {
                                    "CustomerID": "74",
                                    "CustomerName": "Jane Smith",
                                    "Email": "jane.smith@example.com",
                                    "Gender": "Male",
                                    "Age": "33",
                                    "GeographyID": "1"
                                },
                                {
                                    "CustomerID": "75",
                                    "CustomerName": "David Smith",
                                    "Email": "david.smith@example.com",
                                    "Gender": "Female",
                                    "Age": "43",
                                    "GeographyID": "6"
                                },
                                {
                                    "CustomerID": "76",
                                    "CustomerName": "Michael Lopez",
                                    "Email": "michael.lopez@example.com",
                                    "Gender": "Female",
                                    "Age": "26",
                                    "GeographyID": "10"
                                },
                                {
                                    "CustomerID": "77",
                                    "CustomerName": "David Lopez",
                                    "Email": "david.lopez@example.com",
                                    "Gender": "Male",
                                    "Age": "53",
                                    "GeographyID": "4"
                                },
                                {
                                    "CustomerID": "78",
                                    "CustomerName": "Olivia Smith",
                                    "Email": "olivia.smith@example.com",
                                    "Gender": "Female",
                                    "Age": "24",
                                    "GeographyID": "8"
                                },
                                {
                                    "CustomerID": "79",
                                    "CustomerName": "John Jones",
                                    "Email": "john.jones@example.com",
                                    "Gender": "Female",
                                    "Age": "35",
                                    "GeographyID": "6"
                                },
                                {
                                    "CustomerID": "80",
                                    "CustomerName": "Laura Jones",
                                    "Email": "laura.jones@example.com",
                                    "Gender": "Female",
                                    "Age": "25",
                                    "GeographyID": "6"
                                },
                                {
                                    "CustomerID": "81",
                                    "CustomerName": "Emily Wilson",
                                    "Email": "emily.wilson@example.com",
                                    "Gender": "Male",
                                    "Age": "38",
                                    "GeographyID": "9"
                                },
                                {
                                    "CustomerID": "82",
                                    "CustomerName": "Laura Gonzalez",
                                    "Email": "laura.gonzalez@example.com",
                                    "Gender": "Male",
                                    "Age": "43",
                                    "GeographyID": "1"
                                },
                                {
                                    "CustomerID": "83",
                                    "CustomerName": "Emily Jones",
                                    "Email": "emily.jones@example.com",
                                    "Gender": "Male",
                                    "Age": "20",
                                    "GeographyID": "9"
                                },
                                {
                                    "CustomerID": "84",
                                    "CustomerName": "Michael Williams",
                                    "Email": "michael.williams@example.com",
                                    "Gender": "Female",
                                    "Age": "34",
                                    "GeographyID": "4"
                                },
                                {
                                    "CustomerID": "85",
                                    "CustomerName": "Jane Hernandez",
                                    "Email": "jane.hernandez@example.com",
                                    "Gender": "Male",
                                    "Age": "68",
                                    "GeographyID": "7"
                                },
                                {
                                    "CustomerID": "86",
                                    "CustomerName": "James Hernandez",
                                    "Email": "james.hernandez@example.com",
                                    "Gender": "Male",
                                    "Age": "63",
                                    "GeographyID": "10"
                                },
                                {
                                    "CustomerID": "87",
                                    "CustomerName": "Emma Hernandez",
                                    "Email": "emma.hernandez@example.com",
                                    "Gender": "Male",
                                    "Age": "41",
                                    "GeographyID": "4"
                                },
                                {
                                    "CustomerID": "88",
                                    "CustomerName": "James Brown",
                                    "Email": "james.brown@example.com",
                                    "Gender": "Male",
                                    "Age": "42",
                                    "GeographyID": "3"
                                },
                                {
                                    "CustomerID": "89",
                                    "CustomerName": "Alex Rodriguez",
                                    "Email": "alex.rodriguez@example.com",
                                    "Gender": "Male",
                                    "Age": "22",
                                    "GeographyID": "8"
                                },
                                {
                                    "CustomerID": "90",
                                    "CustomerName": "John Wilson",
                                    "Email": "john.wilson@example.com",
                                    "Gender": "Male",
                                    "Age": "54",
                                    "GeographyID": "1"
                                },
                                {
                                    "CustomerID": "91",
                                    "CustomerName": "John Brown",
                                    "Email": "john.brown@example.com",
                                    "Gender": "Female",
                                    "Age": "62",
                                    "GeographyID": "4"
                                },
                                {
                                    "CustomerID": "92",
                                    "CustomerName": "David Hernandez",
                                    "Email": "david.hernandez@example.com",
                                    "Gender": "Female",
                                    "Age": "67",
                                    "GeographyID": "1"
                                },
                                {
                                    "CustomerID": "93",
                                    "CustomerName": "Jane Rodriguez",
                                    "Email": "jane.rodriguez@example.com",
                                    "Gender": "Female",
                                    "Age": "41",
                                    "GeographyID": "4"
                                },
                                {
                                    "CustomerID": "94",
                                    "CustomerName": "Jane Anderson",
                                    "Email": "jane.anderson@example.com",
                                    "Gender": "Male",
                                    "Age": "48",
                                    "GeographyID": "7"
                                },
                                {
                                    "CustomerID": "95",
                                    "CustomerName": "James Jones",
                                    "Email": "james.jones@example.com",
                                    "Gender": "Male",
                                    "Age": "43",
                                    "GeographyID": "2"
                                },
                                {
                                    "CustomerID": "96",
                                    "CustomerName": "Emily Gonzalez",
                                    "Email": "emily.gonzalez@example.com",
                                    "Gender": "Female",
                                    "Age": "38",
                                    "GeographyID": "10"
                                },
                                {
                                    "CustomerID": "97",
                                    "CustomerName": "Emily Rodriguez",
                                    "Email": "emily.rodriguez@example.com",
                                    "Gender": "Female",
                                    "Age": "51",
                                    "GeographyID": "3"
                                },
                                {
                                    "CustomerID": "98",
                                    "CustomerName": "Chris Lopez",
                                    "Email": "chris.lopez@example.com",
                                    "Gender": "Female",
                                    "Age": "55",
                                    "GeographyID": "10"
                                },
                                {
                                    "CustomerID": "99",
                                    "CustomerName": "Laura Hernandez",
                                    "Email": "laura.hernandez@example.com",
                                    "Gender": "Male",
                                    "Age": "41",
                                    "GeographyID": "5"
                                },
                                {
                                    "CustomerID": "100",
                                    "CustomerName": "Jane Brown",
                                    "Email": "jane.brown@example.com",
                                    "Gender": "Female",
                                    "Age": "45",
                                    "GeographyID": "10"
                                }
                            ]
                        },
                        "text/html": [
                            "<table>",
                            "<tr><th>CustomerID</th><th>CustomerName</th><th>Email</th><th>Gender</th><th>Age</th><th>GeographyID</th></tr>",
                            "<tr><td>1</td><td>Emma Anderson</td><td>emma.anderson@example.com</td><td>Male</td><td>50</td><td>2</td></tr>",
                            "<tr><td>2</td><td>Sarah Brown</td><td>sarah.brown@example.com</td><td>Female</td><td>37</td><td>4</td></tr>",
                            "<tr><td>3</td><td>Robert Hernandez</td><td>robert.hernandez@example.com</td><td>Female</td><td>26</td><td>6</td></tr>",
                            "<tr><td>4</td><td>David Garcia</td><td>david.garcia@example.com</td><td>Male</td><td>25</td><td>8</td></tr>",
                            "<tr><td>5</td><td>Emma Miller</td><td>emma.miller@example.com</td><td>Female</td><td>41</td><td>4</td></tr>",
                            "<tr><td>6</td><td>Daniel Rodriguez</td><td>daniel.rodriguez@example.com</td><td>Male</td><td>31</td><td>7</td></tr>",
                            "<tr><td>7</td><td>Laura Miller</td><td>laura.miller@example.com</td><td>Male</td><td>35</td><td>7</td></tr>",
                            "<tr><td>8</td><td>James Gonzalez</td><td>james.gonzalez@example.com</td><td>Female</td><td>18</td><td>8</td></tr>",
                            "<tr><td>9</td><td>Emily Thomas</td><td>emily.thomas@example.com</td><td>Male</td><td>29</td><td>10</td></tr>",
                            "<tr><td>10</td><td>Chris Davis</td><td>chris.davis@example.com</td><td>Female</td><td>46</td><td>2</td></tr>",
                            "<tr><td>11</td><td>Emma Garcia</td><td>emma.garcia@example.com</td><td>Male</td><td>54</td><td>10</td></tr>",
                            "<tr><td>12</td><td>James Lopez</td><td>james.lopez@example.com</td><td>Female</td><td>43</td><td>7</td></tr>",
                            "<tr><td>13</td><td>David Wilson</td><td>david.wilson@example.com</td><td>Male</td><td>50</td><td>1</td></tr>",
                            "<tr><td>14</td><td>Olivia Wilson</td><td>olivia.wilson@example.com</td><td>Male</td><td>60</td><td>4</td></tr>",
                            "<tr><td>15</td><td>Emma Martinez</td><td>emma.martinez@example.com</td><td>Male</td><td>32</td><td>9</td></tr>",
                            "<tr><td>16</td><td>Michael Martinez</td><td>michael.martinez@example.com</td><td>Male</td><td>40</td><td>5</td></tr>",
                            "<tr><td>17</td><td>Daniel Thomas</td><td>daniel.thomas@example.com</td><td>Female</td><td>46</td><td>2</td></tr>",
                            "<tr><td>18</td><td>Robert Lopez</td><td>robert.lopez@example.com</td><td>Female</td><td>38</td><td>5</td></tr>",
                            "<tr><td>19</td><td>Emma Wilson</td><td>emma.wilson@example.com</td><td>Female</td><td>36</td><td>6</td></tr>",
                            "<tr><td>20</td><td>David Johnson</td><td>david.johnson@example.com</td><td>Male</td><td>22</td><td>1</td></tr>",
                            "<tr><td>21</td><td>Olivia Gonzalez</td><td>olivia.gonzalez@example.com</td><td>Female</td><td>40</td><td>4</td></tr>",
                            "<tr><td>22</td><td>Alex Wilson</td><td>alex.wilson@example.com</td><td>Male</td><td>53</td><td>2</td></tr>",
                            "<tr><td>23</td><td>Isabella Garcia</td><td>isabella.garcia@example.com</td><td>Female</td><td>37</td><td>5</td></tr>",
                            "<tr><td>24</td><td>Chris Hernandez</td><td>chris.hernandez@example.com</td><td>Male</td><td>25</td><td>5</td></tr>",
                            "<tr><td>25</td><td>David Anderson</td><td>david.anderson@example.com</td><td>Male</td><td>26</td><td>5</td></tr>",
                            "<tr><td>26</td><td>Isabella Thomas</td><td>isabella.thomas@example.com</td><td>Male</td><td>31</td><td>1</td></tr>",
                            "<tr><td>27</td><td>John Rodriguez</td><td>john.rodriguez@example.com</td><td>Male</td><td>23</td><td>1</td></tr>",
                            "<tr><td>28</td><td>Emily Davis</td><td>emily.davis@example.com</td><td>Female</td><td>18</td><td>9</td></tr>",
                            "<tr><td>29</td><td>Sophia Anderson</td><td>sophia.anderson@example.com</td><td>Female</td><td>26</td><td>5</td></tr>",
                            "<tr><td>30</td><td>Alex Garcia</td><td>alex.garcia@example.com</td><td>Female</td><td>33</td><td>7</td></tr>",
                            "<tr><td>31</td><td>Daniel Jones</td><td>daniel.jones@example.com</td><td>Male</td><td>33</td><td>10</td></tr>",
                            "<tr><td>32</td><td>Laura Anderson</td><td>laura.anderson@example.com</td><td>Female</td><td>29</td><td>4</td></tr>",
                            "<tr><td>33</td><td>David Thomas</td><td>david.thomas@example.com</td><td>Male</td><td>22</td><td>4</td></tr>",
                            "<tr><td>34</td><td>Daniel Miller</td><td>daniel.miller@example.com</td><td>Male</td><td>57</td><td>3</td></tr>",
                            "<tr><td>35</td><td>Robert Rodriguez</td><td>robert.rodriguez@example.com</td><td>Female</td><td>46</td><td>2</td></tr>",
                            "<tr><td>36</td><td>Emma Johnson</td><td>emma.johnson@example.com</td><td>Female</td><td>63</td><td>3</td></tr>",
                            "<tr><td>37</td><td>Olivia Lopez</td><td>olivia.lopez@example.com</td><td>Female</td><td>44</td><td>2</td></tr>",
                            "<tr><td>38</td><td>John Garcia</td><td>john.garcia@example.com</td><td>Male</td><td>28</td><td>4</td></tr>",
                            "<tr><td>39</td><td>Jane Miller</td><td>jane.miller@example.com</td><td>Female</td><td>64</td><td>5</td></tr>",
                            "<tr><td>40</td><td>Olivia Thomas</td><td>olivia.thomas@example.com</td><td>Female</td><td>67</td><td>2</td></tr>",
                            "<tr><td>41</td><td>Laura Wilson</td><td>laura.wilson@example.com</td><td>Male</td><td>45</td><td>2</td></tr>",
                            "<tr><td>42</td><td>John Gonzalez</td><td>john.gonzalez@example.com</td><td>Female</td><td>69</td><td>1</td></tr>",
                            "<tr><td>43</td><td>Olivia Hernandez</td><td>olivia.hernandez@example.com</td><td>Male</td><td>53</td><td>8</td></tr>",
                            "<tr><td>44</td><td>Olivia Brown</td><td>olivia.brown@example.com</td><td>Female</td><td>59</td><td>9</td></tr>",
                            "<tr><td>45</td><td>Sarah Hernandez</td><td>sarah.hernandez@example.com</td><td>Female</td><td>36</td><td>5</td></tr>",
                            "<tr><td>46</td><td>Chris Johnson</td><td>chris.johnson@example.com</td><td>Male</td><td>52</td><td>4</td></tr>",
                            "<tr><td>47</td><td>Sophia Thomas</td><td>sophia.thomas@example.com</td><td>Male</td><td>69</td><td>6</td></tr>",
                            "<tr><td>48</td><td>Alex Gonzalez</td><td>alex.gonzalez@example.com</td><td>Female</td><td>48</td><td>7</td></tr>",
                            "<tr><td>49</td><td>Michael Smith</td><td>michael.smith@example.com</td><td>Female</td><td>61</td><td>4</td></tr>",
                            "<tr><td>50</td><td>Olivia Miller</td><td>olivia.miller@example.com</td><td>Male</td><td>36</td><td>3</td></tr>",
                            "<tr><td>51</td><td>Michael Davis</td><td>michael.davis@example.com</td><td>Female</td><td>63</td><td>10</td></tr>",
                            "<tr><td>52</td><td>Robert Williams</td><td>robert.williams@example.com</td><td>Female</td><td>41</td><td>9</td></tr>",
                            "<tr><td>53</td><td>Emma Thomas</td><td>emma.thomas@example.com</td><td>Female</td><td>19</td><td>2</td></tr>",
                            "<tr><td>54</td><td>Michael Gonzalez</td><td>michael.gonzalez@example.com</td><td>Female</td><td>24</td><td>5</td></tr>",
                            "<tr><td>55</td><td>Emily Lopez</td><td>emily.lopez@example.com</td><td>Female</td><td>60</td><td>1</td></tr>",
                            "<tr><td>56</td><td>Sophia Davis</td><td>sophia.davis@example.com</td><td>Female</td><td>66</td><td>9</td></tr>",
                            "<tr><td>57</td><td>James Rodriguez</td><td>james.rodriguez@example.com</td><td>Male</td><td>48</td><td>4</td></tr>",
                            "<tr><td>58</td><td>Jane Williams</td><td>jane.williams@example.com</td><td>Male</td><td>34</td><td>10</td></tr>",
                            "<tr><td>59</td><td>James Smith</td><td>james.smith@example.com</td><td>Female</td><td>44</td><td>6</td></tr>",
                            "<tr><td>60</td><td>John Thomas</td><td>john.thomas@example.com</td><td>Male</td><td>53</td><td>6</td></tr>",
                            "<tr><td>61</td><td>Emma Rodriguez</td><td>emma.rodriguez@example.com</td><td>Female</td><td>67</td><td>2</td></tr>",
                            "<tr><td>62</td><td>Michael Hernandez</td><td>michael.hernandez@example.com</td><td>Male</td><td>60</td><td>8</td></tr>",
                            "<tr><td>63</td><td>John Davis</td><td>john.davis@example.com</td><td>Male</td><td>27</td><td>9</td></tr>",
                            "<tr><td>64</td><td>Sarah Martinez</td><td>sarah.martinez@example.com</td><td>Female</td><td>62</td><td>7</td></tr>",
                            "<tr><td>65</td><td>Olivia Rodriguez</td><td>olivia.rodriguez@example.com</td><td>Female</td><td>31</td><td>5</td></tr>",
                            "<tr><td>66</td><td>Isabella Martinez</td><td>isabella.martinez@example.com</td><td>Female</td><td>24</td><td>8</td></tr>",
                            "<tr><td>67</td><td>Alex Johnson</td><td>alex.johnson@example.com</td><td>Female</td><td>56</td><td>4</td></tr>",
                            "<tr><td>68</td><td>David Gonzalez</td><td>david.gonzalez@example.com</td><td>Female</td><td>57</td><td>6</td></tr>",
                            "<tr><td>69</td><td>Emma Gonzalez</td><td>emma.gonzalez@example.com</td><td>Male</td><td>26</td><td>4</td></tr>",
                            "<tr><td>70</td><td>James Garcia</td><td>james.garcia@example.com</td><td>Female</td><td>31</td><td>7</td></tr>",
                            "<tr><td>71</td><td>Isabella Miller</td><td>isabella.miller@example.com</td><td>Female</td><td>25</td><td>5</td></tr>",
                            "<tr><td>72</td><td>Sophia Miller</td><td>sophia.miller@example.com</td><td>Female</td><td>34</td><td>8</td></tr>",
                            "<tr><td>73</td><td>Sarah Gonzalez</td><td>sarah.gonzalez@example.com</td><td>Male</td><td>40</td><td>4</td></tr>",
                            "<tr><td>74</td><td>Jane Smith</td><td>jane.smith@example.com</td><td>Male</td><td>33</td><td>1</td></tr>",
                            "<tr><td>75</td><td>David Smith</td><td>david.smith@example.com</td><td>Female</td><td>43</td><td>6</td></tr>",
                            "<tr><td>76</td><td>Michael Lopez</td><td>michael.lopez@example.com</td><td>Female</td><td>26</td><td>10</td></tr>",
                            "<tr><td>77</td><td>David Lopez</td><td>david.lopez@example.com</td><td>Male</td><td>53</td><td>4</td></tr>",
                            "<tr><td>78</td><td>Olivia Smith</td><td>olivia.smith@example.com</td><td>Female</td><td>24</td><td>8</td></tr>",
                            "<tr><td>79</td><td>John Jones</td><td>john.jones@example.com</td><td>Female</td><td>35</td><td>6</td></tr>",
                            "<tr><td>80</td><td>Laura Jones</td><td>laura.jones@example.com</td><td>Female</td><td>25</td><td>6</td></tr>",
                            "<tr><td>81</td><td>Emily Wilson</td><td>emily.wilson@example.com</td><td>Male</td><td>38</td><td>9</td></tr>",
                            "<tr><td>82</td><td>Laura Gonzalez</td><td>laura.gonzalez@example.com</td><td>Male</td><td>43</td><td>1</td></tr>",
                            "<tr><td>83</td><td>Emily Jones</td><td>emily.jones@example.com</td><td>Male</td><td>20</td><td>9</td></tr>",
                            "<tr><td>84</td><td>Michael Williams</td><td>michael.williams@example.com</td><td>Female</td><td>34</td><td>4</td></tr>",
                            "<tr><td>85</td><td>Jane Hernandez</td><td>jane.hernandez@example.com</td><td>Male</td><td>68</td><td>7</td></tr>",
                            "<tr><td>86</td><td>James Hernandez</td><td>james.hernandez@example.com</td><td>Male</td><td>63</td><td>10</td></tr>",
                            "<tr><td>87</td><td>Emma Hernandez</td><td>emma.hernandez@example.com</td><td>Male</td><td>41</td><td>4</td></tr>",
                            "<tr><td>88</td><td>James Brown</td><td>james.brown@example.com</td><td>Male</td><td>42</td><td>3</td></tr>",
                            "<tr><td>89</td><td>Alex Rodriguez</td><td>alex.rodriguez@example.com</td><td>Male</td><td>22</td><td>8</td></tr>",
                            "<tr><td>90</td><td>John Wilson</td><td>john.wilson@example.com</td><td>Male</td><td>54</td><td>1</td></tr>",
                            "<tr><td>91</td><td>John Brown</td><td>john.brown@example.com</td><td>Female</td><td>62</td><td>4</td></tr>",
                            "<tr><td>92</td><td>David Hernandez</td><td>david.hernandez@example.com</td><td>Female</td><td>67</td><td>1</td></tr>",
                            "<tr><td>93</td><td>Jane Rodriguez</td><td>jane.rodriguez@example.com</td><td>Female</td><td>41</td><td>4</td></tr>",
                            "<tr><td>94</td><td>Jane Anderson</td><td>jane.anderson@example.com</td><td>Male</td><td>48</td><td>7</td></tr>",
                            "<tr><td>95</td><td>James Jones</td><td>james.jones@example.com</td><td>Male</td><td>43</td><td>2</td></tr>",
                            "<tr><td>96</td><td>Emily Gonzalez</td><td>emily.gonzalez@example.com</td><td>Female</td><td>38</td><td>10</td></tr>",
                            "<tr><td>97</td><td>Emily Rodriguez</td><td>emily.rodriguez@example.com</td><td>Female</td><td>51</td><td>3</td></tr>",
                            "<tr><td>98</td><td>Chris Lopez</td><td>chris.lopez@example.com</td><td>Female</td><td>55</td><td>10</td></tr>",
                            "<tr><td>99</td><td>Laura Hernandez</td><td>laura.hernandez@example.com</td><td>Male</td><td>41</td><td>5</td></tr>",
                            "<tr><td>100</td><td>Jane Brown</td><td>jane.brown@example.com</td><td>Female</td><td>45</td><td>10</td></tr>",
                            "</table>"
                        ]
                    }
                }
            ],
            "execution_count": 11
        },
        {
            "cell_type": "code",
            "source": [
                "SELECT * FROM geography;"
            ],
            "metadata": {
                "language": "sql",
                "azdata_cell_guid": "3eaedc42-2929-4013-b52b-cddd59a7b711"
            },
            "outputs": [
                {
                    "output_type": "display_data",
                    "data": {
                        "text/html": "(10 row(s) affected)"
                    },
                    "metadata": {}
                },
                {
                    "output_type": "display_data",
                    "data": {
                        "text/html": "Total execution time: 00:00:01.007"
                    },
                    "metadata": {}
                },
                {
                    "output_type": "execute_result",
                    "metadata": {},
                    "execution_count": 12,
                    "data": {
                        "application/vnd.dataresource+json": {
                            "schema": {
                                "fields": [
                                    {
                                        "name": "GeographyID"
                                    },
                                    {
                                        "name": "Country"
                                    },
                                    {
                                        "name": "City"
                                    }
                                ]
                            },
                            "data": [
                                {
                                    "GeographyID": "1",
                                    "Country": "UK",
                                    "City": "London"
                                },
                                {
                                    "GeographyID": "2",
                                    "Country": "Germany",
                                    "City": "Berlin"
                                },
                                {
                                    "GeographyID": "3",
                                    "Country": "France",
                                    "City": "Paris"
                                },
                                {
                                    "GeographyID": "4",
                                    "Country": "Spain",
                                    "City": "Madrid"
                                },
                                {
                                    "GeographyID": "5",
                                    "Country": "Italy",
                                    "City": "Rome"
                                },
                                {
                                    "GeographyID": "6",
                                    "Country": "Netherlands",
                                    "City": "Amsterdam"
                                },
                                {
                                    "GeographyID": "7",
                                    "Country": "Belgium",
                                    "City": "Brussels"
                                },
                                {
                                    "GeographyID": "8",
                                    "Country": "Sweden",
                                    "City": "Stockholm"
                                },
                                {
                                    "GeographyID": "9",
                                    "Country": "Switzerland",
                                    "City": "Zurich"
                                },
                                {
                                    "GeographyID": "10",
                                    "Country": "Austria",
                                    "City": "Vienna"
                                }
                            ]
                        },
                        "text/html": [
                            "<table>",
                            "<tr><th>GeographyID</th><th>Country</th><th>City</th></tr>",
                            "<tr><td>1</td><td>UK</td><td>London</td></tr>",
                            "<tr><td>2</td><td>Germany</td><td>Berlin</td></tr>",
                            "<tr><td>3</td><td>France</td><td>Paris</td></tr>",
                            "<tr><td>4</td><td>Spain</td><td>Madrid</td></tr>",
                            "<tr><td>5</td><td>Italy</td><td>Rome</td></tr>",
                            "<tr><td>6</td><td>Netherlands</td><td>Amsterdam</td></tr>",
                            "<tr><td>7</td><td>Belgium</td><td>Brussels</td></tr>",
                            "<tr><td>8</td><td>Sweden</td><td>Stockholm</td></tr>",
                            "<tr><td>9</td><td>Switzerland</td><td>Zurich</td></tr>",
                            "<tr><td>10</td><td>Austria</td><td>Vienna</td></tr>",
                            "</table>"
                        ]
                    }
                }
            ],
            "execution_count": 12
        },
        {
            "cell_type": "code",
            "source": [
                "SELECT\n",
                "c.CustomerID,\n",
                "c.CustomerName,\n",
                "c.Email,\n",
                "c.Gender,\n",
                "g.Country,\n",
                "g.City \n",
                "FROM customers as c \n",
                "LEFT JOIN geography AS g\n",
                "ON c.GeographyID = g.GeographyID;"
            ],
            "metadata": {
                "azdata_cell_guid": "08fbd573-ea95-4ea1-82ca-6526200d747a",
                "language": "sql"
            },
            "outputs": [
                {
                    "output_type": "display_data",
                    "data": {
                        "text/html": "(100 row(s) affected)"
                    },
                    "metadata": {}
                },
                {
                    "output_type": "display_data",
                    "data": {
                        "text/html": "Total execution time: 00:00:01.007"
                    },
                    "metadata": {}
                },
                {
                    "output_type": "execute_result",
                    "metadata": {},
                    "execution_count": 13,
                    "data": {
                        "application/vnd.dataresource+json": {
                            "schema": {
                                "fields": [
                                    {
                                        "name": "CustomerID"
                                    },
                                    {
                                        "name": "CustomerName"
                                    },
                                    {
                                        "name": "Email"
                                    },
                                    {
                                        "name": "Gender"
                                    },
                                    {
                                        "name": "Country"
                                    },
                                    {
                                        "name": "City"
                                    }
                                ]
                            },
                            "data": [
                                {
                                    "CustomerID": "1",
                                    "CustomerName": "Emma Anderson",
                                    "Email": "emma.anderson@example.com",
                                    "Gender": "Male",
                                    "Country": "Germany",
                                    "City": "Berlin"
                                },
                                {
                                    "CustomerID": "2",
                                    "CustomerName": "Sarah Brown",
                                    "Email": "sarah.brown@example.com",
                                    "Gender": "Female",
                                    "Country": "Spain",
                                    "City": "Madrid"
                                },
                                {
                                    "CustomerID": "3",
                                    "CustomerName": "Robert Hernandez",
                                    "Email": "robert.hernandez@example.com",
                                    "Gender": "Female",
                                    "Country": "Netherlands",
                                    "City": "Amsterdam"
                                },
                                {
                                    "CustomerID": "4",
                                    "CustomerName": "David Garcia",
                                    "Email": "david.garcia@example.com",
                                    "Gender": "Male",
                                    "Country": "Sweden",
                                    "City": "Stockholm"
                                },
                                {
                                    "CustomerID": "5",
                                    "CustomerName": "Emma Miller",
                                    "Email": "emma.miller@example.com",
                                    "Gender": "Female",
                                    "Country": "Spain",
                                    "City": "Madrid"
                                },
                                {
                                    "CustomerID": "6",
                                    "CustomerName": "Daniel Rodriguez",
                                    "Email": "daniel.rodriguez@example.com",
                                    "Gender": "Male",
                                    "Country": "Belgium",
                                    "City": "Brussels"
                                },
                                {
                                    "CustomerID": "7",
                                    "CustomerName": "Laura Miller",
                                    "Email": "laura.miller@example.com",
                                    "Gender": "Male",
                                    "Country": "Belgium",
                                    "City": "Brussels"
                                },
                                {
                                    "CustomerID": "8",
                                    "CustomerName": "James Gonzalez",
                                    "Email": "james.gonzalez@example.com",
                                    "Gender": "Female",
                                    "Country": "Sweden",
                                    "City": "Stockholm"
                                },
                                {
                                    "CustomerID": "9",
                                    "CustomerName": "Emily Thomas",
                                    "Email": "emily.thomas@example.com",
                                    "Gender": "Male",
                                    "Country": "Austria",
                                    "City": "Vienna"
                                },
                                {
                                    "CustomerID": "10",
                                    "CustomerName": "Chris Davis",
                                    "Email": "chris.davis@example.com",
                                    "Gender": "Female",
                                    "Country": "Germany",
                                    "City": "Berlin"
                                },
                                {
                                    "CustomerID": "11",
                                    "CustomerName": "Emma Garcia",
                                    "Email": "emma.garcia@example.com",
                                    "Gender": "Male",
                                    "Country": "Austria",
                                    "City": "Vienna"
                                },
                                {
                                    "CustomerID": "12",
                                    "CustomerName": "James Lopez",
                                    "Email": "james.lopez@example.com",
                                    "Gender": "Female",
                                    "Country": "Belgium",
                                    "City": "Brussels"
                                },
                                {
                                    "CustomerID": "13",
                                    "CustomerName": "David Wilson",
                                    "Email": "david.wilson@example.com",
                                    "Gender": "Male",
                                    "Country": "UK",
                                    "City": "London"
                                },
                                {
                                    "CustomerID": "14",
                                    "CustomerName": "Olivia Wilson",
                                    "Email": "olivia.wilson@example.com",
                                    "Gender": "Male",
                                    "Country": "Spain",
                                    "City": "Madrid"
                                },
                                {
                                    "CustomerID": "15",
                                    "CustomerName": "Emma Martinez",
                                    "Email": "emma.martinez@example.com",
                                    "Gender": "Male",
                                    "Country": "Switzerland",
                                    "City": "Zurich"
                                },
                                {
                                    "CustomerID": "16",
                                    "CustomerName": "Michael Martinez",
                                    "Email": "michael.martinez@example.com",
                                    "Gender": "Male",
                                    "Country": "Italy",
                                    "City": "Rome"
                                },
                                {
                                    "CustomerID": "17",
                                    "CustomerName": "Daniel Thomas",
                                    "Email": "daniel.thomas@example.com",
                                    "Gender": "Female",
                                    "Country": "Germany",
                                    "City": "Berlin"
                                },
                                {
                                    "CustomerID": "18",
                                    "CustomerName": "Robert Lopez",
                                    "Email": "robert.lopez@example.com",
                                    "Gender": "Female",
                                    "Country": "Italy",
                                    "City": "Rome"
                                },
                                {
                                    "CustomerID": "19",
                                    "CustomerName": "Emma Wilson",
                                    "Email": "emma.wilson@example.com",
                                    "Gender": "Female",
                                    "Country": "Netherlands",
                                    "City": "Amsterdam"
                                },
                                {
                                    "CustomerID": "20",
                                    "CustomerName": "David Johnson",
                                    "Email": "david.johnson@example.com",
                                    "Gender": "Male",
                                    "Country": "UK",
                                    "City": "London"
                                },
                                {
                                    "CustomerID": "21",
                                    "CustomerName": "Olivia Gonzalez",
                                    "Email": "olivia.gonzalez@example.com",
                                    "Gender": "Female",
                                    "Country": "Spain",
                                    "City": "Madrid"
                                },
                                {
                                    "CustomerID": "22",
                                    "CustomerName": "Alex Wilson",
                                    "Email": "alex.wilson@example.com",
                                    "Gender": "Male",
                                    "Country": "Germany",
                                    "City": "Berlin"
                                },
                                {
                                    "CustomerID": "23",
                                    "CustomerName": "Isabella Garcia",
                                    "Email": "isabella.garcia@example.com",
                                    "Gender": "Female",
                                    "Country": "Italy",
                                    "City": "Rome"
                                },
                                {
                                    "CustomerID": "24",
                                    "CustomerName": "Chris Hernandez",
                                    "Email": "chris.hernandez@example.com",
                                    "Gender": "Male",
                                    "Country": "Italy",
                                    "City": "Rome"
                                },
                                {
                                    "CustomerID": "25",
                                    "CustomerName": "David Anderson",
                                    "Email": "david.anderson@example.com",
                                    "Gender": "Male",
                                    "Country": "Italy",
                                    "City": "Rome"
                                },
                                {
                                    "CustomerID": "26",
                                    "CustomerName": "Isabella Thomas",
                                    "Email": "isabella.thomas@example.com",
                                    "Gender": "Male",
                                    "Country": "UK",
                                    "City": "London"
                                },
                                {
                                    "CustomerID": "27",
                                    "CustomerName": "John Rodriguez",
                                    "Email": "john.rodriguez@example.com",
                                    "Gender": "Male",
                                    "Country": "UK",
                                    "City": "London"
                                },
                                {
                                    "CustomerID": "28",
                                    "CustomerName": "Emily Davis",
                                    "Email": "emily.davis@example.com",
                                    "Gender": "Female",
                                    "Country": "Switzerland",
                                    "City": "Zurich"
                                },
                                {
                                    "CustomerID": "29",
                                    "CustomerName": "Sophia Anderson",
                                    "Email": "sophia.anderson@example.com",
                                    "Gender": "Female",
                                    "Country": "Italy",
                                    "City": "Rome"
                                },
                                {
                                    "CustomerID": "30",
                                    "CustomerName": "Alex Garcia",
                                    "Email": "alex.garcia@example.com",
                                    "Gender": "Female",
                                    "Country": "Belgium",
                                    "City": "Brussels"
                                },
                                {
                                    "CustomerID": "31",
                                    "CustomerName": "Daniel Jones",
                                    "Email": "daniel.jones@example.com",
                                    "Gender": "Male",
                                    "Country": "Austria",
                                    "City": "Vienna"
                                },
                                {
                                    "CustomerID": "32",
                                    "CustomerName": "Laura Anderson",
                                    "Email": "laura.anderson@example.com",
                                    "Gender": "Female",
                                    "Country": "Spain",
                                    "City": "Madrid"
                                },
                                {
                                    "CustomerID": "33",
                                    "CustomerName": "David Thomas",
                                    "Email": "david.thomas@example.com",
                                    "Gender": "Male",
                                    "Country": "Spain",
                                    "City": "Madrid"
                                },
                                {
                                    "CustomerID": "34",
                                    "CustomerName": "Daniel Miller",
                                    "Email": "daniel.miller@example.com",
                                    "Gender": "Male",
                                    "Country": "France",
                                    "City": "Paris"
                                },
                                {
                                    "CustomerID": "35",
                                    "CustomerName": "Robert Rodriguez",
                                    "Email": "robert.rodriguez@example.com",
                                    "Gender": "Female",
                                    "Country": "Germany",
                                    "City": "Berlin"
                                },
                                {
                                    "CustomerID": "36",
                                    "CustomerName": "Emma Johnson",
                                    "Email": "emma.johnson@example.com",
                                    "Gender": "Female",
                                    "Country": "France",
                                    "City": "Paris"
                                },
                                {
                                    "CustomerID": "37",
                                    "CustomerName": "Olivia Lopez",
                                    "Email": "olivia.lopez@example.com",
                                    "Gender": "Female",
                                    "Country": "Germany",
                                    "City": "Berlin"
                                },
                                {
                                    "CustomerID": "38",
                                    "CustomerName": "John Garcia",
                                    "Email": "john.garcia@example.com",
                                    "Gender": "Male",
                                    "Country": "Spain",
                                    "City": "Madrid"
                                },
                                {
                                    "CustomerID": "39",
                                    "CustomerName": "Jane Miller",
                                    "Email": "jane.miller@example.com",
                                    "Gender": "Female",
                                    "Country": "Italy",
                                    "City": "Rome"
                                },
                                {
                                    "CustomerID": "40",
                                    "CustomerName": "Olivia Thomas",
                                    "Email": "olivia.thomas@example.com",
                                    "Gender": "Female",
                                    "Country": "Germany",
                                    "City": "Berlin"
                                },
                                {
                                    "CustomerID": "41",
                                    "CustomerName": "Laura Wilson",
                                    "Email": "laura.wilson@example.com",
                                    "Gender": "Male",
                                    "Country": "Germany",
                                    "City": "Berlin"
                                },
                                {
                                    "CustomerID": "42",
                                    "CustomerName": "John Gonzalez",
                                    "Email": "john.gonzalez@example.com",
                                    "Gender": "Female",
                                    "Country": "UK",
                                    "City": "London"
                                },
                                {
                                    "CustomerID": "43",
                                    "CustomerName": "Olivia Hernandez",
                                    "Email": "olivia.hernandez@example.com",
                                    "Gender": "Male",
                                    "Country": "Sweden",
                                    "City": "Stockholm"
                                },
                                {
                                    "CustomerID": "44",
                                    "CustomerName": "Olivia Brown",
                                    "Email": "olivia.brown@example.com",
                                    "Gender": "Female",
                                    "Country": "Switzerland",
                                    "City": "Zurich"
                                },
                                {
                                    "CustomerID": "45",
                                    "CustomerName": "Sarah Hernandez",
                                    "Email": "sarah.hernandez@example.com",
                                    "Gender": "Female",
                                    "Country": "Italy",
                                    "City": "Rome"
                                },
                                {
                                    "CustomerID": "46",
                                    "CustomerName": "Chris Johnson",
                                    "Email": "chris.johnson@example.com",
                                    "Gender": "Male",
                                    "Country": "Spain",
                                    "City": "Madrid"
                                },
                                {
                                    "CustomerID": "47",
                                    "CustomerName": "Sophia Thomas",
                                    "Email": "sophia.thomas@example.com",
                                    "Gender": "Male",
                                    "Country": "Netherlands",
                                    "City": "Amsterdam"
                                },
                                {
                                    "CustomerID": "48",
                                    "CustomerName": "Alex Gonzalez",
                                    "Email": "alex.gonzalez@example.com",
                                    "Gender": "Female",
                                    "Country": "Belgium",
                                    "City": "Brussels"
                                },
                                {
                                    "CustomerID": "49",
                                    "CustomerName": "Michael Smith",
                                    "Email": "michael.smith@example.com",
                                    "Gender": "Female",
                                    "Country": "Spain",
                                    "City": "Madrid"
                                },
                                {
                                    "CustomerID": "50",
                                    "CustomerName": "Olivia Miller",
                                    "Email": "olivia.miller@example.com",
                                    "Gender": "Male",
                                    "Country": "France",
                                    "City": "Paris"
                                },
                                {
                                    "CustomerID": "51",
                                    "CustomerName": "Michael Davis",
                                    "Email": "michael.davis@example.com",
                                    "Gender": "Female",
                                    "Country": "Austria",
                                    "City": "Vienna"
                                },
                                {
                                    "CustomerID": "52",
                                    "CustomerName": "Robert Williams",
                                    "Email": "robert.williams@example.com",
                                    "Gender": "Female",
                                    "Country": "Switzerland",
                                    "City": "Zurich"
                                },
                                {
                                    "CustomerID": "53",
                                    "CustomerName": "Emma Thomas",
                                    "Email": "emma.thomas@example.com",
                                    "Gender": "Female",
                                    "Country": "Germany",
                                    "City": "Berlin"
                                },
                                {
                                    "CustomerID": "54",
                                    "CustomerName": "Michael Gonzalez",
                                    "Email": "michael.gonzalez@example.com",
                                    "Gender": "Female",
                                    "Country": "Italy",
                                    "City": "Rome"
                                },
                                {
                                    "CustomerID": "55",
                                    "CustomerName": "Emily Lopez",
                                    "Email": "emily.lopez@example.com",
                                    "Gender": "Female",
                                    "Country": "UK",
                                    "City": "London"
                                },
                                {
                                    "CustomerID": "56",
                                    "CustomerName": "Sophia Davis",
                                    "Email": "sophia.davis@example.com",
                                    "Gender": "Female",
                                    "Country": "Switzerland",
                                    "City": "Zurich"
                                },
                                {
                                    "CustomerID": "57",
                                    "CustomerName": "James Rodriguez",
                                    "Email": "james.rodriguez@example.com",
                                    "Gender": "Male",
                                    "Country": "Spain",
                                    "City": "Madrid"
                                },
                                {
                                    "CustomerID": "58",
                                    "CustomerName": "Jane Williams",
                                    "Email": "jane.williams@example.com",
                                    "Gender": "Male",
                                    "Country": "Austria",
                                    "City": "Vienna"
                                },
                                {
                                    "CustomerID": "59",
                                    "CustomerName": "James Smith",
                                    "Email": "james.smith@example.com",
                                    "Gender": "Female",
                                    "Country": "Netherlands",
                                    "City": "Amsterdam"
                                },
                                {
                                    "CustomerID": "60",
                                    "CustomerName": "John Thomas",
                                    "Email": "john.thomas@example.com",
                                    "Gender": "Male",
                                    "Country": "Netherlands",
                                    "City": "Amsterdam"
                                },
                                {
                                    "CustomerID": "61",
                                    "CustomerName": "Emma Rodriguez",
                                    "Email": "emma.rodriguez@example.com",
                                    "Gender": "Female",
                                    "Country": "Germany",
                                    "City": "Berlin"
                                },
                                {
                                    "CustomerID": "62",
                                    "CustomerName": "Michael Hernandez",
                                    "Email": "michael.hernandez@example.com",
                                    "Gender": "Male",
                                    "Country": "Sweden",
                                    "City": "Stockholm"
                                },
                                {
                                    "CustomerID": "63",
                                    "CustomerName": "John Davis",
                                    "Email": "john.davis@example.com",
                                    "Gender": "Male",
                                    "Country": "Switzerland",
                                    "City": "Zurich"
                                },
                                {
                                    "CustomerID": "64",
                                    "CustomerName": "Sarah Martinez",
                                    "Email": "sarah.martinez@example.com",
                                    "Gender": "Female",
                                    "Country": "Belgium",
                                    "City": "Brussels"
                                },
                                {
                                    "CustomerID": "65",
                                    "CustomerName": "Olivia Rodriguez",
                                    "Email": "olivia.rodriguez@example.com",
                                    "Gender": "Female",
                                    "Country": "Italy",
                                    "City": "Rome"
                                },
                                {
                                    "CustomerID": "66",
                                    "CustomerName": "Isabella Martinez",
                                    "Email": "isabella.martinez@example.com",
                                    "Gender": "Female",
                                    "Country": "Sweden",
                                    "City": "Stockholm"
                                },
                                {
                                    "CustomerID": "67",
                                    "CustomerName": "Alex Johnson",
                                    "Email": "alex.johnson@example.com",
                                    "Gender": "Female",
                                    "Country": "Spain",
                                    "City": "Madrid"
                                },
                                {
                                    "CustomerID": "68",
                                    "CustomerName": "David Gonzalez",
                                    "Email": "david.gonzalez@example.com",
                                    "Gender": "Female",
                                    "Country": "Netherlands",
                                    "City": "Amsterdam"
                                },
                                {
                                    "CustomerID": "69",
                                    "CustomerName": "Emma Gonzalez",
                                    "Email": "emma.gonzalez@example.com",
                                    "Gender": "Male",
                                    "Country": "Spain",
                                    "City": "Madrid"
                                },
                                {
                                    "CustomerID": "70",
                                    "CustomerName": "James Garcia",
                                    "Email": "james.garcia@example.com",
                                    "Gender": "Female",
                                    "Country": "Belgium",
                                    "City": "Brussels"
                                },
                                {
                                    "CustomerID": "71",
                                    "CustomerName": "Isabella Miller",
                                    "Email": "isabella.miller@example.com",
                                    "Gender": "Female",
                                    "Country": "Italy",
                                    "City": "Rome"
                                },
                                {
                                    "CustomerID": "72",
                                    "CustomerName": "Sophia Miller",
                                    "Email": "sophia.miller@example.com",
                                    "Gender": "Female",
                                    "Country": "Sweden",
                                    "City": "Stockholm"
                                },
                                {
                                    "CustomerID": "73",
                                    "CustomerName": "Sarah Gonzalez",
                                    "Email": "sarah.gonzalez@example.com",
                                    "Gender": "Male",
                                    "Country": "Spain",
                                    "City": "Madrid"
                                },
                                {
                                    "CustomerID": "74",
                                    "CustomerName": "Jane Smith",
                                    "Email": "jane.smith@example.com",
                                    "Gender": "Male",
                                    "Country": "UK",
                                    "City": "London"
                                },
                                {
                                    "CustomerID": "75",
                                    "CustomerName": "David Smith",
                                    "Email": "david.smith@example.com",
                                    "Gender": "Female",
                                    "Country": "Netherlands",
                                    "City": "Amsterdam"
                                },
                                {
                                    "CustomerID": "76",
                                    "CustomerName": "Michael Lopez",
                                    "Email": "michael.lopez@example.com",
                                    "Gender": "Female",
                                    "Country": "Austria",
                                    "City": "Vienna"
                                },
                                {
                                    "CustomerID": "77",
                                    "CustomerName": "David Lopez",
                                    "Email": "david.lopez@example.com",
                                    "Gender": "Male",
                                    "Country": "Spain",
                                    "City": "Madrid"
                                },
                                {
                                    "CustomerID": "78",
                                    "CustomerName": "Olivia Smith",
                                    "Email": "olivia.smith@example.com",
                                    "Gender": "Female",
                                    "Country": "Sweden",
                                    "City": "Stockholm"
                                },
                                {
                                    "CustomerID": "79",
                                    "CustomerName": "John Jones",
                                    "Email": "john.jones@example.com",
                                    "Gender": "Female",
                                    "Country": "Netherlands",
                                    "City": "Amsterdam"
                                },
                                {
                                    "CustomerID": "80",
                                    "CustomerName": "Laura Jones",
                                    "Email": "laura.jones@example.com",
                                    "Gender": "Female",
                                    "Country": "Netherlands",
                                    "City": "Amsterdam"
                                },
                                {
                                    "CustomerID": "81",
                                    "CustomerName": "Emily Wilson",
                                    "Email": "emily.wilson@example.com",
                                    "Gender": "Male",
                                    "Country": "Switzerland",
                                    "City": "Zurich"
                                },
                                {
                                    "CustomerID": "82",
                                    "CustomerName": "Laura Gonzalez",
                                    "Email": "laura.gonzalez@example.com",
                                    "Gender": "Male",
                                    "Country": "UK",
                                    "City": "London"
                                },
                                {
                                    "CustomerID": "83",
                                    "CustomerName": "Emily Jones",
                                    "Email": "emily.jones@example.com",
                                    "Gender": "Male",
                                    "Country": "Switzerland",
                                    "City": "Zurich"
                                },
                                {
                                    "CustomerID": "84",
                                    "CustomerName": "Michael Williams",
                                    "Email": "michael.williams@example.com",
                                    "Gender": "Female",
                                    "Country": "Spain",
                                    "City": "Madrid"
                                },
                                {
                                    "CustomerID": "85",
                                    "CustomerName": "Jane Hernandez",
                                    "Email": "jane.hernandez@example.com",
                                    "Gender": "Male",
                                    "Country": "Belgium",
                                    "City": "Brussels"
                                },
                                {
                                    "CustomerID": "86",
                                    "CustomerName": "James Hernandez",
                                    "Email": "james.hernandez@example.com",
                                    "Gender": "Male",
                                    "Country": "Austria",
                                    "City": "Vienna"
                                },
                                {
                                    "CustomerID": "87",
                                    "CustomerName": "Emma Hernandez",
                                    "Email": "emma.hernandez@example.com",
                                    "Gender": "Male",
                                    "Country": "Spain",
                                    "City": "Madrid"
                                },
                                {
                                    "CustomerID": "88",
                                    "CustomerName": "James Brown",
                                    "Email": "james.brown@example.com",
                                    "Gender": "Male",
                                    "Country": "France",
                                    "City": "Paris"
                                },
                                {
                                    "CustomerID": "89",
                                    "CustomerName": "Alex Rodriguez",
                                    "Email": "alex.rodriguez@example.com",
                                    "Gender": "Male",
                                    "Country": "Sweden",
                                    "City": "Stockholm"
                                },
                                {
                                    "CustomerID": "90",
                                    "CustomerName": "John Wilson",
                                    "Email": "john.wilson@example.com",
                                    "Gender": "Male",
                                    "Country": "UK",
                                    "City": "London"
                                },
                                {
                                    "CustomerID": "91",
                                    "CustomerName": "John Brown",
                                    "Email": "john.brown@example.com",
                                    "Gender": "Female",
                                    "Country": "Spain",
                                    "City": "Madrid"
                                },
                                {
                                    "CustomerID": "92",
                                    "CustomerName": "David Hernandez",
                                    "Email": "david.hernandez@example.com",
                                    "Gender": "Female",
                                    "Country": "UK",
                                    "City": "London"
                                },
                                {
                                    "CustomerID": "93",
                                    "CustomerName": "Jane Rodriguez",
                                    "Email": "jane.rodriguez@example.com",
                                    "Gender": "Female",
                                    "Country": "Spain",
                                    "City": "Madrid"
                                },
                                {
                                    "CustomerID": "94",
                                    "CustomerName": "Jane Anderson",
                                    "Email": "jane.anderson@example.com",
                                    "Gender": "Male",
                                    "Country": "Belgium",
                                    "City": "Brussels"
                                },
                                {
                                    "CustomerID": "95",
                                    "CustomerName": "James Jones",
                                    "Email": "james.jones@example.com",
                                    "Gender": "Male",
                                    "Country": "Germany",
                                    "City": "Berlin"
                                },
                                {
                                    "CustomerID": "96",
                                    "CustomerName": "Emily Gonzalez",
                                    "Email": "emily.gonzalez@example.com",
                                    "Gender": "Female",
                                    "Country": "Austria",
                                    "City": "Vienna"
                                },
                                {
                                    "CustomerID": "97",
                                    "CustomerName": "Emily Rodriguez",
                                    "Email": "emily.rodriguez@example.com",
                                    "Gender": "Female",
                                    "Country": "France",
                                    "City": "Paris"
                                },
                                {
                                    "CustomerID": "98",
                                    "CustomerName": "Chris Lopez",
                                    "Email": "chris.lopez@example.com",
                                    "Gender": "Female",
                                    "Country": "Austria",
                                    "City": "Vienna"
                                },
                                {
                                    "CustomerID": "99",
                                    "CustomerName": "Laura Hernandez",
                                    "Email": "laura.hernandez@example.com",
                                    "Gender": "Male",
                                    "Country": "Italy",
                                    "City": "Rome"
                                },
                                {
                                    "CustomerID": "100",
                                    "CustomerName": "Jane Brown",
                                    "Email": "jane.brown@example.com",
                                    "Gender": "Female",
                                    "Country": "Austria",
                                    "City": "Vienna"
                                }
                            ]
                        },
                        "text/html": [
                            "<table>",
                            "<tr><th>CustomerID</th><th>CustomerName</th><th>Email</th><th>Gender</th><th>Country</th><th>City</th></tr>",
                            "<tr><td>1</td><td>Emma Anderson</td><td>emma.anderson@example.com</td><td>Male</td><td>Germany</td><td>Berlin</td></tr>",
                            "<tr><td>2</td><td>Sarah Brown</td><td>sarah.brown@example.com</td><td>Female</td><td>Spain</td><td>Madrid</td></tr>",
                            "<tr><td>3</td><td>Robert Hernandez</td><td>robert.hernandez@example.com</td><td>Female</td><td>Netherlands</td><td>Amsterdam</td></tr>",
                            "<tr><td>4</td><td>David Garcia</td><td>david.garcia@example.com</td><td>Male</td><td>Sweden</td><td>Stockholm</td></tr>",
                            "<tr><td>5</td><td>Emma Miller</td><td>emma.miller@example.com</td><td>Female</td><td>Spain</td><td>Madrid</td></tr>",
                            "<tr><td>6</td><td>Daniel Rodriguez</td><td>daniel.rodriguez@example.com</td><td>Male</td><td>Belgium</td><td>Brussels</td></tr>",
                            "<tr><td>7</td><td>Laura Miller</td><td>laura.miller@example.com</td><td>Male</td><td>Belgium</td><td>Brussels</td></tr>",
                            "<tr><td>8</td><td>James Gonzalez</td><td>james.gonzalez@example.com</td><td>Female</td><td>Sweden</td><td>Stockholm</td></tr>",
                            "<tr><td>9</td><td>Emily Thomas</td><td>emily.thomas@example.com</td><td>Male</td><td>Austria</td><td>Vienna</td></tr>",
                            "<tr><td>10</td><td>Chris Davis</td><td>chris.davis@example.com</td><td>Female</td><td>Germany</td><td>Berlin</td></tr>",
                            "<tr><td>11</td><td>Emma Garcia</td><td>emma.garcia@example.com</td><td>Male</td><td>Austria</td><td>Vienna</td></tr>",
                            "<tr><td>12</td><td>James Lopez</td><td>james.lopez@example.com</td><td>Female</td><td>Belgium</td><td>Brussels</td></tr>",
                            "<tr><td>13</td><td>David Wilson</td><td>david.wilson@example.com</td><td>Male</td><td>UK</td><td>London</td></tr>",
                            "<tr><td>14</td><td>Olivia Wilson</td><td>olivia.wilson@example.com</td><td>Male</td><td>Spain</td><td>Madrid</td></tr>",
                            "<tr><td>15</td><td>Emma Martinez</td><td>emma.martinez@example.com</td><td>Male</td><td>Switzerland</td><td>Zurich</td></tr>",
                            "<tr><td>16</td><td>Michael Martinez</td><td>michael.martinez@example.com</td><td>Male</td><td>Italy</td><td>Rome</td></tr>",
                            "<tr><td>17</td><td>Daniel Thomas</td><td>daniel.thomas@example.com</td><td>Female</td><td>Germany</td><td>Berlin</td></tr>",
                            "<tr><td>18</td><td>Robert Lopez</td><td>robert.lopez@example.com</td><td>Female</td><td>Italy</td><td>Rome</td></tr>",
                            "<tr><td>19</td><td>Emma Wilson</td><td>emma.wilson@example.com</td><td>Female</td><td>Netherlands</td><td>Amsterdam</td></tr>",
                            "<tr><td>20</td><td>David Johnson</td><td>david.johnson@example.com</td><td>Male</td><td>UK</td><td>London</td></tr>",
                            "<tr><td>21</td><td>Olivia Gonzalez</td><td>olivia.gonzalez@example.com</td><td>Female</td><td>Spain</td><td>Madrid</td></tr>",
                            "<tr><td>22</td><td>Alex Wilson</td><td>alex.wilson@example.com</td><td>Male</td><td>Germany</td><td>Berlin</td></tr>",
                            "<tr><td>23</td><td>Isabella Garcia</td><td>isabella.garcia@example.com</td><td>Female</td><td>Italy</td><td>Rome</td></tr>",
                            "<tr><td>24</td><td>Chris Hernandez</td><td>chris.hernandez@example.com</td><td>Male</td><td>Italy</td><td>Rome</td></tr>",
                            "<tr><td>25</td><td>David Anderson</td><td>david.anderson@example.com</td><td>Male</td><td>Italy</td><td>Rome</td></tr>",
                            "<tr><td>26</td><td>Isabella Thomas</td><td>isabella.thomas@example.com</td><td>Male</td><td>UK</td><td>London</td></tr>",
                            "<tr><td>27</td><td>John Rodriguez</td><td>john.rodriguez@example.com</td><td>Male</td><td>UK</td><td>London</td></tr>",
                            "<tr><td>28</td><td>Emily Davis</td><td>emily.davis@example.com</td><td>Female</td><td>Switzerland</td><td>Zurich</td></tr>",
                            "<tr><td>29</td><td>Sophia Anderson</td><td>sophia.anderson@example.com</td><td>Female</td><td>Italy</td><td>Rome</td></tr>",
                            "<tr><td>30</td><td>Alex Garcia</td><td>alex.garcia@example.com</td><td>Female</td><td>Belgium</td><td>Brussels</td></tr>",
                            "<tr><td>31</td><td>Daniel Jones</td><td>daniel.jones@example.com</td><td>Male</td><td>Austria</td><td>Vienna</td></tr>",
                            "<tr><td>32</td><td>Laura Anderson</td><td>laura.anderson@example.com</td><td>Female</td><td>Spain</td><td>Madrid</td></tr>",
                            "<tr><td>33</td><td>David Thomas</td><td>david.thomas@example.com</td><td>Male</td><td>Spain</td><td>Madrid</td></tr>",
                            "<tr><td>34</td><td>Daniel Miller</td><td>daniel.miller@example.com</td><td>Male</td><td>France</td><td>Paris</td></tr>",
                            "<tr><td>35</td><td>Robert Rodriguez</td><td>robert.rodriguez@example.com</td><td>Female</td><td>Germany</td><td>Berlin</td></tr>",
                            "<tr><td>36</td><td>Emma Johnson</td><td>emma.johnson@example.com</td><td>Female</td><td>France</td><td>Paris</td></tr>",
                            "<tr><td>37</td><td>Olivia Lopez</td><td>olivia.lopez@example.com</td><td>Female</td><td>Germany</td><td>Berlin</td></tr>",
                            "<tr><td>38</td><td>John Garcia</td><td>john.garcia@example.com</td><td>Male</td><td>Spain</td><td>Madrid</td></tr>",
                            "<tr><td>39</td><td>Jane Miller</td><td>jane.miller@example.com</td><td>Female</td><td>Italy</td><td>Rome</td></tr>",
                            "<tr><td>40</td><td>Olivia Thomas</td><td>olivia.thomas@example.com</td><td>Female</td><td>Germany</td><td>Berlin</td></tr>",
                            "<tr><td>41</td><td>Laura Wilson</td><td>laura.wilson@example.com</td><td>Male</td><td>Germany</td><td>Berlin</td></tr>",
                            "<tr><td>42</td><td>John Gonzalez</td><td>john.gonzalez@example.com</td><td>Female</td><td>UK</td><td>London</td></tr>",
                            "<tr><td>43</td><td>Olivia Hernandez</td><td>olivia.hernandez@example.com</td><td>Male</td><td>Sweden</td><td>Stockholm</td></tr>",
                            "<tr><td>44</td><td>Olivia Brown</td><td>olivia.brown@example.com</td><td>Female</td><td>Switzerland</td><td>Zurich</td></tr>",
                            "<tr><td>45</td><td>Sarah Hernandez</td><td>sarah.hernandez@example.com</td><td>Female</td><td>Italy</td><td>Rome</td></tr>",
                            "<tr><td>46</td><td>Chris Johnson</td><td>chris.johnson@example.com</td><td>Male</td><td>Spain</td><td>Madrid</td></tr>",
                            "<tr><td>47</td><td>Sophia Thomas</td><td>sophia.thomas@example.com</td><td>Male</td><td>Netherlands</td><td>Amsterdam</td></tr>",
                            "<tr><td>48</td><td>Alex Gonzalez</td><td>alex.gonzalez@example.com</td><td>Female</td><td>Belgium</td><td>Brussels</td></tr>",
                            "<tr><td>49</td><td>Michael Smith</td><td>michael.smith@example.com</td><td>Female</td><td>Spain</td><td>Madrid</td></tr>",
                            "<tr><td>50</td><td>Olivia Miller</td><td>olivia.miller@example.com</td><td>Male</td><td>France</td><td>Paris</td></tr>",
                            "<tr><td>51</td><td>Michael Davis</td><td>michael.davis@example.com</td><td>Female</td><td>Austria</td><td>Vienna</td></tr>",
                            "<tr><td>52</td><td>Robert Williams</td><td>robert.williams@example.com</td><td>Female</td><td>Switzerland</td><td>Zurich</td></tr>",
                            "<tr><td>53</td><td>Emma Thomas</td><td>emma.thomas@example.com</td><td>Female</td><td>Germany</td><td>Berlin</td></tr>",
                            "<tr><td>54</td><td>Michael Gonzalez</td><td>michael.gonzalez@example.com</td><td>Female</td><td>Italy</td><td>Rome</td></tr>",
                            "<tr><td>55</td><td>Emily Lopez</td><td>emily.lopez@example.com</td><td>Female</td><td>UK</td><td>London</td></tr>",
                            "<tr><td>56</td><td>Sophia Davis</td><td>sophia.davis@example.com</td><td>Female</td><td>Switzerland</td><td>Zurich</td></tr>",
                            "<tr><td>57</td><td>James Rodriguez</td><td>james.rodriguez@example.com</td><td>Male</td><td>Spain</td><td>Madrid</td></tr>",
                            "<tr><td>58</td><td>Jane Williams</td><td>jane.williams@example.com</td><td>Male</td><td>Austria</td><td>Vienna</td></tr>",
                            "<tr><td>59</td><td>James Smith</td><td>james.smith@example.com</td><td>Female</td><td>Netherlands</td><td>Amsterdam</td></tr>",
                            "<tr><td>60</td><td>John Thomas</td><td>john.thomas@example.com</td><td>Male</td><td>Netherlands</td><td>Amsterdam</td></tr>",
                            "<tr><td>61</td><td>Emma Rodriguez</td><td>emma.rodriguez@example.com</td><td>Female</td><td>Germany</td><td>Berlin</td></tr>",
                            "<tr><td>62</td><td>Michael Hernandez</td><td>michael.hernandez@example.com</td><td>Male</td><td>Sweden</td><td>Stockholm</td></tr>",
                            "<tr><td>63</td><td>John Davis</td><td>john.davis@example.com</td><td>Male</td><td>Switzerland</td><td>Zurich</td></tr>",
                            "<tr><td>64</td><td>Sarah Martinez</td><td>sarah.martinez@example.com</td><td>Female</td><td>Belgium</td><td>Brussels</td></tr>",
                            "<tr><td>65</td><td>Olivia Rodriguez</td><td>olivia.rodriguez@example.com</td><td>Female</td><td>Italy</td><td>Rome</td></tr>",
                            "<tr><td>66</td><td>Isabella Martinez</td><td>isabella.martinez@example.com</td><td>Female</td><td>Sweden</td><td>Stockholm</td></tr>",
                            "<tr><td>67</td><td>Alex Johnson</td><td>alex.johnson@example.com</td><td>Female</td><td>Spain</td><td>Madrid</td></tr>",
                            "<tr><td>68</td><td>David Gonzalez</td><td>david.gonzalez@example.com</td><td>Female</td><td>Netherlands</td><td>Amsterdam</td></tr>",
                            "<tr><td>69</td><td>Emma Gonzalez</td><td>emma.gonzalez@example.com</td><td>Male</td><td>Spain</td><td>Madrid</td></tr>",
                            "<tr><td>70</td><td>James Garcia</td><td>james.garcia@example.com</td><td>Female</td><td>Belgium</td><td>Brussels</td></tr>",
                            "<tr><td>71</td><td>Isabella Miller</td><td>isabella.miller@example.com</td><td>Female</td><td>Italy</td><td>Rome</td></tr>",
                            "<tr><td>72</td><td>Sophia Miller</td><td>sophia.miller@example.com</td><td>Female</td><td>Sweden</td><td>Stockholm</td></tr>",
                            "<tr><td>73</td><td>Sarah Gonzalez</td><td>sarah.gonzalez@example.com</td><td>Male</td><td>Spain</td><td>Madrid</td></tr>",
                            "<tr><td>74</td><td>Jane Smith</td><td>jane.smith@example.com</td><td>Male</td><td>UK</td><td>London</td></tr>",
                            "<tr><td>75</td><td>David Smith</td><td>david.smith@example.com</td><td>Female</td><td>Netherlands</td><td>Amsterdam</td></tr>",
                            "<tr><td>76</td><td>Michael Lopez</td><td>michael.lopez@example.com</td><td>Female</td><td>Austria</td><td>Vienna</td></tr>",
                            "<tr><td>77</td><td>David Lopez</td><td>david.lopez@example.com</td><td>Male</td><td>Spain</td><td>Madrid</td></tr>",
                            "<tr><td>78</td><td>Olivia Smith</td><td>olivia.smith@example.com</td><td>Female</td><td>Sweden</td><td>Stockholm</td></tr>",
                            "<tr><td>79</td><td>John Jones</td><td>john.jones@example.com</td><td>Female</td><td>Netherlands</td><td>Amsterdam</td></tr>",
                            "<tr><td>80</td><td>Laura Jones</td><td>laura.jones@example.com</td><td>Female</td><td>Netherlands</td><td>Amsterdam</td></tr>",
                            "<tr><td>81</td><td>Emily Wilson</td><td>emily.wilson@example.com</td><td>Male</td><td>Switzerland</td><td>Zurich</td></tr>",
                            "<tr><td>82</td><td>Laura Gonzalez</td><td>laura.gonzalez@example.com</td><td>Male</td><td>UK</td><td>London</td></tr>",
                            "<tr><td>83</td><td>Emily Jones</td><td>emily.jones@example.com</td><td>Male</td><td>Switzerland</td><td>Zurich</td></tr>",
                            "<tr><td>84</td><td>Michael Williams</td><td>michael.williams@example.com</td><td>Female</td><td>Spain</td><td>Madrid</td></tr>",
                            "<tr><td>85</td><td>Jane Hernandez</td><td>jane.hernandez@example.com</td><td>Male</td><td>Belgium</td><td>Brussels</td></tr>",
                            "<tr><td>86</td><td>James Hernandez</td><td>james.hernandez@example.com</td><td>Male</td><td>Austria</td><td>Vienna</td></tr>",
                            "<tr><td>87</td><td>Emma Hernandez</td><td>emma.hernandez@example.com</td><td>Male</td><td>Spain</td><td>Madrid</td></tr>",
                            "<tr><td>88</td><td>James Brown</td><td>james.brown@example.com</td><td>Male</td><td>France</td><td>Paris</td></tr>",
                            "<tr><td>89</td><td>Alex Rodriguez</td><td>alex.rodriguez@example.com</td><td>Male</td><td>Sweden</td><td>Stockholm</td></tr>",
                            "<tr><td>90</td><td>John Wilson</td><td>john.wilson@example.com</td><td>Male</td><td>UK</td><td>London</td></tr>",
                            "<tr><td>91</td><td>John Brown</td><td>john.brown@example.com</td><td>Female</td><td>Spain</td><td>Madrid</td></tr>",
                            "<tr><td>92</td><td>David Hernandez</td><td>david.hernandez@example.com</td><td>Female</td><td>UK</td><td>London</td></tr>",
                            "<tr><td>93</td><td>Jane Rodriguez</td><td>jane.rodriguez@example.com</td><td>Female</td><td>Spain</td><td>Madrid</td></tr>",
                            "<tr><td>94</td><td>Jane Anderson</td><td>jane.anderson@example.com</td><td>Male</td><td>Belgium</td><td>Brussels</td></tr>",
                            "<tr><td>95</td><td>James Jones</td><td>james.jones@example.com</td><td>Male</td><td>Germany</td><td>Berlin</td></tr>",
                            "<tr><td>96</td><td>Emily Gonzalez</td><td>emily.gonzalez@example.com</td><td>Female</td><td>Austria</td><td>Vienna</td></tr>",
                            "<tr><td>97</td><td>Emily Rodriguez</td><td>emily.rodriguez@example.com</td><td>Female</td><td>France</td><td>Paris</td></tr>",
                            "<tr><td>98</td><td>Chris Lopez</td><td>chris.lopez@example.com</td><td>Female</td><td>Austria</td><td>Vienna</td></tr>",
                            "<tr><td>99</td><td>Laura Hernandez</td><td>laura.hernandez@example.com</td><td>Male</td><td>Italy</td><td>Rome</td></tr>",
                            "<tr><td>100</td><td>Jane Brown</td><td>jane.brown@example.com</td><td>Female</td><td>Austria</td><td>Vienna</td></tr>",
                            "</table>"
                        ]
                    }
                }
            ],
            "execution_count": 13
        },
        {
            "cell_type": "markdown",
            "source": [
                "<span style=\"color: #6a9955;\"><b>-- SQL Query to categorize products based on their price</b></span>"
            ],
            "metadata": {
                "language": "sql",
                "azdata_cell_guid": "d328058c-9698-4ab9-a89b-8e9ebbc26d0a"
            },
            "attachments": {}
        },
        {
            "cell_type": "code",
            "source": [
                "SELECT * FROM products;"
            ],
            "metadata": {
                "language": "sql",
                "azdata_cell_guid": "0ac6065b-503f-4758-b67f-aa858bc07a06"
            },
            "outputs": [
                {
                    "output_type": "display_data",
                    "data": {
                        "text/html": "(20 row(s) affected)"
                    },
                    "metadata": {}
                },
                {
                    "output_type": "display_data",
                    "data": {
                        "text/html": "Total execution time: 00:00:01.007"
                    },
                    "metadata": {}
                },
                {
                    "output_type": "execute_result",
                    "metadata": {},
                    "execution_count": 14,
                    "data": {
                        "application/vnd.dataresource+json": {
                            "schema": {
                                "fields": [
                                    {
                                        "name": "ProductID"
                                    },
                                    {
                                        "name": "ProductName"
                                    },
                                    {
                                        "name": "Category"
                                    },
                                    {
                                        "name": "Price"
                                    }
                                ]
                            },
                            "data": [
                                {
                                    "ProductID": "1",
                                    "ProductName": "Running Shoes",
                                    "Category": "Sports",
                                    "Price": "223.75"
                                },
                                {
                                    "ProductID": "2",
                                    "ProductName": "Fitness Tracker",
                                    "Category": "Sports",
                                    "Price": "196.68"
                                },
                                {
                                    "ProductID": "3",
                                    "ProductName": "Yoga Mat",
                                    "Category": "Sports",
                                    "Price": "485.32"
                                },
                                {
                                    "ProductID": "4",
                                    "ProductName": "Dumbbells",
                                    "Category": "Sports",
                                    "Price": "26.21"
                                },
                                {
                                    "ProductID": "5",
                                    "ProductName": "Soccer Ball",
                                    "Category": "Sports",
                                    "Price": "41.26"
                                },
                                {
                                    "ProductID": "6",
                                    "ProductName": "Tennis Racket",
                                    "Category": "Sports",
                                    "Price": "36.07"
                                },
                                {
                                    "ProductID": "7",
                                    "ProductName": "Basketball",
                                    "Category": "Sports",
                                    "Price": "225.12"
                                },
                                {
                                    "ProductID": "8",
                                    "ProductName": "Football Helmet",
                                    "Category": "Sports",
                                    "Price": "44.75"
                                },
                                {
                                    "ProductID": "9",
                                    "ProductName": "Baseball Glove",
                                    "Category": "Sports",
                                    "Price": "327.36"
                                },
                                {
                                    "ProductID": "10",
                                    "ProductName": "Golf Clubs",
                                    "Category": "Sports",
                                    "Price": "81.59"
                                },
                                {
                                    "ProductID": "11",
                                    "ProductName": "Ski Boots",
                                    "Category": "Sports",
                                    "Price": "340.20"
                                },
                                {
                                    "ProductID": "12",
                                    "ProductName": "Ice Skates",
                                    "Category": "Sports",
                                    "Price": "37.56"
                                },
                                {
                                    "ProductID": "13",
                                    "ProductName": "Swim Goggles",
                                    "Category": "Sports",
                                    "Price": "145.97"
                                },
                                {
                                    "ProductID": "14",
                                    "ProductName": "Cycling Helmet",
                                    "Category": "Sports",
                                    "Price": "472.32"
                                },
                                {
                                    "ProductID": "15",
                                    "ProductName": "Climbing Rope",
                                    "Category": "Sports",
                                    "Price": "410.17"
                                },
                                {
                                    "ProductID": "16",
                                    "ProductName": "Kayak",
                                    "Category": "Sports",
                                    "Price": "259.40"
                                },
                                {
                                    "ProductID": "17",
                                    "ProductName": "Surfboard",
                                    "Category": "Sports",
                                    "Price": "275.43"
                                },
                                {
                                    "ProductID": "18",
                                    "ProductName": "Volleyball",
                                    "Category": "Sports",
                                    "Price": "42.80"
                                },
                                {
                                    "ProductID": "19",
                                    "ProductName": "Hockey Stick",
                                    "Category": "Sports",
                                    "Price": "173.83"
                                },
                                {
                                    "ProductID": "20",
                                    "ProductName": "Boxing Gloves",
                                    "Category": "Sports",
                                    "Price": "262.32"
                                }
                            ]
                        },
                        "text/html": [
                            "<table>",
                            "<tr><th>ProductID</th><th>ProductName</th><th>Category</th><th>Price</th></tr>",
                            "<tr><td>1</td><td>Running Shoes</td><td>Sports</td><td>223.75</td></tr>",
                            "<tr><td>2</td><td>Fitness Tracker</td><td>Sports</td><td>196.68</td></tr>",
                            "<tr><td>3</td><td>Yoga Mat</td><td>Sports</td><td>485.32</td></tr>",
                            "<tr><td>4</td><td>Dumbbells</td><td>Sports</td><td>26.21</td></tr>",
                            "<tr><td>5</td><td>Soccer Ball</td><td>Sports</td><td>41.26</td></tr>",
                            "<tr><td>6</td><td>Tennis Racket</td><td>Sports</td><td>36.07</td></tr>",
                            "<tr><td>7</td><td>Basketball</td><td>Sports</td><td>225.12</td></tr>",
                            "<tr><td>8</td><td>Football Helmet</td><td>Sports</td><td>44.75</td></tr>",
                            "<tr><td>9</td><td>Baseball Glove</td><td>Sports</td><td>327.36</td></tr>",
                            "<tr><td>10</td><td>Golf Clubs</td><td>Sports</td><td>81.59</td></tr>",
                            "<tr><td>11</td><td>Ski Boots</td><td>Sports</td><td>340.20</td></tr>",
                            "<tr><td>12</td><td>Ice Skates</td><td>Sports</td><td>37.56</td></tr>",
                            "<tr><td>13</td><td>Swim Goggles</td><td>Sports</td><td>145.97</td></tr>",
                            "<tr><td>14</td><td>Cycling Helmet</td><td>Sports</td><td>472.32</td></tr>",
                            "<tr><td>15</td><td>Climbing Rope</td><td>Sports</td><td>410.17</td></tr>",
                            "<tr><td>16</td><td>Kayak</td><td>Sports</td><td>259.40</td></tr>",
                            "<tr><td>17</td><td>Surfboard</td><td>Sports</td><td>275.43</td></tr>",
                            "<tr><td>18</td><td>Volleyball</td><td>Sports</td><td>42.80</td></tr>",
                            "<tr><td>19</td><td>Hockey Stick</td><td>Sports</td><td>173.83</td></tr>",
                            "<tr><td>20</td><td>Boxing Gloves</td><td>Sports</td><td>262.32</td></tr>",
                            "</table>"
                        ]
                    }
                }
            ],
            "execution_count": 14
        },
        {
            "cell_type": "code",
            "source": [
                "SELECT\n",
                "ProductID,\n",
                "ProductName,\n",
                "price,\n",
                "-- Category\n",
                "\n",
                "CASE \n",
                "WHEN Price < 50 THEN 'Low'\n",
                "WHEN Price BETWEEN 50 AND 200 THEN 'Medium'\n",
                "ELSE 'High'\n",
                "END AS PriceCategory\n",
                "\n",
                "FROM products;"
            ],
            "metadata": {
                "language": "sql",
                "azdata_cell_guid": "796aed77-a796-4688-97bc-cb58ac22b909"
            },
            "outputs": [
                {
                    "output_type": "display_data",
                    "data": {
                        "text/html": "(20 row(s) affected)"
                    },
                    "metadata": {}
                },
                {
                    "output_type": "display_data",
                    "data": {
                        "text/html": "Total execution time: 00:00:01.007"
                    },
                    "metadata": {}
                },
                {
                    "output_type": "execute_result",
                    "metadata": {},
                    "execution_count": 15,
                    "data": {
                        "application/vnd.dataresource+json": {
                            "schema": {
                                "fields": [
                                    {
                                        "name": "ProductID"
                                    },
                                    {
                                        "name": "ProductName"
                                    },
                                    {
                                        "name": "price"
                                    },
                                    {
                                        "name": "PriceCategory"
                                    }
                                ]
                            },
                            "data": [
                                {
                                    "ProductID": "1",
                                    "ProductName": "Running Shoes",
                                    "price": "223.75",
                                    "PriceCategory": "High"
                                },
                                {
                                    "ProductID": "2",
                                    "ProductName": "Fitness Tracker",
                                    "price": "196.68",
                                    "PriceCategory": "Medium"
                                },
                                {
                                    "ProductID": "3",
                                    "ProductName": "Yoga Mat",
                                    "price": "485.32",
                                    "PriceCategory": "High"
                                },
                                {
                                    "ProductID": "4",
                                    "ProductName": "Dumbbells",
                                    "price": "26.21",
                                    "PriceCategory": "Low"
                                },
                                {
                                    "ProductID": "5",
                                    "ProductName": "Soccer Ball",
                                    "price": "41.26",
                                    "PriceCategory": "Low"
                                },
                                {
                                    "ProductID": "6",
                                    "ProductName": "Tennis Racket",
                                    "price": "36.07",
                                    "PriceCategory": "Low"
                                },
                                {
                                    "ProductID": "7",
                                    "ProductName": "Basketball",
                                    "price": "225.12",
                                    "PriceCategory": "High"
                                },
                                {
                                    "ProductID": "8",
                                    "ProductName": "Football Helmet",
                                    "price": "44.75",
                                    "PriceCategory": "Low"
                                },
                                {
                                    "ProductID": "9",
                                    "ProductName": "Baseball Glove",
                                    "price": "327.36",
                                    "PriceCategory": "High"
                                },
                                {
                                    "ProductID": "10",
                                    "ProductName": "Golf Clubs",
                                    "price": "81.59",
                                    "PriceCategory": "Medium"
                                },
                                {
                                    "ProductID": "11",
                                    "ProductName": "Ski Boots",
                                    "price": "340.20",
                                    "PriceCategory": "High"
                                },
                                {
                                    "ProductID": "12",
                                    "ProductName": "Ice Skates",
                                    "price": "37.56",
                                    "PriceCategory": "Low"
                                },
                                {
                                    "ProductID": "13",
                                    "ProductName": "Swim Goggles",
                                    "price": "145.97",
                                    "PriceCategory": "Medium"
                                },
                                {
                                    "ProductID": "14",
                                    "ProductName": "Cycling Helmet",
                                    "price": "472.32",
                                    "PriceCategory": "High"
                                },
                                {
                                    "ProductID": "15",
                                    "ProductName": "Climbing Rope",
                                    "price": "410.17",
                                    "PriceCategory": "High"
                                },
                                {
                                    "ProductID": "16",
                                    "ProductName": "Kayak",
                                    "price": "259.40",
                                    "PriceCategory": "High"
                                },
                                {
                                    "ProductID": "17",
                                    "ProductName": "Surfboard",
                                    "price": "275.43",
                                    "PriceCategory": "High"
                                },
                                {
                                    "ProductID": "18",
                                    "ProductName": "Volleyball",
                                    "price": "42.80",
                                    "PriceCategory": "Low"
                                },
                                {
                                    "ProductID": "19",
                                    "ProductName": "Hockey Stick",
                                    "price": "173.83",
                                    "PriceCategory": "Medium"
                                },
                                {
                                    "ProductID": "20",
                                    "ProductName": "Boxing Gloves",
                                    "price": "262.32",
                                    "PriceCategory": "High"
                                }
                            ]
                        },
                        "text/html": [
                            "<table>",
                            "<tr><th>ProductID</th><th>ProductName</th><th>price</th><th>PriceCategory</th></tr>",
                            "<tr><td>1</td><td>Running Shoes</td><td>223.75</td><td>High</td></tr>",
                            "<tr><td>2</td><td>Fitness Tracker</td><td>196.68</td><td>Medium</td></tr>",
                            "<tr><td>3</td><td>Yoga Mat</td><td>485.32</td><td>High</td></tr>",
                            "<tr><td>4</td><td>Dumbbells</td><td>26.21</td><td>Low</td></tr>",
                            "<tr><td>5</td><td>Soccer Ball</td><td>41.26</td><td>Low</td></tr>",
                            "<tr><td>6</td><td>Tennis Racket</td><td>36.07</td><td>Low</td></tr>",
                            "<tr><td>7</td><td>Basketball</td><td>225.12</td><td>High</td></tr>",
                            "<tr><td>8</td><td>Football Helmet</td><td>44.75</td><td>Low</td></tr>",
                            "<tr><td>9</td><td>Baseball Glove</td><td>327.36</td><td>High</td></tr>",
                            "<tr><td>10</td><td>Golf Clubs</td><td>81.59</td><td>Medium</td></tr>",
                            "<tr><td>11</td><td>Ski Boots</td><td>340.20</td><td>High</td></tr>",
                            "<tr><td>12</td><td>Ice Skates</td><td>37.56</td><td>Low</td></tr>",
                            "<tr><td>13</td><td>Swim Goggles</td><td>145.97</td><td>Medium</td></tr>",
                            "<tr><td>14</td><td>Cycling Helmet</td><td>472.32</td><td>High</td></tr>",
                            "<tr><td>15</td><td>Climbing Rope</td><td>410.17</td><td>High</td></tr>",
                            "<tr><td>16</td><td>Kayak</td><td>259.40</td><td>High</td></tr>",
                            "<tr><td>17</td><td>Surfboard</td><td>275.43</td><td>High</td></tr>",
                            "<tr><td>18</td><td>Volleyball</td><td>42.80</td><td>Low</td></tr>",
                            "<tr><td>19</td><td>Hockey Stick</td><td>173.83</td><td>Medium</td></tr>",
                            "<tr><td>20</td><td>Boxing Gloves</td><td>262.32</td><td>High</td></tr>",
                            "</table>"
                        ]
                    }
                }
            ],
            "execution_count": 15
        },
        {
            "cell_type": "markdown",
            "source": [
                "<span style=\"color: #6a9955;\"><b>-- Query to clean whitespace issues in the ReviewText column</b></span>"
            ],
            "metadata": {
                "language": "sql",
                "azdata_cell_guid": "c88f0c73-56a5-4754-a49b-0be16b7f9184"
            },
            "attachments": {}
        },
        {
            "cell_type": "code",
            "source": [
                "SELECT * FROM customer_reviews;"
            ],
            "metadata": {
                "language": "sql",
                "azdata_cell_guid": "0aa2206f-1c45-46e4-8a6f-abdb23c18f7b"
            },
            "outputs": [
                {
                    "output_type": "display_data",
                    "data": {
                        "text/html": "(100 row(s) affected)"
                    },
                    "metadata": {}
                },
                {
                    "output_type": "display_data",
                    "data": {
                        "text/html": "Total execution time: 00:00:01.007"
                    },
                    "metadata": {}
                },
                {
                    "output_type": "execute_result",
                    "metadata": {},
                    "execution_count": 16,
                    "data": {
                        "application/vnd.dataresource+json": {
                            "schema": {
                                "fields": [
                                    {
                                        "name": "ReviewID"
                                    },
                                    {
                                        "name": "CustomerID"
                                    },
                                    {
                                        "name": "ProductID"
                                    },
                                    {
                                        "name": "ReviewDate"
                                    },
                                    {
                                        "name": "Rating"
                                    },
                                    {
                                        "name": "ReviewText"
                                    }
                                ]
                            },
                            "data": [
                                {
                                    "ReviewID": "1",
                                    "CustomerID": "77",
                                    "ProductID": "18",
                                    "ReviewDate": "2023-12-23",
                                    "Rating": "3",
                                    "ReviewText": "Average  experience,  nothing  special."
                                },
                                {
                                    "ReviewID": "2",
                                    "CustomerID": "80",
                                    "ProductID": "19",
                                    "ReviewDate": "2024-12-25",
                                    "Rating": "5",
                                    "ReviewText": "The  quality  is    top-notch."
                                },
                                {
                                    "ReviewID": "3",
                                    "CustomerID": "50",
                                    "ProductID": "13",
                                    "ReviewDate": "2025-01-26",
                                    "Rating": "4",
                                    "ReviewText": "Five  stars  for  the  quick  delivery."
                                },
                                {
                                    "ReviewID": "4",
                                    "CustomerID": "78",
                                    "ProductID": "15",
                                    "ReviewDate": "2025-04-21",
                                    "Rating": "3",
                                    "ReviewText": "Good  quality,  but  could  be  cheaper."
                                },
                                {
                                    "ReviewID": "5",
                                    "CustomerID": "64",
                                    "ProductID": "2",
                                    "ReviewDate": "2023-07-16",
                                    "Rating": "3",
                                    "ReviewText": "Average  experience,  nothing  special."
                                },
                                {
                                    "ReviewID": "6",
                                    "CustomerID": "81",
                                    "ProductID": "1",
                                    "ReviewDate": "2025-12-21",
                                    "Rating": "4",
                                    "ReviewText": "Customer  support  was  very  helpful."
                                },
                                {
                                    "ReviewID": "7",
                                    "CustomerID": "16",
                                    "ProductID": "1",
                                    "ReviewDate": "2024-01-29",
                                    "Rating": "3",
                                    "ReviewText": "Average  experience,  nothing  special."
                                },
                                {
                                    "ReviewID": "8",
                                    "CustomerID": "55",
                                    "ProductID": "8",
                                    "ReviewDate": "2024-08-15",
                                    "Rating": "5",
                                    "ReviewText": "The  quality    is  top-notch."
                                },
                                {
                                    "ReviewID": "9",
                                    "CustomerID": "3",
                                    "ProductID": "13",
                                    "ReviewDate": "2023-09-01",
                                    "Rating": "4",
                                    "ReviewText": "I  love  this  product,  will  buy  again!"
                                },
                                {
                                    "ReviewID": "10",
                                    "CustomerID": "78",
                                    "ProductID": "6",
                                    "ReviewDate": "2024-06-17",
                                    "Rating": "5",
                                    "ReviewText": "Excellent  product,  highly  recommend!"
                                },
                                {
                                    "ReviewID": "11",
                                    "CustomerID": "54",
                                    "ProductID": "9",
                                    "ReviewDate": "2023-07-17",
                                    "Rating": "4",
                                    "ReviewText": "Great  purchase,  very  satisfied."
                                },
                                {
                                    "ReviewID": "12",
                                    "CustomerID": "77",
                                    "ProductID": "2",
                                    "ReviewDate": "2025-01-13",
                                    "Rating": "2",
                                    "ReviewText": "Product  did    not  meet  my  expectations."
                                },
                                {
                                    "ReviewID": "13",
                                    "CustomerID": "93",
                                    "ProductID": "6",
                                    "ReviewDate": "2024-08-20",
                                    "Rating": "5",
                                    "ReviewText": "Great  purchase,  very  satisfied."
                                },
                                {
                                    "ReviewID": "14",
                                    "CustomerID": "23",
                                    "ProductID": "2",
                                    "ReviewDate": "2025-06-16",
                                    "Rating": "4",
                                    "ReviewText": "Good  quality,  but  could  be  cheaper."
                                },
                                {
                                    "ReviewID": "15",
                                    "CustomerID": "29",
                                    "ProductID": "11",
                                    "ReviewDate": "2023-01-27",
                                    "Rating": "5",
                                    "ReviewText": "Great  purchase,  very  satisfied."
                                },
                                {
                                    "ReviewID": "16",
                                    "CustomerID": "95",
                                    "ProductID": "17",
                                    "ReviewDate": "2023-01-06",
                                    "Rating": "5",
                                    "ReviewText": "Excellent  product,  highly  recommend!"
                                },
                                {
                                    "ReviewID": "17",
                                    "CustomerID": "88",
                                    "ProductID": "4",
                                    "ReviewDate": "2025-10-29",
                                    "Rating": "3",
                                    "ReviewText": "Not  worth  the  money."
                                },
                                {
                                    "ReviewID": "18",
                                    "CustomerID": "17",
                                    "ProductID": "16",
                                    "ReviewDate": "2024-11-23",
                                    "Rating": "4",
                                    "ReviewText": "Shipping  was  fast  and  the  item  was  well-packaged."
                                },
                                {
                                    "ReviewID": "19",
                                    "CustomerID": "34",
                                    "ProductID": "13",
                                    "ReviewDate": "2024-01-04",
                                    "Rating": "4",
                                    "ReviewText": "The  quality  is  top-notch."
                                },
                                {
                                    "ReviewID": "20",
                                    "CustomerID": "34",
                                    "ProductID": "6",
                                    "ReviewDate": "2023-04-29",
                                    "Rating": "1",
                                    "ReviewText": "I  had  a  bad  experience  with  this  product."
                                },
                                {
                                    "ReviewID": "21",
                                    "CustomerID": "22",
                                    "ProductID": "15",
                                    "ReviewDate": "2023-04-08",
                                    "Rating": "5",
                                    "ReviewText": "Amazing  value  for  the  price."
                                },
                                {
                                    "ReviewID": "22",
                                    "CustomerID": "52",
                                    "ProductID": "3",
                                    "ReviewDate": "2025-10-30",
                                    "Rating": "4",
                                    "ReviewText": "The  quality  is  top-notch."
                                },
                                {
                                    "ReviewID": "23",
                                    "CustomerID": "69",
                                    "ProductID": "18",
                                    "ReviewDate": "2023-07-02",
                                    "Rating": "5",
                                    "ReviewText": "Five  stars  for  the  quick  delivery."
                                },
                                {
                                    "ReviewID": "24",
                                    "CustomerID": "100",
                                    "ProductID": "4",
                                    "ReviewDate": "2025-07-18",
                                    "Rating": "3",
                                    "ReviewText": "I  love  this    product,  will  buy  again!"
                                },
                                {
                                    "ReviewID": "25",
                                    "CustomerID": "55",
                                    "ProductID": "20",
                                    "ReviewDate": "2024-12-19",
                                    "Rating": "4",
                                    "ReviewText": "Shipping  was  fast  and  the  item  was  well-packaged."
                                },
                                {
                                    "ReviewID": "26",
                                    "CustomerID": "76",
                                    "ProductID": "11",
                                    "ReviewDate": "2024-08-21",
                                    "Rating": "4",
                                    "ReviewText": "Five  stars  for  the  quick  delivery."
                                },
                                {
                                    "ReviewID": "27",
                                    "CustomerID": "56",
                                    "ProductID": "6",
                                    "ReviewDate": "2025-11-24",
                                    "Rating": "4",
                                    "ReviewText": "The  quality  is  top-notch."
                                },
                                {
                                    "ReviewID": "28",
                                    "CustomerID": "76",
                                    "ProductID": "8",
                                    "ReviewDate": "2025-05-27",
                                    "Rating": "5",
                                    "ReviewText": "Five  stars  for  the  quick  delivery."
                                },
                                {
                                    "ReviewID": "29",
                                    "CustomerID": "38",
                                    "ProductID": "13",
                                    "ReviewDate": "2023-05-31",
                                    "Rating": "4",
                                    "ReviewText": "I  love  this  product,  will  buy  again!"
                                },
                                {
                                    "ReviewID": "30",
                                    "CustomerID": "84",
                                    "ProductID": "6",
                                    "ReviewDate": "2024-03-18",
                                    "Rating": "4",
                                    "ReviewText": "Five  stars  for  the  quick  delivery."
                                },
                                {
                                    "ReviewID": "31",
                                    "CustomerID": "93",
                                    "ProductID": "4",
                                    "ReviewDate": "2025-08-25",
                                    "Rating": "3",
                                    "ReviewText": "Good  quality,  but  could  be    cheaper."
                                },
                                {
                                    "ReviewID": "32",
                                    "CustomerID": "91",
                                    "ProductID": "1",
                                    "ReviewDate": "2023-07-15",
                                    "Rating": "4",
                                    "ReviewText": "The  quality  is  top-notch."
                                },
                                {
                                    "ReviewID": "33",
                                    "CustomerID": "30",
                                    "ProductID": "2",
                                    "ReviewDate": "2023-02-21",
                                    "Rating": "4",
                                    "ReviewText": "Shipping  was  fast  and  the  item  was  well-packaged."
                                },
                                {
                                    "ReviewID": "34",
                                    "CustomerID": "81",
                                    "ProductID": "15",
                                    "ReviewDate": "2024-03-30",
                                    "Rating": "5",
                                    "ReviewText": "Excellent  product,  highly  recommend!"
                                },
                                {
                                    "ReviewID": "35",
                                    "CustomerID": "27",
                                    "ProductID": "12",
                                    "ReviewDate": "2024-03-13",
                                    "Rating": "3",
                                    "ReviewText": "Average  experience,  nothing  special."
                                },
                                {
                                    "ReviewID": "36",
                                    "CustomerID": "96",
                                    "ProductID": "9",
                                    "ReviewDate": "2025-12-05",
                                    "Rating": "3",
                                    "ReviewText": "Good  quality,  but  could  be  cheaper."
                                },
                                {
                                    "ReviewID": "37",
                                    "CustomerID": "38",
                                    "ProductID": "3",
                                    "ReviewDate": "2023-09-11",
                                    "Rating": "3",
                                    "ReviewText": "Average  experience,  nothing    special."
                                },
                                {
                                    "ReviewID": "38",
                                    "CustomerID": "45",
                                    "ProductID": "17",
                                    "ReviewDate": "2024-05-07",
                                    "Rating": "5",
                                    "ReviewText": "Great  purchase,  very  satisfied."
                                },
                                {
                                    "ReviewID": "39",
                                    "CustomerID": "54",
                                    "ProductID": "1",
                                    "ReviewDate": "2023-10-02",
                                    "Rating": "5",
                                    "ReviewText": "Customer  support  was  very  helpful."
                                },
                                {
                                    "ReviewID": "40",
                                    "CustomerID": "33",
                                    "ProductID": "2",
                                    "ReviewDate": "2025-01-03",
                                    "Rating": "5",
                                    "ReviewText": "Five  stars    for  the  quick  delivery."
                                },
                                {
                                    "ReviewID": "41",
                                    "CustomerID": "93",
                                    "ProductID": "17",
                                    "ReviewDate": "2025-05-15",
                                    "Rating": "3",
                                    "ReviewText": "Average  experience,  nothing  special."
                                },
                                {
                                    "ReviewID": "42",
                                    "CustomerID": "72",
                                    "ProductID": "15",
                                    "ReviewDate": "2023-03-21",
                                    "Rating": "5",
                                    "ReviewText": "Five  stars  for  the  quick  delivery."
                                },
                                {
                                    "ReviewID": "43",
                                    "CustomerID": "84",
                                    "ProductID": "15",
                                    "ReviewDate": "2025-02-02",
                                    "Rating": "4",
                                    "ReviewText": "Exceeded  my    expectations!"
                                },
                                {
                                    "ReviewID": "44",
                                    "CustomerID": "44",
                                    "ProductID": "17",
                                    "ReviewDate": "2023-04-20",
                                    "Rating": "5",
                                    "ReviewText": "Excellent  product,    highly  recommend!"
                                },
                                {
                                    "ReviewID": "45",
                                    "CustomerID": "11",
                                    "ProductID": "16",
                                    "ReviewDate": "2023-03-23",
                                    "Rating": "3",
                                    "ReviewText": "Not  worth  the  money."
                                },
                                {
                                    "ReviewID": "46",
                                    "CustomerID": "27",
                                    "ProductID": "5",
                                    "ReviewDate": "2025-05-07",
                                    "Rating": "4",
                                    "ReviewText": "Five  stars  for  the  quick  delivery."
                                },
                                {
                                    "ReviewID": "47",
                                    "CustomerID": "19",
                                    "ProductID": "13",
                                    "ReviewDate": "2024-06-01",
                                    "Rating": "4",
                                    "ReviewText": "Five  stars  for  the  quick  delivery."
                                },
                                {
                                    "ReviewID": "48",
                                    "CustomerID": "70",
                                    "ProductID": "17",
                                    "ReviewDate": "2023-10-08",
                                    "Rating": "4",
                                    "ReviewText": "Shipping  was  fast  and  the  item    was  well-packaged."
                                },
                                {
                                    "ReviewID": "49",
                                    "CustomerID": "3",
                                    "ProductID": "7",
                                    "ReviewDate": "2025-06-09",
                                    "Rating": "3",
                                    "ReviewText": "Good  quality,  but  could    be  cheaper."
                                },
                                {
                                    "ReviewID": "50",
                                    "CustomerID": "62",
                                    "ProductID": "4",
                                    "ReviewDate": "2023-01-07",
                                    "Rating": "1",
                                    "ReviewText": "The  product  stopped  working  after  a  month."
                                },
                                {
                                    "ReviewID": "51",
                                    "CustomerID": "49",
                                    "ProductID": "17",
                                    "ReviewDate": "2023-04-14",
                                    "Rating": "4",
                                    "ReviewText": "Five  stars  for  the  quick  delivery."
                                },
                                {
                                    "ReviewID": "52",
                                    "CustomerID": "75",
                                    "ProductID": "11",
                                    "ReviewDate": "2024-04-07",
                                    "Rating": "4",
                                    "ReviewText": "I  love  this  product,  will  buy  again!"
                                },
                                {
                                    "ReviewID": "53",
                                    "CustomerID": "73",
                                    "ProductID": "18",
                                    "ReviewDate": "2025-12-28",
                                    "Rating": "4",
                                    "ReviewText": "Five  stars  for    the  quick  delivery."
                                },
                                {
                                    "ReviewID": "54",
                                    "CustomerID": "33",
                                    "ProductID": "8",
                                    "ReviewDate": "2023-05-03",
                                    "Rating": "5",
                                    "ReviewText": "Excellent  product,  highly  recommend!"
                                },
                                {
                                    "ReviewID": "55",
                                    "CustomerID": "57",
                                    "ProductID": "9",
                                    "ReviewDate": "2025-11-03",
                                    "Rating": "3",
                                    "ReviewText": "Customer  support  was    very  helpful."
                                },
                                {
                                    "ReviewID": "56",
                                    "CustomerID": "15",
                                    "ProductID": "10",
                                    "ReviewDate": "2025-12-11",
                                    "Rating": "3",
                                    "ReviewText": "Shipping  was  fast  and  the  item  was  well-packaged."
                                },
                                {
                                    "ReviewID": "57",
                                    "CustomerID": "41",
                                    "ProductID": "10",
                                    "ReviewDate": "2024-04-06",
                                    "Rating": "2",
                                    "ReviewText": "Disappointed  with  the  performance."
                                },
                                {
                                    "ReviewID": "58",
                                    "CustomerID": "78",
                                    "ProductID": "7",
                                    "ReviewDate": "2024-07-16",
                                    "Rating": "2",
                                    "ReviewText": "The  product    is  okay,  but  the  instructions  were  unclear."
                                },
                                {
                                    "ReviewID": "59",
                                    "CustomerID": "98",
                                    "ProductID": "9",
                                    "ReviewDate": "2024-09-01",
                                    "Rating": "4",
                                    "ReviewText": "The  build  quality  is  impressive."
                                },
                                {
                                    "ReviewID": "60",
                                    "CustomerID": "11",
                                    "ProductID": "16",
                                    "ReviewDate": "2023-12-27",
                                    "Rating": "4",
                                    "ReviewText": "Great  purchase,  very  satisfied."
                                },
                                {
                                    "ReviewID": "61",
                                    "CustomerID": "50",
                                    "ProductID": "19",
                                    "ReviewDate": "2023-02-24",
                                    "Rating": "4",
                                    "ReviewText": "Great  purchase,    very  satisfied."
                                },
                                {
                                    "ReviewID": "62",
                                    "CustomerID": "35",
                                    "ProductID": "17",
                                    "ReviewDate": "2023-03-18",
                                    "Rating": "2",
                                    "ReviewText": "Average  experience,  nothing  special."
                                },
                                {
                                    "ReviewID": "63",
                                    "CustomerID": "93",
                                    "ProductID": "2",
                                    "ReviewDate": "2025-01-05",
                                    "Rating": "4",
                                    "ReviewText": "Five  stars  for  the  quick  delivery."
                                },
                                {
                                    "ReviewID": "64",
                                    "CustomerID": "86",
                                    "ProductID": "11",
                                    "ReviewDate": "2025-10-30",
                                    "Rating": "4",
                                    "ReviewText": "Customer  support  was  very  helpful."
                                },
                                {
                                    "ReviewID": "65",
                                    "CustomerID": "34",
                                    "ProductID": "3",
                                    "ReviewDate": "2024-06-15",
                                    "Rating": "1",
                                    "ReviewText": "Not  worth  the  money."
                                },
                                {
                                    "ReviewID": "66",
                                    "CustomerID": "94",
                                    "ProductID": "16",
                                    "ReviewDate": "2023-06-17",
                                    "Rating": "4",
                                    "ReviewText": "I  love  this  product,  will  buy    again!"
                                },
                                {
                                    "ReviewID": "67",
                                    "CustomerID": "67",
                                    "ProductID": "13",
                                    "ReviewDate": "2025-04-12",
                                    "Rating": "3",
                                    "ReviewText": "Average  experience,  nothing  special."
                                },
                                {
                                    "ReviewID": "68",
                                    "CustomerID": "38",
                                    "ProductID": "7",
                                    "ReviewDate": "2023-03-23",
                                    "Rating": "3",
                                    "ReviewText": "The  product  is  okay,  but  the  instructions  were  unclear."
                                },
                                {
                                    "ReviewID": "69",
                                    "CustomerID": "77",
                                    "ProductID": "12",
                                    "ReviewDate": "2025-08-03",
                                    "Rating": "3",
                                    "ReviewText": "Five  stars  for  the  quick  delivery."
                                },
                                {
                                    "ReviewID": "70",
                                    "CustomerID": "93",
                                    "ProductID": "5",
                                    "ReviewDate": "2024-01-30",
                                    "Rating": "4",
                                    "ReviewText": "Shipping  was  fast    and  the  item  was  well-packaged."
                                },
                                {
                                    "ReviewID": "71",
                                    "CustomerID": "24",
                                    "ProductID": "11",
                                    "ReviewDate": "2025-07-28",
                                    "Rating": "3",
                                    "ReviewText": "Good  quality,  but  could  be  cheaper."
                                },
                                {
                                    "ReviewID": "72",
                                    "CustomerID": "29",
                                    "ProductID": "4",
                                    "ReviewDate": "2023-05-29",
                                    "Rating": "5",
                                    "ReviewText": "The    build  quality  is  impressive."
                                },
                                {
                                    "ReviewID": "73",
                                    "CustomerID": "68",
                                    "ProductID": "19",
                                    "ReviewDate": "2025-05-05",
                                    "Rating": "5",
                                    "ReviewText": "I  love  this  product,  will  buy  again!"
                                },
                                {
                                    "ReviewID": "74",
                                    "CustomerID": "59",
                                    "ProductID": "9",
                                    "ReviewDate": "2023-05-16",
                                    "Rating": "3",
                                    "ReviewText": "The  product  is  okay,  but  the  instructions  were  unclear."
                                },
                                {
                                    "ReviewID": "75",
                                    "CustomerID": "22",
                                    "ProductID": "3",
                                    "ReviewDate": "2024-01-13",
                                    "Rating": "5",
                                    "ReviewText": "Shipping  was  fast  and  the  item  was  well-packaged."
                                },
                                {
                                    "ReviewID": "76",
                                    "CustomerID": "9",
                                    "ProductID": "10",
                                    "ReviewDate": "2025-08-31",
                                    "Rating": "4",
                                    "ReviewText": "Great  purchase,  very  satisfied."
                                },
                                {
                                    "ReviewID": "77",
                                    "CustomerID": "74",
                                    "ProductID": "5",
                                    "ReviewDate": "2023-03-15",
                                    "Rating": "4",
                                    "ReviewText": "Great  purchase,    very  satisfied."
                                },
                                {
                                    "ReviewID": "78",
                                    "CustomerID": "6",
                                    "ProductID": "10",
                                    "ReviewDate": "2024-12-09",
                                    "Rating": "5",
                                    "ReviewText": "Five  stars  for  the  quick  delivery."
                                },
                                {
                                    "ReviewID": "79",
                                    "CustomerID": "84",
                                    "ProductID": "15",
                                    "ReviewDate": "2024-05-28",
                                    "Rating": "2",
                                    "ReviewText": "The  product  arrived    late."
                                },
                                {
                                    "ReviewID": "80",
                                    "CustomerID": "98",
                                    "ProductID": "16",
                                    "ReviewDate": "2025-05-24",
                                    "Rating": "3",
                                    "ReviewText": "Not  worth  the  money."
                                },
                                {
                                    "ReviewID": "81",
                                    "CustomerID": "3",
                                    "ProductID": "19",
                                    "ReviewDate": "2024-09-04",
                                    "Rating": "4",
                                    "ReviewText": "Five  stars  for  the  quick  delivery."
                                },
                                {
                                    "ReviewID": "82",
                                    "CustomerID": "78",
                                    "ProductID": "13",
                                    "ReviewDate": "2023-05-02",
                                    "Rating": "4",
                                    "ReviewText": "Shipping    was  fast  and  the  item  was  well-packaged."
                                },
                                {
                                    "ReviewID": "83",
                                    "CustomerID": "32",
                                    "ProductID": "11",
                                    "ReviewDate": "2025-05-26",
                                    "Rating": "4",
                                    "ReviewText": "The  quality  is    top-notch."
                                },
                                {
                                    "ReviewID": "84",
                                    "CustomerID": "40",
                                    "ProductID": "20",
                                    "ReviewDate": "2023-07-17",
                                    "Rating": "4",
                                    "ReviewText": "Good  quality,  but  could  be  cheaper."
                                },
                                {
                                    "ReviewID": "85",
                                    "CustomerID": "17",
                                    "ProductID": "6",
                                    "ReviewDate": "2025-10-25",
                                    "Rating": "5",
                                    "ReviewText": "Five  stars  for  the  quick  delivery."
                                },
                                {
                                    "ReviewID": "86",
                                    "CustomerID": "78",
                                    "ProductID": "3",
                                    "ReviewDate": "2025-10-06",
                                    "Rating": "5",
                                    "ReviewText": "Excellent  product,  highly  recommend!"
                                },
                                {
                                    "ReviewID": "87",
                                    "CustomerID": "89",
                                    "ProductID": "17",
                                    "ReviewDate": "2023-05-26",
                                    "Rating": "3",
                                    "ReviewText": "Not    worth  the  money."
                                },
                                {
                                    "ReviewID": "88",
                                    "CustomerID": "93",
                                    "ProductID": "19",
                                    "ReviewDate": "2025-08-26",
                                    "Rating": "4",
                                    "ReviewText": "Exceeded  my  expectations!"
                                },
                                {
                                    "ReviewID": "89",
                                    "CustomerID": "60",
                                    "ProductID": "3",
                                    "ReviewDate": "2024-07-08",
                                    "Rating": "3",
                                    "ReviewText": "The  quality  is  top-notch."
                                },
                                {
                                    "ReviewID": "90",
                                    "CustomerID": "47",
                                    "ProductID": "17",
                                    "ReviewDate": "2025-11-12",
                                    "Rating": "4",
                                    "ReviewText": "Five  stars  for  the  quick  delivery."
                                },
                                {
                                    "ReviewID": "91",
                                    "CustomerID": "4",
                                    "ProductID": "16",
                                    "ReviewDate": "2025-09-27",
                                    "Rating": "3",
                                    "ReviewText": "Great  purchase,  very  satisfied."
                                },
                                {
                                    "ReviewID": "92",
                                    "CustomerID": "2",
                                    "ProductID": "16",
                                    "ReviewDate": "2023-11-21",
                                    "Rating": "3",
                                    "ReviewText": "Not  worth  the  money."
                                },
                                {
                                    "ReviewID": "93",
                                    "CustomerID": "60",
                                    "ProductID": "13",
                                    "ReviewDate": "2024-09-05",
                                    "Rating": "3",
                                    "ReviewText": "Not  worth  the  money."
                                },
                                {
                                    "ReviewID": "94",
                                    "CustomerID": "2",
                                    "ProductID": "16",
                                    "ReviewDate": "2025-03-14",
                                    "Rating": "4",
                                    "ReviewText": "The  quality  is  top-notch."
                                },
                                {
                                    "ReviewID": "95",
                                    "CustomerID": "16",
                                    "ProductID": "16",
                                    "ReviewDate": "2024-04-07",
                                    "Rating": "4",
                                    "ReviewText": "Shipping  was  fast  and  the  item  was  well-packaged."
                                },
                                {
                                    "ReviewID": "96",
                                    "CustomerID": "19",
                                    "ProductID": "13",
                                    "ReviewDate": "2023-09-02",
                                    "Rating": "3",
                                    "ReviewText": "Good  quality,  but  could  be  cheaper."
                                },
                                {
                                    "ReviewID": "97",
                                    "CustomerID": "64",
                                    "ProductID": "6",
                                    "ReviewDate": "2024-01-19",
                                    "Rating": "3",
                                    "ReviewText": "The  product  is  okay,  but  the  instructions  were  unclear."
                                },
                                {
                                    "ReviewID": "98",
                                    "CustomerID": "96",
                                    "ProductID": "3",
                                    "ReviewDate": "2025-11-20",
                                    "Rating": "5",
                                    "ReviewText": "Exceeded  my  expectations!"
                                },
                                {
                                    "ReviewID": "99",
                                    "CustomerID": "79",
                                    "ProductID": "16",
                                    "ReviewDate": "2025-01-29",
                                    "Rating": "2",
                                    "ReviewText": "Average  experience,  nothing  special."
                                },
                                {
                                    "ReviewID": "100",
                                    "CustomerID": "9",
                                    "ProductID": "2",
                                    "ReviewDate": "2025-06-20",
                                    "Rating": "3",
                                    "ReviewText": "Not  worth  the  money."
                                }
                            ]
                        },
                        "text/html": [
                            "<table>",
                            "<tr><th>ReviewID</th><th>CustomerID</th><th>ProductID</th><th>ReviewDate</th><th>Rating</th><th>ReviewText</th></tr>",
                            "<tr><td>1</td><td>77</td><td>18</td><td>2023-12-23</td><td>3</td><td>Average  experience,  nothing  special.</td></tr>",
                            "<tr><td>2</td><td>80</td><td>19</td><td>2024-12-25</td><td>5</td><td>The  quality  is    top-notch.</td></tr>",
                            "<tr><td>3</td><td>50</td><td>13</td><td>2025-01-26</td><td>4</td><td>Five  stars  for  the  quick  delivery.</td></tr>",
                            "<tr><td>4</td><td>78</td><td>15</td><td>2025-04-21</td><td>3</td><td>Good  quality,  but  could  be  cheaper.</td></tr>",
                            "<tr><td>5</td><td>64</td><td>2</td><td>2023-07-16</td><td>3</td><td>Average  experience,  nothing  special.</td></tr>",
                            "<tr><td>6</td><td>81</td><td>1</td><td>2025-12-21</td><td>4</td><td>Customer  support  was  very  helpful.</td></tr>",
                            "<tr><td>7</td><td>16</td><td>1</td><td>2024-01-29</td><td>3</td><td>Average  experience,  nothing  special.</td></tr>",
                            "<tr><td>8</td><td>55</td><td>8</td><td>2024-08-15</td><td>5</td><td>The  quality    is  top-notch.</td></tr>",
                            "<tr><td>9</td><td>3</td><td>13</td><td>2023-09-01</td><td>4</td><td>I  love  this  product,  will  buy  again!</td></tr>",
                            "<tr><td>10</td><td>78</td><td>6</td><td>2024-06-17</td><td>5</td><td>Excellent  product,  highly  recommend!</td></tr>",
                            "<tr><td>11</td><td>54</td><td>9</td><td>2023-07-17</td><td>4</td><td>Great  purchase,  very  satisfied.</td></tr>",
                            "<tr><td>12</td><td>77</td><td>2</td><td>2025-01-13</td><td>2</td><td>Product  did    not  meet  my  expectations.</td></tr>",
                            "<tr><td>13</td><td>93</td><td>6</td><td>2024-08-20</td><td>5</td><td>Great  purchase,  very  satisfied.</td></tr>",
                            "<tr><td>14</td><td>23</td><td>2</td><td>2025-06-16</td><td>4</td><td>Good  quality,  but  could  be  cheaper.</td></tr>",
                            "<tr><td>15</td><td>29</td><td>11</td><td>2023-01-27</td><td>5</td><td>Great  purchase,  very  satisfied.</td></tr>",
                            "<tr><td>16</td><td>95</td><td>17</td><td>2023-01-06</td><td>5</td><td>Excellent  product,  highly  recommend!</td></tr>",
                            "<tr><td>17</td><td>88</td><td>4</td><td>2025-10-29</td><td>3</td><td>Not  worth  the  money.</td></tr>",
                            "<tr><td>18</td><td>17</td><td>16</td><td>2024-11-23</td><td>4</td><td>Shipping  was  fast  and  the  item  was  well-packaged.</td></tr>",
                            "<tr><td>19</td><td>34</td><td>13</td><td>2024-01-04</td><td>4</td><td>The  quality  is  top-notch.</td></tr>",
                            "<tr><td>20</td><td>34</td><td>6</td><td>2023-04-29</td><td>1</td><td>I  had  a  bad  experience  with  this  product.</td></tr>",
                            "<tr><td>21</td><td>22</td><td>15</td><td>2023-04-08</td><td>5</td><td>Amazing  value  for  the  price.</td></tr>",
                            "<tr><td>22</td><td>52</td><td>3</td><td>2025-10-30</td><td>4</td><td>The  quality  is  top-notch.</td></tr>",
                            "<tr><td>23</td><td>69</td><td>18</td><td>2023-07-02</td><td>5</td><td>Five  stars  for  the  quick  delivery.</td></tr>",
                            "<tr><td>24</td><td>100</td><td>4</td><td>2025-07-18</td><td>3</td><td>I  love  this    product,  will  buy  again!</td></tr>",
                            "<tr><td>25</td><td>55</td><td>20</td><td>2024-12-19</td><td>4</td><td>Shipping  was  fast  and  the  item  was  well-packaged.</td></tr>",
                            "<tr><td>26</td><td>76</td><td>11</td><td>2024-08-21</td><td>4</td><td>Five  stars  for  the  quick  delivery.</td></tr>",
                            "<tr><td>27</td><td>56</td><td>6</td><td>2025-11-24</td><td>4</td><td>The  quality  is  top-notch.</td></tr>",
                            "<tr><td>28</td><td>76</td><td>8</td><td>2025-05-27</td><td>5</td><td>Five  stars  for  the  quick  delivery.</td></tr>",
                            "<tr><td>29</td><td>38</td><td>13</td><td>2023-05-31</td><td>4</td><td>I  love  this  product,  will  buy  again!</td></tr>",
                            "<tr><td>30</td><td>84</td><td>6</td><td>2024-03-18</td><td>4</td><td>Five  stars  for  the  quick  delivery.</td></tr>",
                            "<tr><td>31</td><td>93</td><td>4</td><td>2025-08-25</td><td>3</td><td>Good  quality,  but  could  be    cheaper.</td></tr>",
                            "<tr><td>32</td><td>91</td><td>1</td><td>2023-07-15</td><td>4</td><td>The  quality  is  top-notch.</td></tr>",
                            "<tr><td>33</td><td>30</td><td>2</td><td>2023-02-21</td><td>4</td><td>Shipping  was  fast  and  the  item  was  well-packaged.</td></tr>",
                            "<tr><td>34</td><td>81</td><td>15</td><td>2024-03-30</td><td>5</td><td>Excellent  product,  highly  recommend!</td></tr>",
                            "<tr><td>35</td><td>27</td><td>12</td><td>2024-03-13</td><td>3</td><td>Average  experience,  nothing  special.</td></tr>",
                            "<tr><td>36</td><td>96</td><td>9</td><td>2025-12-05</td><td>3</td><td>Good  quality,  but  could  be  cheaper.</td></tr>",
                            "<tr><td>37</td><td>38</td><td>3</td><td>2023-09-11</td><td>3</td><td>Average  experience,  nothing    special.</td></tr>",
                            "<tr><td>38</td><td>45</td><td>17</td><td>2024-05-07</td><td>5</td><td>Great  purchase,  very  satisfied.</td></tr>",
                            "<tr><td>39</td><td>54</td><td>1</td><td>2023-10-02</td><td>5</td><td>Customer  support  was  very  helpful.</td></tr>",
                            "<tr><td>40</td><td>33</td><td>2</td><td>2025-01-03</td><td>5</td><td>Five  stars    for  the  quick  delivery.</td></tr>",
                            "<tr><td>41</td><td>93</td><td>17</td><td>2025-05-15</td><td>3</td><td>Average  experience,  nothing  special.</td></tr>",
                            "<tr><td>42</td><td>72</td><td>15</td><td>2023-03-21</td><td>5</td><td>Five  stars  for  the  quick  delivery.</td></tr>",
                            "<tr><td>43</td><td>84</td><td>15</td><td>2025-02-02</td><td>4</td><td>Exceeded  my    expectations!</td></tr>",
                            "<tr><td>44</td><td>44</td><td>17</td><td>2023-04-20</td><td>5</td><td>Excellent  product,    highly  recommend!</td></tr>",
                            "<tr><td>45</td><td>11</td><td>16</td><td>2023-03-23</td><td>3</td><td>Not  worth  the  money.</td></tr>",
                            "<tr><td>46</td><td>27</td><td>5</td><td>2025-05-07</td><td>4</td><td>Five  stars  for  the  quick  delivery.</td></tr>",
                            "<tr><td>47</td><td>19</td><td>13</td><td>2024-06-01</td><td>4</td><td>Five  stars  for  the  quick  delivery.</td></tr>",
                            "<tr><td>48</td><td>70</td><td>17</td><td>2023-10-08</td><td>4</td><td>Shipping  was  fast  and  the  item    was  well-packaged.</td></tr>",
                            "<tr><td>49</td><td>3</td><td>7</td><td>2025-06-09</td><td>3</td><td>Good  quality,  but  could    be  cheaper.</td></tr>",
                            "<tr><td>50</td><td>62</td><td>4</td><td>2023-01-07</td><td>1</td><td>The  product  stopped  working  after  a  month.</td></tr>",
                            "<tr><td>51</td><td>49</td><td>17</td><td>2023-04-14</td><td>4</td><td>Five  stars  for  the  quick  delivery.</td></tr>",
                            "<tr><td>52</td><td>75</td><td>11</td><td>2024-04-07</td><td>4</td><td>I  love  this  product,  will  buy  again!</td></tr>",
                            "<tr><td>53</td><td>73</td><td>18</td><td>2025-12-28</td><td>4</td><td>Five  stars  for    the  quick  delivery.</td></tr>",
                            "<tr><td>54</td><td>33</td><td>8</td><td>2023-05-03</td><td>5</td><td>Excellent  product,  highly  recommend!</td></tr>",
                            "<tr><td>55</td><td>57</td><td>9</td><td>2025-11-03</td><td>3</td><td>Customer  support  was    very  helpful.</td></tr>",
                            "<tr><td>56</td><td>15</td><td>10</td><td>2025-12-11</td><td>3</td><td>Shipping  was  fast  and  the  item  was  well-packaged.</td></tr>",
                            "<tr><td>57</td><td>41</td><td>10</td><td>2024-04-06</td><td>2</td><td>Disappointed  with  the  performance.</td></tr>",
                            "<tr><td>58</td><td>78</td><td>7</td><td>2024-07-16</td><td>2</td><td>The  product    is  okay,  but  the  instructions  were  unclear.</td></tr>",
                            "<tr><td>59</td><td>98</td><td>9</td><td>2024-09-01</td><td>4</td><td>The  build  quality  is  impressive.</td></tr>",
                            "<tr><td>60</td><td>11</td><td>16</td><td>2023-12-27</td><td>4</td><td>Great  purchase,  very  satisfied.</td></tr>",
                            "<tr><td>61</td><td>50</td><td>19</td><td>2023-02-24</td><td>4</td><td>Great  purchase,    very  satisfied.</td></tr>",
                            "<tr><td>62</td><td>35</td><td>17</td><td>2023-03-18</td><td>2</td><td>Average  experience,  nothing  special.</td></tr>",
                            "<tr><td>63</td><td>93</td><td>2</td><td>2025-01-05</td><td>4</td><td>Five  stars  for  the  quick  delivery.</td></tr>",
                            "<tr><td>64</td><td>86</td><td>11</td><td>2025-10-30</td><td>4</td><td>Customer  support  was  very  helpful.</td></tr>",
                            "<tr><td>65</td><td>34</td><td>3</td><td>2024-06-15</td><td>1</td><td>Not  worth  the  money.</td></tr>",
                            "<tr><td>66</td><td>94</td><td>16</td><td>2023-06-17</td><td>4</td><td>I  love  this  product,  will  buy    again!</td></tr>",
                            "<tr><td>67</td><td>67</td><td>13</td><td>2025-04-12</td><td>3</td><td>Average  experience,  nothing  special.</td></tr>",
                            "<tr><td>68</td><td>38</td><td>7</td><td>2023-03-23</td><td>3</td><td>The  product  is  okay,  but  the  instructions  were  unclear.</td></tr>",
                            "<tr><td>69</td><td>77</td><td>12</td><td>2025-08-03</td><td>3</td><td>Five  stars  for  the  quick  delivery.</td></tr>",
                            "<tr><td>70</td><td>93</td><td>5</td><td>2024-01-30</td><td>4</td><td>Shipping  was  fast    and  the  item  was  well-packaged.</td></tr>",
                            "<tr><td>71</td><td>24</td><td>11</td><td>2025-07-28</td><td>3</td><td>Good  quality,  but  could  be  cheaper.</td></tr>",
                            "<tr><td>72</td><td>29</td><td>4</td><td>2023-05-29</td><td>5</td><td>The    build  quality  is  impressive.</td></tr>",
                            "<tr><td>73</td><td>68</td><td>19</td><td>2025-05-05</td><td>5</td><td>I  love  this  product,  will  buy  again!</td></tr>",
                            "<tr><td>74</td><td>59</td><td>9</td><td>2023-05-16</td><td>3</td><td>The  product  is  okay,  but  the  instructions  were  unclear.</td></tr>",
                            "<tr><td>75</td><td>22</td><td>3</td><td>2024-01-13</td><td>5</td><td>Shipping  was  fast  and  the  item  was  well-packaged.</td></tr>",
                            "<tr><td>76</td><td>9</td><td>10</td><td>2025-08-31</td><td>4</td><td>Great  purchase,  very  satisfied.</td></tr>",
                            "<tr><td>77</td><td>74</td><td>5</td><td>2023-03-15</td><td>4</td><td>Great  purchase,    very  satisfied.</td></tr>",
                            "<tr><td>78</td><td>6</td><td>10</td><td>2024-12-09</td><td>5</td><td>Five  stars  for  the  quick  delivery.</td></tr>",
                            "<tr><td>79</td><td>84</td><td>15</td><td>2024-05-28</td><td>2</td><td>The  product  arrived    late.</td></tr>",
                            "<tr><td>80</td><td>98</td><td>16</td><td>2025-05-24</td><td>3</td><td>Not  worth  the  money.</td></tr>",
                            "<tr><td>81</td><td>3</td><td>19</td><td>2024-09-04</td><td>4</td><td>Five  stars  for  the  quick  delivery.</td></tr>",
                            "<tr><td>82</td><td>78</td><td>13</td><td>2023-05-02</td><td>4</td><td>Shipping    was  fast  and  the  item  was  well-packaged.</td></tr>",
                            "<tr><td>83</td><td>32</td><td>11</td><td>2025-05-26</td><td>4</td><td>The  quality  is    top-notch.</td></tr>",
                            "<tr><td>84</td><td>40</td><td>20</td><td>2023-07-17</td><td>4</td><td>Good  quality,  but  could  be  cheaper.</td></tr>",
                            "<tr><td>85</td><td>17</td><td>6</td><td>2025-10-25</td><td>5</td><td>Five  stars  for  the  quick  delivery.</td></tr>",
                            "<tr><td>86</td><td>78</td><td>3</td><td>2025-10-06</td><td>5</td><td>Excellent  product,  highly  recommend!</td></tr>",
                            "<tr><td>87</td><td>89</td><td>17</td><td>2023-05-26</td><td>3</td><td>Not    worth  the  money.</td></tr>",
                            "<tr><td>88</td><td>93</td><td>19</td><td>2025-08-26</td><td>4</td><td>Exceeded  my  expectations!</td></tr>",
                            "<tr><td>89</td><td>60</td><td>3</td><td>2024-07-08</td><td>3</td><td>The  quality  is  top-notch.</td></tr>",
                            "<tr><td>90</td><td>47</td><td>17</td><td>2025-11-12</td><td>4</td><td>Five  stars  for  the  quick  delivery.</td></tr>",
                            "<tr><td>91</td><td>4</td><td>16</td><td>2025-09-27</td><td>3</td><td>Great  purchase,  very  satisfied.</td></tr>",
                            "<tr><td>92</td><td>2</td><td>16</td><td>2023-11-21</td><td>3</td><td>Not  worth  the  money.</td></tr>",
                            "<tr><td>93</td><td>60</td><td>13</td><td>2024-09-05</td><td>3</td><td>Not  worth  the  money.</td></tr>",
                            "<tr><td>94</td><td>2</td><td>16</td><td>2025-03-14</td><td>4</td><td>The  quality  is  top-notch.</td></tr>",
                            "<tr><td>95</td><td>16</td><td>16</td><td>2024-04-07</td><td>4</td><td>Shipping  was  fast  and  the  item  was  well-packaged.</td></tr>",
                            "<tr><td>96</td><td>19</td><td>13</td><td>2023-09-02</td><td>3</td><td>Good  quality,  but  could  be  cheaper.</td></tr>",
                            "<tr><td>97</td><td>64</td><td>6</td><td>2024-01-19</td><td>3</td><td>The  product  is  okay,  but  the  instructions  were  unclear.</td></tr>",
                            "<tr><td>98</td><td>96</td><td>3</td><td>2025-11-20</td><td>5</td><td>Exceeded  my  expectations!</td></tr>",
                            "<tr><td>99</td><td>79</td><td>16</td><td>2025-01-29</td><td>2</td><td>Average  experience,  nothing  special.</td></tr>",
                            "<tr><td>100</td><td>9</td><td>2</td><td>2025-06-20</td><td>3</td><td>Not  worth  the  money.</td></tr>",
                            "</table>"
                        ]
                    }
                }
            ],
            "execution_count": 16
        },
        {
            "cell_type": "code",
            "source": [
                "SELECT\n",
                "ReviewID,\n",
                "CustomerID,\n",
                "ProductID,\n",
                "ReviewDate,\n",
                "Rating,\n",
                "REPLACE(ReviewText, '  ', ' ') AS ReviewText\n",
                "FROM\n",
                "customer_reviews;"
            ],
            "metadata": {
                "language": "sql",
                "azdata_cell_guid": "07d47166-485e-41e0-aef5-a57ce6c8acb1"
            },
            "outputs": [
                {
                    "output_type": "display_data",
                    "data": {
                        "text/html": "(100 row(s) affected)"
                    },
                    "metadata": {}
                },
                {
                    "output_type": "display_data",
                    "data": {
                        "text/html": "Total execution time: 00:00:01.003"
                    },
                    "metadata": {}
                },
                {
                    "output_type": "execute_result",
                    "metadata": {},
                    "execution_count": 17,
                    "data": {
                        "application/vnd.dataresource+json": {
                            "schema": {
                                "fields": [
                                    {
                                        "name": "ReviewID"
                                    },
                                    {
                                        "name": "CustomerID"
                                    },
                                    {
                                        "name": "ProductID"
                                    },
                                    {
                                        "name": "ReviewDate"
                                    },
                                    {
                                        "name": "Rating"
                                    },
                                    {
                                        "name": "ReviewText"
                                    }
                                ]
                            },
                            "data": [
                                {
                                    "ReviewID": "1",
                                    "CustomerID": "77",
                                    "ProductID": "18",
                                    "ReviewDate": "2023-12-23",
                                    "Rating": "3",
                                    "ReviewText": "Average experience, nothing special."
                                },
                                {
                                    "ReviewID": "2",
                                    "CustomerID": "80",
                                    "ProductID": "19",
                                    "ReviewDate": "2024-12-25",
                                    "Rating": "5",
                                    "ReviewText": "The quality is  top-notch."
                                },
                                {
                                    "ReviewID": "3",
                                    "CustomerID": "50",
                                    "ProductID": "13",
                                    "ReviewDate": "2025-01-26",
                                    "Rating": "4",
                                    "ReviewText": "Five stars for the quick delivery."
                                },
                                {
                                    "ReviewID": "4",
                                    "CustomerID": "78",
                                    "ProductID": "15",
                                    "ReviewDate": "2025-04-21",
                                    "Rating": "3",
                                    "ReviewText": "Good quality, but could be cheaper."
                                },
                                {
                                    "ReviewID": "5",
                                    "CustomerID": "64",
                                    "ProductID": "2",
                                    "ReviewDate": "2023-07-16",
                                    "Rating": "3",
                                    "ReviewText": "Average experience, nothing special."
                                },
                                {
                                    "ReviewID": "6",
                                    "CustomerID": "81",
                                    "ProductID": "1",
                                    "ReviewDate": "2025-12-21",
                                    "Rating": "4",
                                    "ReviewText": "Customer support was very helpful."
                                },
                                {
                                    "ReviewID": "7",
                                    "CustomerID": "16",
                                    "ProductID": "1",
                                    "ReviewDate": "2024-01-29",
                                    "Rating": "3",
                                    "ReviewText": "Average experience, nothing special."
                                },
                                {
                                    "ReviewID": "8",
                                    "CustomerID": "55",
                                    "ProductID": "8",
                                    "ReviewDate": "2024-08-15",
                                    "Rating": "5",
                                    "ReviewText": "The quality  is top-notch."
                                },
                                {
                                    "ReviewID": "9",
                                    "CustomerID": "3",
                                    "ProductID": "13",
                                    "ReviewDate": "2023-09-01",
                                    "Rating": "4",
                                    "ReviewText": "I love this product, will buy again!"
                                },
                                {
                                    "ReviewID": "10",
                                    "CustomerID": "78",
                                    "ProductID": "6",
                                    "ReviewDate": "2024-06-17",
                                    "Rating": "5",
                                    "ReviewText": "Excellent product, highly recommend!"
                                },
                                {
                                    "ReviewID": "11",
                                    "CustomerID": "54",
                                    "ProductID": "9",
                                    "ReviewDate": "2023-07-17",
                                    "Rating": "4",
                                    "ReviewText": "Great purchase, very satisfied."
                                },
                                {
                                    "ReviewID": "12",
                                    "CustomerID": "77",
                                    "ProductID": "2",
                                    "ReviewDate": "2025-01-13",
                                    "Rating": "2",
                                    "ReviewText": "Product did  not meet my expectations."
                                },
                                {
                                    "ReviewID": "13",
                                    "CustomerID": "93",
                                    "ProductID": "6",
                                    "ReviewDate": "2024-08-20",
                                    "Rating": "5",
                                    "ReviewText": "Great purchase, very satisfied."
                                },
                                {
                                    "ReviewID": "14",
                                    "CustomerID": "23",
                                    "ProductID": "2",
                                    "ReviewDate": "2025-06-16",
                                    "Rating": "4",
                                    "ReviewText": "Good quality, but could be cheaper."
                                },
                                {
                                    "ReviewID": "15",
                                    "CustomerID": "29",
                                    "ProductID": "11",
                                    "ReviewDate": "2023-01-27",
                                    "Rating": "5",
                                    "ReviewText": "Great purchase, very satisfied."
                                },
                                {
                                    "ReviewID": "16",
                                    "CustomerID": "95",
                                    "ProductID": "17",
                                    "ReviewDate": "2023-01-06",
                                    "Rating": "5",
                                    "ReviewText": "Excellent product, highly recommend!"
                                },
                                {
                                    "ReviewID": "17",
                                    "CustomerID": "88",
                                    "ProductID": "4",
                                    "ReviewDate": "2025-10-29",
                                    "Rating": "3",
                                    "ReviewText": "Not worth the money."
                                },
                                {
                                    "ReviewID": "18",
                                    "CustomerID": "17",
                                    "ProductID": "16",
                                    "ReviewDate": "2024-11-23",
                                    "Rating": "4",
                                    "ReviewText": "Shipping was fast and the item was well-packaged."
                                },
                                {
                                    "ReviewID": "19",
                                    "CustomerID": "34",
                                    "ProductID": "13",
                                    "ReviewDate": "2024-01-04",
                                    "Rating": "4",
                                    "ReviewText": "The quality is top-notch."
                                },
                                {
                                    "ReviewID": "20",
                                    "CustomerID": "34",
                                    "ProductID": "6",
                                    "ReviewDate": "2023-04-29",
                                    "Rating": "1",
                                    "ReviewText": "I had a bad experience with this product."
                                },
                                {
                                    "ReviewID": "21",
                                    "CustomerID": "22",
                                    "ProductID": "15",
                                    "ReviewDate": "2023-04-08",
                                    "Rating": "5",
                                    "ReviewText": "Amazing value for the price."
                                },
                                {
                                    "ReviewID": "22",
                                    "CustomerID": "52",
                                    "ProductID": "3",
                                    "ReviewDate": "2025-10-30",
                                    "Rating": "4",
                                    "ReviewText": "The quality is top-notch."
                                },
                                {
                                    "ReviewID": "23",
                                    "CustomerID": "69",
                                    "ProductID": "18",
                                    "ReviewDate": "2023-07-02",
                                    "Rating": "5",
                                    "ReviewText": "Five stars for the quick delivery."
                                },
                                {
                                    "ReviewID": "24",
                                    "CustomerID": "100",
                                    "ProductID": "4",
                                    "ReviewDate": "2025-07-18",
                                    "Rating": "3",
                                    "ReviewText": "I love this  product, will buy again!"
                                },
                                {
                                    "ReviewID": "25",
                                    "CustomerID": "55",
                                    "ProductID": "20",
                                    "ReviewDate": "2024-12-19",
                                    "Rating": "4",
                                    "ReviewText": "Shipping was fast and the item was well-packaged."
                                },
                                {
                                    "ReviewID": "26",
                                    "CustomerID": "76",
                                    "ProductID": "11",
                                    "ReviewDate": "2024-08-21",
                                    "Rating": "4",
                                    "ReviewText": "Five stars for the quick delivery."
                                },
                                {
                                    "ReviewID": "27",
                                    "CustomerID": "56",
                                    "ProductID": "6",
                                    "ReviewDate": "2025-11-24",
                                    "Rating": "4",
                                    "ReviewText": "The quality is top-notch."
                                },
                                {
                                    "ReviewID": "28",
                                    "CustomerID": "76",
                                    "ProductID": "8",
                                    "ReviewDate": "2025-05-27",
                                    "Rating": "5",
                                    "ReviewText": "Five stars for the quick delivery."
                                },
                                {
                                    "ReviewID": "29",
                                    "CustomerID": "38",
                                    "ProductID": "13",
                                    "ReviewDate": "2023-05-31",
                                    "Rating": "4",
                                    "ReviewText": "I love this product, will buy again!"
                                },
                                {
                                    "ReviewID": "30",
                                    "CustomerID": "84",
                                    "ProductID": "6",
                                    "ReviewDate": "2024-03-18",
                                    "Rating": "4",
                                    "ReviewText": "Five stars for the quick delivery."
                                },
                                {
                                    "ReviewID": "31",
                                    "CustomerID": "93",
                                    "ProductID": "4",
                                    "ReviewDate": "2025-08-25",
                                    "Rating": "3",
                                    "ReviewText": "Good quality, but could be  cheaper."
                                },
                                {
                                    "ReviewID": "32",
                                    "CustomerID": "91",
                                    "ProductID": "1",
                                    "ReviewDate": "2023-07-15",
                                    "Rating": "4",
                                    "ReviewText": "The quality is top-notch."
                                },
                                {
                                    "ReviewID": "33",
                                    "CustomerID": "30",
                                    "ProductID": "2",
                                    "ReviewDate": "2023-02-21",
                                    "Rating": "4",
                                    "ReviewText": "Shipping was fast and the item was well-packaged."
                                },
                                {
                                    "ReviewID": "34",
                                    "CustomerID": "81",
                                    "ProductID": "15",
                                    "ReviewDate": "2024-03-30",
                                    "Rating": "5",
                                    "ReviewText": "Excellent product, highly recommend!"
                                },
                                {
                                    "ReviewID": "35",
                                    "CustomerID": "27",
                                    "ProductID": "12",
                                    "ReviewDate": "2024-03-13",
                                    "Rating": "3",
                                    "ReviewText": "Average experience, nothing special."
                                },
                                {
                                    "ReviewID": "36",
                                    "CustomerID": "96",
                                    "ProductID": "9",
                                    "ReviewDate": "2025-12-05",
                                    "Rating": "3",
                                    "ReviewText": "Good quality, but could be cheaper."
                                },
                                {
                                    "ReviewID": "37",
                                    "CustomerID": "38",
                                    "ProductID": "3",
                                    "ReviewDate": "2023-09-11",
                                    "Rating": "3",
                                    "ReviewText": "Average experience, nothing  special."
                                },
                                {
                                    "ReviewID": "38",
                                    "CustomerID": "45",
                                    "ProductID": "17",
                                    "ReviewDate": "2024-05-07",
                                    "Rating": "5",
                                    "ReviewText": "Great purchase, very satisfied."
                                },
                                {
                                    "ReviewID": "39",
                                    "CustomerID": "54",
                                    "ProductID": "1",
                                    "ReviewDate": "2023-10-02",
                                    "Rating": "5",
                                    "ReviewText": "Customer support was very helpful."
                                },
                                {
                                    "ReviewID": "40",
                                    "CustomerID": "33",
                                    "ProductID": "2",
                                    "ReviewDate": "2025-01-03",
                                    "Rating": "5",
                                    "ReviewText": "Five stars  for the quick delivery."
                                },
                                {
                                    "ReviewID": "41",
                                    "CustomerID": "93",
                                    "ProductID": "17",
                                    "ReviewDate": "2025-05-15",
                                    "Rating": "3",
                                    "ReviewText": "Average experience, nothing special."
                                },
                                {
                                    "ReviewID": "42",
                                    "CustomerID": "72",
                                    "ProductID": "15",
                                    "ReviewDate": "2023-03-21",
                                    "Rating": "5",
                                    "ReviewText": "Five stars for the quick delivery."
                                },
                                {
                                    "ReviewID": "43",
                                    "CustomerID": "84",
                                    "ProductID": "15",
                                    "ReviewDate": "2025-02-02",
                                    "Rating": "4",
                                    "ReviewText": "Exceeded my  expectations!"
                                },
                                {
                                    "ReviewID": "44",
                                    "CustomerID": "44",
                                    "ProductID": "17",
                                    "ReviewDate": "2023-04-20",
                                    "Rating": "5",
                                    "ReviewText": "Excellent product,  highly recommend!"
                                },
                                {
                                    "ReviewID": "45",
                                    "CustomerID": "11",
                                    "ProductID": "16",
                                    "ReviewDate": "2023-03-23",
                                    "Rating": "3",
                                    "ReviewText": "Not worth the money."
                                },
                                {
                                    "ReviewID": "46",
                                    "CustomerID": "27",
                                    "ProductID": "5",
                                    "ReviewDate": "2025-05-07",
                                    "Rating": "4",
                                    "ReviewText": "Five stars for the quick delivery."
                                },
                                {
                                    "ReviewID": "47",
                                    "CustomerID": "19",
                                    "ProductID": "13",
                                    "ReviewDate": "2024-06-01",
                                    "Rating": "4",
                                    "ReviewText": "Five stars for the quick delivery."
                                },
                                {
                                    "ReviewID": "48",
                                    "CustomerID": "70",
                                    "ProductID": "17",
                                    "ReviewDate": "2023-10-08",
                                    "Rating": "4",
                                    "ReviewText": "Shipping was fast and the item  was well-packaged."
                                },
                                {
                                    "ReviewID": "49",
                                    "CustomerID": "3",
                                    "ProductID": "7",
                                    "ReviewDate": "2025-06-09",
                                    "Rating": "3",
                                    "ReviewText": "Good quality, but could  be cheaper."
                                },
                                {
                                    "ReviewID": "50",
                                    "CustomerID": "62",
                                    "ProductID": "4",
                                    "ReviewDate": "2023-01-07",
                                    "Rating": "1",
                                    "ReviewText": "The product stopped working after a month."
                                },
                                {
                                    "ReviewID": "51",
                                    "CustomerID": "49",
                                    "ProductID": "17",
                                    "ReviewDate": "2023-04-14",
                                    "Rating": "4",
                                    "ReviewText": "Five stars for the quick delivery."
                                },
                                {
                                    "ReviewID": "52",
                                    "CustomerID": "75",
                                    "ProductID": "11",
                                    "ReviewDate": "2024-04-07",
                                    "Rating": "4",
                                    "ReviewText": "I love this product, will buy again!"
                                },
                                {
                                    "ReviewID": "53",
                                    "CustomerID": "73",
                                    "ProductID": "18",
                                    "ReviewDate": "2025-12-28",
                                    "Rating": "4",
                                    "ReviewText": "Five stars for  the quick delivery."
                                },
                                {
                                    "ReviewID": "54",
                                    "CustomerID": "33",
                                    "ProductID": "8",
                                    "ReviewDate": "2023-05-03",
                                    "Rating": "5",
                                    "ReviewText": "Excellent product, highly recommend!"
                                },
                                {
                                    "ReviewID": "55",
                                    "CustomerID": "57",
                                    "ProductID": "9",
                                    "ReviewDate": "2025-11-03",
                                    "Rating": "3",
                                    "ReviewText": "Customer support was  very helpful."
                                },
                                {
                                    "ReviewID": "56",
                                    "CustomerID": "15",
                                    "ProductID": "10",
                                    "ReviewDate": "2025-12-11",
                                    "Rating": "3",
                                    "ReviewText": "Shipping was fast and the item was well-packaged."
                                },
                                {
                                    "ReviewID": "57",
                                    "CustomerID": "41",
                                    "ProductID": "10",
                                    "ReviewDate": "2024-04-06",
                                    "Rating": "2",
                                    "ReviewText": "Disappointed with the performance."
                                },
                                {
                                    "ReviewID": "58",
                                    "CustomerID": "78",
                                    "ProductID": "7",
                                    "ReviewDate": "2024-07-16",
                                    "Rating": "2",
                                    "ReviewText": "The product  is okay, but the instructions were unclear."
                                },
                                {
                                    "ReviewID": "59",
                                    "CustomerID": "98",
                                    "ProductID": "9",
                                    "ReviewDate": "2024-09-01",
                                    "Rating": "4",
                                    "ReviewText": "The build quality is impressive."
                                },
                                {
                                    "ReviewID": "60",
                                    "CustomerID": "11",
                                    "ProductID": "16",
                                    "ReviewDate": "2023-12-27",
                                    "Rating": "4",
                                    "ReviewText": "Great purchase, very satisfied."
                                },
                                {
                                    "ReviewID": "61",
                                    "CustomerID": "50",
                                    "ProductID": "19",
                                    "ReviewDate": "2023-02-24",
                                    "Rating": "4",
                                    "ReviewText": "Great purchase,  very satisfied."
                                },
                                {
                                    "ReviewID": "62",
                                    "CustomerID": "35",
                                    "ProductID": "17",
                                    "ReviewDate": "2023-03-18",
                                    "Rating": "2",
                                    "ReviewText": "Average experience, nothing special."
                                },
                                {
                                    "ReviewID": "63",
                                    "CustomerID": "93",
                                    "ProductID": "2",
                                    "ReviewDate": "2025-01-05",
                                    "Rating": "4",
                                    "ReviewText": "Five stars for the quick delivery."
                                },
                                {
                                    "ReviewID": "64",
                                    "CustomerID": "86",
                                    "ProductID": "11",
                                    "ReviewDate": "2025-10-30",
                                    "Rating": "4",
                                    "ReviewText": "Customer support was very helpful."
                                },
                                {
                                    "ReviewID": "65",
                                    "CustomerID": "34",
                                    "ProductID": "3",
                                    "ReviewDate": "2024-06-15",
                                    "Rating": "1",
                                    "ReviewText": "Not worth the money."
                                },
                                {
                                    "ReviewID": "66",
                                    "CustomerID": "94",
                                    "ProductID": "16",
                                    "ReviewDate": "2023-06-17",
                                    "Rating": "4",
                                    "ReviewText": "I love this product, will buy  again!"
                                },
                                {
                                    "ReviewID": "67",
                                    "CustomerID": "67",
                                    "ProductID": "13",
                                    "ReviewDate": "2025-04-12",
                                    "Rating": "3",
                                    "ReviewText": "Average experience, nothing special."
                                },
                                {
                                    "ReviewID": "68",
                                    "CustomerID": "38",
                                    "ProductID": "7",
                                    "ReviewDate": "2023-03-23",
                                    "Rating": "3",
                                    "ReviewText": "The product is okay, but the instructions were unclear."
                                },
                                {
                                    "ReviewID": "69",
                                    "CustomerID": "77",
                                    "ProductID": "12",
                                    "ReviewDate": "2025-08-03",
                                    "Rating": "3",
                                    "ReviewText": "Five stars for the quick delivery."
                                },
                                {
                                    "ReviewID": "70",
                                    "CustomerID": "93",
                                    "ProductID": "5",
                                    "ReviewDate": "2024-01-30",
                                    "Rating": "4",
                                    "ReviewText": "Shipping was fast  and the item was well-packaged."
                                },
                                {
                                    "ReviewID": "71",
                                    "CustomerID": "24",
                                    "ProductID": "11",
                                    "ReviewDate": "2025-07-28",
                                    "Rating": "3",
                                    "ReviewText": "Good quality, but could be cheaper."
                                },
                                {
                                    "ReviewID": "72",
                                    "CustomerID": "29",
                                    "ProductID": "4",
                                    "ReviewDate": "2023-05-29",
                                    "Rating": "5",
                                    "ReviewText": "The  build quality is impressive."
                                },
                                {
                                    "ReviewID": "73",
                                    "CustomerID": "68",
                                    "ProductID": "19",
                                    "ReviewDate": "2025-05-05",
                                    "Rating": "5",
                                    "ReviewText": "I love this product, will buy again!"
                                },
                                {
                                    "ReviewID": "74",
                                    "CustomerID": "59",
                                    "ProductID": "9",
                                    "ReviewDate": "2023-05-16",
                                    "Rating": "3",
                                    "ReviewText": "The product is okay, but the instructions were unclear."
                                },
                                {
                                    "ReviewID": "75",
                                    "CustomerID": "22",
                                    "ProductID": "3",
                                    "ReviewDate": "2024-01-13",
                                    "Rating": "5",
                                    "ReviewText": "Shipping was fast and the item was well-packaged."
                                },
                                {
                                    "ReviewID": "76",
                                    "CustomerID": "9",
                                    "ProductID": "10",
                                    "ReviewDate": "2025-08-31",
                                    "Rating": "4",
                                    "ReviewText": "Great purchase, very satisfied."
                                },
                                {
                                    "ReviewID": "77",
                                    "CustomerID": "74",
                                    "ProductID": "5",
                                    "ReviewDate": "2023-03-15",
                                    "Rating": "4",
                                    "ReviewText": "Great purchase,  very satisfied."
                                },
                                {
                                    "ReviewID": "78",
                                    "CustomerID": "6",
                                    "ProductID": "10",
                                    "ReviewDate": "2024-12-09",
                                    "Rating": "5",
                                    "ReviewText": "Five stars for the quick delivery."
                                },
                                {
                                    "ReviewID": "79",
                                    "CustomerID": "84",
                                    "ProductID": "15",
                                    "ReviewDate": "2024-05-28",
                                    "Rating": "2",
                                    "ReviewText": "The product arrived  late."
                                },
                                {
                                    "ReviewID": "80",
                                    "CustomerID": "98",
                                    "ProductID": "16",
                                    "ReviewDate": "2025-05-24",
                                    "Rating": "3",
                                    "ReviewText": "Not worth the money."
                                },
                                {
                                    "ReviewID": "81",
                                    "CustomerID": "3",
                                    "ProductID": "19",
                                    "ReviewDate": "2024-09-04",
                                    "Rating": "4",
                                    "ReviewText": "Five stars for the quick delivery."
                                },
                                {
                                    "ReviewID": "82",
                                    "CustomerID": "78",
                                    "ProductID": "13",
                                    "ReviewDate": "2023-05-02",
                                    "Rating": "4",
                                    "ReviewText": "Shipping  was fast and the item was well-packaged."
                                },
                                {
                                    "ReviewID": "83",
                                    "CustomerID": "32",
                                    "ProductID": "11",
                                    "ReviewDate": "2025-05-26",
                                    "Rating": "4",
                                    "ReviewText": "The quality is  top-notch."
                                },
                                {
                                    "ReviewID": "84",
                                    "CustomerID": "40",
                                    "ProductID": "20",
                                    "ReviewDate": "2023-07-17",
                                    "Rating": "4",
                                    "ReviewText": "Good quality, but could be cheaper."
                                },
                                {
                                    "ReviewID": "85",
                                    "CustomerID": "17",
                                    "ProductID": "6",
                                    "ReviewDate": "2025-10-25",
                                    "Rating": "5",
                                    "ReviewText": "Five stars for the quick delivery."
                                },
                                {
                                    "ReviewID": "86",
                                    "CustomerID": "78",
                                    "ProductID": "3",
                                    "ReviewDate": "2025-10-06",
                                    "Rating": "5",
                                    "ReviewText": "Excellent product, highly recommend!"
                                },
                                {
                                    "ReviewID": "87",
                                    "CustomerID": "89",
                                    "ProductID": "17",
                                    "ReviewDate": "2023-05-26",
                                    "Rating": "3",
                                    "ReviewText": "Not  worth the money."
                                },
                                {
                                    "ReviewID": "88",
                                    "CustomerID": "93",
                                    "ProductID": "19",
                                    "ReviewDate": "2025-08-26",
                                    "Rating": "4",
                                    "ReviewText": "Exceeded my expectations!"
                                },
                                {
                                    "ReviewID": "89",
                                    "CustomerID": "60",
                                    "ProductID": "3",
                                    "ReviewDate": "2024-07-08",
                                    "Rating": "3",
                                    "ReviewText": "The quality is top-notch."
                                },
                                {
                                    "ReviewID": "90",
                                    "CustomerID": "47",
                                    "ProductID": "17",
                                    "ReviewDate": "2025-11-12",
                                    "Rating": "4",
                                    "ReviewText": "Five stars for the quick delivery."
                                },
                                {
                                    "ReviewID": "91",
                                    "CustomerID": "4",
                                    "ProductID": "16",
                                    "ReviewDate": "2025-09-27",
                                    "Rating": "3",
                                    "ReviewText": "Great purchase, very satisfied."
                                },
                                {
                                    "ReviewID": "92",
                                    "CustomerID": "2",
                                    "ProductID": "16",
                                    "ReviewDate": "2023-11-21",
                                    "Rating": "3",
                                    "ReviewText": "Not worth the money."
                                },
                                {
                                    "ReviewID": "93",
                                    "CustomerID": "60",
                                    "ProductID": "13",
                                    "ReviewDate": "2024-09-05",
                                    "Rating": "3",
                                    "ReviewText": "Not worth the money."
                                },
                                {
                                    "ReviewID": "94",
                                    "CustomerID": "2",
                                    "ProductID": "16",
                                    "ReviewDate": "2025-03-14",
                                    "Rating": "4",
                                    "ReviewText": "The quality is top-notch."
                                },
                                {
                                    "ReviewID": "95",
                                    "CustomerID": "16",
                                    "ProductID": "16",
                                    "ReviewDate": "2024-04-07",
                                    "Rating": "4",
                                    "ReviewText": "Shipping was fast and the item was well-packaged."
                                },
                                {
                                    "ReviewID": "96",
                                    "CustomerID": "19",
                                    "ProductID": "13",
                                    "ReviewDate": "2023-09-02",
                                    "Rating": "3",
                                    "ReviewText": "Good quality, but could be cheaper."
                                },
                                {
                                    "ReviewID": "97",
                                    "CustomerID": "64",
                                    "ProductID": "6",
                                    "ReviewDate": "2024-01-19",
                                    "Rating": "3",
                                    "ReviewText": "The product is okay, but the instructions were unclear."
                                },
                                {
                                    "ReviewID": "98",
                                    "CustomerID": "96",
                                    "ProductID": "3",
                                    "ReviewDate": "2025-11-20",
                                    "Rating": "5",
                                    "ReviewText": "Exceeded my expectations!"
                                },
                                {
                                    "ReviewID": "99",
                                    "CustomerID": "79",
                                    "ProductID": "16",
                                    "ReviewDate": "2025-01-29",
                                    "Rating": "2",
                                    "ReviewText": "Average experience, nothing special."
                                },
                                {
                                    "ReviewID": "100",
                                    "CustomerID": "9",
                                    "ProductID": "2",
                                    "ReviewDate": "2025-06-20",
                                    "Rating": "3",
                                    "ReviewText": "Not worth the money."
                                }
                            ]
                        },
                        "text/html": [
                            "<table>",
                            "<tr><th>ReviewID</th><th>CustomerID</th><th>ProductID</th><th>ReviewDate</th><th>Rating</th><th>ReviewText</th></tr>",
                            "<tr><td>1</td><td>77</td><td>18</td><td>2023-12-23</td><td>3</td><td>Average experience, nothing special.</td></tr>",
                            "<tr><td>2</td><td>80</td><td>19</td><td>2024-12-25</td><td>5</td><td>The quality is  top-notch.</td></tr>",
                            "<tr><td>3</td><td>50</td><td>13</td><td>2025-01-26</td><td>4</td><td>Five stars for the quick delivery.</td></tr>",
                            "<tr><td>4</td><td>78</td><td>15</td><td>2025-04-21</td><td>3</td><td>Good quality, but could be cheaper.</td></tr>",
                            "<tr><td>5</td><td>64</td><td>2</td><td>2023-07-16</td><td>3</td><td>Average experience, nothing special.</td></tr>",
                            "<tr><td>6</td><td>81</td><td>1</td><td>2025-12-21</td><td>4</td><td>Customer support was very helpful.</td></tr>",
                            "<tr><td>7</td><td>16</td><td>1</td><td>2024-01-29</td><td>3</td><td>Average experience, nothing special.</td></tr>",
                            "<tr><td>8</td><td>55</td><td>8</td><td>2024-08-15</td><td>5</td><td>The quality  is top-notch.</td></tr>",
                            "<tr><td>9</td><td>3</td><td>13</td><td>2023-09-01</td><td>4</td><td>I love this product, will buy again!</td></tr>",
                            "<tr><td>10</td><td>78</td><td>6</td><td>2024-06-17</td><td>5</td><td>Excellent product, highly recommend!</td></tr>",
                            "<tr><td>11</td><td>54</td><td>9</td><td>2023-07-17</td><td>4</td><td>Great purchase, very satisfied.</td></tr>",
                            "<tr><td>12</td><td>77</td><td>2</td><td>2025-01-13</td><td>2</td><td>Product did  not meet my expectations.</td></tr>",
                            "<tr><td>13</td><td>93</td><td>6</td><td>2024-08-20</td><td>5</td><td>Great purchase, very satisfied.</td></tr>",
                            "<tr><td>14</td><td>23</td><td>2</td><td>2025-06-16</td><td>4</td><td>Good quality, but could be cheaper.</td></tr>",
                            "<tr><td>15</td><td>29</td><td>11</td><td>2023-01-27</td><td>5</td><td>Great purchase, very satisfied.</td></tr>",
                            "<tr><td>16</td><td>95</td><td>17</td><td>2023-01-06</td><td>5</td><td>Excellent product, highly recommend!</td></tr>",
                            "<tr><td>17</td><td>88</td><td>4</td><td>2025-10-29</td><td>3</td><td>Not worth the money.</td></tr>",
                            "<tr><td>18</td><td>17</td><td>16</td><td>2024-11-23</td><td>4</td><td>Shipping was fast and the item was well-packaged.</td></tr>",
                            "<tr><td>19</td><td>34</td><td>13</td><td>2024-01-04</td><td>4</td><td>The quality is top-notch.</td></tr>",
                            "<tr><td>20</td><td>34</td><td>6</td><td>2023-04-29</td><td>1</td><td>I had a bad experience with this product.</td></tr>",
                            "<tr><td>21</td><td>22</td><td>15</td><td>2023-04-08</td><td>5</td><td>Amazing value for the price.</td></tr>",
                            "<tr><td>22</td><td>52</td><td>3</td><td>2025-10-30</td><td>4</td><td>The quality is top-notch.</td></tr>",
                            "<tr><td>23</td><td>69</td><td>18</td><td>2023-07-02</td><td>5</td><td>Five stars for the quick delivery.</td></tr>",
                            "<tr><td>24</td><td>100</td><td>4</td><td>2025-07-18</td><td>3</td><td>I love this  product, will buy again!</td></tr>",
                            "<tr><td>25</td><td>55</td><td>20</td><td>2024-12-19</td><td>4</td><td>Shipping was fast and the item was well-packaged.</td></tr>",
                            "<tr><td>26</td><td>76</td><td>11</td><td>2024-08-21</td><td>4</td><td>Five stars for the quick delivery.</td></tr>",
                            "<tr><td>27</td><td>56</td><td>6</td><td>2025-11-24</td><td>4</td><td>The quality is top-notch.</td></tr>",
                            "<tr><td>28</td><td>76</td><td>8</td><td>2025-05-27</td><td>5</td><td>Five stars for the quick delivery.</td></tr>",
                            "<tr><td>29</td><td>38</td><td>13</td><td>2023-05-31</td><td>4</td><td>I love this product, will buy again!</td></tr>",
                            "<tr><td>30</td><td>84</td><td>6</td><td>2024-03-18</td><td>4</td><td>Five stars for the quick delivery.</td></tr>",
                            "<tr><td>31</td><td>93</td><td>4</td><td>2025-08-25</td><td>3</td><td>Good quality, but could be  cheaper.</td></tr>",
                            "<tr><td>32</td><td>91</td><td>1</td><td>2023-07-15</td><td>4</td><td>The quality is top-notch.</td></tr>",
                            "<tr><td>33</td><td>30</td><td>2</td><td>2023-02-21</td><td>4</td><td>Shipping was fast and the item was well-packaged.</td></tr>",
                            "<tr><td>34</td><td>81</td><td>15</td><td>2024-03-30</td><td>5</td><td>Excellent product, highly recommend!</td></tr>",
                            "<tr><td>35</td><td>27</td><td>12</td><td>2024-03-13</td><td>3</td><td>Average experience, nothing special.</td></tr>",
                            "<tr><td>36</td><td>96</td><td>9</td><td>2025-12-05</td><td>3</td><td>Good quality, but could be cheaper.</td></tr>",
                            "<tr><td>37</td><td>38</td><td>3</td><td>2023-09-11</td><td>3</td><td>Average experience, nothing  special.</td></tr>",
                            "<tr><td>38</td><td>45</td><td>17</td><td>2024-05-07</td><td>5</td><td>Great purchase, very satisfied.</td></tr>",
                            "<tr><td>39</td><td>54</td><td>1</td><td>2023-10-02</td><td>5</td><td>Customer support was very helpful.</td></tr>",
                            "<tr><td>40</td><td>33</td><td>2</td><td>2025-01-03</td><td>5</td><td>Five stars  for the quick delivery.</td></tr>",
                            "<tr><td>41</td><td>93</td><td>17</td><td>2025-05-15</td><td>3</td><td>Average experience, nothing special.</td></tr>",
                            "<tr><td>42</td><td>72</td><td>15</td><td>2023-03-21</td><td>5</td><td>Five stars for the quick delivery.</td></tr>",
                            "<tr><td>43</td><td>84</td><td>15</td><td>2025-02-02</td><td>4</td><td>Exceeded my  expectations!</td></tr>",
                            "<tr><td>44</td><td>44</td><td>17</td><td>2023-04-20</td><td>5</td><td>Excellent product,  highly recommend!</td></tr>",
                            "<tr><td>45</td><td>11</td><td>16</td><td>2023-03-23</td><td>3</td><td>Not worth the money.</td></tr>",
                            "<tr><td>46</td><td>27</td><td>5</td><td>2025-05-07</td><td>4</td><td>Five stars for the quick delivery.</td></tr>",
                            "<tr><td>47</td><td>19</td><td>13</td><td>2024-06-01</td><td>4</td><td>Five stars for the quick delivery.</td></tr>",
                            "<tr><td>48</td><td>70</td><td>17</td><td>2023-10-08</td><td>4</td><td>Shipping was fast and the item  was well-packaged.</td></tr>",
                            "<tr><td>49</td><td>3</td><td>7</td><td>2025-06-09</td><td>3</td><td>Good quality, but could  be cheaper.</td></tr>",
                            "<tr><td>50</td><td>62</td><td>4</td><td>2023-01-07</td><td>1</td><td>The product stopped working after a month.</td></tr>",
                            "<tr><td>51</td><td>49</td><td>17</td><td>2023-04-14</td><td>4</td><td>Five stars for the quick delivery.</td></tr>",
                            "<tr><td>52</td><td>75</td><td>11</td><td>2024-04-07</td><td>4</td><td>I love this product, will buy again!</td></tr>",
                            "<tr><td>53</td><td>73</td><td>18</td><td>2025-12-28</td><td>4</td><td>Five stars for  the quick delivery.</td></tr>",
                            "<tr><td>54</td><td>33</td><td>8</td><td>2023-05-03</td><td>5</td><td>Excellent product, highly recommend!</td></tr>",
                            "<tr><td>55</td><td>57</td><td>9</td><td>2025-11-03</td><td>3</td><td>Customer support was  very helpful.</td></tr>",
                            "<tr><td>56</td><td>15</td><td>10</td><td>2025-12-11</td><td>3</td><td>Shipping was fast and the item was well-packaged.</td></tr>",
                            "<tr><td>57</td><td>41</td><td>10</td><td>2024-04-06</td><td>2</td><td>Disappointed with the performance.</td></tr>",
                            "<tr><td>58</td><td>78</td><td>7</td><td>2024-07-16</td><td>2</td><td>The product  is okay, but the instructions were unclear.</td></tr>",
                            "<tr><td>59</td><td>98</td><td>9</td><td>2024-09-01</td><td>4</td><td>The build quality is impressive.</td></tr>",
                            "<tr><td>60</td><td>11</td><td>16</td><td>2023-12-27</td><td>4</td><td>Great purchase, very satisfied.</td></tr>",
                            "<tr><td>61</td><td>50</td><td>19</td><td>2023-02-24</td><td>4</td><td>Great purchase,  very satisfied.</td></tr>",
                            "<tr><td>62</td><td>35</td><td>17</td><td>2023-03-18</td><td>2</td><td>Average experience, nothing special.</td></tr>",
                            "<tr><td>63</td><td>93</td><td>2</td><td>2025-01-05</td><td>4</td><td>Five stars for the quick delivery.</td></tr>",
                            "<tr><td>64</td><td>86</td><td>11</td><td>2025-10-30</td><td>4</td><td>Customer support was very helpful.</td></tr>",
                            "<tr><td>65</td><td>34</td><td>3</td><td>2024-06-15</td><td>1</td><td>Not worth the money.</td></tr>",
                            "<tr><td>66</td><td>94</td><td>16</td><td>2023-06-17</td><td>4</td><td>I love this product, will buy  again!</td></tr>",
                            "<tr><td>67</td><td>67</td><td>13</td><td>2025-04-12</td><td>3</td><td>Average experience, nothing special.</td></tr>",
                            "<tr><td>68</td><td>38</td><td>7</td><td>2023-03-23</td><td>3</td><td>The product is okay, but the instructions were unclear.</td></tr>",
                            "<tr><td>69</td><td>77</td><td>12</td><td>2025-08-03</td><td>3</td><td>Five stars for the quick delivery.</td></tr>",
                            "<tr><td>70</td><td>93</td><td>5</td><td>2024-01-30</td><td>4</td><td>Shipping was fast  and the item was well-packaged.</td></tr>",
                            "<tr><td>71</td><td>24</td><td>11</td><td>2025-07-28</td><td>3</td><td>Good quality, but could be cheaper.</td></tr>",
                            "<tr><td>72</td><td>29</td><td>4</td><td>2023-05-29</td><td>5</td><td>The  build quality is impressive.</td></tr>",
                            "<tr><td>73</td><td>68</td><td>19</td><td>2025-05-05</td><td>5</td><td>I love this product, will buy again!</td></tr>",
                            "<tr><td>74</td><td>59</td><td>9</td><td>2023-05-16</td><td>3</td><td>The product is okay, but the instructions were unclear.</td></tr>",
                            "<tr><td>75</td><td>22</td><td>3</td><td>2024-01-13</td><td>5</td><td>Shipping was fast and the item was well-packaged.</td></tr>",
                            "<tr><td>76</td><td>9</td><td>10</td><td>2025-08-31</td><td>4</td><td>Great purchase, very satisfied.</td></tr>",
                            "<tr><td>77</td><td>74</td><td>5</td><td>2023-03-15</td><td>4</td><td>Great purchase,  very satisfied.</td></tr>",
                            "<tr><td>78</td><td>6</td><td>10</td><td>2024-12-09</td><td>5</td><td>Five stars for the quick delivery.</td></tr>",
                            "<tr><td>79</td><td>84</td><td>15</td><td>2024-05-28</td><td>2</td><td>The product arrived  late.</td></tr>",
                            "<tr><td>80</td><td>98</td><td>16</td><td>2025-05-24</td><td>3</td><td>Not worth the money.</td></tr>",
                            "<tr><td>81</td><td>3</td><td>19</td><td>2024-09-04</td><td>4</td><td>Five stars for the quick delivery.</td></tr>",
                            "<tr><td>82</td><td>78</td><td>13</td><td>2023-05-02</td><td>4</td><td>Shipping  was fast and the item was well-packaged.</td></tr>",
                            "<tr><td>83</td><td>32</td><td>11</td><td>2025-05-26</td><td>4</td><td>The quality is  top-notch.</td></tr>",
                            "<tr><td>84</td><td>40</td><td>20</td><td>2023-07-17</td><td>4</td><td>Good quality, but could be cheaper.</td></tr>",
                            "<tr><td>85</td><td>17</td><td>6</td><td>2025-10-25</td><td>5</td><td>Five stars for the quick delivery.</td></tr>",
                            "<tr><td>86</td><td>78</td><td>3</td><td>2025-10-06</td><td>5</td><td>Excellent product, highly recommend!</td></tr>",
                            "<tr><td>87</td><td>89</td><td>17</td><td>2023-05-26</td><td>3</td><td>Not  worth the money.</td></tr>",
                            "<tr><td>88</td><td>93</td><td>19</td><td>2025-08-26</td><td>4</td><td>Exceeded my expectations!</td></tr>",
                            "<tr><td>89</td><td>60</td><td>3</td><td>2024-07-08</td><td>3</td><td>The quality is top-notch.</td></tr>",
                            "<tr><td>90</td><td>47</td><td>17</td><td>2025-11-12</td><td>4</td><td>Five stars for the quick delivery.</td></tr>",
                            "<tr><td>91</td><td>4</td><td>16</td><td>2025-09-27</td><td>3</td><td>Great purchase, very satisfied.</td></tr>",
                            "<tr><td>92</td><td>2</td><td>16</td><td>2023-11-21</td><td>3</td><td>Not worth the money.</td></tr>",
                            "<tr><td>93</td><td>60</td><td>13</td><td>2024-09-05</td><td>3</td><td>Not worth the money.</td></tr>",
                            "<tr><td>94</td><td>2</td><td>16</td><td>2025-03-14</td><td>4</td><td>The quality is top-notch.</td></tr>",
                            "<tr><td>95</td><td>16</td><td>16</td><td>2024-04-07</td><td>4</td><td>Shipping was fast and the item was well-packaged.</td></tr>",
                            "<tr><td>96</td><td>19</td><td>13</td><td>2023-09-02</td><td>3</td><td>Good quality, but could be cheaper.</td></tr>",
                            "<tr><td>97</td><td>64</td><td>6</td><td>2024-01-19</td><td>3</td><td>The product is okay, but the instructions were unclear.</td></tr>",
                            "<tr><td>98</td><td>96</td><td>3</td><td>2025-11-20</td><td>5</td><td>Exceeded my expectations!</td></tr>",
                            "<tr><td>99</td><td>79</td><td>16</td><td>2025-01-29</td><td>2</td><td>Average experience, nothing special.</td></tr>",
                            "<tr><td>100</td><td>9</td><td>2</td><td>2025-06-20</td><td>3</td><td>Not worth the money.</td></tr>",
                            "</table>"
                        ]
                    }
                }
            ],
            "execution_count": 17
        },
        {
            "cell_type": "markdown",
            "source": [
                "<span style=\"color: #6a9955;\"><b>-- Query to clean and normalize the engagement_data table</b></span>"
            ],
            "metadata": {
                "language": "sql",
                "azdata_cell_guid": "b220bcce-fe55-418b-880f-f8ee15825bea"
            },
            "attachments": {}
        },
        {
            "cell_type": "code",
            "source": [
                "SELECT * FROM engagement_data;"
            ],
            "metadata": {
                "language": "sql",
                "azdata_cell_guid": "f114bcd2-3c10-4fa0-854e-784e3c1fd8c3"
            },
            "outputs": [
                {
                    "output_type": "display_data",
                    "data": {
                        "text/html": "(100 row(s) affected)"
                    },
                    "metadata": {}
                },
                {
                    "output_type": "display_data",
                    "data": {
                        "text/html": "Total execution time: 00:00:01.007"
                    },
                    "metadata": {}
                },
                {
                    "output_type": "execute_result",
                    "metadata": {},
                    "execution_count": 18,
                    "data": {
                        "application/vnd.dataresource+json": {
                            "schema": {
                                "fields": [
                                    {
                                        "name": "EngagementID"
                                    },
                                    {
                                        "name": "ContentID"
                                    },
                                    {
                                        "name": "ContentType"
                                    },
                                    {
                                        "name": "Likes"
                                    },
                                    {
                                        "name": "EngagementDate"
                                    },
                                    {
                                        "name": "CampaignID"
                                    },
                                    {
                                        "name": "ProductID"
                                    },
                                    {
                                        "name": "ViewsClicksCombined"
                                    }
                                ]
                            },
                            "data": [
                                {
                                    "EngagementID": "1",
                                    "ContentID": "39",
                                    "ContentType": "Blog",
                                    "Likes": "190",
                                    "EngagementDate": "2023-08-30",
                                    "CampaignID": "1",
                                    "ProductID": "9",
                                    "ViewsClicksCombined": "1883-671"
                                },
                                {
                                    "EngagementID": "2",
                                    "ContentID": "48",
                                    "ContentType": "Blog",
                                    "Likes": "114",
                                    "EngagementDate": "2023-03-28",
                                    "CampaignID": "18",
                                    "ProductID": "20",
                                    "ViewsClicksCombined": "5280-532"
                                },
                                {
                                    "EngagementID": "3",
                                    "ContentID": "16",
                                    "ContentType": "video",
                                    "Likes": "32",
                                    "EngagementDate": "2023-12-08",
                                    "CampaignID": "7",
                                    "ProductID": "14",
                                    "ViewsClicksCombined": "1905-204"
                                },
                                {
                                    "EngagementID": "4",
                                    "ContentID": "43",
                                    "ContentType": "Video",
                                    "Likes": "17",
                                    "EngagementDate": "2025-01-21",
                                    "CampaignID": "19",
                                    "ProductID": "20",
                                    "ViewsClicksCombined": "2766-257"
                                },
                                {
                                    "EngagementID": "5",
                                    "ContentID": "16",
                                    "ContentType": "newsletter",
                                    "Likes": "306",
                                    "EngagementDate": "2024-02-21",
                                    "CampaignID": "6",
                                    "ProductID": "15",
                                    "ViewsClicksCombined": "5116-1524"
                                },
                                {
                                    "EngagementID": "6",
                                    "ContentID": "32",
                                    "ContentType": "Socialmedia",
                                    "Likes": "648",
                                    "EngagementDate": "2023-06-18",
                                    "CampaignID": "18",
                                    "ProductID": "19",
                                    "ViewsClicksCombined": "8237-1641"
                                },
                                {
                                    "EngagementID": "7",
                                    "ContentID": "33",
                                    "ContentType": "SOCIALMEDIA",
                                    "Likes": "1",
                                    "EngagementDate": "2025-10-01",
                                    "CampaignID": "12",
                                    "ProductID": "2",
                                    "ViewsClicksCombined": "750-34"
                                },
                                {
                                    "EngagementID": "8",
                                    "ContentID": "47",
                                    "ContentType": "Blog",
                                    "Likes": "1",
                                    "EngagementDate": "2025-03-31",
                                    "CampaignID": "17",
                                    "ProductID": "6",
                                    "ViewsClicksCombined": "891-35"
                                },
                                {
                                    "EngagementID": "9",
                                    "ContentID": "48",
                                    "ContentType": "blog",
                                    "Likes": "123",
                                    "EngagementDate": "2024-03-19",
                                    "CampaignID": "13",
                                    "ProductID": "16",
                                    "ViewsClicksCombined": "5571-1527"
                                },
                                {
                                    "EngagementID": "10",
                                    "ContentID": "4",
                                    "ContentType": "Blog",
                                    "Likes": "25",
                                    "EngagementDate": "2023-12-03",
                                    "CampaignID": "15",
                                    "ProductID": "15",
                                    "ViewsClicksCombined": "4279-297"
                                },
                                {
                                    "EngagementID": "11",
                                    "ContentID": "38",
                                    "ContentType": "Socialmedia",
                                    "Likes": "29",
                                    "EngagementDate": "2024-05-26",
                                    "CampaignID": "19",
                                    "ProductID": "6",
                                    "ViewsClicksCombined": "4297-234"
                                },
                                {
                                    "EngagementID": "12",
                                    "ContentID": "29",
                                    "ContentType": "socialmedia",
                                    "Likes": "396",
                                    "EngagementDate": "2023-06-15",
                                    "CampaignID": "3",
                                    "ProductID": "10",
                                    "ViewsClicksCombined": "7877-2037"
                                },
                                {
                                    "EngagementID": "13",
                                    "ContentID": "14",
                                    "ContentType": "video",
                                    "Likes": "12",
                                    "EngagementDate": "2025-02-04",
                                    "CampaignID": "12",
                                    "ProductID": "18",
                                    "ViewsClicksCombined": "1796-136"
                                },
                                {
                                    "EngagementID": "14",
                                    "ContentID": "2",
                                    "ContentType": "Socialmedia",
                                    "Likes": "317",
                                    "EngagementDate": "2023-08-26",
                                    "CampaignID": "16",
                                    "ProductID": "2",
                                    "ViewsClicksCombined": "6837-2251"
                                },
                                {
                                    "EngagementID": "15",
                                    "ContentID": "16",
                                    "ContentType": "Socialmedia",
                                    "Likes": "0",
                                    "EngagementDate": "2025-10-20",
                                    "CampaignID": "6",
                                    "ProductID": "19",
                                    "ViewsClicksCombined": "36-1"
                                },
                                {
                                    "EngagementID": "16",
                                    "ContentID": "2",
                                    "ContentType": "SOCIALMEDIA",
                                    "Likes": "276",
                                    "EngagementDate": "2023-07-06",
                                    "CampaignID": "17",
                                    "ProductID": "16",
                                    "ViewsClicksCombined": "5980-1227"
                                },
                                {
                                    "EngagementID": "17",
                                    "ContentID": "35",
                                    "ContentType": "BLOG",
                                    "Likes": "9",
                                    "EngagementDate": "2024-05-17",
                                    "CampaignID": "18",
                                    "ProductID": "10",
                                    "ViewsClicksCombined": "563-104"
                                },
                                {
                                    "EngagementID": "18",
                                    "ContentID": "12",
                                    "ContentType": "Video",
                                    "Likes": "0",
                                    "EngagementDate": "2024-10-26",
                                    "CampaignID": "19",
                                    "ProductID": "8",
                                    "ViewsClicksCombined": "321-15"
                                },
                                {
                                    "EngagementID": "19",
                                    "ContentID": "30",
                                    "ContentType": "Newsletter",
                                    "Likes": "118",
                                    "EngagementDate": "2023-10-29",
                                    "CampaignID": "11",
                                    "ProductID": "9",
                                    "ViewsClicksCombined": "1442-400"
                                },
                                {
                                    "EngagementID": "20",
                                    "ContentID": "35",
                                    "ContentType": "BLOG",
                                    "Likes": "0",
                                    "EngagementDate": "2024-10-07",
                                    "CampaignID": "4",
                                    "ProductID": "6",
                                    "ViewsClicksCombined": "41-7"
                                },
                                {
                                    "EngagementID": "21",
                                    "ContentID": "26",
                                    "ContentType": "Blog",
                                    "Likes": "7",
                                    "EngagementDate": "2024-12-28",
                                    "CampaignID": "1",
                                    "ProductID": "6",
                                    "ViewsClicksCombined": "1037-111"
                                },
                                {
                                    "EngagementID": "22",
                                    "ContentID": "11",
                                    "ContentType": "video",
                                    "Likes": "357",
                                    "EngagementDate": "2024-04-04",
                                    "CampaignID": "12",
                                    "ProductID": "16",
                                    "ViewsClicksCombined": "5543-1288"
                                },
                                {
                                    "EngagementID": "23",
                                    "ContentID": "21",
                                    "ContentType": "Newsletter",
                                    "Likes": "4",
                                    "EngagementDate": "2024-12-27",
                                    "CampaignID": "8",
                                    "ProductID": "18",
                                    "ViewsClicksCombined": "522-43"
                                },
                                {
                                    "EngagementID": "24",
                                    "ContentID": "38",
                                    "ContentType": "Newsletter",
                                    "Likes": "65",
                                    "EngagementDate": "2024-05-20",
                                    "CampaignID": "8",
                                    "ProductID": "16",
                                    "ViewsClicksCombined": "3651-377"
                                },
                                {
                                    "EngagementID": "25",
                                    "ContentID": "33",
                                    "ContentType": "Newsletter",
                                    "Likes": "0",
                                    "EngagementDate": "2025-11-17",
                                    "CampaignID": "6",
                                    "ProductID": "10",
                                    "ViewsClicksCombined": "487-5"
                                },
                                {
                                    "EngagementID": "26",
                                    "ContentID": "31",
                                    "ContentType": "Video",
                                    "Likes": "2",
                                    "EngagementDate": "2025-06-04",
                                    "CampaignID": "20",
                                    "ProductID": "20",
                                    "ViewsClicksCombined": "1742-71"
                                },
                                {
                                    "EngagementID": "27",
                                    "ContentID": "42",
                                    "ContentType": "Video",
                                    "Likes": "72",
                                    "EngagementDate": "2024-07-27",
                                    "CampaignID": "4",
                                    "ProductID": "3",
                                    "ViewsClicksCombined": "3225-337"
                                },
                                {
                                    "EngagementID": "28",
                                    "ContentID": "29",
                                    "ContentType": "Socialmedia",
                                    "Likes": "7",
                                    "EngagementDate": "2023-12-22",
                                    "CampaignID": "2",
                                    "ProductID": "16",
                                    "ViewsClicksCombined": "165-48"
                                },
                                {
                                    "EngagementID": "29",
                                    "ContentID": "15",
                                    "ContentType": "video",
                                    "Likes": "0",
                                    "EngagementDate": "2025-08-02",
                                    "CampaignID": "17",
                                    "ProductID": "20",
                                    "ViewsClicksCombined": "58-2"
                                },
                                {
                                    "EngagementID": "30",
                                    "ContentID": "29",
                                    "ContentType": "Newsletter",
                                    "Likes": "14",
                                    "EngagementDate": "2024-09-10",
                                    "CampaignID": "20",
                                    "ProductID": "17",
                                    "ViewsClicksCombined": "1010-196"
                                },
                                {
                                    "EngagementID": "31",
                                    "ContentID": "1",
                                    "ContentType": "socialmedia",
                                    "Likes": "2",
                                    "EngagementDate": "2025-06-10",
                                    "CampaignID": "4",
                                    "ProductID": "4",
                                    "ViewsClicksCombined": "1079-44"
                                },
                                {
                                    "EngagementID": "32",
                                    "ContentID": "37",
                                    "ContentType": "blog",
                                    "Likes": "0",
                                    "EngagementDate": "2025-11-04",
                                    "CampaignID": "19",
                                    "ProductID": "16",
                                    "ViewsClicksCombined": "441-9"
                                },
                                {
                                    "EngagementID": "33",
                                    "ContentID": "44",
                                    "ContentType": "BLOG",
                                    "Likes": "3",
                                    "EngagementDate": "2025-06-21",
                                    "CampaignID": "1",
                                    "ProductID": "7",
                                    "ViewsClicksCombined": "1415-76"
                                },
                                {
                                    "EngagementID": "34",
                                    "ContentID": "1",
                                    "ContentType": "Socialmedia",
                                    "Likes": "29",
                                    "EngagementDate": "2023-04-18",
                                    "CampaignID": "11",
                                    "ProductID": "4",
                                    "ViewsClicksCombined": "1223-127"
                                },
                                {
                                    "EngagementID": "35",
                                    "ContentID": "2",
                                    "ContentType": "VIDEO",
                                    "Likes": "1",
                                    "EngagementDate": "2025-07-26",
                                    "CampaignID": "13",
                                    "ProductID": "15",
                                    "ViewsClicksCombined": "704-17"
                                },
                                {
                                    "EngagementID": "36",
                                    "ContentID": "29",
                                    "ContentType": "NEWSLETTER",
                                    "Likes": "6",
                                    "EngagementDate": "2025-06-11",
                                    "CampaignID": "9",
                                    "ProductID": "19",
                                    "ViewsClicksCombined": "1788-75"
                                },
                                {
                                    "EngagementID": "37",
                                    "ContentID": "32",
                                    "ContentType": "Video",
                                    "Likes": "400",
                                    "EngagementDate": "2023-01-24",
                                    "CampaignID": "7",
                                    "ProductID": "1",
                                    "ViewsClicksCombined": "9759-3095"
                                },
                                {
                                    "EngagementID": "38",
                                    "ContentID": "30",
                                    "ContentType": "Newsletter",
                                    "Likes": "449",
                                    "EngagementDate": "2023-01-02",
                                    "CampaignID": "16",
                                    "ProductID": "15",
                                    "ViewsClicksCombined": "2674-956"
                                },
                                {
                                    "EngagementID": "39",
                                    "ContentID": "24",
                                    "ContentType": "Video",
                                    "Likes": "373",
                                    "EngagementDate": "2023-09-02",
                                    "CampaignID": "11",
                                    "ProductID": "11",
                                    "ViewsClicksCombined": "4881-1204"
                                },
                                {
                                    "EngagementID": "40",
                                    "ContentID": "18",
                                    "ContentType": "Video",
                                    "Likes": "215",
                                    "EngagementDate": "2024-04-02",
                                    "CampaignID": "4",
                                    "ProductID": "4",
                                    "ViewsClicksCombined": "3222-793"
                                },
                                {
                                    "EngagementID": "41",
                                    "ContentID": "8",
                                    "ContentType": "Socialmedia",
                                    "Likes": "193",
                                    "EngagementDate": "2024-06-01",
                                    "CampaignID": "2",
                                    "ProductID": "12",
                                    "ViewsClicksCombined": "4654-1083"
                                },
                                {
                                    "EngagementID": "42",
                                    "ContentID": "16",
                                    "ContentType": "Blog",
                                    "Likes": "840",
                                    "EngagementDate": "2023-07-23",
                                    "CampaignID": "17",
                                    "ProductID": "8",
                                    "ViewsClicksCombined": "6771-2617"
                                },
                                {
                                    "EngagementID": "43",
                                    "ContentID": "34",
                                    "ContentType": "Newsletter",
                                    "Likes": "92",
                                    "EngagementDate": "2023-08-12",
                                    "CampaignID": "8",
                                    "ProductID": "1",
                                    "ViewsClicksCombined": "3640-370"
                                },
                                {
                                    "EngagementID": "44",
                                    "ContentID": "18",
                                    "ContentType": "Newsletter",
                                    "Likes": "3",
                                    "EngagementDate": "2025-04-10",
                                    "CampaignID": "9",
                                    "ProductID": "8",
                                    "ViewsClicksCombined": "1341-66"
                                },
                                {
                                    "EngagementID": "45",
                                    "ContentID": "9",
                                    "ContentType": "Blog",
                                    "Likes": "4",
                                    "EngagementDate": "2024-10-19",
                                    "CampaignID": "15",
                                    "ProductID": "12",
                                    "ViewsClicksCombined": "797-103"
                                },
                                {
                                    "EngagementID": "46",
                                    "ContentID": "5",
                                    "ContentType": "Blog",
                                    "Likes": "11",
                                    "EngagementDate": "2024-09-29",
                                    "CampaignID": "1",
                                    "ProductID": "1",
                                    "ViewsClicksCombined": "2549-228"
                                },
                                {
                                    "EngagementID": "47",
                                    "ContentID": "41",
                                    "ContentType": "Video",
                                    "Likes": "33",
                                    "EngagementDate": "2024-06-08",
                                    "CampaignID": "3",
                                    "ProductID": "12",
                                    "ViewsClicksCombined": "1145-130"
                                },
                                {
                                    "EngagementID": "48",
                                    "ContentID": "19",
                                    "ContentType": "Video",
                                    "Likes": "15",
                                    "EngagementDate": "2025-01-26",
                                    "CampaignID": "17",
                                    "ProductID": "8",
                                    "ViewsClicksCombined": "1648-163"
                                },
                                {
                                    "EngagementID": "49",
                                    "ContentID": "41",
                                    "ContentType": "Newsletter",
                                    "Likes": "0",
                                    "EngagementDate": "2025-07-13",
                                    "CampaignID": "19",
                                    "ProductID": "3",
                                    "ViewsClicksCombined": "171-8"
                                },
                                {
                                    "EngagementID": "50",
                                    "ContentID": "43",
                                    "ContentType": "SOCIALMEDIA",
                                    "Likes": "11",
                                    "EngagementDate": "2024-06-23",
                                    "CampaignID": "15",
                                    "ProductID": "14",
                                    "ViewsClicksCombined": "1066-110"
                                },
                                {
                                    "EngagementID": "51",
                                    "ContentID": "44",
                                    "ContentType": "NEWSLETTER",
                                    "Likes": "44",
                                    "EngagementDate": "2025-02-25",
                                    "CampaignID": "6",
                                    "ProductID": "17",
                                    "ViewsClicksCombined": "2725-358"
                                },
                                {
                                    "EngagementID": "52",
                                    "ContentID": "41",
                                    "ContentType": "Blog",
                                    "Likes": "3",
                                    "EngagementDate": "2025-04-22",
                                    "CampaignID": "3",
                                    "ProductID": "15",
                                    "ViewsClicksCombined": "1617-70"
                                },
                                {
                                    "EngagementID": "53",
                                    "ContentID": "41",
                                    "ContentType": "Video",
                                    "Likes": "2",
                                    "EngagementDate": "2024-09-20",
                                    "CampaignID": "16",
                                    "ProductID": "15",
                                    "ViewsClicksCombined": "599-39"
                                },
                                {
                                    "EngagementID": "54",
                                    "ContentID": "40",
                                    "ContentType": "Blog",
                                    "Likes": "0",
                                    "EngagementDate": "2025-09-22",
                                    "CampaignID": "13",
                                    "ProductID": "17",
                                    "ViewsClicksCombined": "706-34"
                                },
                                {
                                    "EngagementID": "55",
                                    "ContentID": "50",
                                    "ContentType": "Blog",
                                    "Likes": "18",
                                    "EngagementDate": "2025-04-01",
                                    "CampaignID": "18",
                                    "ProductID": "6",
                                    "ViewsClicksCombined": "2387-201"
                                },
                                {
                                    "EngagementID": "56",
                                    "ContentID": "24",
                                    "ContentType": "socialmedia",
                                    "Likes": "1",
                                    "EngagementDate": "2025-12-19",
                                    "CampaignID": "10",
                                    "ProductID": "5",
                                    "ViewsClicksCombined": "922-39"
                                },
                                {
                                    "EngagementID": "57",
                                    "ContentID": "8",
                                    "ContentType": "Video",
                                    "Likes": "3",
                                    "EngagementDate": "2025-01-12",
                                    "CampaignID": "7",
                                    "ProductID": "20",
                                    "ViewsClicksCombined": "944-91"
                                },
                                {
                                    "EngagementID": "58",
                                    "ContentID": "2",
                                    "ContentType": "video",
                                    "Likes": "0",
                                    "EngagementDate": "2025-11-07",
                                    "CampaignID": "17",
                                    "ProductID": "9",
                                    "ViewsClicksCombined": "578-11"
                                },
                                {
                                    "EngagementID": "59",
                                    "ContentID": "37",
                                    "ContentType": "video",
                                    "Likes": "0",
                                    "EngagementDate": "2025-07-17",
                                    "CampaignID": "10",
                                    "ProductID": "1",
                                    "ViewsClicksCombined": "219-7"
                                },
                                {
                                    "EngagementID": "60",
                                    "ContentID": "1",
                                    "ContentType": "socialmedia",
                                    "Likes": "0",
                                    "EngagementDate": "2025-10-15",
                                    "CampaignID": "19",
                                    "ProductID": "7",
                                    "ViewsClicksCombined": "404-15"
                                },
                                {
                                    "EngagementID": "61",
                                    "ContentID": "47",
                                    "ContentType": "blog",
                                    "Likes": "72",
                                    "EngagementDate": "2024-01-24",
                                    "CampaignID": "16",
                                    "ProductID": "7",
                                    "ViewsClicksCombined": "2847-528"
                                },
                                {
                                    "EngagementID": "62",
                                    "ContentID": "15",
                                    "ContentType": "Socialmedia",
                                    "Likes": "2",
                                    "EngagementDate": "2025-05-29",
                                    "CampaignID": "18",
                                    "ProductID": "10",
                                    "ViewsClicksCombined": "1521-33"
                                },
                                {
                                    "EngagementID": "63",
                                    "ContentID": "31",
                                    "ContentType": "NEWSLETTER",
                                    "Likes": "6",
                                    "EngagementDate": "2025-03-28",
                                    "CampaignID": "16",
                                    "ProductID": "16",
                                    "ViewsClicksCombined": "1473-97"
                                },
                                {
                                    "EngagementID": "64",
                                    "ContentID": "49",
                                    "ContentType": "video",
                                    "Likes": "0",
                                    "EngagementDate": "2025-12-03",
                                    "CampaignID": "1",
                                    "ProductID": "15",
                                    "ViewsClicksCombined": "111-3"
                                },
                                {
                                    "EngagementID": "65",
                                    "ContentID": "3",
                                    "ContentType": "Blog",
                                    "Likes": "30",
                                    "EngagementDate": "2023-10-05",
                                    "CampaignID": "14",
                                    "ProductID": "12",
                                    "ViewsClicksCombined": "524-94"
                                },
                                {
                                    "EngagementID": "66",
                                    "ContentID": "28",
                                    "ContentType": "VIDEO",
                                    "Likes": "23",
                                    "EngagementDate": "2024-09-12",
                                    "CampaignID": "4",
                                    "ProductID": "5",
                                    "ViewsClicksCombined": "1493-141"
                                },
                                {
                                    "EngagementID": "67",
                                    "ContentID": "29",
                                    "ContentType": "Newsletter",
                                    "Likes": "176",
                                    "EngagementDate": "2024-06-10",
                                    "CampaignID": "2",
                                    "ProductID": "19",
                                    "ViewsClicksCombined": "5147-788"
                                },
                                {
                                    "EngagementID": "68",
                                    "ContentID": "33",
                                    "ContentType": "Video",
                                    "Likes": "5",
                                    "EngagementDate": "2024-10-20",
                                    "CampaignID": "3",
                                    "ProductID": "19",
                                    "ViewsClicksCombined": "239-43"
                                },
                                {
                                    "EngagementID": "69",
                                    "ContentID": "50",
                                    "ContentType": "blog",
                                    "Likes": "68",
                                    "EngagementDate": "2024-05-11",
                                    "CampaignID": "2",
                                    "ProductID": "8",
                                    "ViewsClicksCombined": "2935-303"
                                },
                                {
                                    "EngagementID": "70",
                                    "ContentID": "12",
                                    "ContentType": "Socialmedia",
                                    "Likes": "10",
                                    "EngagementDate": "2024-04-30",
                                    "CampaignID": "12",
                                    "ProductID": "11",
                                    "ViewsClicksCombined": "228-49"
                                },
                                {
                                    "EngagementID": "71",
                                    "ContentID": "37",
                                    "ContentType": "Video",
                                    "Likes": "459",
                                    "EngagementDate": "2023-03-04",
                                    "CampaignID": "11",
                                    "ProductID": "14",
                                    "ViewsClicksCombined": "4368-1156"
                                },
                                {
                                    "EngagementID": "72",
                                    "ContentID": "19",
                                    "ContentType": "BLOG",
                                    "Likes": "657",
                                    "EngagementDate": "2023-01-06",
                                    "CampaignID": "17",
                                    "ProductID": "1",
                                    "ViewsClicksCombined": "6991-2499"
                                },
                                {
                                    "EngagementID": "73",
                                    "ContentID": "10",
                                    "ContentType": "socialmedia",
                                    "Likes": "0",
                                    "EngagementDate": "2025-04-06",
                                    "CampaignID": "18",
                                    "ProductID": "3",
                                    "ViewsClicksCombined": "40-4"
                                },
                                {
                                    "EngagementID": "74",
                                    "ContentID": "6",
                                    "ContentType": "Newsletter",
                                    "Likes": "64",
                                    "EngagementDate": "2023-08-22",
                                    "CampaignID": "7",
                                    "ProductID": "7",
                                    "ViewsClicksCombined": "4098-761"
                                },
                                {
                                    "EngagementID": "75",
                                    "ContentID": "11",
                                    "ContentType": "Video",
                                    "Likes": "12",
                                    "EngagementDate": "2024-05-01",
                                    "CampaignID": "13",
                                    "ProductID": "18",
                                    "ViewsClicksCombined": "565-137"
                                },
                                {
                                    "EngagementID": "76",
                                    "ContentID": "48",
                                    "ContentType": "Blog",
                                    "Likes": "545",
                                    "EngagementDate": "2023-03-11",
                                    "CampaignID": "14",
                                    "ProductID": "3",
                                    "ViewsClicksCombined": "6205-2834"
                                },
                                {
                                    "EngagementID": "77",
                                    "ContentID": "26",
                                    "ContentType": "Socialmedia",
                                    "Likes": "143",
                                    "EngagementDate": "2023-08-27",
                                    "CampaignID": "20",
                                    "ProductID": "18",
                                    "ViewsClicksCombined": "1671-482"
                                },
                                {
                                    "EngagementID": "78",
                                    "ContentID": "44",
                                    "ContentType": "SOCIALMEDIA",
                                    "Likes": "2",
                                    "EngagementDate": "2025-06-07",
                                    "CampaignID": "17",
                                    "ProductID": "2",
                                    "ViewsClicksCombined": "713-44"
                                },
                                {
                                    "EngagementID": "79",
                                    "ContentID": "36",
                                    "ContentType": "video",
                                    "Likes": "397",
                                    "EngagementDate": "2023-04-26",
                                    "CampaignID": "9",
                                    "ProductID": "16",
                                    "ViewsClicksCombined": "3632-1500"
                                },
                                {
                                    "EngagementID": "80",
                                    "ContentID": "15",
                                    "ContentType": "video",
                                    "Likes": "8",
                                    "EngagementDate": "2025-01-04",
                                    "CampaignID": "19",
                                    "ProductID": "12",
                                    "ViewsClicksCombined": "1535-243"
                                },
                                {
                                    "EngagementID": "81",
                                    "ContentID": "30",
                                    "ContentType": "NEWSLETTER",
                                    "Likes": "11",
                                    "EngagementDate": "2024-06-30",
                                    "CampaignID": "11",
                                    "ProductID": "2",
                                    "ViewsClicksCombined": "581-117"
                                },
                                {
                                    "EngagementID": "82",
                                    "ContentID": "49",
                                    "ContentType": "Socialmedia",
                                    "Likes": "142",
                                    "EngagementDate": "2023-04-26",
                                    "CampaignID": "8",
                                    "ProductID": "20",
                                    "ViewsClicksCombined": "1354-425"
                                },
                                {
                                    "EngagementID": "83",
                                    "ContentID": "48",
                                    "ContentType": "video",
                                    "Likes": "14",
                                    "EngagementDate": "2025-02-20",
                                    "CampaignID": "9",
                                    "ProductID": "2",
                                    "ViewsClicksCombined": "1933-158"
                                },
                                {
                                    "EngagementID": "84",
                                    "ContentID": "24",
                                    "ContentType": "socialmedia",
                                    "Likes": "116",
                                    "EngagementDate": "2023-05-22",
                                    "CampaignID": "18",
                                    "ProductID": "14",
                                    "ViewsClicksCombined": "6319-832"
                                },
                                {
                                    "EngagementID": "85",
                                    "ContentID": "34",
                                    "ContentType": "Video",
                                    "Likes": "0",
                                    "EngagementDate": "2025-05-08",
                                    "CampaignID": "18",
                                    "ProductID": "20",
                                    "ViewsClicksCombined": "36-3"
                                },
                                {
                                    "EngagementID": "86",
                                    "ContentID": "37",
                                    "ContentType": "BLOG",
                                    "Likes": "5",
                                    "EngagementDate": "2025-04-06",
                                    "CampaignID": "3",
                                    "ProductID": "7",
                                    "ViewsClicksCombined": "1576-45"
                                },
                                {
                                    "EngagementID": "87",
                                    "ContentID": "8",
                                    "ContentType": "BLOG",
                                    "Likes": "111",
                                    "EngagementDate": "2024-07-27",
                                    "CampaignID": "2",
                                    "ProductID": "2",
                                    "ViewsClicksCombined": "3142-602"
                                },
                                {
                                    "EngagementID": "88",
                                    "ContentID": "28",
                                    "ContentType": "socialmedia",
                                    "Likes": "121",
                                    "EngagementDate": "2023-10-01",
                                    "CampaignID": "12",
                                    "ProductID": "7",
                                    "ViewsClicksCombined": "1360-440"
                                },
                                {
                                    "EngagementID": "89",
                                    "ContentID": "21",
                                    "ContentType": "Socialmedia",
                                    "Likes": "1",
                                    "EngagementDate": "2024-11-27",
                                    "CampaignID": "2",
                                    "ProductID": "13",
                                    "ViewsClicksCombined": "214-15"
                                },
                                {
                                    "EngagementID": "90",
                                    "ContentID": "35",
                                    "ContentType": "Video",
                                    "Likes": "595",
                                    "EngagementDate": "2023-05-25",
                                    "CampaignID": "7",
                                    "ProductID": "9",
                                    "ViewsClicksCombined": "3338-1402"
                                },
                                {
                                    "EngagementID": "91",
                                    "ContentID": "8",
                                    "ContentType": "Blog",
                                    "Likes": "9",
                                    "EngagementDate": "2024-05-26",
                                    "CampaignID": "7",
                                    "ProductID": "13",
                                    "ViewsClicksCombined": "379-95"
                                },
                                {
                                    "EngagementID": "92",
                                    "ContentID": "35",
                                    "ContentType": "video",
                                    "Likes": "3",
                                    "EngagementDate": "2025-05-21",
                                    "CampaignID": "3",
                                    "ProductID": "8",
                                    "ViewsClicksCombined": "516-49"
                                },
                                {
                                    "EngagementID": "93",
                                    "ContentID": "23",
                                    "ContentType": "SOCIALMEDIA",
                                    "Likes": "147",
                                    "EngagementDate": "2023-02-19",
                                    "CampaignID": "1",
                                    "ProductID": "17",
                                    "ViewsClicksCombined": "2989-1283"
                                },
                                {
                                    "EngagementID": "94",
                                    "ContentID": "33",
                                    "ContentType": "Video",
                                    "Likes": "389",
                                    "EngagementDate": "2023-02-18",
                                    "CampaignID": "15",
                                    "ProductID": "17",
                                    "ViewsClicksCombined": "2595-933"
                                },
                                {
                                    "EngagementID": "95",
                                    "ContentID": "35",
                                    "ContentType": "newsletter",
                                    "Likes": "22",
                                    "EngagementDate": "2024-08-15",
                                    "CampaignID": "1",
                                    "ProductID": "7",
                                    "ViewsClicksCombined": "1193-209"
                                },
                                {
                                    "EngagementID": "96",
                                    "ContentID": "17",
                                    "ContentType": "Blog",
                                    "Likes": "32",
                                    "EngagementDate": "2024-07-15",
                                    "CampaignID": "14",
                                    "ProductID": "13",
                                    "ViewsClicksCombined": "712-142"
                                },
                                {
                                    "EngagementID": "97",
                                    "ContentID": "34",
                                    "ContentType": "blog",
                                    "Likes": "3",
                                    "EngagementDate": "2025-07-01",
                                    "CampaignID": "16",
                                    "ProductID": "7",
                                    "ViewsClicksCombined": "696-47"
                                },
                                {
                                    "EngagementID": "98",
                                    "ContentID": "44",
                                    "ContentType": "blog",
                                    "Likes": "0",
                                    "EngagementDate": "2025-08-20",
                                    "CampaignID": "11",
                                    "ProductID": "8",
                                    "ViewsClicksCombined": "231-10"
                                },
                                {
                                    "EngagementID": "99",
                                    "ContentID": "26",
                                    "ContentType": "Blog",
                                    "Likes": "119",
                                    "EngagementDate": "2024-04-15",
                                    "CampaignID": "17",
                                    "ProductID": "4",
                                    "ViewsClicksCombined": "3511-479"
                                },
                                {
                                    "EngagementID": "100",
                                    "ContentID": "32",
                                    "ContentType": "Video",
                                    "Likes": "34",
                                    "EngagementDate": "2024-05-05",
                                    "CampaignID": "15",
                                    "ProductID": "13",
                                    "ViewsClicksCombined": "2657-175"
                                }
                            ]
                        },
                        "text/html": [
                            "<table>",
                            "<tr><th>EngagementID</th><th>ContentID</th><th>ContentType</th><th>Likes</th><th>EngagementDate</th><th>CampaignID</th><th>ProductID</th><th>ViewsClicksCombined</th></tr>",
                            "<tr><td>1</td><td>39</td><td>Blog</td><td>190</td><td>2023-08-30</td><td>1</td><td>9</td><td>1883-671</td></tr>",
                            "<tr><td>2</td><td>48</td><td>Blog</td><td>114</td><td>2023-03-28</td><td>18</td><td>20</td><td>5280-532</td></tr>",
                            "<tr><td>3</td><td>16</td><td>video</td><td>32</td><td>2023-12-08</td><td>7</td><td>14</td><td>1905-204</td></tr>",
                            "<tr><td>4</td><td>43</td><td>Video</td><td>17</td><td>2025-01-21</td><td>19</td><td>20</td><td>2766-257</td></tr>",
                            "<tr><td>5</td><td>16</td><td>newsletter</td><td>306</td><td>2024-02-21</td><td>6</td><td>15</td><td>5116-1524</td></tr>",
                            "<tr><td>6</td><td>32</td><td>Socialmedia</td><td>648</td><td>2023-06-18</td><td>18</td><td>19</td><td>8237-1641</td></tr>",
                            "<tr><td>7</td><td>33</td><td>SOCIALMEDIA</td><td>1</td><td>2025-10-01</td><td>12</td><td>2</td><td>750-34</td></tr>",
                            "<tr><td>8</td><td>47</td><td>Blog</td><td>1</td><td>2025-03-31</td><td>17</td><td>6</td><td>891-35</td></tr>",
                            "<tr><td>9</td><td>48</td><td>blog</td><td>123</td><td>2024-03-19</td><td>13</td><td>16</td><td>5571-1527</td></tr>",
                            "<tr><td>10</td><td>4</td><td>Blog</td><td>25</td><td>2023-12-03</td><td>15</td><td>15</td><td>4279-297</td></tr>",
                            "<tr><td>11</td><td>38</td><td>Socialmedia</td><td>29</td><td>2024-05-26</td><td>19</td><td>6</td><td>4297-234</td></tr>",
                            "<tr><td>12</td><td>29</td><td>socialmedia</td><td>396</td><td>2023-06-15</td><td>3</td><td>10</td><td>7877-2037</td></tr>",
                            "<tr><td>13</td><td>14</td><td>video</td><td>12</td><td>2025-02-04</td><td>12</td><td>18</td><td>1796-136</td></tr>",
                            "<tr><td>14</td><td>2</td><td>Socialmedia</td><td>317</td><td>2023-08-26</td><td>16</td><td>2</td><td>6837-2251</td></tr>",
                            "<tr><td>15</td><td>16</td><td>Socialmedia</td><td>0</td><td>2025-10-20</td><td>6</td><td>19</td><td>36-1</td></tr>",
                            "<tr><td>16</td><td>2</td><td>SOCIALMEDIA</td><td>276</td><td>2023-07-06</td><td>17</td><td>16</td><td>5980-1227</td></tr>",
                            "<tr><td>17</td><td>35</td><td>BLOG</td><td>9</td><td>2024-05-17</td><td>18</td><td>10</td><td>563-104</td></tr>",
                            "<tr><td>18</td><td>12</td><td>Video</td><td>0</td><td>2024-10-26</td><td>19</td><td>8</td><td>321-15</td></tr>",
                            "<tr><td>19</td><td>30</td><td>Newsletter</td><td>118</td><td>2023-10-29</td><td>11</td><td>9</td><td>1442-400</td></tr>",
                            "<tr><td>20</td><td>35</td><td>BLOG</td><td>0</td><td>2024-10-07</td><td>4</td><td>6</td><td>41-7</td></tr>",
                            "<tr><td>21</td><td>26</td><td>Blog</td><td>7</td><td>2024-12-28</td><td>1</td><td>6</td><td>1037-111</td></tr>",
                            "<tr><td>22</td><td>11</td><td>video</td><td>357</td><td>2024-04-04</td><td>12</td><td>16</td><td>5543-1288</td></tr>",
                            "<tr><td>23</td><td>21</td><td>Newsletter</td><td>4</td><td>2024-12-27</td><td>8</td><td>18</td><td>522-43</td></tr>",
                            "<tr><td>24</td><td>38</td><td>Newsletter</td><td>65</td><td>2024-05-20</td><td>8</td><td>16</td><td>3651-377</td></tr>",
                            "<tr><td>25</td><td>33</td><td>Newsletter</td><td>0</td><td>2025-11-17</td><td>6</td><td>10</td><td>487-5</td></tr>",
                            "<tr><td>26</td><td>31</td><td>Video</td><td>2</td><td>2025-06-04</td><td>20</td><td>20</td><td>1742-71</td></tr>",
                            "<tr><td>27</td><td>42</td><td>Video</td><td>72</td><td>2024-07-27</td><td>4</td><td>3</td><td>3225-337</td></tr>",
                            "<tr><td>28</td><td>29</td><td>Socialmedia</td><td>7</td><td>2023-12-22</td><td>2</td><td>16</td><td>165-48</td></tr>",
                            "<tr><td>29</td><td>15</td><td>video</td><td>0</td><td>2025-08-02</td><td>17</td><td>20</td><td>58-2</td></tr>",
                            "<tr><td>30</td><td>29</td><td>Newsletter</td><td>14</td><td>2024-09-10</td><td>20</td><td>17</td><td>1010-196</td></tr>",
                            "<tr><td>31</td><td>1</td><td>socialmedia</td><td>2</td><td>2025-06-10</td><td>4</td><td>4</td><td>1079-44</td></tr>",
                            "<tr><td>32</td><td>37</td><td>blog</td><td>0</td><td>2025-11-04</td><td>19</td><td>16</td><td>441-9</td></tr>",
                            "<tr><td>33</td><td>44</td><td>BLOG</td><td>3</td><td>2025-06-21</td><td>1</td><td>7</td><td>1415-76</td></tr>",
                            "<tr><td>34</td><td>1</td><td>Socialmedia</td><td>29</td><td>2023-04-18</td><td>11</td><td>4</td><td>1223-127</td></tr>",
                            "<tr><td>35</td><td>2</td><td>VIDEO</td><td>1</td><td>2025-07-26</td><td>13</td><td>15</td><td>704-17</td></tr>",
                            "<tr><td>36</td><td>29</td><td>NEWSLETTER</td><td>6</td><td>2025-06-11</td><td>9</td><td>19</td><td>1788-75</td></tr>",
                            "<tr><td>37</td><td>32</td><td>Video</td><td>400</td><td>2023-01-24</td><td>7</td><td>1</td><td>9759-3095</td></tr>",
                            "<tr><td>38</td><td>30</td><td>Newsletter</td><td>449</td><td>2023-01-02</td><td>16</td><td>15</td><td>2674-956</td></tr>",
                            "<tr><td>39</td><td>24</td><td>Video</td><td>373</td><td>2023-09-02</td><td>11</td><td>11</td><td>4881-1204</td></tr>",
                            "<tr><td>40</td><td>18</td><td>Video</td><td>215</td><td>2024-04-02</td><td>4</td><td>4</td><td>3222-793</td></tr>",
                            "<tr><td>41</td><td>8</td><td>Socialmedia</td><td>193</td><td>2024-06-01</td><td>2</td><td>12</td><td>4654-1083</td></tr>",
                            "<tr><td>42</td><td>16</td><td>Blog</td><td>840</td><td>2023-07-23</td><td>17</td><td>8</td><td>6771-2617</td></tr>",
                            "<tr><td>43</td><td>34</td><td>Newsletter</td><td>92</td><td>2023-08-12</td><td>8</td><td>1</td><td>3640-370</td></tr>",
                            "<tr><td>44</td><td>18</td><td>Newsletter</td><td>3</td><td>2025-04-10</td><td>9</td><td>8</td><td>1341-66</td></tr>",
                            "<tr><td>45</td><td>9</td><td>Blog</td><td>4</td><td>2024-10-19</td><td>15</td><td>12</td><td>797-103</td></tr>",
                            "<tr><td>46</td><td>5</td><td>Blog</td><td>11</td><td>2024-09-29</td><td>1</td><td>1</td><td>2549-228</td></tr>",
                            "<tr><td>47</td><td>41</td><td>Video</td><td>33</td><td>2024-06-08</td><td>3</td><td>12</td><td>1145-130</td></tr>",
                            "<tr><td>48</td><td>19</td><td>Video</td><td>15</td><td>2025-01-26</td><td>17</td><td>8</td><td>1648-163</td></tr>",
                            "<tr><td>49</td><td>41</td><td>Newsletter</td><td>0</td><td>2025-07-13</td><td>19</td><td>3</td><td>171-8</td></tr>",
                            "<tr><td>50</td><td>43</td><td>SOCIALMEDIA</td><td>11</td><td>2024-06-23</td><td>15</td><td>14</td><td>1066-110</td></tr>",
                            "<tr><td>51</td><td>44</td><td>NEWSLETTER</td><td>44</td><td>2025-02-25</td><td>6</td><td>17</td><td>2725-358</td></tr>",
                            "<tr><td>52</td><td>41</td><td>Blog</td><td>3</td><td>2025-04-22</td><td>3</td><td>15</td><td>1617-70</td></tr>",
                            "<tr><td>53</td><td>41</td><td>Video</td><td>2</td><td>2024-09-20</td><td>16</td><td>15</td><td>599-39</td></tr>",
                            "<tr><td>54</td><td>40</td><td>Blog</td><td>0</td><td>2025-09-22</td><td>13</td><td>17</td><td>706-34</td></tr>",
                            "<tr><td>55</td><td>50</td><td>Blog</td><td>18</td><td>2025-04-01</td><td>18</td><td>6</td><td>2387-201</td></tr>",
                            "<tr><td>56</td><td>24</td><td>socialmedia</td><td>1</td><td>2025-12-19</td><td>10</td><td>5</td><td>922-39</td></tr>",
                            "<tr><td>57</td><td>8</td><td>Video</td><td>3</td><td>2025-01-12</td><td>7</td><td>20</td><td>944-91</td></tr>",
                            "<tr><td>58</td><td>2</td><td>video</td><td>0</td><td>2025-11-07</td><td>17</td><td>9</td><td>578-11</td></tr>",
                            "<tr><td>59</td><td>37</td><td>video</td><td>0</td><td>2025-07-17</td><td>10</td><td>1</td><td>219-7</td></tr>",
                            "<tr><td>60</td><td>1</td><td>socialmedia</td><td>0</td><td>2025-10-15</td><td>19</td><td>7</td><td>404-15</td></tr>",
                            "<tr><td>61</td><td>47</td><td>blog</td><td>72</td><td>2024-01-24</td><td>16</td><td>7</td><td>2847-528</td></tr>",
                            "<tr><td>62</td><td>15</td><td>Socialmedia</td><td>2</td><td>2025-05-29</td><td>18</td><td>10</td><td>1521-33</td></tr>",
                            "<tr><td>63</td><td>31</td><td>NEWSLETTER</td><td>6</td><td>2025-03-28</td><td>16</td><td>16</td><td>1473-97</td></tr>",
                            "<tr><td>64</td><td>49</td><td>video</td><td>0</td><td>2025-12-03</td><td>1</td><td>15</td><td>111-3</td></tr>",
                            "<tr><td>65</td><td>3</td><td>Blog</td><td>30</td><td>2023-10-05</td><td>14</td><td>12</td><td>524-94</td></tr>",
                            "<tr><td>66</td><td>28</td><td>VIDEO</td><td>23</td><td>2024-09-12</td><td>4</td><td>5</td><td>1493-141</td></tr>",
                            "<tr><td>67</td><td>29</td><td>Newsletter</td><td>176</td><td>2024-06-10</td><td>2</td><td>19</td><td>5147-788</td></tr>",
                            "<tr><td>68</td><td>33</td><td>Video</td><td>5</td><td>2024-10-20</td><td>3</td><td>19</td><td>239-43</td></tr>",
                            "<tr><td>69</td><td>50</td><td>blog</td><td>68</td><td>2024-05-11</td><td>2</td><td>8</td><td>2935-303</td></tr>",
                            "<tr><td>70</td><td>12</td><td>Socialmedia</td><td>10</td><td>2024-04-30</td><td>12</td><td>11</td><td>228-49</td></tr>",
                            "<tr><td>71</td><td>37</td><td>Video</td><td>459</td><td>2023-03-04</td><td>11</td><td>14</td><td>4368-1156</td></tr>",
                            "<tr><td>72</td><td>19</td><td>BLOG</td><td>657</td><td>2023-01-06</td><td>17</td><td>1</td><td>6991-2499</td></tr>",
                            "<tr><td>73</td><td>10</td><td>socialmedia</td><td>0</td><td>2025-04-06</td><td>18</td><td>3</td><td>40-4</td></tr>",
                            "<tr><td>74</td><td>6</td><td>Newsletter</td><td>64</td><td>2023-08-22</td><td>7</td><td>7</td><td>4098-761</td></tr>",
                            "<tr><td>75</td><td>11</td><td>Video</td><td>12</td><td>2024-05-01</td><td>13</td><td>18</td><td>565-137</td></tr>",
                            "<tr><td>76</td><td>48</td><td>Blog</td><td>545</td><td>2023-03-11</td><td>14</td><td>3</td><td>6205-2834</td></tr>",
                            "<tr><td>77</td><td>26</td><td>Socialmedia</td><td>143</td><td>2023-08-27</td><td>20</td><td>18</td><td>1671-482</td></tr>",
                            "<tr><td>78</td><td>44</td><td>SOCIALMEDIA</td><td>2</td><td>2025-06-07</td><td>17</td><td>2</td><td>713-44</td></tr>",
                            "<tr><td>79</td><td>36</td><td>video</td><td>397</td><td>2023-04-26</td><td>9</td><td>16</td><td>3632-1500</td></tr>",
                            "<tr><td>80</td><td>15</td><td>video</td><td>8</td><td>2025-01-04</td><td>19</td><td>12</td><td>1535-243</td></tr>",
                            "<tr><td>81</td><td>30</td><td>NEWSLETTER</td><td>11</td><td>2024-06-30</td><td>11</td><td>2</td><td>581-117</td></tr>",
                            "<tr><td>82</td><td>49</td><td>Socialmedia</td><td>142</td><td>2023-04-26</td><td>8</td><td>20</td><td>1354-425</td></tr>",
                            "<tr><td>83</td><td>48</td><td>video</td><td>14</td><td>2025-02-20</td><td>9</td><td>2</td><td>1933-158</td></tr>",
                            "<tr><td>84</td><td>24</td><td>socialmedia</td><td>116</td><td>2023-05-22</td><td>18</td><td>14</td><td>6319-832</td></tr>",
                            "<tr><td>85</td><td>34</td><td>Video</td><td>0</td><td>2025-05-08</td><td>18</td><td>20</td><td>36-3</td></tr>",
                            "<tr><td>86</td><td>37</td><td>BLOG</td><td>5</td><td>2025-04-06</td><td>3</td><td>7</td><td>1576-45</td></tr>",
                            "<tr><td>87</td><td>8</td><td>BLOG</td><td>111</td><td>2024-07-27</td><td>2</td><td>2</td><td>3142-602</td></tr>",
                            "<tr><td>88</td><td>28</td><td>socialmedia</td><td>121</td><td>2023-10-01</td><td>12</td><td>7</td><td>1360-440</td></tr>",
                            "<tr><td>89</td><td>21</td><td>Socialmedia</td><td>1</td><td>2024-11-27</td><td>2</td><td>13</td><td>214-15</td></tr>",
                            "<tr><td>90</td><td>35</td><td>Video</td><td>595</td><td>2023-05-25</td><td>7</td><td>9</td><td>3338-1402</td></tr>",
                            "<tr><td>91</td><td>8</td><td>Blog</td><td>9</td><td>2024-05-26</td><td>7</td><td>13</td><td>379-95</td></tr>",
                            "<tr><td>92</td><td>35</td><td>video</td><td>3</td><td>2025-05-21</td><td>3</td><td>8</td><td>516-49</td></tr>",
                            "<tr><td>93</td><td>23</td><td>SOCIALMEDIA</td><td>147</td><td>2023-02-19</td><td>1</td><td>17</td><td>2989-1283</td></tr>",
                            "<tr><td>94</td><td>33</td><td>Video</td><td>389</td><td>2023-02-18</td><td>15</td><td>17</td><td>2595-933</td></tr>",
                            "<tr><td>95</td><td>35</td><td>newsletter</td><td>22</td><td>2024-08-15</td><td>1</td><td>7</td><td>1193-209</td></tr>",
                            "<tr><td>96</td><td>17</td><td>Blog</td><td>32</td><td>2024-07-15</td><td>14</td><td>13</td><td>712-142</td></tr>",
                            "<tr><td>97</td><td>34</td><td>blog</td><td>3</td><td>2025-07-01</td><td>16</td><td>7</td><td>696-47</td></tr>",
                            "<tr><td>98</td><td>44</td><td>blog</td><td>0</td><td>2025-08-20</td><td>11</td><td>8</td><td>231-10</td></tr>",
                            "<tr><td>99</td><td>26</td><td>Blog</td><td>119</td><td>2024-04-15</td><td>17</td><td>4</td><td>3511-479</td></tr>",
                            "<tr><td>100</td><td>32</td><td>Video</td><td>34</td><td>2024-05-05</td><td>15</td><td>13</td><td>2657-175</td></tr>",
                            "</table>"
                        ]
                    }
                }
            ],
            "execution_count": 18
        },
        {
            "cell_type": "code",
            "source": [
                "SELECT\n",
                "    EngagementID,\n",
                "    ContentID,\n",
                "    CampaignID,\n",
                "    ProductID,\n",
                "    UPPER(REPLACE(ContentType, 'Socialmedia', 'Social Media')) AS ContentType,\n",
                "    LEFT(ViewsClicksCombined, LOCATE('-', ViewsClicksCombined) - 1) AS Views,\n",
                "    SUBSTRING(ViewsClicksCombined, LOCATE('-', ViewsClicksCombined) + 1) AS Clicks,\n",
                "    Likes,\n",
                "    DATE_FORMAT(EngagementDate, '%d.%m.%Y') AS EngagementDate\n",
                "FROM engagement_data\n",
                "WHERE ContentType != 'Newsletter';\n",
                ""
            ],
            "metadata": {
                "azdata_cell_guid": "7b474661-cb40-484e-9fcf-79332eb0dda3",
                "language": "sql"
            },
            "outputs": [
                {
                    "output_type": "display_data",
                    "data": {
                        "text/html": "(83 row(s) affected)"
                    },
                    "metadata": {}
                },
                {
                    "output_type": "display_data",
                    "data": {
                        "text/html": "Total execution time: 00:00:01.011"
                    },
                    "metadata": {}
                },
                {
                    "output_type": "execute_result",
                    "metadata": {},
                    "execution_count": 19,
                    "data": {
                        "application/vnd.dataresource+json": {
                            "schema": {
                                "fields": [
                                    {
                                        "name": "EngagementID"
                                    },
                                    {
                                        "name": "ContentID"
                                    },
                                    {
                                        "name": "CampaignID"
                                    },
                                    {
                                        "name": "ProductID"
                                    },
                                    {
                                        "name": "ContentType"
                                    },
                                    {
                                        "name": "Views"
                                    },
                                    {
                                        "name": "Clicks"
                                    },
                                    {
                                        "name": "Likes"
                                    },
                                    {
                                        "name": "EngagementDate"
                                    }
                                ]
                            },
                            "data": [
                                {
                                    "EngagementID": "1",
                                    "ContentID": "39",
                                    "CampaignID": "1",
                                    "ProductID": "9",
                                    "ContentType": "BLOG",
                                    "Views": "1883",
                                    "Clicks": "671",
                                    "Likes": "190",
                                    "EngagementDate": "30.08.2023"
                                },
                                {
                                    "EngagementID": "2",
                                    "ContentID": "48",
                                    "CampaignID": "18",
                                    "ProductID": "20",
                                    "ContentType": "BLOG",
                                    "Views": "5280",
                                    "Clicks": "532",
                                    "Likes": "114",
                                    "EngagementDate": "28.03.2023"
                                },
                                {
                                    "EngagementID": "3",
                                    "ContentID": "16",
                                    "CampaignID": "7",
                                    "ProductID": "14",
                                    "ContentType": "VIDEO",
                                    "Views": "1905",
                                    "Clicks": "204",
                                    "Likes": "32",
                                    "EngagementDate": "08.12.2023"
                                },
                                {
                                    "EngagementID": "4",
                                    "ContentID": "43",
                                    "CampaignID": "19",
                                    "ProductID": "20",
                                    "ContentType": "VIDEO",
                                    "Views": "2766",
                                    "Clicks": "257",
                                    "Likes": "17",
                                    "EngagementDate": "21.01.2025"
                                },
                                {
                                    "EngagementID": "6",
                                    "ContentID": "32",
                                    "CampaignID": "18",
                                    "ProductID": "19",
                                    "ContentType": "SOCIAL MEDIA",
                                    "Views": "8237",
                                    "Clicks": "1641",
                                    "Likes": "648",
                                    "EngagementDate": "18.06.2023"
                                },
                                {
                                    "EngagementID": "7",
                                    "ContentID": "33",
                                    "CampaignID": "12",
                                    "ProductID": "2",
                                    "ContentType": "SOCIALMEDIA",
                                    "Views": "750",
                                    "Clicks": "34",
                                    "Likes": "1",
                                    "EngagementDate": "01.10.2025"
                                },
                                {
                                    "EngagementID": "8",
                                    "ContentID": "47",
                                    "CampaignID": "17",
                                    "ProductID": "6",
                                    "ContentType": "BLOG",
                                    "Views": "891",
                                    "Clicks": "35",
                                    "Likes": "1",
                                    "EngagementDate": "31.03.2025"
                                },
                                {
                                    "EngagementID": "9",
                                    "ContentID": "48",
                                    "CampaignID": "13",
                                    "ProductID": "16",
                                    "ContentType": "BLOG",
                                    "Views": "5571",
                                    "Clicks": "1527",
                                    "Likes": "123",
                                    "EngagementDate": "19.03.2024"
                                },
                                {
                                    "EngagementID": "10",
                                    "ContentID": "4",
                                    "CampaignID": "15",
                                    "ProductID": "15",
                                    "ContentType": "BLOG",
                                    "Views": "4279",
                                    "Clicks": "297",
                                    "Likes": "25",
                                    "EngagementDate": "03.12.2023"
                                },
                                {
                                    "EngagementID": "11",
                                    "ContentID": "38",
                                    "CampaignID": "19",
                                    "ProductID": "6",
                                    "ContentType": "SOCIAL MEDIA",
                                    "Views": "4297",
                                    "Clicks": "234",
                                    "Likes": "29",
                                    "EngagementDate": "26.05.2024"
                                },
                                {
                                    "EngagementID": "12",
                                    "ContentID": "29",
                                    "CampaignID": "3",
                                    "ProductID": "10",
                                    "ContentType": "SOCIALMEDIA",
                                    "Views": "7877",
                                    "Clicks": "2037",
                                    "Likes": "396",
                                    "EngagementDate": "15.06.2023"
                                },
                                {
                                    "EngagementID": "13",
                                    "ContentID": "14",
                                    "CampaignID": "12",
                                    "ProductID": "18",
                                    "ContentType": "VIDEO",
                                    "Views": "1796",
                                    "Clicks": "136",
                                    "Likes": "12",
                                    "EngagementDate": "04.02.2025"
                                },
                                {
                                    "EngagementID": "14",
                                    "ContentID": "2",
                                    "CampaignID": "16",
                                    "ProductID": "2",
                                    "ContentType": "SOCIAL MEDIA",
                                    "Views": "6837",
                                    "Clicks": "2251",
                                    "Likes": "317",
                                    "EngagementDate": "26.08.2023"
                                },
                                {
                                    "EngagementID": "15",
                                    "ContentID": "16",
                                    "CampaignID": "6",
                                    "ProductID": "19",
                                    "ContentType": "SOCIAL MEDIA",
                                    "Views": "36",
                                    "Clicks": "1",
                                    "Likes": "0",
                                    "EngagementDate": "20.10.2025"
                                },
                                {
                                    "EngagementID": "16",
                                    "ContentID": "2",
                                    "CampaignID": "17",
                                    "ProductID": "16",
                                    "ContentType": "SOCIALMEDIA",
                                    "Views": "5980",
                                    "Clicks": "1227",
                                    "Likes": "276",
                                    "EngagementDate": "06.07.2023"
                                },
                                {
                                    "EngagementID": "17",
                                    "ContentID": "35",
                                    "CampaignID": "18",
                                    "ProductID": "10",
                                    "ContentType": "BLOG",
                                    "Views": "563",
                                    "Clicks": "104",
                                    "Likes": "9",
                                    "EngagementDate": "17.05.2024"
                                },
                                {
                                    "EngagementID": "18",
                                    "ContentID": "12",
                                    "CampaignID": "19",
                                    "ProductID": "8",
                                    "ContentType": "VIDEO",
                                    "Views": "321",
                                    "Clicks": "15",
                                    "Likes": "0",
                                    "EngagementDate": "26.10.2024"
                                },
                                {
                                    "EngagementID": "20",
                                    "ContentID": "35",
                                    "CampaignID": "4",
                                    "ProductID": "6",
                                    "ContentType": "BLOG",
                                    "Views": "41",
                                    "Clicks": "7",
                                    "Likes": "0",
                                    "EngagementDate": "07.10.2024"
                                },
                                {
                                    "EngagementID": "21",
                                    "ContentID": "26",
                                    "CampaignID": "1",
                                    "ProductID": "6",
                                    "ContentType": "BLOG",
                                    "Views": "1037",
                                    "Clicks": "111",
                                    "Likes": "7",
                                    "EngagementDate": "28.12.2024"
                                },
                                {
                                    "EngagementID": "22",
                                    "ContentID": "11",
                                    "CampaignID": "12",
                                    "ProductID": "16",
                                    "ContentType": "VIDEO",
                                    "Views": "5543",
                                    "Clicks": "1288",
                                    "Likes": "357",
                                    "EngagementDate": "04.04.2024"
                                },
                                {
                                    "EngagementID": "26",
                                    "ContentID": "31",
                                    "CampaignID": "20",
                                    "ProductID": "20",
                                    "ContentType": "VIDEO",
                                    "Views": "1742",
                                    "Clicks": "71",
                                    "Likes": "2",
                                    "EngagementDate": "04.06.2025"
                                },
                                {
                                    "EngagementID": "27",
                                    "ContentID": "42",
                                    "CampaignID": "4",
                                    "ProductID": "3",
                                    "ContentType": "VIDEO",
                                    "Views": "3225",
                                    "Clicks": "337",
                                    "Likes": "72",
                                    "EngagementDate": "27.07.2024"
                                },
                                {
                                    "EngagementID": "28",
                                    "ContentID": "29",
                                    "CampaignID": "2",
                                    "ProductID": "16",
                                    "ContentType": "SOCIAL MEDIA",
                                    "Views": "165",
                                    "Clicks": "48",
                                    "Likes": "7",
                                    "EngagementDate": "22.12.2023"
                                },
                                {
                                    "EngagementID": "29",
                                    "ContentID": "15",
                                    "CampaignID": "17",
                                    "ProductID": "20",
                                    "ContentType": "VIDEO",
                                    "Views": "58",
                                    "Clicks": "2",
                                    "Likes": "0",
                                    "EngagementDate": "02.08.2025"
                                },
                                {
                                    "EngagementID": "31",
                                    "ContentID": "1",
                                    "CampaignID": "4",
                                    "ProductID": "4",
                                    "ContentType": "SOCIALMEDIA",
                                    "Views": "1079",
                                    "Clicks": "44",
                                    "Likes": "2",
                                    "EngagementDate": "10.06.2025"
                                },
                                {
                                    "EngagementID": "32",
                                    "ContentID": "37",
                                    "CampaignID": "19",
                                    "ProductID": "16",
                                    "ContentType": "BLOG",
                                    "Views": "441",
                                    "Clicks": "9",
                                    "Likes": "0",
                                    "EngagementDate": "04.11.2025"
                                },
                                {
                                    "EngagementID": "33",
                                    "ContentID": "44",
                                    "CampaignID": "1",
                                    "ProductID": "7",
                                    "ContentType": "BLOG",
                                    "Views": "1415",
                                    "Clicks": "76",
                                    "Likes": "3",
                                    "EngagementDate": "21.06.2025"
                                },
                                {
                                    "EngagementID": "34",
                                    "ContentID": "1",
                                    "CampaignID": "11",
                                    "ProductID": "4",
                                    "ContentType": "SOCIAL MEDIA",
                                    "Views": "1223",
                                    "Clicks": "127",
                                    "Likes": "29",
                                    "EngagementDate": "18.04.2023"
                                },
                                {
                                    "EngagementID": "35",
                                    "ContentID": "2",
                                    "CampaignID": "13",
                                    "ProductID": "15",
                                    "ContentType": "VIDEO",
                                    "Views": "704",
                                    "Clicks": "17",
                                    "Likes": "1",
                                    "EngagementDate": "26.07.2025"
                                },
                                {
                                    "EngagementID": "37",
                                    "ContentID": "32",
                                    "CampaignID": "7",
                                    "ProductID": "1",
                                    "ContentType": "VIDEO",
                                    "Views": "9759",
                                    "Clicks": "3095",
                                    "Likes": "400",
                                    "EngagementDate": "24.01.2023"
                                },
                                {
                                    "EngagementID": "39",
                                    "ContentID": "24",
                                    "CampaignID": "11",
                                    "ProductID": "11",
                                    "ContentType": "VIDEO",
                                    "Views": "4881",
                                    "Clicks": "1204",
                                    "Likes": "373",
                                    "EngagementDate": "02.09.2023"
                                },
                                {
                                    "EngagementID": "40",
                                    "ContentID": "18",
                                    "CampaignID": "4",
                                    "ProductID": "4",
                                    "ContentType": "VIDEO",
                                    "Views": "3222",
                                    "Clicks": "793",
                                    "Likes": "215",
                                    "EngagementDate": "02.04.2024"
                                },
                                {
                                    "EngagementID": "41",
                                    "ContentID": "8",
                                    "CampaignID": "2",
                                    "ProductID": "12",
                                    "ContentType": "SOCIAL MEDIA",
                                    "Views": "4654",
                                    "Clicks": "1083",
                                    "Likes": "193",
                                    "EngagementDate": "01.06.2024"
                                },
                                {
                                    "EngagementID": "42",
                                    "ContentID": "16",
                                    "CampaignID": "17",
                                    "ProductID": "8",
                                    "ContentType": "BLOG",
                                    "Views": "6771",
                                    "Clicks": "2617",
                                    "Likes": "840",
                                    "EngagementDate": "23.07.2023"
                                },
                                {
                                    "EngagementID": "45",
                                    "ContentID": "9",
                                    "CampaignID": "15",
                                    "ProductID": "12",
                                    "ContentType": "BLOG",
                                    "Views": "797",
                                    "Clicks": "103",
                                    "Likes": "4",
                                    "EngagementDate": "19.10.2024"
                                },
                                {
                                    "EngagementID": "46",
                                    "ContentID": "5",
                                    "CampaignID": "1",
                                    "ProductID": "1",
                                    "ContentType": "BLOG",
                                    "Views": "2549",
                                    "Clicks": "228",
                                    "Likes": "11",
                                    "EngagementDate": "29.09.2024"
                                },
                                {
                                    "EngagementID": "47",
                                    "ContentID": "41",
                                    "CampaignID": "3",
                                    "ProductID": "12",
                                    "ContentType": "VIDEO",
                                    "Views": "1145",
                                    "Clicks": "130",
                                    "Likes": "33",
                                    "EngagementDate": "08.06.2024"
                                },
                                {
                                    "EngagementID": "48",
                                    "ContentID": "19",
                                    "CampaignID": "17",
                                    "ProductID": "8",
                                    "ContentType": "VIDEO",
                                    "Views": "1648",
                                    "Clicks": "163",
                                    "Likes": "15",
                                    "EngagementDate": "26.01.2025"
                                },
                                {
                                    "EngagementID": "50",
                                    "ContentID": "43",
                                    "CampaignID": "15",
                                    "ProductID": "14",
                                    "ContentType": "SOCIALMEDIA",
                                    "Views": "1066",
                                    "Clicks": "110",
                                    "Likes": "11",
                                    "EngagementDate": "23.06.2024"
                                },
                                {
                                    "EngagementID": "52",
                                    "ContentID": "41",
                                    "CampaignID": "3",
                                    "ProductID": "15",
                                    "ContentType": "BLOG",
                                    "Views": "1617",
                                    "Clicks": "70",
                                    "Likes": "3",
                                    "EngagementDate": "22.04.2025"
                                },
                                {
                                    "EngagementID": "53",
                                    "ContentID": "41",
                                    "CampaignID": "16",
                                    "ProductID": "15",
                                    "ContentType": "VIDEO",
                                    "Views": "599",
                                    "Clicks": "39",
                                    "Likes": "2",
                                    "EngagementDate": "20.09.2024"
                                },
                                {
                                    "EngagementID": "54",
                                    "ContentID": "40",
                                    "CampaignID": "13",
                                    "ProductID": "17",
                                    "ContentType": "BLOG",
                                    "Views": "706",
                                    "Clicks": "34",
                                    "Likes": "0",
                                    "EngagementDate": "22.09.2025"
                                },
                                {
                                    "EngagementID": "55",
                                    "ContentID": "50",
                                    "CampaignID": "18",
                                    "ProductID": "6",
                                    "ContentType": "BLOG",
                                    "Views": "2387",
                                    "Clicks": "201",
                                    "Likes": "18",
                                    "EngagementDate": "01.04.2025"
                                },
                                {
                                    "EngagementID": "56",
                                    "ContentID": "24",
                                    "CampaignID": "10",
                                    "ProductID": "5",
                                    "ContentType": "SOCIALMEDIA",
                                    "Views": "922",
                                    "Clicks": "39",
                                    "Likes": "1",
                                    "EngagementDate": "19.12.2025"
                                },
                                {
                                    "EngagementID": "57",
                                    "ContentID": "8",
                                    "CampaignID": "7",
                                    "ProductID": "20",
                                    "ContentType": "VIDEO",
                                    "Views": "944",
                                    "Clicks": "91",
                                    "Likes": "3",
                                    "EngagementDate": "12.01.2025"
                                },
                                {
                                    "EngagementID": "58",
                                    "ContentID": "2",
                                    "CampaignID": "17",
                                    "ProductID": "9",
                                    "ContentType": "VIDEO",
                                    "Views": "578",
                                    "Clicks": "11",
                                    "Likes": "0",
                                    "EngagementDate": "07.11.2025"
                                },
                                {
                                    "EngagementID": "59",
                                    "ContentID": "37",
                                    "CampaignID": "10",
                                    "ProductID": "1",
                                    "ContentType": "VIDEO",
                                    "Views": "219",
                                    "Clicks": "7",
                                    "Likes": "0",
                                    "EngagementDate": "17.07.2025"
                                },
                                {
                                    "EngagementID": "60",
                                    "ContentID": "1",
                                    "CampaignID": "19",
                                    "ProductID": "7",
                                    "ContentType": "SOCIALMEDIA",
                                    "Views": "404",
                                    "Clicks": "15",
                                    "Likes": "0",
                                    "EngagementDate": "15.10.2025"
                                },
                                {
                                    "EngagementID": "61",
                                    "ContentID": "47",
                                    "CampaignID": "16",
                                    "ProductID": "7",
                                    "ContentType": "BLOG",
                                    "Views": "2847",
                                    "Clicks": "528",
                                    "Likes": "72",
                                    "EngagementDate": "24.01.2024"
                                },
                                {
                                    "EngagementID": "62",
                                    "ContentID": "15",
                                    "CampaignID": "18",
                                    "ProductID": "10",
                                    "ContentType": "SOCIAL MEDIA",
                                    "Views": "1521",
                                    "Clicks": "33",
                                    "Likes": "2",
                                    "EngagementDate": "29.05.2025"
                                },
                                {
                                    "EngagementID": "64",
                                    "ContentID": "49",
                                    "CampaignID": "1",
                                    "ProductID": "15",
                                    "ContentType": "VIDEO",
                                    "Views": "111",
                                    "Clicks": "3",
                                    "Likes": "0",
                                    "EngagementDate": "03.12.2025"
                                },
                                {
                                    "EngagementID": "65",
                                    "ContentID": "3",
                                    "CampaignID": "14",
                                    "ProductID": "12",
                                    "ContentType": "BLOG",
                                    "Views": "524",
                                    "Clicks": "94",
                                    "Likes": "30",
                                    "EngagementDate": "05.10.2023"
                                },
                                {
                                    "EngagementID": "66",
                                    "ContentID": "28",
                                    "CampaignID": "4",
                                    "ProductID": "5",
                                    "ContentType": "VIDEO",
                                    "Views": "1493",
                                    "Clicks": "141",
                                    "Likes": "23",
                                    "EngagementDate": "12.09.2024"
                                },
                                {
                                    "EngagementID": "68",
                                    "ContentID": "33",
                                    "CampaignID": "3",
                                    "ProductID": "19",
                                    "ContentType": "VIDEO",
                                    "Views": "239",
                                    "Clicks": "43",
                                    "Likes": "5",
                                    "EngagementDate": "20.10.2024"
                                },
                                {
                                    "EngagementID": "69",
                                    "ContentID": "50",
                                    "CampaignID": "2",
                                    "ProductID": "8",
                                    "ContentType": "BLOG",
                                    "Views": "2935",
                                    "Clicks": "303",
                                    "Likes": "68",
                                    "EngagementDate": "11.05.2024"
                                },
                                {
                                    "EngagementID": "70",
                                    "ContentID": "12",
                                    "CampaignID": "12",
                                    "ProductID": "11",
                                    "ContentType": "SOCIAL MEDIA",
                                    "Views": "228",
                                    "Clicks": "49",
                                    "Likes": "10",
                                    "EngagementDate": "30.04.2024"
                                },
                                {
                                    "EngagementID": "71",
                                    "ContentID": "37",
                                    "CampaignID": "11",
                                    "ProductID": "14",
                                    "ContentType": "VIDEO",
                                    "Views": "4368",
                                    "Clicks": "1156",
                                    "Likes": "459",
                                    "EngagementDate": "04.03.2023"
                                },
                                {
                                    "EngagementID": "72",
                                    "ContentID": "19",
                                    "CampaignID": "17",
                                    "ProductID": "1",
                                    "ContentType": "BLOG",
                                    "Views": "6991",
                                    "Clicks": "2499",
                                    "Likes": "657",
                                    "EngagementDate": "06.01.2023"
                                },
                                {
                                    "EngagementID": "73",
                                    "ContentID": "10",
                                    "CampaignID": "18",
                                    "ProductID": "3",
                                    "ContentType": "SOCIALMEDIA",
                                    "Views": "40",
                                    "Clicks": "4",
                                    "Likes": "0",
                                    "EngagementDate": "06.04.2025"
                                },
                                {
                                    "EngagementID": "75",
                                    "ContentID": "11",
                                    "CampaignID": "13",
                                    "ProductID": "18",
                                    "ContentType": "VIDEO",
                                    "Views": "565",
                                    "Clicks": "137",
                                    "Likes": "12",
                                    "EngagementDate": "01.05.2024"
                                },
                                {
                                    "EngagementID": "76",
                                    "ContentID": "48",
                                    "CampaignID": "14",
                                    "ProductID": "3",
                                    "ContentType": "BLOG",
                                    "Views": "6205",
                                    "Clicks": "2834",
                                    "Likes": "545",
                                    "EngagementDate": "11.03.2023"
                                },
                                {
                                    "EngagementID": "77",
                                    "ContentID": "26",
                                    "CampaignID": "20",
                                    "ProductID": "18",
                                    "ContentType": "SOCIAL MEDIA",
                                    "Views": "1671",
                                    "Clicks": "482",
                                    "Likes": "143",
                                    "EngagementDate": "27.08.2023"
                                },
                                {
                                    "EngagementID": "78",
                                    "ContentID": "44",
                                    "CampaignID": "17",
                                    "ProductID": "2",
                                    "ContentType": "SOCIALMEDIA",
                                    "Views": "713",
                                    "Clicks": "44",
                                    "Likes": "2",
                                    "EngagementDate": "07.06.2025"
                                },
                                {
                                    "EngagementID": "79",
                                    "ContentID": "36",
                                    "CampaignID": "9",
                                    "ProductID": "16",
                                    "ContentType": "VIDEO",
                                    "Views": "3632",
                                    "Clicks": "1500",
                                    "Likes": "397",
                                    "EngagementDate": "26.04.2023"
                                },
                                {
                                    "EngagementID": "80",
                                    "ContentID": "15",
                                    "CampaignID": "19",
                                    "ProductID": "12",
                                    "ContentType": "VIDEO",
                                    "Views": "1535",
                                    "Clicks": "243",
                                    "Likes": "8",
                                    "EngagementDate": "04.01.2025"
                                },
                                {
                                    "EngagementID": "82",
                                    "ContentID": "49",
                                    "CampaignID": "8",
                                    "ProductID": "20",
                                    "ContentType": "SOCIAL MEDIA",
                                    "Views": "1354",
                                    "Clicks": "425",
                                    "Likes": "142",
                                    "EngagementDate": "26.04.2023"
                                },
                                {
                                    "EngagementID": "83",
                                    "ContentID": "48",
                                    "CampaignID": "9",
                                    "ProductID": "2",
                                    "ContentType": "VIDEO",
                                    "Views": "1933",
                                    "Clicks": "158",
                                    "Likes": "14",
                                    "EngagementDate": "20.02.2025"
                                },
                                {
                                    "EngagementID": "84",
                                    "ContentID": "24",
                                    "CampaignID": "18",
                                    "ProductID": "14",
                                    "ContentType": "SOCIALMEDIA",
                                    "Views": "6319",
                                    "Clicks": "832",
                                    "Likes": "116",
                                    "EngagementDate": "22.05.2023"
                                },
                                {
                                    "EngagementID": "85",
                                    "ContentID": "34",
                                    "CampaignID": "18",
                                    "ProductID": "20",
                                    "ContentType": "VIDEO",
                                    "Views": "36",
                                    "Clicks": "3",
                                    "Likes": "0",
                                    "EngagementDate": "08.05.2025"
                                },
                                {
                                    "EngagementID": "86",
                                    "ContentID": "37",
                                    "CampaignID": "3",
                                    "ProductID": "7",
                                    "ContentType": "BLOG",
                                    "Views": "1576",
                                    "Clicks": "45",
                                    "Likes": "5",
                                    "EngagementDate": "06.04.2025"
                                },
                                {
                                    "EngagementID": "87",
                                    "ContentID": "8",
                                    "CampaignID": "2",
                                    "ProductID": "2",
                                    "ContentType": "BLOG",
                                    "Views": "3142",
                                    "Clicks": "602",
                                    "Likes": "111",
                                    "EngagementDate": "27.07.2024"
                                },
                                {
                                    "EngagementID": "88",
                                    "ContentID": "28",
                                    "CampaignID": "12",
                                    "ProductID": "7",
                                    "ContentType": "SOCIALMEDIA",
                                    "Views": "1360",
                                    "Clicks": "440",
                                    "Likes": "121",
                                    "EngagementDate": "01.10.2023"
                                },
                                {
                                    "EngagementID": "89",
                                    "ContentID": "21",
                                    "CampaignID": "2",
                                    "ProductID": "13",
                                    "ContentType": "SOCIAL MEDIA",
                                    "Views": "214",
                                    "Clicks": "15",
                                    "Likes": "1",
                                    "EngagementDate": "27.11.2024"
                                },
                                {
                                    "EngagementID": "90",
                                    "ContentID": "35",
                                    "CampaignID": "7",
                                    "ProductID": "9",
                                    "ContentType": "VIDEO",
                                    "Views": "3338",
                                    "Clicks": "1402",
                                    "Likes": "595",
                                    "EngagementDate": "25.05.2023"
                                },
                                {
                                    "EngagementID": "91",
                                    "ContentID": "8",
                                    "CampaignID": "7",
                                    "ProductID": "13",
                                    "ContentType": "BLOG",
                                    "Views": "379",
                                    "Clicks": "95",
                                    "Likes": "9",
                                    "EngagementDate": "26.05.2024"
                                },
                                {
                                    "EngagementID": "92",
                                    "ContentID": "35",
                                    "CampaignID": "3",
                                    "ProductID": "8",
                                    "ContentType": "VIDEO",
                                    "Views": "516",
                                    "Clicks": "49",
                                    "Likes": "3",
                                    "EngagementDate": "21.05.2025"
                                },
                                {
                                    "EngagementID": "93",
                                    "ContentID": "23",
                                    "CampaignID": "1",
                                    "ProductID": "17",
                                    "ContentType": "SOCIALMEDIA",
                                    "Views": "2989",
                                    "Clicks": "1283",
                                    "Likes": "147",
                                    "EngagementDate": "19.02.2023"
                                },
                                {
                                    "EngagementID": "94",
                                    "ContentID": "33",
                                    "CampaignID": "15",
                                    "ProductID": "17",
                                    "ContentType": "VIDEO",
                                    "Views": "2595",
                                    "Clicks": "933",
                                    "Likes": "389",
                                    "EngagementDate": "18.02.2023"
                                },
                                {
                                    "EngagementID": "96",
                                    "ContentID": "17",
                                    "CampaignID": "14",
                                    "ProductID": "13",
                                    "ContentType": "BLOG",
                                    "Views": "712",
                                    "Clicks": "142",
                                    "Likes": "32",
                                    "EngagementDate": "15.07.2024"
                                },
                                {
                                    "EngagementID": "97",
                                    "ContentID": "34",
                                    "CampaignID": "16",
                                    "ProductID": "7",
                                    "ContentType": "BLOG",
                                    "Views": "696",
                                    "Clicks": "47",
                                    "Likes": "3",
                                    "EngagementDate": "01.07.2025"
                                },
                                {
                                    "EngagementID": "98",
                                    "ContentID": "44",
                                    "CampaignID": "11",
                                    "ProductID": "8",
                                    "ContentType": "BLOG",
                                    "Views": "231",
                                    "Clicks": "10",
                                    "Likes": "0",
                                    "EngagementDate": "20.08.2025"
                                },
                                {
                                    "EngagementID": "99",
                                    "ContentID": "26",
                                    "CampaignID": "17",
                                    "ProductID": "4",
                                    "ContentType": "BLOG",
                                    "Views": "3511",
                                    "Clicks": "479",
                                    "Likes": "119",
                                    "EngagementDate": "15.04.2024"
                                },
                                {
                                    "EngagementID": "100",
                                    "ContentID": "32",
                                    "CampaignID": "15",
                                    "ProductID": "13",
                                    "ContentType": "VIDEO",
                                    "Views": "2657",
                                    "Clicks": "175",
                                    "Likes": "34",
                                    "EngagementDate": "05.05.2024"
                                }
                            ]
                        },
                        "text/html": [
                            "<table>",
                            "<tr><th>EngagementID</th><th>ContentID</th><th>CampaignID</th><th>ProductID</th><th>ContentType</th><th>Views</th><th>Clicks</th><th>Likes</th><th>EngagementDate</th></tr>",
                            "<tr><td>1</td><td>39</td><td>1</td><td>9</td><td>BLOG</td><td>1883</td><td>671</td><td>190</td><td>30.08.2023</td></tr>",
                            "<tr><td>2</td><td>48</td><td>18</td><td>20</td><td>BLOG</td><td>5280</td><td>532</td><td>114</td><td>28.03.2023</td></tr>",
                            "<tr><td>3</td><td>16</td><td>7</td><td>14</td><td>VIDEO</td><td>1905</td><td>204</td><td>32</td><td>08.12.2023</td></tr>",
                            "<tr><td>4</td><td>43</td><td>19</td><td>20</td><td>VIDEO</td><td>2766</td><td>257</td><td>17</td><td>21.01.2025</td></tr>",
                            "<tr><td>6</td><td>32</td><td>18</td><td>19</td><td>SOCIAL MEDIA</td><td>8237</td><td>1641</td><td>648</td><td>18.06.2023</td></tr>",
                            "<tr><td>7</td><td>33</td><td>12</td><td>2</td><td>SOCIALMEDIA</td><td>750</td><td>34</td><td>1</td><td>01.10.2025</td></tr>",
                            "<tr><td>8</td><td>47</td><td>17</td><td>6</td><td>BLOG</td><td>891</td><td>35</td><td>1</td><td>31.03.2025</td></tr>",
                            "<tr><td>9</td><td>48</td><td>13</td><td>16</td><td>BLOG</td><td>5571</td><td>1527</td><td>123</td><td>19.03.2024</td></tr>",
                            "<tr><td>10</td><td>4</td><td>15</td><td>15</td><td>BLOG</td><td>4279</td><td>297</td><td>25</td><td>03.12.2023</td></tr>",
                            "<tr><td>11</td><td>38</td><td>19</td><td>6</td><td>SOCIAL MEDIA</td><td>4297</td><td>234</td><td>29</td><td>26.05.2024</td></tr>",
                            "<tr><td>12</td><td>29</td><td>3</td><td>10</td><td>SOCIALMEDIA</td><td>7877</td><td>2037</td><td>396</td><td>15.06.2023</td></tr>",
                            "<tr><td>13</td><td>14</td><td>12</td><td>18</td><td>VIDEO</td><td>1796</td><td>136</td><td>12</td><td>04.02.2025</td></tr>",
                            "<tr><td>14</td><td>2</td><td>16</td><td>2</td><td>SOCIAL MEDIA</td><td>6837</td><td>2251</td><td>317</td><td>26.08.2023</td></tr>",
                            "<tr><td>15</td><td>16</td><td>6</td><td>19</td><td>SOCIAL MEDIA</td><td>36</td><td>1</td><td>0</td><td>20.10.2025</td></tr>",
                            "<tr><td>16</td><td>2</td><td>17</td><td>16</td><td>SOCIALMEDIA</td><td>5980</td><td>1227</td><td>276</td><td>06.07.2023</td></tr>",
                            "<tr><td>17</td><td>35</td><td>18</td><td>10</td><td>BLOG</td><td>563</td><td>104</td><td>9</td><td>17.05.2024</td></tr>",
                            "<tr><td>18</td><td>12</td><td>19</td><td>8</td><td>VIDEO</td><td>321</td><td>15</td><td>0</td><td>26.10.2024</td></tr>",
                            "<tr><td>20</td><td>35</td><td>4</td><td>6</td><td>BLOG</td><td>41</td><td>7</td><td>0</td><td>07.10.2024</td></tr>",
                            "<tr><td>21</td><td>26</td><td>1</td><td>6</td><td>BLOG</td><td>1037</td><td>111</td><td>7</td><td>28.12.2024</td></tr>",
                            "<tr><td>22</td><td>11</td><td>12</td><td>16</td><td>VIDEO</td><td>5543</td><td>1288</td><td>357</td><td>04.04.2024</td></tr>",
                            "<tr><td>26</td><td>31</td><td>20</td><td>20</td><td>VIDEO</td><td>1742</td><td>71</td><td>2</td><td>04.06.2025</td></tr>",
                            "<tr><td>27</td><td>42</td><td>4</td><td>3</td><td>VIDEO</td><td>3225</td><td>337</td><td>72</td><td>27.07.2024</td></tr>",
                            "<tr><td>28</td><td>29</td><td>2</td><td>16</td><td>SOCIAL MEDIA</td><td>165</td><td>48</td><td>7</td><td>22.12.2023</td></tr>",
                            "<tr><td>29</td><td>15</td><td>17</td><td>20</td><td>VIDEO</td><td>58</td><td>2</td><td>0</td><td>02.08.2025</td></tr>",
                            "<tr><td>31</td><td>1</td><td>4</td><td>4</td><td>SOCIALMEDIA</td><td>1079</td><td>44</td><td>2</td><td>10.06.2025</td></tr>",
                            "<tr><td>32</td><td>37</td><td>19</td><td>16</td><td>BLOG</td><td>441</td><td>9</td><td>0</td><td>04.11.2025</td></tr>",
                            "<tr><td>33</td><td>44</td><td>1</td><td>7</td><td>BLOG</td><td>1415</td><td>76</td><td>3</td><td>21.06.2025</td></tr>",
                            "<tr><td>34</td><td>1</td><td>11</td><td>4</td><td>SOCIAL MEDIA</td><td>1223</td><td>127</td><td>29</td><td>18.04.2023</td></tr>",
                            "<tr><td>35</td><td>2</td><td>13</td><td>15</td><td>VIDEO</td><td>704</td><td>17</td><td>1</td><td>26.07.2025</td></tr>",
                            "<tr><td>37</td><td>32</td><td>7</td><td>1</td><td>VIDEO</td><td>9759</td><td>3095</td><td>400</td><td>24.01.2023</td></tr>",
                            "<tr><td>39</td><td>24</td><td>11</td><td>11</td><td>VIDEO</td><td>4881</td><td>1204</td><td>373</td><td>02.09.2023</td></tr>",
                            "<tr><td>40</td><td>18</td><td>4</td><td>4</td><td>VIDEO</td><td>3222</td><td>793</td><td>215</td><td>02.04.2024</td></tr>",
                            "<tr><td>41</td><td>8</td><td>2</td><td>12</td><td>SOCIAL MEDIA</td><td>4654</td><td>1083</td><td>193</td><td>01.06.2024</td></tr>",
                            "<tr><td>42</td><td>16</td><td>17</td><td>8</td><td>BLOG</td><td>6771</td><td>2617</td><td>840</td><td>23.07.2023</td></tr>",
                            "<tr><td>45</td><td>9</td><td>15</td><td>12</td><td>BLOG</td><td>797</td><td>103</td><td>4</td><td>19.10.2024</td></tr>",
                            "<tr><td>46</td><td>5</td><td>1</td><td>1</td><td>BLOG</td><td>2549</td><td>228</td><td>11</td><td>29.09.2024</td></tr>",
                            "<tr><td>47</td><td>41</td><td>3</td><td>12</td><td>VIDEO</td><td>1145</td><td>130</td><td>33</td><td>08.06.2024</td></tr>",
                            "<tr><td>48</td><td>19</td><td>17</td><td>8</td><td>VIDEO</td><td>1648</td><td>163</td><td>15</td><td>26.01.2025</td></tr>",
                            "<tr><td>50</td><td>43</td><td>15</td><td>14</td><td>SOCIALMEDIA</td><td>1066</td><td>110</td><td>11</td><td>23.06.2024</td></tr>",
                            "<tr><td>52</td><td>41</td><td>3</td><td>15</td><td>BLOG</td><td>1617</td><td>70</td><td>3</td><td>22.04.2025</td></tr>",
                            "<tr><td>53</td><td>41</td><td>16</td><td>15</td><td>VIDEO</td><td>599</td><td>39</td><td>2</td><td>20.09.2024</td></tr>",
                            "<tr><td>54</td><td>40</td><td>13</td><td>17</td><td>BLOG</td><td>706</td><td>34</td><td>0</td><td>22.09.2025</td></tr>",
                            "<tr><td>55</td><td>50</td><td>18</td><td>6</td><td>BLOG</td><td>2387</td><td>201</td><td>18</td><td>01.04.2025</td></tr>",
                            "<tr><td>56</td><td>24</td><td>10</td><td>5</td><td>SOCIALMEDIA</td><td>922</td><td>39</td><td>1</td><td>19.12.2025</td></tr>",
                            "<tr><td>57</td><td>8</td><td>7</td><td>20</td><td>VIDEO</td><td>944</td><td>91</td><td>3</td><td>12.01.2025</td></tr>",
                            "<tr><td>58</td><td>2</td><td>17</td><td>9</td><td>VIDEO</td><td>578</td><td>11</td><td>0</td><td>07.11.2025</td></tr>",
                            "<tr><td>59</td><td>37</td><td>10</td><td>1</td><td>VIDEO</td><td>219</td><td>7</td><td>0</td><td>17.07.2025</td></tr>",
                            "<tr><td>60</td><td>1</td><td>19</td><td>7</td><td>SOCIALMEDIA</td><td>404</td><td>15</td><td>0</td><td>15.10.2025</td></tr>",
                            "<tr><td>61</td><td>47</td><td>16</td><td>7</td><td>BLOG</td><td>2847</td><td>528</td><td>72</td><td>24.01.2024</td></tr>",
                            "<tr><td>62</td><td>15</td><td>18</td><td>10</td><td>SOCIAL MEDIA</td><td>1521</td><td>33</td><td>2</td><td>29.05.2025</td></tr>",
                            "<tr><td>64</td><td>49</td><td>1</td><td>15</td><td>VIDEO</td><td>111</td><td>3</td><td>0</td><td>03.12.2025</td></tr>",
                            "<tr><td>65</td><td>3</td><td>14</td><td>12</td><td>BLOG</td><td>524</td><td>94</td><td>30</td><td>05.10.2023</td></tr>",
                            "<tr><td>66</td><td>28</td><td>4</td><td>5</td><td>VIDEO</td><td>1493</td><td>141</td><td>23</td><td>12.09.2024</td></tr>",
                            "<tr><td>68</td><td>33</td><td>3</td><td>19</td><td>VIDEO</td><td>239</td><td>43</td><td>5</td><td>20.10.2024</td></tr>",
                            "<tr><td>69</td><td>50</td><td>2</td><td>8</td><td>BLOG</td><td>2935</td><td>303</td><td>68</td><td>11.05.2024</td></tr>",
                            "<tr><td>70</td><td>12</td><td>12</td><td>11</td><td>SOCIAL MEDIA</td><td>228</td><td>49</td><td>10</td><td>30.04.2024</td></tr>",
                            "<tr><td>71</td><td>37</td><td>11</td><td>14</td><td>VIDEO</td><td>4368</td><td>1156</td><td>459</td><td>04.03.2023</td></tr>",
                            "<tr><td>72</td><td>19</td><td>17</td><td>1</td><td>BLOG</td><td>6991</td><td>2499</td><td>657</td><td>06.01.2023</td></tr>",
                            "<tr><td>73</td><td>10</td><td>18</td><td>3</td><td>SOCIALMEDIA</td><td>40</td><td>4</td><td>0</td><td>06.04.2025</td></tr>",
                            "<tr><td>75</td><td>11</td><td>13</td><td>18</td><td>VIDEO</td><td>565</td><td>137</td><td>12</td><td>01.05.2024</td></tr>",
                            "<tr><td>76</td><td>48</td><td>14</td><td>3</td><td>BLOG</td><td>6205</td><td>2834</td><td>545</td><td>11.03.2023</td></tr>",
                            "<tr><td>77</td><td>26</td><td>20</td><td>18</td><td>SOCIAL MEDIA</td><td>1671</td><td>482</td><td>143</td><td>27.08.2023</td></tr>",
                            "<tr><td>78</td><td>44</td><td>17</td><td>2</td><td>SOCIALMEDIA</td><td>713</td><td>44</td><td>2</td><td>07.06.2025</td></tr>",
                            "<tr><td>79</td><td>36</td><td>9</td><td>16</td><td>VIDEO</td><td>3632</td><td>1500</td><td>397</td><td>26.04.2023</td></tr>",
                            "<tr><td>80</td><td>15</td><td>19</td><td>12</td><td>VIDEO</td><td>1535</td><td>243</td><td>8</td><td>04.01.2025</td></tr>",
                            "<tr><td>82</td><td>49</td><td>8</td><td>20</td><td>SOCIAL MEDIA</td><td>1354</td><td>425</td><td>142</td><td>26.04.2023</td></tr>",
                            "<tr><td>83</td><td>48</td><td>9</td><td>2</td><td>VIDEO</td><td>1933</td><td>158</td><td>14</td><td>20.02.2025</td></tr>",
                            "<tr><td>84</td><td>24</td><td>18</td><td>14</td><td>SOCIALMEDIA</td><td>6319</td><td>832</td><td>116</td><td>22.05.2023</td></tr>",
                            "<tr><td>85</td><td>34</td><td>18</td><td>20</td><td>VIDEO</td><td>36</td><td>3</td><td>0</td><td>08.05.2025</td></tr>",
                            "<tr><td>86</td><td>37</td><td>3</td><td>7</td><td>BLOG</td><td>1576</td><td>45</td><td>5</td><td>06.04.2025</td></tr>",
                            "<tr><td>87</td><td>8</td><td>2</td><td>2</td><td>BLOG</td><td>3142</td><td>602</td><td>111</td><td>27.07.2024</td></tr>",
                            "<tr><td>88</td><td>28</td><td>12</td><td>7</td><td>SOCIALMEDIA</td><td>1360</td><td>440</td><td>121</td><td>01.10.2023</td></tr>",
                            "<tr><td>89</td><td>21</td><td>2</td><td>13</td><td>SOCIAL MEDIA</td><td>214</td><td>15</td><td>1</td><td>27.11.2024</td></tr>",
                            "<tr><td>90</td><td>35</td><td>7</td><td>9</td><td>VIDEO</td><td>3338</td><td>1402</td><td>595</td><td>25.05.2023</td></tr>",
                            "<tr><td>91</td><td>8</td><td>7</td><td>13</td><td>BLOG</td><td>379</td><td>95</td><td>9</td><td>26.05.2024</td></tr>",
                            "<tr><td>92</td><td>35</td><td>3</td><td>8</td><td>VIDEO</td><td>516</td><td>49</td><td>3</td><td>21.05.2025</td></tr>",
                            "<tr><td>93</td><td>23</td><td>1</td><td>17</td><td>SOCIALMEDIA</td><td>2989</td><td>1283</td><td>147</td><td>19.02.2023</td></tr>",
                            "<tr><td>94</td><td>33</td><td>15</td><td>17</td><td>VIDEO</td><td>2595</td><td>933</td><td>389</td><td>18.02.2023</td></tr>",
                            "<tr><td>96</td><td>17</td><td>14</td><td>13</td><td>BLOG</td><td>712</td><td>142</td><td>32</td><td>15.07.2024</td></tr>",
                            "<tr><td>97</td><td>34</td><td>16</td><td>7</td><td>BLOG</td><td>696</td><td>47</td><td>3</td><td>01.07.2025</td></tr>",
                            "<tr><td>98</td><td>44</td><td>11</td><td>8</td><td>BLOG</td><td>231</td><td>10</td><td>0</td><td>20.08.2025</td></tr>",
                            "<tr><td>99</td><td>26</td><td>17</td><td>4</td><td>BLOG</td><td>3511</td><td>479</td><td>119</td><td>15.04.2024</td></tr>",
                            "<tr><td>100</td><td>32</td><td>15</td><td>13</td><td>VIDEO</td><td>2657</td><td>175</td><td>34</td><td>05.05.2024</td></tr>",
                            "</table>"
                        ]
                    }
                }
            ],
            "execution_count": 19
        },
        {
            "cell_type": "markdown",
            "source": [
                "<span style=\"color: #6a9955;\"><b>-- Common Table Expression (CTE) to identify and tag duplicate records</b></span>"
            ],
            "metadata": {
                "azdata_cell_guid": "8e8b9886-51ef-469a-8093-368e3e7b4f5d"
            },
            "attachments": {}
        },
        {
            "cell_type": "code",
            "source": [
                "SELECT * FROM customer_journey;"
            ],
            "metadata": {
                "language": "sql",
                "azdata_cell_guid": "002c0f79-acd2-4aeb-9e06-ab9430d7a7d8"
            },
            "outputs": [
                {
                    "output_type": "display_data",
                    "data": {
                        "text/html": "(100 row(s) affected)"
                    },
                    "metadata": {}
                },
                {
                    "output_type": "display_data",
                    "data": {
                        "text/html": "Total execution time: 00:00:01.020"
                    },
                    "metadata": {}
                },
                {
                    "output_type": "execute_result",
                    "metadata": {},
                    "execution_count": 22,
                    "data": {
                        "application/vnd.dataresource+json": {
                            "schema": {
                                "fields": [
                                    {
                                        "name": "JourneyID"
                                    },
                                    {
                                        "name": "CustomerID"
                                    },
                                    {
                                        "name": "ProductID"
                                    },
                                    {
                                        "name": "VisitDate"
                                    },
                                    {
                                        "name": "Stage"
                                    },
                                    {
                                        "name": "Action"
                                    },
                                    {
                                        "name": "Duration"
                                    }
                                ]
                            },
                            "data": [
                                {
                                    "JourneyID": "1",
                                    "CustomerID": "64",
                                    "ProductID": "18",
                                    "VisitDate": "2024-06-10",
                                    "Stage": "Checkout",
                                    "Action": "Drop-off",
                                    "Duration": ""
                                },
                                {
                                    "JourneyID": "2",
                                    "CustomerID": "94",
                                    "ProductID": "11",
                                    "VisitDate": "2025-07-09",
                                    "Stage": "Checkout",
                                    "Action": "Drop-off",
                                    "Duration": ""
                                },
                                {
                                    "JourneyID": "3",
                                    "CustomerID": "34",
                                    "ProductID": "8",
                                    "VisitDate": "2024-06-14",
                                    "Stage": "ProductPage",
                                    "Action": "View",
                                    "Duration": "235.0"
                                },
                                {
                                    "JourneyID": "4",
                                    "CustomerID": "33",
                                    "ProductID": "18",
                                    "VisitDate": "2025-05-28",
                                    "Stage": "Checkout",
                                    "Action": "Drop-off",
                                    "Duration": ""
                                },
                                {
                                    "JourneyID": "5",
                                    "CustomerID": "91",
                                    "ProductID": "10",
                                    "VisitDate": "2023-02-11",
                                    "Stage": "Homepage",
                                    "Action": "Click",
                                    "Duration": "156.0"
                                },
                                {
                                    "JourneyID": "6",
                                    "CustomerID": "54",
                                    "ProductID": "11",
                                    "VisitDate": "2025-12-19",
                                    "Stage": "Homepage",
                                    "Action": "View",
                                    "Duration": "264.0"
                                },
                                {
                                    "JourneyID": "7",
                                    "CustomerID": "80",
                                    "ProductID": "4",
                                    "VisitDate": "2023-08-25",
                                    "Stage": "Homepage",
                                    "Action": "View",
                                    "Duration": "298.0"
                                },
                                {
                                    "JourneyID": "8",
                                    "CustomerID": "99",
                                    "ProductID": "10",
                                    "VisitDate": "2025-07-03",
                                    "Stage": "ProductPage",
                                    "Action": "View",
                                    "Duration": "287.0"
                                },
                                {
                                    "JourneyID": "9",
                                    "CustomerID": "31",
                                    "ProductID": "4",
                                    "VisitDate": "2025-06-13",
                                    "Stage": "ProductPage",
                                    "Action": "View",
                                    "Duration": "278.0"
                                },
                                {
                                    "JourneyID": "10",
                                    "CustomerID": "44",
                                    "ProductID": "16",
                                    "VisitDate": "2025-04-23",
                                    "Stage": "ProductPage",
                                    "Action": "View",
                                    "Duration": "30.0"
                                },
                                {
                                    "JourneyID": "11",
                                    "CustomerID": "23",
                                    "ProductID": "12",
                                    "VisitDate": "2023-08-22",
                                    "Stage": "Checkout",
                                    "Action": "Drop-off",
                                    "Duration": ""
                                },
                                {
                                    "JourneyID": "12",
                                    "CustomerID": "97",
                                    "ProductID": "12",
                                    "VisitDate": "2023-07-28",
                                    "Stage": "ProductPage",
                                    "Action": "View",
                                    "Duration": "227.0"
                                },
                                {
                                    "JourneyID": "13",
                                    "CustomerID": "83",
                                    "ProductID": "5",
                                    "VisitDate": "2024-06-20",
                                    "Stage": "Homepage",
                                    "Action": "View",
                                    "Duration": "223.0"
                                },
                                {
                                    "JourneyID": "14",
                                    "CustomerID": "14",
                                    "ProductID": "13",
                                    "VisitDate": "2025-11-01",
                                    "Stage": "ProductPage",
                                    "Action": "View",
                                    "Duration": "13.0"
                                },
                                {
                                    "JourneyID": "15",
                                    "CustomerID": "9",
                                    "ProductID": "1",
                                    "VisitDate": "2025-11-04",
                                    "Stage": "ProductPage",
                                    "Action": "View",
                                    "Duration": "292.0"
                                },
                                {
                                    "JourneyID": "16",
                                    "CustomerID": "14",
                                    "ProductID": "16",
                                    "VisitDate": "2024-07-17",
                                    "Stage": "Homepage",
                                    "Action": "View",
                                    "Duration": "46.0"
                                },
                                {
                                    "JourneyID": "17",
                                    "CustomerID": "67",
                                    "ProductID": "2",
                                    "VisitDate": "2025-12-11",
                                    "Stage": "Homepage",
                                    "Action": "View",
                                    "Duration": "185.0"
                                },
                                {
                                    "JourneyID": "18",
                                    "CustomerID": "70",
                                    "ProductID": "15",
                                    "VisitDate": "2025-10-13",
                                    "Stage": "Homepage",
                                    "Action": "View",
                                    "Duration": "191.0"
                                },
                                {
                                    "JourneyID": "19",
                                    "CustomerID": "9",
                                    "ProductID": "1",
                                    "VisitDate": "2024-08-15",
                                    "Stage": "Homepage",
                                    "Action": "View",
                                    "Duration": "187.0"
                                },
                                {
                                    "JourneyID": "20",
                                    "CustomerID": "44",
                                    "ProductID": "18",
                                    "VisitDate": "2024-02-19",
                                    "Stage": "productpage",
                                    "Action": "View",
                                    "Duration": "154.0"
                                },
                                {
                                    "JourneyID": "21",
                                    "CustomerID": "58",
                                    "ProductID": "20",
                                    "VisitDate": "2024-03-07",
                                    "Stage": "Checkout",
                                    "Action": "Drop-off",
                                    "Duration": ""
                                },
                                {
                                    "JourneyID": "22",
                                    "CustomerID": "12",
                                    "ProductID": "1",
                                    "VisitDate": "2025-11-19",
                                    "Stage": "Homepage",
                                    "Action": "Click",
                                    "Duration": "20.0"
                                },
                                {
                                    "JourneyID": "23",
                                    "CustomerID": "58",
                                    "ProductID": "1",
                                    "VisitDate": "2023-07-05",
                                    "Stage": "Homepage",
                                    "Action": "View",
                                    "Duration": "48.0"
                                },
                                {
                                    "JourneyID": "24",
                                    "CustomerID": "77",
                                    "ProductID": "6",
                                    "VisitDate": "2025-06-25",
                                    "Stage": "Checkout",
                                    "Action": "Drop-off",
                                    "Duration": ""
                                },
                                {
                                    "JourneyID": "25",
                                    "CustomerID": "75",
                                    "ProductID": "12",
                                    "VisitDate": "2023-11-23",
                                    "Stage": "ProductPage",
                                    "Action": "View",
                                    "Duration": "239.0"
                                },
                                {
                                    "JourneyID": "26",
                                    "CustomerID": "78",
                                    "ProductID": "20",
                                    "VisitDate": "2024-04-17",
                                    "Stage": "Homepage",
                                    "Action": "View",
                                    "Duration": "129.0"
                                },
                                {
                                    "JourneyID": "27",
                                    "CustomerID": "36",
                                    "ProductID": "9",
                                    "VisitDate": "2024-08-10",
                                    "Stage": "Homepage",
                                    "Action": "View",
                                    "Duration": "214.0"
                                },
                                {
                                    "JourneyID": "28",
                                    "CustomerID": "1",
                                    "ProductID": "20",
                                    "VisitDate": "2025-09-26",
                                    "Stage": "ProductPage",
                                    "Action": "View",
                                    "Duration": "64.0"
                                },
                                {
                                    "JourneyID": "29",
                                    "CustomerID": "12",
                                    "ProductID": "17",
                                    "VisitDate": "2025-06-01",
                                    "Stage": "Homepage",
                                    "Action": "View",
                                    "Duration": "205.0"
                                },
                                {
                                    "JourneyID": "30",
                                    "CustomerID": "48",
                                    "ProductID": "2",
                                    "VisitDate": "2023-05-03",
                                    "Stage": "ProductPage",
                                    "Action": "View",
                                    "Duration": "242.0"
                                },
                                {
                                    "JourneyID": "31",
                                    "CustomerID": "81",
                                    "ProductID": "19",
                                    "VisitDate": "2023-04-04",
                                    "Stage": "Homepage",
                                    "Action": "View",
                                    "Duration": "130.0"
                                },
                                {
                                    "JourneyID": "32",
                                    "CustomerID": "67",
                                    "ProductID": "11",
                                    "VisitDate": "2023-09-04",
                                    "Stage": "Checkout",
                                    "Action": "Drop-off",
                                    "Duration": ""
                                },
                                {
                                    "JourneyID": "33",
                                    "CustomerID": "2",
                                    "ProductID": "5",
                                    "VisitDate": "2025-08-10",
                                    "Stage": "Homepage",
                                    "Action": "View",
                                    "Duration": "26.0"
                                },
                                {
                                    "JourneyID": "34",
                                    "CustomerID": "55",
                                    "ProductID": "15",
                                    "VisitDate": "2023-10-26",
                                    "Stage": "Homepage",
                                    "Action": "View",
                                    "Duration": "233.0"
                                },
                                {
                                    "JourneyID": "35",
                                    "CustomerID": "60",
                                    "ProductID": "19",
                                    "VisitDate": "2023-06-21",
                                    "Stage": "homepage",
                                    "Action": "Click",
                                    "Duration": "162.0"
                                },
                                {
                                    "JourneyID": "36",
                                    "CustomerID": "17",
                                    "ProductID": "2",
                                    "VisitDate": "2023-11-20",
                                    "Stage": "Checkout",
                                    "Action": "Purchase",
                                    "Duration": "137.0"
                                },
                                {
                                    "JourneyID": "37",
                                    "CustomerID": "38",
                                    "ProductID": "17",
                                    "VisitDate": "2024-06-18",
                                    "Stage": "Checkout",
                                    "Action": "Drop-off",
                                    "Duration": ""
                                },
                                {
                                    "JourneyID": "38",
                                    "CustomerID": "13",
                                    "ProductID": "18",
                                    "VisitDate": "2023-02-23",
                                    "Stage": "ProductPage",
                                    "Action": "View",
                                    "Duration": "227.0"
                                },
                                {
                                    "JourneyID": "39",
                                    "CustomerID": "63",
                                    "ProductID": "18",
                                    "VisitDate": "2023-08-10",
                                    "Stage": "ProductPage",
                                    "Action": "View",
                                    "Duration": "233.0"
                                },
                                {
                                    "JourneyID": "40",
                                    "CustomerID": "4",
                                    "ProductID": "12",
                                    "VisitDate": "2024-12-22",
                                    "Stage": "Homepage",
                                    "Action": "View",
                                    "Duration": "110.0"
                                },
                                {
                                    "JourneyID": "41",
                                    "CustomerID": "92",
                                    "ProductID": "5",
                                    "VisitDate": "2025-11-23",
                                    "Stage": "ProductPage",
                                    "Action": "View",
                                    "Duration": "124.0"
                                },
                                {
                                    "JourneyID": "42",
                                    "CustomerID": "95",
                                    "ProductID": "10",
                                    "VisitDate": "2025-01-28",
                                    "Stage": "Homepage",
                                    "Action": "View",
                                    "Duration": "172.0"
                                },
                                {
                                    "JourneyID": "43",
                                    "CustomerID": "21",
                                    "ProductID": "8",
                                    "VisitDate": "2025-03-14",
                                    "Stage": "Homepage",
                                    "Action": "View",
                                    "Duration": "40.0"
                                },
                                {
                                    "JourneyID": "44",
                                    "CustomerID": "29",
                                    "ProductID": "3",
                                    "VisitDate": "2024-02-29",
                                    "Stage": "Homepage",
                                    "Action": "View",
                                    "Duration": "193.0"
                                },
                                {
                                    "JourneyID": "45",
                                    "CustomerID": "94",
                                    "ProductID": "6",
                                    "VisitDate": "2023-06-07",
                                    "Stage": "productpage",
                                    "Action": "View",
                                    "Duration": "118.0"
                                },
                                {
                                    "JourneyID": "46",
                                    "CustomerID": "30",
                                    "ProductID": "19",
                                    "VisitDate": "2025-10-27",
                                    "Stage": "Homepage",
                                    "Action": "View",
                                    "Duration": "210.0"
                                },
                                {
                                    "JourneyID": "47",
                                    "CustomerID": "30",
                                    "ProductID": "20",
                                    "VisitDate": "2024-02-18",
                                    "Stage": "checkout",
                                    "Action": "Drop-off",
                                    "Duration": ""
                                },
                                {
                                    "JourneyID": "48",
                                    "CustomerID": "52",
                                    "ProductID": "13",
                                    "VisitDate": "2025-02-01",
                                    "Stage": "Homepage",
                                    "Action": "View",
                                    "Duration": "241.0"
                                },
                                {
                                    "JourneyID": "49",
                                    "CustomerID": "93",
                                    "ProductID": "14",
                                    "VisitDate": "2023-04-09",
                                    "Stage": "Homepage",
                                    "Action": "Click",
                                    "Duration": "69.0"
                                },
                                {
                                    "JourneyID": "50",
                                    "CustomerID": "5",
                                    "ProductID": "9",
                                    "VisitDate": "2024-04-19",
                                    "Stage": "Homepage",
                                    "Action": "View",
                                    "Duration": "44.0"
                                },
                                {
                                    "JourneyID": "51",
                                    "CustomerID": "65",
                                    "ProductID": "8",
                                    "VisitDate": "2025-09-29",
                                    "Stage": "ProductPage",
                                    "Action": "View",
                                    "Duration": "272.0"
                                },
                                {
                                    "JourneyID": "52",
                                    "CustomerID": "15",
                                    "ProductID": "9",
                                    "VisitDate": "2025-08-07",
                                    "Stage": "Checkout",
                                    "Action": "Drop-off",
                                    "Duration": ""
                                },
                                {
                                    "JourneyID": "53",
                                    "CustomerID": "24",
                                    "ProductID": "4",
                                    "VisitDate": "2024-04-05",
                                    "Stage": "Homepage",
                                    "Action": "View",
                                    "Duration": "182.0"
                                },
                                {
                                    "JourneyID": "54",
                                    "CustomerID": "9",
                                    "ProductID": "11",
                                    "VisitDate": "2024-11-19",
                                    "Stage": "checkout",
                                    "Action": "Drop-off",
                                    "Duration": ""
                                },
                                {
                                    "JourneyID": "55",
                                    "CustomerID": "1",
                                    "ProductID": "7",
                                    "VisitDate": "2024-03-17",
                                    "Stage": "Checkout",
                                    "Action": "Drop-off",
                                    "Duration": ""
                                },
                                {
                                    "JourneyID": "56",
                                    "CustomerID": "97",
                                    "ProductID": "11",
                                    "VisitDate": "2023-12-20",
                                    "Stage": "Homepage",
                                    "Action": "Click",
                                    "Duration": "234.0"
                                },
                                {
                                    "JourneyID": "57",
                                    "CustomerID": "52",
                                    "ProductID": "14",
                                    "VisitDate": "2024-12-02",
                                    "Stage": "Homepage",
                                    "Action": "View",
                                    "Duration": "253.0"
                                },
                                {
                                    "JourneyID": "58",
                                    "CustomerID": "51",
                                    "ProductID": "20",
                                    "VisitDate": "2025-03-08",
                                    "Stage": "ProductPage",
                                    "Action": "View",
                                    "Duration": "174.0"
                                },
                                {
                                    "JourneyID": "59",
                                    "CustomerID": "32",
                                    "ProductID": "8",
                                    "VisitDate": "2024-08-19",
                                    "Stage": "Homepage",
                                    "Action": "View",
                                    "Duration": "238.0"
                                },
                                {
                                    "JourneyID": "60",
                                    "CustomerID": "19",
                                    "ProductID": "6",
                                    "VisitDate": "2025-06-17",
                                    "Stage": "ProductPage",
                                    "Action": "View",
                                    "Duration": "190.0"
                                },
                                {
                                    "JourneyID": "61",
                                    "CustomerID": "69",
                                    "ProductID": "20",
                                    "VisitDate": "2025-07-12",
                                    "Stage": "Homepage",
                                    "Action": "Click",
                                    "Duration": "14.0"
                                },
                                {
                                    "JourneyID": "62",
                                    "CustomerID": "42",
                                    "ProductID": "1",
                                    "VisitDate": "2024-10-22",
                                    "Stage": "Homepage",
                                    "Action": "View",
                                    "Duration": "186.0"
                                },
                                {
                                    "JourneyID": "63",
                                    "CustomerID": "51",
                                    "ProductID": "15",
                                    "VisitDate": "2025-05-22",
                                    "Stage": "Homepage",
                                    "Action": "View",
                                    "Duration": "139.0"
                                },
                                {
                                    "JourneyID": "64",
                                    "CustomerID": "86",
                                    "ProductID": "20",
                                    "VisitDate": "2023-07-03",
                                    "Stage": "ProductPage",
                                    "Action": "View",
                                    "Duration": "77.0"
                                },
                                {
                                    "JourneyID": "65",
                                    "CustomerID": "54",
                                    "ProductID": "10",
                                    "VisitDate": "2023-12-23",
                                    "Stage": "Homepage",
                                    "Action": "View",
                                    "Duration": "101.0"
                                },
                                {
                                    "JourneyID": "66",
                                    "CustomerID": "52",
                                    "ProductID": "2",
                                    "VisitDate": "2023-11-16",
                                    "Stage": "homepage",
                                    "Action": "Click",
                                    "Duration": "242.0"
                                },
                                {
                                    "JourneyID": "67",
                                    "CustomerID": "25",
                                    "ProductID": "1",
                                    "VisitDate": "2023-05-21",
                                    "Stage": "ProductPage",
                                    "Action": "Click",
                                    "Duration": "57.0"
                                },
                                {
                                    "JourneyID": "68",
                                    "CustomerID": "45",
                                    "ProductID": "16",
                                    "VisitDate": "2023-04-29",
                                    "Stage": "ProductPage",
                                    "Action": "Click",
                                    "Duration": "250.0"
                                },
                                {
                                    "JourneyID": "69",
                                    "CustomerID": "82",
                                    "ProductID": "19",
                                    "VisitDate": "2025-02-21",
                                    "Stage": "ProductPage",
                                    "Action": "Click",
                                    "Duration": "158.0"
                                },
                                {
                                    "JourneyID": "70",
                                    "CustomerID": "75",
                                    "ProductID": "17",
                                    "VisitDate": "2023-07-07",
                                    "Stage": "Homepage",
                                    "Action": "View",
                                    "Duration": "297.0"
                                },
                                {
                                    "JourneyID": "71",
                                    "CustomerID": "40",
                                    "ProductID": "20",
                                    "VisitDate": "2023-07-13",
                                    "Stage": "Checkout",
                                    "Action": "Drop-off",
                                    "Duration": ""
                                },
                                {
                                    "JourneyID": "72",
                                    "CustomerID": "47",
                                    "ProductID": "15",
                                    "VisitDate": "2023-08-23",
                                    "Stage": "Homepage",
                                    "Action": "Click",
                                    "Duration": "34.0"
                                },
                                {
                                    "JourneyID": "73",
                                    "CustomerID": "20",
                                    "ProductID": "16",
                                    "VisitDate": "2024-09-17",
                                    "Stage": "Homepage",
                                    "Action": "View",
                                    "Duration": "17.0"
                                },
                                {
                                    "JourneyID": "74",
                                    "CustomerID": "81",
                                    "ProductID": "13",
                                    "VisitDate": "2024-09-26",
                                    "Stage": "Homepage",
                                    "Action": "Click",
                                    "Duration": "291.0"
                                },
                                {
                                    "JourneyID": "75",
                                    "CustomerID": "93",
                                    "ProductID": "1",
                                    "VisitDate": "2024-10-01",
                                    "Stage": "ProductPage",
                                    "Action": "Click",
                                    "Duration": "279.0"
                                },
                                {
                                    "JourneyID": "76",
                                    "CustomerID": "42",
                                    "ProductID": "17",
                                    "VisitDate": "2025-05-29",
                                    "Stage": "Checkout",
                                    "Action": "Purchase",
                                    "Duration": "261.0"
                                },
                                {
                                    "JourneyID": "77",
                                    "CustomerID": "36",
                                    "ProductID": "4",
                                    "VisitDate": "2023-06-02",
                                    "Stage": "Homepage",
                                    "Action": "Click",
                                    "Duration": "100.0"
                                },
                                {
                                    "JourneyID": "78",
                                    "CustomerID": "46",
                                    "ProductID": "17",
                                    "VisitDate": "2025-06-15",
                                    "Stage": "Checkout",
                                    "Action": "Purchase",
                                    "Duration": "122.0"
                                },
                                {
                                    "JourneyID": "79",
                                    "CustomerID": "75",
                                    "ProductID": "10",
                                    "VisitDate": "2023-11-13",
                                    "Stage": "Homepage",
                                    "Action": "View",
                                    "Duration": "244.0"
                                },
                                {
                                    "JourneyID": "80",
                                    "CustomerID": "64",
                                    "ProductID": "6",
                                    "VisitDate": "2025-04-06",
                                    "Stage": "Homepage",
                                    "Action": "Click",
                                    "Duration": "161.0"
                                },
                                {
                                    "JourneyID": "81",
                                    "CustomerID": "89",
                                    "ProductID": "15",
                                    "VisitDate": "2025-10-27",
                                    "Stage": "Checkout",
                                    "Action": "Purchase",
                                    "Duration": "246.0"
                                },
                                {
                                    "JourneyID": "82",
                                    "CustomerID": "64",
                                    "ProductID": "2",
                                    "VisitDate": "2025-06-07",
                                    "Stage": "Homepage",
                                    "Action": "Click",
                                    "Duration": "261.0"
                                },
                                {
                                    "JourneyID": "83",
                                    "CustomerID": "54",
                                    "ProductID": "8",
                                    "VisitDate": "2024-01-18",
                                    "Stage": "ProductPage",
                                    "Action": "Click",
                                    "Duration": "83.0"
                                },
                                {
                                    "JourneyID": "84",
                                    "CustomerID": "79",
                                    "ProductID": "15",
                                    "VisitDate": "2025-03-09",
                                    "Stage": "Checkout",
                                    "Action": "Purchase",
                                    "Duration": "48.0"
                                },
                                {
                                    "JourneyID": "85",
                                    "CustomerID": "56",
                                    "ProductID": "4",
                                    "VisitDate": "2023-05-26",
                                    "Stage": "Homepage",
                                    "Action": "Click",
                                    "Duration": "166.0"
                                },
                                {
                                    "JourneyID": "86",
                                    "CustomerID": "83",
                                    "ProductID": "3",
                                    "VisitDate": "2023-09-06",
                                    "Stage": "Homepage",
                                    "Action": "View",
                                    "Duration": "79.0"
                                },
                                {
                                    "JourneyID": "87",
                                    "CustomerID": "2",
                                    "ProductID": "2",
                                    "VisitDate": "2023-09-25",
                                    "Stage": "Homepage",
                                    "Action": "View",
                                    "Duration": "277.0"
                                },
                                {
                                    "JourneyID": "88",
                                    "CustomerID": "15",
                                    "ProductID": "20",
                                    "VisitDate": "2025-12-18",
                                    "Stage": "homepage",
                                    "Action": "View",
                                    "Duration": "136.0"
                                },
                                {
                                    "JourneyID": "89",
                                    "CustomerID": "14",
                                    "ProductID": "9",
                                    "VisitDate": "2025-04-18",
                                    "Stage": "Homepage",
                                    "Action": "Click",
                                    "Duration": "104.0"
                                },
                                {
                                    "JourneyID": "90",
                                    "CustomerID": "49",
                                    "ProductID": "8",
                                    "VisitDate": "2025-03-25",
                                    "Stage": "Homepage",
                                    "Action": "View",
                                    "Duration": "248.0"
                                },
                                {
                                    "JourneyID": "91",
                                    "CustomerID": "99",
                                    "ProductID": "10",
                                    "VisitDate": "2023-12-07",
                                    "Stage": "Homepage",
                                    "Action": "Click",
                                    "Duration": "244.0"
                                },
                                {
                                    "JourneyID": "92",
                                    "CustomerID": "88",
                                    "ProductID": "14",
                                    "VisitDate": "2025-03-09",
                                    "Stage": "Homepage",
                                    "Action": "View",
                                    "Duration": "29.0"
                                },
                                {
                                    "JourneyID": "93",
                                    "CustomerID": "43",
                                    "ProductID": "8",
                                    "VisitDate": "2023-08-22",
                                    "Stage": "Checkout",
                                    "Action": "Drop-off",
                                    "Duration": ""
                                },
                                {
                                    "JourneyID": "94",
                                    "CustomerID": "15",
                                    "ProductID": "18",
                                    "VisitDate": "2024-09-20",
                                    "Stage": "Homepage",
                                    "Action": "Click",
                                    "Duration": "143.0"
                                },
                                {
                                    "JourneyID": "95",
                                    "CustomerID": "60",
                                    "ProductID": "8",
                                    "VisitDate": "2024-09-14",
                                    "Stage": "Homepage",
                                    "Action": "View",
                                    "Duration": "182.0"
                                },
                                {
                                    "JourneyID": "96",
                                    "CustomerID": "22",
                                    "ProductID": "9",
                                    "VisitDate": "2024-07-28",
                                    "Stage": "ProductPage",
                                    "Action": "View",
                                    "Duration": "212.0"
                                },
                                {
                                    "JourneyID": "97",
                                    "CustomerID": "92",
                                    "ProductID": "19",
                                    "VisitDate": "2025-05-26",
                                    "Stage": "homepage",
                                    "Action": "View",
                                    "Duration": "203.0"
                                },
                                {
                                    "JourneyID": "98",
                                    "CustomerID": "95",
                                    "ProductID": "8",
                                    "VisitDate": "2025-05-25",
                                    "Stage": "Homepage",
                                    "Action": "Click",
                                    "Duration": "68.0"
                                },
                                {
                                    "JourneyID": "99",
                                    "CustomerID": "58",
                                    "ProductID": "16",
                                    "VisitDate": "2024-07-06",
                                    "Stage": "Checkout",
                                    "Action": "Purchase",
                                    "Duration": "87.0"
                                },
                                {
                                    "JourneyID": "100",
                                    "CustomerID": "92",
                                    "ProductID": "10",
                                    "VisitDate": "2024-04-06",
                                    "Stage": "ProductPage",
                                    "Action": "View",
                                    "Duration": "237.0"
                                }
                            ]
                        },
                        "text/html": [
                            "<table>",
                            "<tr><th>JourneyID</th><th>CustomerID</th><th>ProductID</th><th>VisitDate</th><th>Stage</th><th>Action</th><th>Duration</th></tr>",
                            "<tr><td>1</td><td>64</td><td>18</td><td>2024-06-10</td><td>Checkout</td><td>Drop-off</td><td></td></tr>",
                            "<tr><td>2</td><td>94</td><td>11</td><td>2025-07-09</td><td>Checkout</td><td>Drop-off</td><td></td></tr>",
                            "<tr><td>3</td><td>34</td><td>8</td><td>2024-06-14</td><td>ProductPage</td><td>View</td><td>235.0</td></tr>",
                            "<tr><td>4</td><td>33</td><td>18</td><td>2025-05-28</td><td>Checkout</td><td>Drop-off</td><td></td></tr>",
                            "<tr><td>5</td><td>91</td><td>10</td><td>2023-02-11</td><td>Homepage</td><td>Click</td><td>156.0</td></tr>",
                            "<tr><td>6</td><td>54</td><td>11</td><td>2025-12-19</td><td>Homepage</td><td>View</td><td>264.0</td></tr>",
                            "<tr><td>7</td><td>80</td><td>4</td><td>2023-08-25</td><td>Homepage</td><td>View</td><td>298.0</td></tr>",
                            "<tr><td>8</td><td>99</td><td>10</td><td>2025-07-03</td><td>ProductPage</td><td>View</td><td>287.0</td></tr>",
                            "<tr><td>9</td><td>31</td><td>4</td><td>2025-06-13</td><td>ProductPage</td><td>View</td><td>278.0</td></tr>",
                            "<tr><td>10</td><td>44</td><td>16</td><td>2025-04-23</td><td>ProductPage</td><td>View</td><td>30.0</td></tr>",
                            "<tr><td>11</td><td>23</td><td>12</td><td>2023-08-22</td><td>Checkout</td><td>Drop-off</td><td></td></tr>",
                            "<tr><td>12</td><td>97</td><td>12</td><td>2023-07-28</td><td>ProductPage</td><td>View</td><td>227.0</td></tr>",
                            "<tr><td>13</td><td>83</td><td>5</td><td>2024-06-20</td><td>Homepage</td><td>View</td><td>223.0</td></tr>",
                            "<tr><td>14</td><td>14</td><td>13</td><td>2025-11-01</td><td>ProductPage</td><td>View</td><td>13.0</td></tr>",
                            "<tr><td>15</td><td>9</td><td>1</td><td>2025-11-04</td><td>ProductPage</td><td>View</td><td>292.0</td></tr>",
                            "<tr><td>16</td><td>14</td><td>16</td><td>2024-07-17</td><td>Homepage</td><td>View</td><td>46.0</td></tr>",
                            "<tr><td>17</td><td>67</td><td>2</td><td>2025-12-11</td><td>Homepage</td><td>View</td><td>185.0</td></tr>",
                            "<tr><td>18</td><td>70</td><td>15</td><td>2025-10-13</td><td>Homepage</td><td>View</td><td>191.0</td></tr>",
                            "<tr><td>19</td><td>9</td><td>1</td><td>2024-08-15</td><td>Homepage</td><td>View</td><td>187.0</td></tr>",
                            "<tr><td>20</td><td>44</td><td>18</td><td>2024-02-19</td><td>productpage</td><td>View</td><td>154.0</td></tr>",
                            "<tr><td>21</td><td>58</td><td>20</td><td>2024-03-07</td><td>Checkout</td><td>Drop-off</td><td></td></tr>",
                            "<tr><td>22</td><td>12</td><td>1</td><td>2025-11-19</td><td>Homepage</td><td>Click</td><td>20.0</td></tr>",
                            "<tr><td>23</td><td>58</td><td>1</td><td>2023-07-05</td><td>Homepage</td><td>View</td><td>48.0</td></tr>",
                            "<tr><td>24</td><td>77</td><td>6</td><td>2025-06-25</td><td>Checkout</td><td>Drop-off</td><td></td></tr>",
                            "<tr><td>25</td><td>75</td><td>12</td><td>2023-11-23</td><td>ProductPage</td><td>View</td><td>239.0</td></tr>",
                            "<tr><td>26</td><td>78</td><td>20</td><td>2024-04-17</td><td>Homepage</td><td>View</td><td>129.0</td></tr>",
                            "<tr><td>27</td><td>36</td><td>9</td><td>2024-08-10</td><td>Homepage</td><td>View</td><td>214.0</td></tr>",
                            "<tr><td>28</td><td>1</td><td>20</td><td>2025-09-26</td><td>ProductPage</td><td>View</td><td>64.0</td></tr>",
                            "<tr><td>29</td><td>12</td><td>17</td><td>2025-06-01</td><td>Homepage</td><td>View</td><td>205.0</td></tr>",
                            "<tr><td>30</td><td>48</td><td>2</td><td>2023-05-03</td><td>ProductPage</td><td>View</td><td>242.0</td></tr>",
                            "<tr><td>31</td><td>81</td><td>19</td><td>2023-04-04</td><td>Homepage</td><td>View</td><td>130.0</td></tr>",
                            "<tr><td>32</td><td>67</td><td>11</td><td>2023-09-04</td><td>Checkout</td><td>Drop-off</td><td></td></tr>",
                            "<tr><td>33</td><td>2</td><td>5</td><td>2025-08-10</td><td>Homepage</td><td>View</td><td>26.0</td></tr>",
                            "<tr><td>34</td><td>55</td><td>15</td><td>2023-10-26</td><td>Homepage</td><td>View</td><td>233.0</td></tr>",
                            "<tr><td>35</td><td>60</td><td>19</td><td>2023-06-21</td><td>homepage</td><td>Click</td><td>162.0</td></tr>",
                            "<tr><td>36</td><td>17</td><td>2</td><td>2023-11-20</td><td>Checkout</td><td>Purchase</td><td>137.0</td></tr>",
                            "<tr><td>37</td><td>38</td><td>17</td><td>2024-06-18</td><td>Checkout</td><td>Drop-off</td><td></td></tr>",
                            "<tr><td>38</td><td>13</td><td>18</td><td>2023-02-23</td><td>ProductPage</td><td>View</td><td>227.0</td></tr>",
                            "<tr><td>39</td><td>63</td><td>18</td><td>2023-08-10</td><td>ProductPage</td><td>View</td><td>233.0</td></tr>",
                            "<tr><td>40</td><td>4</td><td>12</td><td>2024-12-22</td><td>Homepage</td><td>View</td><td>110.0</td></tr>",
                            "<tr><td>41</td><td>92</td><td>5</td><td>2025-11-23</td><td>ProductPage</td><td>View</td><td>124.0</td></tr>",
                            "<tr><td>42</td><td>95</td><td>10</td><td>2025-01-28</td><td>Homepage</td><td>View</td><td>172.0</td></tr>",
                            "<tr><td>43</td><td>21</td><td>8</td><td>2025-03-14</td><td>Homepage</td><td>View</td><td>40.0</td></tr>",
                            "<tr><td>44</td><td>29</td><td>3</td><td>2024-02-29</td><td>Homepage</td><td>View</td><td>193.0</td></tr>",
                            "<tr><td>45</td><td>94</td><td>6</td><td>2023-06-07</td><td>productpage</td><td>View</td><td>118.0</td></tr>",
                            "<tr><td>46</td><td>30</td><td>19</td><td>2025-10-27</td><td>Homepage</td><td>View</td><td>210.0</td></tr>",
                            "<tr><td>47</td><td>30</td><td>20</td><td>2024-02-18</td><td>checkout</td><td>Drop-off</td><td></td></tr>",
                            "<tr><td>48</td><td>52</td><td>13</td><td>2025-02-01</td><td>Homepage</td><td>View</td><td>241.0</td></tr>",
                            "<tr><td>49</td><td>93</td><td>14</td><td>2023-04-09</td><td>Homepage</td><td>Click</td><td>69.0</td></tr>",
                            "<tr><td>50</td><td>5</td><td>9</td><td>2024-04-19</td><td>Homepage</td><td>View</td><td>44.0</td></tr>",
                            "<tr><td>51</td><td>65</td><td>8</td><td>2025-09-29</td><td>ProductPage</td><td>View</td><td>272.0</td></tr>",
                            "<tr><td>52</td><td>15</td><td>9</td><td>2025-08-07</td><td>Checkout</td><td>Drop-off</td><td></td></tr>",
                            "<tr><td>53</td><td>24</td><td>4</td><td>2024-04-05</td><td>Homepage</td><td>View</td><td>182.0</td></tr>",
                            "<tr><td>54</td><td>9</td><td>11</td><td>2024-11-19</td><td>checkout</td><td>Drop-off</td><td></td></tr>",
                            "<tr><td>55</td><td>1</td><td>7</td><td>2024-03-17</td><td>Checkout</td><td>Drop-off</td><td></td></tr>",
                            "<tr><td>56</td><td>97</td><td>11</td><td>2023-12-20</td><td>Homepage</td><td>Click</td><td>234.0</td></tr>",
                            "<tr><td>57</td><td>52</td><td>14</td><td>2024-12-02</td><td>Homepage</td><td>View</td><td>253.0</td></tr>",
                            "<tr><td>58</td><td>51</td><td>20</td><td>2025-03-08</td><td>ProductPage</td><td>View</td><td>174.0</td></tr>",
                            "<tr><td>59</td><td>32</td><td>8</td><td>2024-08-19</td><td>Homepage</td><td>View</td><td>238.0</td></tr>",
                            "<tr><td>60</td><td>19</td><td>6</td><td>2025-06-17</td><td>ProductPage</td><td>View</td><td>190.0</td></tr>",
                            "<tr><td>61</td><td>69</td><td>20</td><td>2025-07-12</td><td>Homepage</td><td>Click</td><td>14.0</td></tr>",
                            "<tr><td>62</td><td>42</td><td>1</td><td>2024-10-22</td><td>Homepage</td><td>View</td><td>186.0</td></tr>",
                            "<tr><td>63</td><td>51</td><td>15</td><td>2025-05-22</td><td>Homepage</td><td>View</td><td>139.0</td></tr>",
                            "<tr><td>64</td><td>86</td><td>20</td><td>2023-07-03</td><td>ProductPage</td><td>View</td><td>77.0</td></tr>",
                            "<tr><td>65</td><td>54</td><td>10</td><td>2023-12-23</td><td>Homepage</td><td>View</td><td>101.0</td></tr>",
                            "<tr><td>66</td><td>52</td><td>2</td><td>2023-11-16</td><td>homepage</td><td>Click</td><td>242.0</td></tr>",
                            "<tr><td>67</td><td>25</td><td>1</td><td>2023-05-21</td><td>ProductPage</td><td>Click</td><td>57.0</td></tr>",
                            "<tr><td>68</td><td>45</td><td>16</td><td>2023-04-29</td><td>ProductPage</td><td>Click</td><td>250.0</td></tr>",
                            "<tr><td>69</td><td>82</td><td>19</td><td>2025-02-21</td><td>ProductPage</td><td>Click</td><td>158.0</td></tr>",
                            "<tr><td>70</td><td>75</td><td>17</td><td>2023-07-07</td><td>Homepage</td><td>View</td><td>297.0</td></tr>",
                            "<tr><td>71</td><td>40</td><td>20</td><td>2023-07-13</td><td>Checkout</td><td>Drop-off</td><td></td></tr>",
                            "<tr><td>72</td><td>47</td><td>15</td><td>2023-08-23</td><td>Homepage</td><td>Click</td><td>34.0</td></tr>",
                            "<tr><td>73</td><td>20</td><td>16</td><td>2024-09-17</td><td>Homepage</td><td>View</td><td>17.0</td></tr>",
                            "<tr><td>74</td><td>81</td><td>13</td><td>2024-09-26</td><td>Homepage</td><td>Click</td><td>291.0</td></tr>",
                            "<tr><td>75</td><td>93</td><td>1</td><td>2024-10-01</td><td>ProductPage</td><td>Click</td><td>279.0</td></tr>",
                            "<tr><td>76</td><td>42</td><td>17</td><td>2025-05-29</td><td>Checkout</td><td>Purchase</td><td>261.0</td></tr>",
                            "<tr><td>77</td><td>36</td><td>4</td><td>2023-06-02</td><td>Homepage</td><td>Click</td><td>100.0</td></tr>",
                            "<tr><td>78</td><td>46</td><td>17</td><td>2025-06-15</td><td>Checkout</td><td>Purchase</td><td>122.0</td></tr>",
                            "<tr><td>79</td><td>75</td><td>10</td><td>2023-11-13</td><td>Homepage</td><td>View</td><td>244.0</td></tr>",
                            "<tr><td>80</td><td>64</td><td>6</td><td>2025-04-06</td><td>Homepage</td><td>Click</td><td>161.0</td></tr>",
                            "<tr><td>81</td><td>89</td><td>15</td><td>2025-10-27</td><td>Checkout</td><td>Purchase</td><td>246.0</td></tr>",
                            "<tr><td>82</td><td>64</td><td>2</td><td>2025-06-07</td><td>Homepage</td><td>Click</td><td>261.0</td></tr>",
                            "<tr><td>83</td><td>54</td><td>8</td><td>2024-01-18</td><td>ProductPage</td><td>Click</td><td>83.0</td></tr>",
                            "<tr><td>84</td><td>79</td><td>15</td><td>2025-03-09</td><td>Checkout</td><td>Purchase</td><td>48.0</td></tr>",
                            "<tr><td>85</td><td>56</td><td>4</td><td>2023-05-26</td><td>Homepage</td><td>Click</td><td>166.0</td></tr>",
                            "<tr><td>86</td><td>83</td><td>3</td><td>2023-09-06</td><td>Homepage</td><td>View</td><td>79.0</td></tr>",
                            "<tr><td>87</td><td>2</td><td>2</td><td>2023-09-25</td><td>Homepage</td><td>View</td><td>277.0</td></tr>",
                            "<tr><td>88</td><td>15</td><td>20</td><td>2025-12-18</td><td>homepage</td><td>View</td><td>136.0</td></tr>",
                            "<tr><td>89</td><td>14</td><td>9</td><td>2025-04-18</td><td>Homepage</td><td>Click</td><td>104.0</td></tr>",
                            "<tr><td>90</td><td>49</td><td>8</td><td>2025-03-25</td><td>Homepage</td><td>View</td><td>248.0</td></tr>",
                            "<tr><td>91</td><td>99</td><td>10</td><td>2023-12-07</td><td>Homepage</td><td>Click</td><td>244.0</td></tr>",
                            "<tr><td>92</td><td>88</td><td>14</td><td>2025-03-09</td><td>Homepage</td><td>View</td><td>29.0</td></tr>",
                            "<tr><td>93</td><td>43</td><td>8</td><td>2023-08-22</td><td>Checkout</td><td>Drop-off</td><td></td></tr>",
                            "<tr><td>94</td><td>15</td><td>18</td><td>2024-09-20</td><td>Homepage</td><td>Click</td><td>143.0</td></tr>",
                            "<tr><td>95</td><td>60</td><td>8</td><td>2024-09-14</td><td>Homepage</td><td>View</td><td>182.0</td></tr>",
                            "<tr><td>96</td><td>22</td><td>9</td><td>2024-07-28</td><td>ProductPage</td><td>View</td><td>212.0</td></tr>",
                            "<tr><td>97</td><td>92</td><td>19</td><td>2025-05-26</td><td>homepage</td><td>View</td><td>203.0</td></tr>",
                            "<tr><td>98</td><td>95</td><td>8</td><td>2025-05-25</td><td>Homepage</td><td>Click</td><td>68.0</td></tr>",
                            "<tr><td>99</td><td>58</td><td>16</td><td>2024-07-06</td><td>Checkout</td><td>Purchase</td><td>87.0</td></tr>",
                            "<tr><td>100</td><td>92</td><td>10</td><td>2024-04-06</td><td>ProductPage</td><td>View</td><td>237.0</td></tr>",
                            "</table>"
                        ]
                    }
                }
            ],
            "execution_count": 22
        },
        {
            "cell_type": "code",
            "source": [
                "WITH DuplicateRecords AS (\n",
                "    SELECT\n",
                "        JourneyID,\n",
                "        CustomerID,\n",
                "        ProductID,\n",
                "        VisitDate,\n",
                "        Stage,\n",
                "        Action,\n",
                "        Duration,\n",
                "        ROW_NUMBER() OVER(\n",
                "            PARTITION BY CustomerID, ProductID, VisitDate, Stage, Action\n",
                "            ORDER BY JourneyID\n",
                "        ) AS row_num\n",
                "    FROM customer_journey\n",
                ")\n",
                "SELECT *\n",
                "FROM DuplicateRecords\n",
                "WHERE row_num = 1\n",
                "ORDER BY JourneyID;\n",
                "\n",
                "-- Second Query:\n",
                "WITH AverageDuration AS (\n",
                "    SELECT\n",
                "        JourneyID,\n",
                "        CustomerID,\n",
                "        ProductID,\n",
                "        VisitDate,\n",
                "        UPPER(Stage) AS Stage,\n",
                "        Action,\n",
                "        Duration,\n",
                "        AVG(Duration) OVER (PARTITION BY VisitDate) AS avg_duration,\n",
                "        ROW_NUMBER() OVER(\n",
                "            PARTITION BY CustomerID, ProductID, VisitDate, UPPER(Stage), Action\n",
                "            ORDER BY JourneyID\n",
                "        ) AS row_num\n",
                "    FROM customer_journey\n",
                ")\n",
                "SELECT\n",
                "    JourneyID,\n",
                "    CustomerID,\n",
                "    ProductID,\n",
                "    VisitDate,\n",
                "    Stage,\n",
                "    Action,\n",
                "    COALESCE(Duration, avg_duration) AS Duration\n",
                "FROM AverageDuration\n",
                "WHERE row_num = 1;"
            ],
            "metadata": {
                "azdata_cell_guid": "a7f7198c-40d2-4793-8f88-f98b281697b0",
                "language": "sql"
            },
            "outputs": [
                {
                    "output_type": "display_data",
                    "data": {
                        "text/html": "(100 row(s) affected)"
                    },
                    "metadata": {}
                },
                {
                    "output_type": "display_data",
                    "data": {
                        "text/html": "(100 row(s) affected)"
                    },
                    "metadata": {}
                },
                {
                    "output_type": "display_data",
                    "data": {
                        "text/html": "Total execution time: 00:00:02.079"
                    },
                    "metadata": {}
                },
                {
                    "output_type": "execute_result",
                    "metadata": {},
                    "execution_count": 25,
                    "data": {
                        "application/vnd.dataresource+json": {
                            "schema": {
                                "fields": [
                                    {
                                        "name": "JourneyID"
                                    },
                                    {
                                        "name": "CustomerID"
                                    },
                                    {
                                        "name": "ProductID"
                                    },
                                    {
                                        "name": "VisitDate"
                                    },
                                    {
                                        "name": "Stage"
                                    },
                                    {
                                        "name": "Action"
                                    },
                                    {
                                        "name": "Duration"
                                    },
                                    {
                                        "name": "row_num"
                                    }
                                ]
                            },
                            "data": [
                                {
                                    "JourneyID": "1",
                                    "CustomerID": "64",
                                    "ProductID": "18",
                                    "VisitDate": "2024-06-10",
                                    "Stage": "Checkout",
                                    "Action": "Drop-off",
                                    "Duration": "",
                                    "row_num": "1"
                                },
                                {
                                    "JourneyID": "2",
                                    "CustomerID": "94",
                                    "ProductID": "11",
                                    "VisitDate": "2025-07-09",
                                    "Stage": "Checkout",
                                    "Action": "Drop-off",
                                    "Duration": "",
                                    "row_num": "1"
                                },
                                {
                                    "JourneyID": "3",
                                    "CustomerID": "34",
                                    "ProductID": "8",
                                    "VisitDate": "2024-06-14",
                                    "Stage": "ProductPage",
                                    "Action": "View",
                                    "Duration": "235.0",
                                    "row_num": "1"
                                },
                                {
                                    "JourneyID": "4",
                                    "CustomerID": "33",
                                    "ProductID": "18",
                                    "VisitDate": "2025-05-28",
                                    "Stage": "Checkout",
                                    "Action": "Drop-off",
                                    "Duration": "",
                                    "row_num": "1"
                                },
                                {
                                    "JourneyID": "5",
                                    "CustomerID": "91",
                                    "ProductID": "10",
                                    "VisitDate": "2023-02-11",
                                    "Stage": "Homepage",
                                    "Action": "Click",
                                    "Duration": "156.0",
                                    "row_num": "1"
                                },
                                {
                                    "JourneyID": "6",
                                    "CustomerID": "54",
                                    "ProductID": "11",
                                    "VisitDate": "2025-12-19",
                                    "Stage": "Homepage",
                                    "Action": "View",
                                    "Duration": "264.0",
                                    "row_num": "1"
                                },
                                {
                                    "JourneyID": "7",
                                    "CustomerID": "80",
                                    "ProductID": "4",
                                    "VisitDate": "2023-08-25",
                                    "Stage": "Homepage",
                                    "Action": "View",
                                    "Duration": "298.0",
                                    "row_num": "1"
                                },
                                {
                                    "JourneyID": "8",
                                    "CustomerID": "99",
                                    "ProductID": "10",
                                    "VisitDate": "2025-07-03",
                                    "Stage": "ProductPage",
                                    "Action": "View",
                                    "Duration": "287.0",
                                    "row_num": "1"
                                },
                                {
                                    "JourneyID": "9",
                                    "CustomerID": "31",
                                    "ProductID": "4",
                                    "VisitDate": "2025-06-13",
                                    "Stage": "ProductPage",
                                    "Action": "View",
                                    "Duration": "278.0",
                                    "row_num": "1"
                                },
                                {
                                    "JourneyID": "10",
                                    "CustomerID": "44",
                                    "ProductID": "16",
                                    "VisitDate": "2025-04-23",
                                    "Stage": "ProductPage",
                                    "Action": "View",
                                    "Duration": "30.0",
                                    "row_num": "1"
                                },
                                {
                                    "JourneyID": "11",
                                    "CustomerID": "23",
                                    "ProductID": "12",
                                    "VisitDate": "2023-08-22",
                                    "Stage": "Checkout",
                                    "Action": "Drop-off",
                                    "Duration": "",
                                    "row_num": "1"
                                },
                                {
                                    "JourneyID": "12",
                                    "CustomerID": "97",
                                    "ProductID": "12",
                                    "VisitDate": "2023-07-28",
                                    "Stage": "ProductPage",
                                    "Action": "View",
                                    "Duration": "227.0",
                                    "row_num": "1"
                                },
                                {
                                    "JourneyID": "13",
                                    "CustomerID": "83",
                                    "ProductID": "5",
                                    "VisitDate": "2024-06-20",
                                    "Stage": "Homepage",
                                    "Action": "View",
                                    "Duration": "223.0",
                                    "row_num": "1"
                                },
                                {
                                    "JourneyID": "14",
                                    "CustomerID": "14",
                                    "ProductID": "13",
                                    "VisitDate": "2025-11-01",
                                    "Stage": "ProductPage",
                                    "Action": "View",
                                    "Duration": "13.0",
                                    "row_num": "1"
                                },
                                {
                                    "JourneyID": "15",
                                    "CustomerID": "9",
                                    "ProductID": "1",
                                    "VisitDate": "2025-11-04",
                                    "Stage": "ProductPage",
                                    "Action": "View",
                                    "Duration": "292.0",
                                    "row_num": "1"
                                },
                                {
                                    "JourneyID": "16",
                                    "CustomerID": "14",
                                    "ProductID": "16",
                                    "VisitDate": "2024-07-17",
                                    "Stage": "Homepage",
                                    "Action": "View",
                                    "Duration": "46.0",
                                    "row_num": "1"
                                },
                                {
                                    "JourneyID": "17",
                                    "CustomerID": "67",
                                    "ProductID": "2",
                                    "VisitDate": "2025-12-11",
                                    "Stage": "Homepage",
                                    "Action": "View",
                                    "Duration": "185.0",
                                    "row_num": "1"
                                },
                                {
                                    "JourneyID": "18",
                                    "CustomerID": "70",
                                    "ProductID": "15",
                                    "VisitDate": "2025-10-13",
                                    "Stage": "Homepage",
                                    "Action": "View",
                                    "Duration": "191.0",
                                    "row_num": "1"
                                },
                                {
                                    "JourneyID": "19",
                                    "CustomerID": "9",
                                    "ProductID": "1",
                                    "VisitDate": "2024-08-15",
                                    "Stage": "Homepage",
                                    "Action": "View",
                                    "Duration": "187.0",
                                    "row_num": "1"
                                },
                                {
                                    "JourneyID": "20",
                                    "CustomerID": "44",
                                    "ProductID": "18",
                                    "VisitDate": "2024-02-19",
                                    "Stage": "productpage",
                                    "Action": "View",
                                    "Duration": "154.0",
                                    "row_num": "1"
                                },
                                {
                                    "JourneyID": "21",
                                    "CustomerID": "58",
                                    "ProductID": "20",
                                    "VisitDate": "2024-03-07",
                                    "Stage": "Checkout",
                                    "Action": "Drop-off",
                                    "Duration": "",
                                    "row_num": "1"
                                },
                                {
                                    "JourneyID": "22",
                                    "CustomerID": "12",
                                    "ProductID": "1",
                                    "VisitDate": "2025-11-19",
                                    "Stage": "Homepage",
                                    "Action": "Click",
                                    "Duration": "20.0",
                                    "row_num": "1"
                                },
                                {
                                    "JourneyID": "23",
                                    "CustomerID": "58",
                                    "ProductID": "1",
                                    "VisitDate": "2023-07-05",
                                    "Stage": "Homepage",
                                    "Action": "View",
                                    "Duration": "48.0",
                                    "row_num": "1"
                                },
                                {
                                    "JourneyID": "24",
                                    "CustomerID": "77",
                                    "ProductID": "6",
                                    "VisitDate": "2025-06-25",
                                    "Stage": "Checkout",
                                    "Action": "Drop-off",
                                    "Duration": "",
                                    "row_num": "1"
                                },
                                {
                                    "JourneyID": "25",
                                    "CustomerID": "75",
                                    "ProductID": "12",
                                    "VisitDate": "2023-11-23",
                                    "Stage": "ProductPage",
                                    "Action": "View",
                                    "Duration": "239.0",
                                    "row_num": "1"
                                },
                                {
                                    "JourneyID": "26",
                                    "CustomerID": "78",
                                    "ProductID": "20",
                                    "VisitDate": "2024-04-17",
                                    "Stage": "Homepage",
                                    "Action": "View",
                                    "Duration": "129.0",
                                    "row_num": "1"
                                },
                                {
                                    "JourneyID": "27",
                                    "CustomerID": "36",
                                    "ProductID": "9",
                                    "VisitDate": "2024-08-10",
                                    "Stage": "Homepage",
                                    "Action": "View",
                                    "Duration": "214.0",
                                    "row_num": "1"
                                },
                                {
                                    "JourneyID": "28",
                                    "CustomerID": "1",
                                    "ProductID": "20",
                                    "VisitDate": "2025-09-26",
                                    "Stage": "ProductPage",
                                    "Action": "View",
                                    "Duration": "64.0",
                                    "row_num": "1"
                                },
                                {
                                    "JourneyID": "29",
                                    "CustomerID": "12",
                                    "ProductID": "17",
                                    "VisitDate": "2025-06-01",
                                    "Stage": "Homepage",
                                    "Action": "View",
                                    "Duration": "205.0",
                                    "row_num": "1"
                                },
                                {
                                    "JourneyID": "30",
                                    "CustomerID": "48",
                                    "ProductID": "2",
                                    "VisitDate": "2023-05-03",
                                    "Stage": "ProductPage",
                                    "Action": "View",
                                    "Duration": "242.0",
                                    "row_num": "1"
                                },
                                {
                                    "JourneyID": "31",
                                    "CustomerID": "81",
                                    "ProductID": "19",
                                    "VisitDate": "2023-04-04",
                                    "Stage": "Homepage",
                                    "Action": "View",
                                    "Duration": "130.0",
                                    "row_num": "1"
                                },
                                {
                                    "JourneyID": "32",
                                    "CustomerID": "67",
                                    "ProductID": "11",
                                    "VisitDate": "2023-09-04",
                                    "Stage": "Checkout",
                                    "Action": "Drop-off",
                                    "Duration": "",
                                    "row_num": "1"
                                },
                                {
                                    "JourneyID": "33",
                                    "CustomerID": "2",
                                    "ProductID": "5",
                                    "VisitDate": "2025-08-10",
                                    "Stage": "Homepage",
                                    "Action": "View",
                                    "Duration": "26.0",
                                    "row_num": "1"
                                },
                                {
                                    "JourneyID": "34",
                                    "CustomerID": "55",
                                    "ProductID": "15",
                                    "VisitDate": "2023-10-26",
                                    "Stage": "Homepage",
                                    "Action": "View",
                                    "Duration": "233.0",
                                    "row_num": "1"
                                },
                                {
                                    "JourneyID": "35",
                                    "CustomerID": "60",
                                    "ProductID": "19",
                                    "VisitDate": "2023-06-21",
                                    "Stage": "homepage",
                                    "Action": "Click",
                                    "Duration": "162.0",
                                    "row_num": "1"
                                },
                                {
                                    "JourneyID": "36",
                                    "CustomerID": "17",
                                    "ProductID": "2",
                                    "VisitDate": "2023-11-20",
                                    "Stage": "Checkout",
                                    "Action": "Purchase",
                                    "Duration": "137.0",
                                    "row_num": "1"
                                },
                                {
                                    "JourneyID": "37",
                                    "CustomerID": "38",
                                    "ProductID": "17",
                                    "VisitDate": "2024-06-18",
                                    "Stage": "Checkout",
                                    "Action": "Drop-off",
                                    "Duration": "",
                                    "row_num": "1"
                                },
                                {
                                    "JourneyID": "38",
                                    "CustomerID": "13",
                                    "ProductID": "18",
                                    "VisitDate": "2023-02-23",
                                    "Stage": "ProductPage",
                                    "Action": "View",
                                    "Duration": "227.0",
                                    "row_num": "1"
                                },
                                {
                                    "JourneyID": "39",
                                    "CustomerID": "63",
                                    "ProductID": "18",
                                    "VisitDate": "2023-08-10",
                                    "Stage": "ProductPage",
                                    "Action": "View",
                                    "Duration": "233.0",
                                    "row_num": "1"
                                },
                                {
                                    "JourneyID": "40",
                                    "CustomerID": "4",
                                    "ProductID": "12",
                                    "VisitDate": "2024-12-22",
                                    "Stage": "Homepage",
                                    "Action": "View",
                                    "Duration": "110.0",
                                    "row_num": "1"
                                },
                                {
                                    "JourneyID": "41",
                                    "CustomerID": "92",
                                    "ProductID": "5",
                                    "VisitDate": "2025-11-23",
                                    "Stage": "ProductPage",
                                    "Action": "View",
                                    "Duration": "124.0",
                                    "row_num": "1"
                                },
                                {
                                    "JourneyID": "42",
                                    "CustomerID": "95",
                                    "ProductID": "10",
                                    "VisitDate": "2025-01-28",
                                    "Stage": "Homepage",
                                    "Action": "View",
                                    "Duration": "172.0",
                                    "row_num": "1"
                                },
                                {
                                    "JourneyID": "43",
                                    "CustomerID": "21",
                                    "ProductID": "8",
                                    "VisitDate": "2025-03-14",
                                    "Stage": "Homepage",
                                    "Action": "View",
                                    "Duration": "40.0",
                                    "row_num": "1"
                                },
                                {
                                    "JourneyID": "44",
                                    "CustomerID": "29",
                                    "ProductID": "3",
                                    "VisitDate": "2024-02-29",
                                    "Stage": "Homepage",
                                    "Action": "View",
                                    "Duration": "193.0",
                                    "row_num": "1"
                                },
                                {
                                    "JourneyID": "45",
                                    "CustomerID": "94",
                                    "ProductID": "6",
                                    "VisitDate": "2023-06-07",
                                    "Stage": "productpage",
                                    "Action": "View",
                                    "Duration": "118.0",
                                    "row_num": "1"
                                },
                                {
                                    "JourneyID": "46",
                                    "CustomerID": "30",
                                    "ProductID": "19",
                                    "VisitDate": "2025-10-27",
                                    "Stage": "Homepage",
                                    "Action": "View",
                                    "Duration": "210.0",
                                    "row_num": "1"
                                },
                                {
                                    "JourneyID": "47",
                                    "CustomerID": "30",
                                    "ProductID": "20",
                                    "VisitDate": "2024-02-18",
                                    "Stage": "checkout",
                                    "Action": "Drop-off",
                                    "Duration": "",
                                    "row_num": "1"
                                },
                                {
                                    "JourneyID": "48",
                                    "CustomerID": "52",
                                    "ProductID": "13",
                                    "VisitDate": "2025-02-01",
                                    "Stage": "Homepage",
                                    "Action": "View",
                                    "Duration": "241.0",
                                    "row_num": "1"
                                },
                                {
                                    "JourneyID": "49",
                                    "CustomerID": "93",
                                    "ProductID": "14",
                                    "VisitDate": "2023-04-09",
                                    "Stage": "Homepage",
                                    "Action": "Click",
                                    "Duration": "69.0",
                                    "row_num": "1"
                                },
                                {
                                    "JourneyID": "50",
                                    "CustomerID": "5",
                                    "ProductID": "9",
                                    "VisitDate": "2024-04-19",
                                    "Stage": "Homepage",
                                    "Action": "View",
                                    "Duration": "44.0",
                                    "row_num": "1"
                                },
                                {
                                    "JourneyID": "51",
                                    "CustomerID": "65",
                                    "ProductID": "8",
                                    "VisitDate": "2025-09-29",
                                    "Stage": "ProductPage",
                                    "Action": "View",
                                    "Duration": "272.0",
                                    "row_num": "1"
                                },
                                {
                                    "JourneyID": "52",
                                    "CustomerID": "15",
                                    "ProductID": "9",
                                    "VisitDate": "2025-08-07",
                                    "Stage": "Checkout",
                                    "Action": "Drop-off",
                                    "Duration": "",
                                    "row_num": "1"
                                },
                                {
                                    "JourneyID": "53",
                                    "CustomerID": "24",
                                    "ProductID": "4",
                                    "VisitDate": "2024-04-05",
                                    "Stage": "Homepage",
                                    "Action": "View",
                                    "Duration": "182.0",
                                    "row_num": "1"
                                },
                                {
                                    "JourneyID": "54",
                                    "CustomerID": "9",
                                    "ProductID": "11",
                                    "VisitDate": "2024-11-19",
                                    "Stage": "checkout",
                                    "Action": "Drop-off",
                                    "Duration": "",
                                    "row_num": "1"
                                },
                                {
                                    "JourneyID": "55",
                                    "CustomerID": "1",
                                    "ProductID": "7",
                                    "VisitDate": "2024-03-17",
                                    "Stage": "Checkout",
                                    "Action": "Drop-off",
                                    "Duration": "",
                                    "row_num": "1"
                                },
                                {
                                    "JourneyID": "56",
                                    "CustomerID": "97",
                                    "ProductID": "11",
                                    "VisitDate": "2023-12-20",
                                    "Stage": "Homepage",
                                    "Action": "Click",
                                    "Duration": "234.0",
                                    "row_num": "1"
                                },
                                {
                                    "JourneyID": "57",
                                    "CustomerID": "52",
                                    "ProductID": "14",
                                    "VisitDate": "2024-12-02",
                                    "Stage": "Homepage",
                                    "Action": "View",
                                    "Duration": "253.0",
                                    "row_num": "1"
                                },
                                {
                                    "JourneyID": "58",
                                    "CustomerID": "51",
                                    "ProductID": "20",
                                    "VisitDate": "2025-03-08",
                                    "Stage": "ProductPage",
                                    "Action": "View",
                                    "Duration": "174.0",
                                    "row_num": "1"
                                },
                                {
                                    "JourneyID": "59",
                                    "CustomerID": "32",
                                    "ProductID": "8",
                                    "VisitDate": "2024-08-19",
                                    "Stage": "Homepage",
                                    "Action": "View",
                                    "Duration": "238.0",
                                    "row_num": "1"
                                },
                                {
                                    "JourneyID": "60",
                                    "CustomerID": "19",
                                    "ProductID": "6",
                                    "VisitDate": "2025-06-17",
                                    "Stage": "ProductPage",
                                    "Action": "View",
                                    "Duration": "190.0",
                                    "row_num": "1"
                                },
                                {
                                    "JourneyID": "61",
                                    "CustomerID": "69",
                                    "ProductID": "20",
                                    "VisitDate": "2025-07-12",
                                    "Stage": "Homepage",
                                    "Action": "Click",
                                    "Duration": "14.0",
                                    "row_num": "1"
                                },
                                {
                                    "JourneyID": "62",
                                    "CustomerID": "42",
                                    "ProductID": "1",
                                    "VisitDate": "2024-10-22",
                                    "Stage": "Homepage",
                                    "Action": "View",
                                    "Duration": "186.0",
                                    "row_num": "1"
                                },
                                {
                                    "JourneyID": "63",
                                    "CustomerID": "51",
                                    "ProductID": "15",
                                    "VisitDate": "2025-05-22",
                                    "Stage": "Homepage",
                                    "Action": "View",
                                    "Duration": "139.0",
                                    "row_num": "1"
                                },
                                {
                                    "JourneyID": "64",
                                    "CustomerID": "86",
                                    "ProductID": "20",
                                    "VisitDate": "2023-07-03",
                                    "Stage": "ProductPage",
                                    "Action": "View",
                                    "Duration": "77.0",
                                    "row_num": "1"
                                },
                                {
                                    "JourneyID": "65",
                                    "CustomerID": "54",
                                    "ProductID": "10",
                                    "VisitDate": "2023-12-23",
                                    "Stage": "Homepage",
                                    "Action": "View",
                                    "Duration": "101.0",
                                    "row_num": "1"
                                },
                                {
                                    "JourneyID": "66",
                                    "CustomerID": "52",
                                    "ProductID": "2",
                                    "VisitDate": "2023-11-16",
                                    "Stage": "homepage",
                                    "Action": "Click",
                                    "Duration": "242.0",
                                    "row_num": "1"
                                },
                                {
                                    "JourneyID": "67",
                                    "CustomerID": "25",
                                    "ProductID": "1",
                                    "VisitDate": "2023-05-21",
                                    "Stage": "ProductPage",
                                    "Action": "Click",
                                    "Duration": "57.0",
                                    "row_num": "1"
                                },
                                {
                                    "JourneyID": "68",
                                    "CustomerID": "45",
                                    "ProductID": "16",
                                    "VisitDate": "2023-04-29",
                                    "Stage": "ProductPage",
                                    "Action": "Click",
                                    "Duration": "250.0",
                                    "row_num": "1"
                                },
                                {
                                    "JourneyID": "69",
                                    "CustomerID": "82",
                                    "ProductID": "19",
                                    "VisitDate": "2025-02-21",
                                    "Stage": "ProductPage",
                                    "Action": "Click",
                                    "Duration": "158.0",
                                    "row_num": "1"
                                },
                                {
                                    "JourneyID": "70",
                                    "CustomerID": "75",
                                    "ProductID": "17",
                                    "VisitDate": "2023-07-07",
                                    "Stage": "Homepage",
                                    "Action": "View",
                                    "Duration": "297.0",
                                    "row_num": "1"
                                },
                                {
                                    "JourneyID": "71",
                                    "CustomerID": "40",
                                    "ProductID": "20",
                                    "VisitDate": "2023-07-13",
                                    "Stage": "Checkout",
                                    "Action": "Drop-off",
                                    "Duration": "",
                                    "row_num": "1"
                                },
                                {
                                    "JourneyID": "72",
                                    "CustomerID": "47",
                                    "ProductID": "15",
                                    "VisitDate": "2023-08-23",
                                    "Stage": "Homepage",
                                    "Action": "Click",
                                    "Duration": "34.0",
                                    "row_num": "1"
                                },
                                {
                                    "JourneyID": "73",
                                    "CustomerID": "20",
                                    "ProductID": "16",
                                    "VisitDate": "2024-09-17",
                                    "Stage": "Homepage",
                                    "Action": "View",
                                    "Duration": "17.0",
                                    "row_num": "1"
                                },
                                {
                                    "JourneyID": "74",
                                    "CustomerID": "81",
                                    "ProductID": "13",
                                    "VisitDate": "2024-09-26",
                                    "Stage": "Homepage",
                                    "Action": "Click",
                                    "Duration": "291.0",
                                    "row_num": "1"
                                },
                                {
                                    "JourneyID": "75",
                                    "CustomerID": "93",
                                    "ProductID": "1",
                                    "VisitDate": "2024-10-01",
                                    "Stage": "ProductPage",
                                    "Action": "Click",
                                    "Duration": "279.0",
                                    "row_num": "1"
                                },
                                {
                                    "JourneyID": "76",
                                    "CustomerID": "42",
                                    "ProductID": "17",
                                    "VisitDate": "2025-05-29",
                                    "Stage": "Checkout",
                                    "Action": "Purchase",
                                    "Duration": "261.0",
                                    "row_num": "1"
                                },
                                {
                                    "JourneyID": "77",
                                    "CustomerID": "36",
                                    "ProductID": "4",
                                    "VisitDate": "2023-06-02",
                                    "Stage": "Homepage",
                                    "Action": "Click",
                                    "Duration": "100.0",
                                    "row_num": "1"
                                },
                                {
                                    "JourneyID": "78",
                                    "CustomerID": "46",
                                    "ProductID": "17",
                                    "VisitDate": "2025-06-15",
                                    "Stage": "Checkout",
                                    "Action": "Purchase",
                                    "Duration": "122.0",
                                    "row_num": "1"
                                },
                                {
                                    "JourneyID": "79",
                                    "CustomerID": "75",
                                    "ProductID": "10",
                                    "VisitDate": "2023-11-13",
                                    "Stage": "Homepage",
                                    "Action": "View",
                                    "Duration": "244.0",
                                    "row_num": "1"
                                },
                                {
                                    "JourneyID": "80",
                                    "CustomerID": "64",
                                    "ProductID": "6",
                                    "VisitDate": "2025-04-06",
                                    "Stage": "Homepage",
                                    "Action": "Click",
                                    "Duration": "161.0",
                                    "row_num": "1"
                                },
                                {
                                    "JourneyID": "81",
                                    "CustomerID": "89",
                                    "ProductID": "15",
                                    "VisitDate": "2025-10-27",
                                    "Stage": "Checkout",
                                    "Action": "Purchase",
                                    "Duration": "246.0",
                                    "row_num": "1"
                                },
                                {
                                    "JourneyID": "82",
                                    "CustomerID": "64",
                                    "ProductID": "2",
                                    "VisitDate": "2025-06-07",
                                    "Stage": "Homepage",
                                    "Action": "Click",
                                    "Duration": "261.0",
                                    "row_num": "1"
                                },
                                {
                                    "JourneyID": "83",
                                    "CustomerID": "54",
                                    "ProductID": "8",
                                    "VisitDate": "2024-01-18",
                                    "Stage": "ProductPage",
                                    "Action": "Click",
                                    "Duration": "83.0",
                                    "row_num": "1"
                                },
                                {
                                    "JourneyID": "84",
                                    "CustomerID": "79",
                                    "ProductID": "15",
                                    "VisitDate": "2025-03-09",
                                    "Stage": "Checkout",
                                    "Action": "Purchase",
                                    "Duration": "48.0",
                                    "row_num": "1"
                                },
                                {
                                    "JourneyID": "85",
                                    "CustomerID": "56",
                                    "ProductID": "4",
                                    "VisitDate": "2023-05-26",
                                    "Stage": "Homepage",
                                    "Action": "Click",
                                    "Duration": "166.0",
                                    "row_num": "1"
                                },
                                {
                                    "JourneyID": "86",
                                    "CustomerID": "83",
                                    "ProductID": "3",
                                    "VisitDate": "2023-09-06",
                                    "Stage": "Homepage",
                                    "Action": "View",
                                    "Duration": "79.0",
                                    "row_num": "1"
                                },
                                {
                                    "JourneyID": "87",
                                    "CustomerID": "2",
                                    "ProductID": "2",
                                    "VisitDate": "2023-09-25",
                                    "Stage": "Homepage",
                                    "Action": "View",
                                    "Duration": "277.0",
                                    "row_num": "1"
                                },
                                {
                                    "JourneyID": "88",
                                    "CustomerID": "15",
                                    "ProductID": "20",
                                    "VisitDate": "2025-12-18",
                                    "Stage": "homepage",
                                    "Action": "View",
                                    "Duration": "136.0",
                                    "row_num": "1"
                                },
                                {
                                    "JourneyID": "89",
                                    "CustomerID": "14",
                                    "ProductID": "9",
                                    "VisitDate": "2025-04-18",
                                    "Stage": "Homepage",
                                    "Action": "Click",
                                    "Duration": "104.0",
                                    "row_num": "1"
                                },
                                {
                                    "JourneyID": "90",
                                    "CustomerID": "49",
                                    "ProductID": "8",
                                    "VisitDate": "2025-03-25",
                                    "Stage": "Homepage",
                                    "Action": "View",
                                    "Duration": "248.0",
                                    "row_num": "1"
                                },
                                {
                                    "JourneyID": "91",
                                    "CustomerID": "99",
                                    "ProductID": "10",
                                    "VisitDate": "2023-12-07",
                                    "Stage": "Homepage",
                                    "Action": "Click",
                                    "Duration": "244.0",
                                    "row_num": "1"
                                },
                                {
                                    "JourneyID": "92",
                                    "CustomerID": "88",
                                    "ProductID": "14",
                                    "VisitDate": "2025-03-09",
                                    "Stage": "Homepage",
                                    "Action": "View",
                                    "Duration": "29.0",
                                    "row_num": "1"
                                },
                                {
                                    "JourneyID": "93",
                                    "CustomerID": "43",
                                    "ProductID": "8",
                                    "VisitDate": "2023-08-22",
                                    "Stage": "Checkout",
                                    "Action": "Drop-off",
                                    "Duration": "",
                                    "row_num": "1"
                                },
                                {
                                    "JourneyID": "94",
                                    "CustomerID": "15",
                                    "ProductID": "18",
                                    "VisitDate": "2024-09-20",
                                    "Stage": "Homepage",
                                    "Action": "Click",
                                    "Duration": "143.0",
                                    "row_num": "1"
                                },
                                {
                                    "JourneyID": "95",
                                    "CustomerID": "60",
                                    "ProductID": "8",
                                    "VisitDate": "2024-09-14",
                                    "Stage": "Homepage",
                                    "Action": "View",
                                    "Duration": "182.0",
                                    "row_num": "1"
                                },
                                {
                                    "JourneyID": "96",
                                    "CustomerID": "22",
                                    "ProductID": "9",
                                    "VisitDate": "2024-07-28",
                                    "Stage": "ProductPage",
                                    "Action": "View",
                                    "Duration": "212.0",
                                    "row_num": "1"
                                },
                                {
                                    "JourneyID": "97",
                                    "CustomerID": "92",
                                    "ProductID": "19",
                                    "VisitDate": "2025-05-26",
                                    "Stage": "homepage",
                                    "Action": "View",
                                    "Duration": "203.0",
                                    "row_num": "1"
                                },
                                {
                                    "JourneyID": "98",
                                    "CustomerID": "95",
                                    "ProductID": "8",
                                    "VisitDate": "2025-05-25",
                                    "Stage": "Homepage",
                                    "Action": "Click",
                                    "Duration": "68.0",
                                    "row_num": "1"
                                },
                                {
                                    "JourneyID": "99",
                                    "CustomerID": "58",
                                    "ProductID": "16",
                                    "VisitDate": "2024-07-06",
                                    "Stage": "Checkout",
                                    "Action": "Purchase",
                                    "Duration": "87.0",
                                    "row_num": "1"
                                },
                                {
                                    "JourneyID": "100",
                                    "CustomerID": "92",
                                    "ProductID": "10",
                                    "VisitDate": "2024-04-06",
                                    "Stage": "ProductPage",
                                    "Action": "View",
                                    "Duration": "237.0",
                                    "row_num": "1"
                                }
                            ]
                        },
                        "text/html": [
                            "<table>",
                            "<tr><th>JourneyID</th><th>CustomerID</th><th>ProductID</th><th>VisitDate</th><th>Stage</th><th>Action</th><th>Duration</th><th>row_num</th></tr>",
                            "<tr><td>1</td><td>64</td><td>18</td><td>2024-06-10</td><td>Checkout</td><td>Drop-off</td><td></td><td>1</td></tr>",
                            "<tr><td>2</td><td>94</td><td>11</td><td>2025-07-09</td><td>Checkout</td><td>Drop-off</td><td></td><td>1</td></tr>",
                            "<tr><td>3</td><td>34</td><td>8</td><td>2024-06-14</td><td>ProductPage</td><td>View</td><td>235.0</td><td>1</td></tr>",
                            "<tr><td>4</td><td>33</td><td>18</td><td>2025-05-28</td><td>Checkout</td><td>Drop-off</td><td></td><td>1</td></tr>",
                            "<tr><td>5</td><td>91</td><td>10</td><td>2023-02-11</td><td>Homepage</td><td>Click</td><td>156.0</td><td>1</td></tr>",
                            "<tr><td>6</td><td>54</td><td>11</td><td>2025-12-19</td><td>Homepage</td><td>View</td><td>264.0</td><td>1</td></tr>",
                            "<tr><td>7</td><td>80</td><td>4</td><td>2023-08-25</td><td>Homepage</td><td>View</td><td>298.0</td><td>1</td></tr>",
                            "<tr><td>8</td><td>99</td><td>10</td><td>2025-07-03</td><td>ProductPage</td><td>View</td><td>287.0</td><td>1</td></tr>",
                            "<tr><td>9</td><td>31</td><td>4</td><td>2025-06-13</td><td>ProductPage</td><td>View</td><td>278.0</td><td>1</td></tr>",
                            "<tr><td>10</td><td>44</td><td>16</td><td>2025-04-23</td><td>ProductPage</td><td>View</td><td>30.0</td><td>1</td></tr>",
                            "<tr><td>11</td><td>23</td><td>12</td><td>2023-08-22</td><td>Checkout</td><td>Drop-off</td><td></td><td>1</td></tr>",
                            "<tr><td>12</td><td>97</td><td>12</td><td>2023-07-28</td><td>ProductPage</td><td>View</td><td>227.0</td><td>1</td></tr>",
                            "<tr><td>13</td><td>83</td><td>5</td><td>2024-06-20</td><td>Homepage</td><td>View</td><td>223.0</td><td>1</td></tr>",
                            "<tr><td>14</td><td>14</td><td>13</td><td>2025-11-01</td><td>ProductPage</td><td>View</td><td>13.0</td><td>1</td></tr>",
                            "<tr><td>15</td><td>9</td><td>1</td><td>2025-11-04</td><td>ProductPage</td><td>View</td><td>292.0</td><td>1</td></tr>",
                            "<tr><td>16</td><td>14</td><td>16</td><td>2024-07-17</td><td>Homepage</td><td>View</td><td>46.0</td><td>1</td></tr>",
                            "<tr><td>17</td><td>67</td><td>2</td><td>2025-12-11</td><td>Homepage</td><td>View</td><td>185.0</td><td>1</td></tr>",
                            "<tr><td>18</td><td>70</td><td>15</td><td>2025-10-13</td><td>Homepage</td><td>View</td><td>191.0</td><td>1</td></tr>",
                            "<tr><td>19</td><td>9</td><td>1</td><td>2024-08-15</td><td>Homepage</td><td>View</td><td>187.0</td><td>1</td></tr>",
                            "<tr><td>20</td><td>44</td><td>18</td><td>2024-02-19</td><td>productpage</td><td>View</td><td>154.0</td><td>1</td></tr>",
                            "<tr><td>21</td><td>58</td><td>20</td><td>2024-03-07</td><td>Checkout</td><td>Drop-off</td><td></td><td>1</td></tr>",
                            "<tr><td>22</td><td>12</td><td>1</td><td>2025-11-19</td><td>Homepage</td><td>Click</td><td>20.0</td><td>1</td></tr>",
                            "<tr><td>23</td><td>58</td><td>1</td><td>2023-07-05</td><td>Homepage</td><td>View</td><td>48.0</td><td>1</td></tr>",
                            "<tr><td>24</td><td>77</td><td>6</td><td>2025-06-25</td><td>Checkout</td><td>Drop-off</td><td></td><td>1</td></tr>",
                            "<tr><td>25</td><td>75</td><td>12</td><td>2023-11-23</td><td>ProductPage</td><td>View</td><td>239.0</td><td>1</td></tr>",
                            "<tr><td>26</td><td>78</td><td>20</td><td>2024-04-17</td><td>Homepage</td><td>View</td><td>129.0</td><td>1</td></tr>",
                            "<tr><td>27</td><td>36</td><td>9</td><td>2024-08-10</td><td>Homepage</td><td>View</td><td>214.0</td><td>1</td></tr>",
                            "<tr><td>28</td><td>1</td><td>20</td><td>2025-09-26</td><td>ProductPage</td><td>View</td><td>64.0</td><td>1</td></tr>",
                            "<tr><td>29</td><td>12</td><td>17</td><td>2025-06-01</td><td>Homepage</td><td>View</td><td>205.0</td><td>1</td></tr>",
                            "<tr><td>30</td><td>48</td><td>2</td><td>2023-05-03</td><td>ProductPage</td><td>View</td><td>242.0</td><td>1</td></tr>",
                            "<tr><td>31</td><td>81</td><td>19</td><td>2023-04-04</td><td>Homepage</td><td>View</td><td>130.0</td><td>1</td></tr>",
                            "<tr><td>32</td><td>67</td><td>11</td><td>2023-09-04</td><td>Checkout</td><td>Drop-off</td><td></td><td>1</td></tr>",
                            "<tr><td>33</td><td>2</td><td>5</td><td>2025-08-10</td><td>Homepage</td><td>View</td><td>26.0</td><td>1</td></tr>",
                            "<tr><td>34</td><td>55</td><td>15</td><td>2023-10-26</td><td>Homepage</td><td>View</td><td>233.0</td><td>1</td></tr>",
                            "<tr><td>35</td><td>60</td><td>19</td><td>2023-06-21</td><td>homepage</td><td>Click</td><td>162.0</td><td>1</td></tr>",
                            "<tr><td>36</td><td>17</td><td>2</td><td>2023-11-20</td><td>Checkout</td><td>Purchase</td><td>137.0</td><td>1</td></tr>",
                            "<tr><td>37</td><td>38</td><td>17</td><td>2024-06-18</td><td>Checkout</td><td>Drop-off</td><td></td><td>1</td></tr>",
                            "<tr><td>38</td><td>13</td><td>18</td><td>2023-02-23</td><td>ProductPage</td><td>View</td><td>227.0</td><td>1</td></tr>",
                            "<tr><td>39</td><td>63</td><td>18</td><td>2023-08-10</td><td>ProductPage</td><td>View</td><td>233.0</td><td>1</td></tr>",
                            "<tr><td>40</td><td>4</td><td>12</td><td>2024-12-22</td><td>Homepage</td><td>View</td><td>110.0</td><td>1</td></tr>",
                            "<tr><td>41</td><td>92</td><td>5</td><td>2025-11-23</td><td>ProductPage</td><td>View</td><td>124.0</td><td>1</td></tr>",
                            "<tr><td>42</td><td>95</td><td>10</td><td>2025-01-28</td><td>Homepage</td><td>View</td><td>172.0</td><td>1</td></tr>",
                            "<tr><td>43</td><td>21</td><td>8</td><td>2025-03-14</td><td>Homepage</td><td>View</td><td>40.0</td><td>1</td></tr>",
                            "<tr><td>44</td><td>29</td><td>3</td><td>2024-02-29</td><td>Homepage</td><td>View</td><td>193.0</td><td>1</td></tr>",
                            "<tr><td>45</td><td>94</td><td>6</td><td>2023-06-07</td><td>productpage</td><td>View</td><td>118.0</td><td>1</td></tr>",
                            "<tr><td>46</td><td>30</td><td>19</td><td>2025-10-27</td><td>Homepage</td><td>View</td><td>210.0</td><td>1</td></tr>",
                            "<tr><td>47</td><td>30</td><td>20</td><td>2024-02-18</td><td>checkout</td><td>Drop-off</td><td></td><td>1</td></tr>",
                            "<tr><td>48</td><td>52</td><td>13</td><td>2025-02-01</td><td>Homepage</td><td>View</td><td>241.0</td><td>1</td></tr>",
                            "<tr><td>49</td><td>93</td><td>14</td><td>2023-04-09</td><td>Homepage</td><td>Click</td><td>69.0</td><td>1</td></tr>",
                            "<tr><td>50</td><td>5</td><td>9</td><td>2024-04-19</td><td>Homepage</td><td>View</td><td>44.0</td><td>1</td></tr>",
                            "<tr><td>51</td><td>65</td><td>8</td><td>2025-09-29</td><td>ProductPage</td><td>View</td><td>272.0</td><td>1</td></tr>",
                            "<tr><td>52</td><td>15</td><td>9</td><td>2025-08-07</td><td>Checkout</td><td>Drop-off</td><td></td><td>1</td></tr>",
                            "<tr><td>53</td><td>24</td><td>4</td><td>2024-04-05</td><td>Homepage</td><td>View</td><td>182.0</td><td>1</td></tr>",
                            "<tr><td>54</td><td>9</td><td>11</td><td>2024-11-19</td><td>checkout</td><td>Drop-off</td><td></td><td>1</td></tr>",
                            "<tr><td>55</td><td>1</td><td>7</td><td>2024-03-17</td><td>Checkout</td><td>Drop-off</td><td></td><td>1</td></tr>",
                            "<tr><td>56</td><td>97</td><td>11</td><td>2023-12-20</td><td>Homepage</td><td>Click</td><td>234.0</td><td>1</td></tr>",
                            "<tr><td>57</td><td>52</td><td>14</td><td>2024-12-02</td><td>Homepage</td><td>View</td><td>253.0</td><td>1</td></tr>",
                            "<tr><td>58</td><td>51</td><td>20</td><td>2025-03-08</td><td>ProductPage</td><td>View</td><td>174.0</td><td>1</td></tr>",
                            "<tr><td>59</td><td>32</td><td>8</td><td>2024-08-19</td><td>Homepage</td><td>View</td><td>238.0</td><td>1</td></tr>",
                            "<tr><td>60</td><td>19</td><td>6</td><td>2025-06-17</td><td>ProductPage</td><td>View</td><td>190.0</td><td>1</td></tr>",
                            "<tr><td>61</td><td>69</td><td>20</td><td>2025-07-12</td><td>Homepage</td><td>Click</td><td>14.0</td><td>1</td></tr>",
                            "<tr><td>62</td><td>42</td><td>1</td><td>2024-10-22</td><td>Homepage</td><td>View</td><td>186.0</td><td>1</td></tr>",
                            "<tr><td>63</td><td>51</td><td>15</td><td>2025-05-22</td><td>Homepage</td><td>View</td><td>139.0</td><td>1</td></tr>",
                            "<tr><td>64</td><td>86</td><td>20</td><td>2023-07-03</td><td>ProductPage</td><td>View</td><td>77.0</td><td>1</td></tr>",
                            "<tr><td>65</td><td>54</td><td>10</td><td>2023-12-23</td><td>Homepage</td><td>View</td><td>101.0</td><td>1</td></tr>",
                            "<tr><td>66</td><td>52</td><td>2</td><td>2023-11-16</td><td>homepage</td><td>Click</td><td>242.0</td><td>1</td></tr>",
                            "<tr><td>67</td><td>25</td><td>1</td><td>2023-05-21</td><td>ProductPage</td><td>Click</td><td>57.0</td><td>1</td></tr>",
                            "<tr><td>68</td><td>45</td><td>16</td><td>2023-04-29</td><td>ProductPage</td><td>Click</td><td>250.0</td><td>1</td></tr>",
                            "<tr><td>69</td><td>82</td><td>19</td><td>2025-02-21</td><td>ProductPage</td><td>Click</td><td>158.0</td><td>1</td></tr>",
                            "<tr><td>70</td><td>75</td><td>17</td><td>2023-07-07</td><td>Homepage</td><td>View</td><td>297.0</td><td>1</td></tr>",
                            "<tr><td>71</td><td>40</td><td>20</td><td>2023-07-13</td><td>Checkout</td><td>Drop-off</td><td></td><td>1</td></tr>",
                            "<tr><td>72</td><td>47</td><td>15</td><td>2023-08-23</td><td>Homepage</td><td>Click</td><td>34.0</td><td>1</td></tr>",
                            "<tr><td>73</td><td>20</td><td>16</td><td>2024-09-17</td><td>Homepage</td><td>View</td><td>17.0</td><td>1</td></tr>",
                            "<tr><td>74</td><td>81</td><td>13</td><td>2024-09-26</td><td>Homepage</td><td>Click</td><td>291.0</td><td>1</td></tr>",
                            "<tr><td>75</td><td>93</td><td>1</td><td>2024-10-01</td><td>ProductPage</td><td>Click</td><td>279.0</td><td>1</td></tr>",
                            "<tr><td>76</td><td>42</td><td>17</td><td>2025-05-29</td><td>Checkout</td><td>Purchase</td><td>261.0</td><td>1</td></tr>",
                            "<tr><td>77</td><td>36</td><td>4</td><td>2023-06-02</td><td>Homepage</td><td>Click</td><td>100.0</td><td>1</td></tr>",
                            "<tr><td>78</td><td>46</td><td>17</td><td>2025-06-15</td><td>Checkout</td><td>Purchase</td><td>122.0</td><td>1</td></tr>",
                            "<tr><td>79</td><td>75</td><td>10</td><td>2023-11-13</td><td>Homepage</td><td>View</td><td>244.0</td><td>1</td></tr>",
                            "<tr><td>80</td><td>64</td><td>6</td><td>2025-04-06</td><td>Homepage</td><td>Click</td><td>161.0</td><td>1</td></tr>",
                            "<tr><td>81</td><td>89</td><td>15</td><td>2025-10-27</td><td>Checkout</td><td>Purchase</td><td>246.0</td><td>1</td></tr>",
                            "<tr><td>82</td><td>64</td><td>2</td><td>2025-06-07</td><td>Homepage</td><td>Click</td><td>261.0</td><td>1</td></tr>",
                            "<tr><td>83</td><td>54</td><td>8</td><td>2024-01-18</td><td>ProductPage</td><td>Click</td><td>83.0</td><td>1</td></tr>",
                            "<tr><td>84</td><td>79</td><td>15</td><td>2025-03-09</td><td>Checkout</td><td>Purchase</td><td>48.0</td><td>1</td></tr>",
                            "<tr><td>85</td><td>56</td><td>4</td><td>2023-05-26</td><td>Homepage</td><td>Click</td><td>166.0</td><td>1</td></tr>",
                            "<tr><td>86</td><td>83</td><td>3</td><td>2023-09-06</td><td>Homepage</td><td>View</td><td>79.0</td><td>1</td></tr>",
                            "<tr><td>87</td><td>2</td><td>2</td><td>2023-09-25</td><td>Homepage</td><td>View</td><td>277.0</td><td>1</td></tr>",
                            "<tr><td>88</td><td>15</td><td>20</td><td>2025-12-18</td><td>homepage</td><td>View</td><td>136.0</td><td>1</td></tr>",
                            "<tr><td>89</td><td>14</td><td>9</td><td>2025-04-18</td><td>Homepage</td><td>Click</td><td>104.0</td><td>1</td></tr>",
                            "<tr><td>90</td><td>49</td><td>8</td><td>2025-03-25</td><td>Homepage</td><td>View</td><td>248.0</td><td>1</td></tr>",
                            "<tr><td>91</td><td>99</td><td>10</td><td>2023-12-07</td><td>Homepage</td><td>Click</td><td>244.0</td><td>1</td></tr>",
                            "<tr><td>92</td><td>88</td><td>14</td><td>2025-03-09</td><td>Homepage</td><td>View</td><td>29.0</td><td>1</td></tr>",
                            "<tr><td>93</td><td>43</td><td>8</td><td>2023-08-22</td><td>Checkout</td><td>Drop-off</td><td></td><td>1</td></tr>",
                            "<tr><td>94</td><td>15</td><td>18</td><td>2024-09-20</td><td>Homepage</td><td>Click</td><td>143.0</td><td>1</td></tr>",
                            "<tr><td>95</td><td>60</td><td>8</td><td>2024-09-14</td><td>Homepage</td><td>View</td><td>182.0</td><td>1</td></tr>",
                            "<tr><td>96</td><td>22</td><td>9</td><td>2024-07-28</td><td>ProductPage</td><td>View</td><td>212.0</td><td>1</td></tr>",
                            "<tr><td>97</td><td>92</td><td>19</td><td>2025-05-26</td><td>homepage</td><td>View</td><td>203.0</td><td>1</td></tr>",
                            "<tr><td>98</td><td>95</td><td>8</td><td>2025-05-25</td><td>Homepage</td><td>Click</td><td>68.0</td><td>1</td></tr>",
                            "<tr><td>99</td><td>58</td><td>16</td><td>2024-07-06</td><td>Checkout</td><td>Purchase</td><td>87.0</td><td>1</td></tr>",
                            "<tr><td>100</td><td>92</td><td>10</td><td>2024-04-06</td><td>ProductPage</td><td>View</td><td>237.0</td><td>1</td></tr>",
                            "</table>"
                        ]
                    }
                },
                {
                    "output_type": "execute_result",
                    "metadata": {},
                    "execution_count": 25,
                    "data": {
                        "application/vnd.dataresource+json": {
                            "schema": {
                                "fields": [
                                    {
                                        "name": "JourneyID"
                                    },
                                    {
                                        "name": "CustomerID"
                                    },
                                    {
                                        "name": "ProductID"
                                    },
                                    {
                                        "name": "VisitDate"
                                    },
                                    {
                                        "name": "Stage"
                                    },
                                    {
                                        "name": "Action"
                                    },
                                    {
                                        "name": "Duration"
                                    }
                                ]
                            },
                            "data": [
                                {
                                    "JourneyID": "55",
                                    "CustomerID": "1",
                                    "ProductID": "7",
                                    "VisitDate": "2024-03-17",
                                    "Stage": "CHECKOUT",
                                    "Action": "Drop-off",
                                    "Duration": ""
                                },
                                {
                                    "JourneyID": "28",
                                    "CustomerID": "1",
                                    "ProductID": "20",
                                    "VisitDate": "2025-09-26",
                                    "Stage": "PRODUCTPAGE",
                                    "Action": "View",
                                    "Duration": "64.0"
                                },
                                {
                                    "JourneyID": "87",
                                    "CustomerID": "2",
                                    "ProductID": "2",
                                    "VisitDate": "2023-09-25",
                                    "Stage": "HOMEPAGE",
                                    "Action": "View",
                                    "Duration": "277.0"
                                },
                                {
                                    "JourneyID": "33",
                                    "CustomerID": "2",
                                    "ProductID": "5",
                                    "VisitDate": "2025-08-10",
                                    "Stage": "HOMEPAGE",
                                    "Action": "View",
                                    "Duration": "26.0"
                                },
                                {
                                    "JourneyID": "40",
                                    "CustomerID": "4",
                                    "ProductID": "12",
                                    "VisitDate": "2024-12-22",
                                    "Stage": "HOMEPAGE",
                                    "Action": "View",
                                    "Duration": "110.0"
                                },
                                {
                                    "JourneyID": "50",
                                    "CustomerID": "5",
                                    "ProductID": "9",
                                    "VisitDate": "2024-04-19",
                                    "Stage": "HOMEPAGE",
                                    "Action": "View",
                                    "Duration": "44.0"
                                },
                                {
                                    "JourneyID": "19",
                                    "CustomerID": "9",
                                    "ProductID": "1",
                                    "VisitDate": "2024-08-15",
                                    "Stage": "HOMEPAGE",
                                    "Action": "View",
                                    "Duration": "187.0"
                                },
                                {
                                    "JourneyID": "15",
                                    "CustomerID": "9",
                                    "ProductID": "1",
                                    "VisitDate": "2025-11-04",
                                    "Stage": "PRODUCTPAGE",
                                    "Action": "View",
                                    "Duration": "292.0"
                                },
                                {
                                    "JourneyID": "54",
                                    "CustomerID": "9",
                                    "ProductID": "11",
                                    "VisitDate": "2024-11-19",
                                    "Stage": "CHECKOUT",
                                    "Action": "Drop-off",
                                    "Duration": ""
                                },
                                {
                                    "JourneyID": "22",
                                    "CustomerID": "12",
                                    "ProductID": "1",
                                    "VisitDate": "2025-11-19",
                                    "Stage": "HOMEPAGE",
                                    "Action": "Click",
                                    "Duration": "20.0"
                                },
                                {
                                    "JourneyID": "29",
                                    "CustomerID": "12",
                                    "ProductID": "17",
                                    "VisitDate": "2025-06-01",
                                    "Stage": "HOMEPAGE",
                                    "Action": "View",
                                    "Duration": "205.0"
                                },
                                {
                                    "JourneyID": "38",
                                    "CustomerID": "13",
                                    "ProductID": "18",
                                    "VisitDate": "2023-02-23",
                                    "Stage": "PRODUCTPAGE",
                                    "Action": "View",
                                    "Duration": "227.0"
                                },
                                {
                                    "JourneyID": "89",
                                    "CustomerID": "14",
                                    "ProductID": "9",
                                    "VisitDate": "2025-04-18",
                                    "Stage": "HOMEPAGE",
                                    "Action": "Click",
                                    "Duration": "104.0"
                                },
                                {
                                    "JourneyID": "14",
                                    "CustomerID": "14",
                                    "ProductID": "13",
                                    "VisitDate": "2025-11-01",
                                    "Stage": "PRODUCTPAGE",
                                    "Action": "View",
                                    "Duration": "13.0"
                                },
                                {
                                    "JourneyID": "16",
                                    "CustomerID": "14",
                                    "ProductID": "16",
                                    "VisitDate": "2024-07-17",
                                    "Stage": "HOMEPAGE",
                                    "Action": "View",
                                    "Duration": "46.0"
                                },
                                {
                                    "JourneyID": "52",
                                    "CustomerID": "15",
                                    "ProductID": "9",
                                    "VisitDate": "2025-08-07",
                                    "Stage": "CHECKOUT",
                                    "Action": "Drop-off",
                                    "Duration": ""
                                },
                                {
                                    "JourneyID": "94",
                                    "CustomerID": "15",
                                    "ProductID": "18",
                                    "VisitDate": "2024-09-20",
                                    "Stage": "HOMEPAGE",
                                    "Action": "Click",
                                    "Duration": "143.0"
                                },
                                {
                                    "JourneyID": "88",
                                    "CustomerID": "15",
                                    "ProductID": "20",
                                    "VisitDate": "2025-12-18",
                                    "Stage": "HOMEPAGE",
                                    "Action": "View",
                                    "Duration": "136.0"
                                },
                                {
                                    "JourneyID": "36",
                                    "CustomerID": "17",
                                    "ProductID": "2",
                                    "VisitDate": "2023-11-20",
                                    "Stage": "CHECKOUT",
                                    "Action": "Purchase",
                                    "Duration": "137.0"
                                },
                                {
                                    "JourneyID": "60",
                                    "CustomerID": "19",
                                    "ProductID": "6",
                                    "VisitDate": "2025-06-17",
                                    "Stage": "PRODUCTPAGE",
                                    "Action": "View",
                                    "Duration": "190.0"
                                },
                                {
                                    "JourneyID": "73",
                                    "CustomerID": "20",
                                    "ProductID": "16",
                                    "VisitDate": "2024-09-17",
                                    "Stage": "HOMEPAGE",
                                    "Action": "View",
                                    "Duration": "17.0"
                                },
                                {
                                    "JourneyID": "43",
                                    "CustomerID": "21",
                                    "ProductID": "8",
                                    "VisitDate": "2025-03-14",
                                    "Stage": "HOMEPAGE",
                                    "Action": "View",
                                    "Duration": "40.0"
                                },
                                {
                                    "JourneyID": "96",
                                    "CustomerID": "22",
                                    "ProductID": "9",
                                    "VisitDate": "2024-07-28",
                                    "Stage": "PRODUCTPAGE",
                                    "Action": "View",
                                    "Duration": "212.0"
                                },
                                {
                                    "JourneyID": "11",
                                    "CustomerID": "23",
                                    "ProductID": "12",
                                    "VisitDate": "2023-08-22",
                                    "Stage": "CHECKOUT",
                                    "Action": "Drop-off",
                                    "Duration": ""
                                },
                                {
                                    "JourneyID": "53",
                                    "CustomerID": "24",
                                    "ProductID": "4",
                                    "VisitDate": "2024-04-05",
                                    "Stage": "HOMEPAGE",
                                    "Action": "View",
                                    "Duration": "182.0"
                                },
                                {
                                    "JourneyID": "67",
                                    "CustomerID": "25",
                                    "ProductID": "1",
                                    "VisitDate": "2023-05-21",
                                    "Stage": "PRODUCTPAGE",
                                    "Action": "Click",
                                    "Duration": "57.0"
                                },
                                {
                                    "JourneyID": "44",
                                    "CustomerID": "29",
                                    "ProductID": "3",
                                    "VisitDate": "2024-02-29",
                                    "Stage": "HOMEPAGE",
                                    "Action": "View",
                                    "Duration": "193.0"
                                },
                                {
                                    "JourneyID": "46",
                                    "CustomerID": "30",
                                    "ProductID": "19",
                                    "VisitDate": "2025-10-27",
                                    "Stage": "HOMEPAGE",
                                    "Action": "View",
                                    "Duration": "210.0"
                                },
                                {
                                    "JourneyID": "47",
                                    "CustomerID": "30",
                                    "ProductID": "20",
                                    "VisitDate": "2024-02-18",
                                    "Stage": "CHECKOUT",
                                    "Action": "Drop-off",
                                    "Duration": ""
                                },
                                {
                                    "JourneyID": "9",
                                    "CustomerID": "31",
                                    "ProductID": "4",
                                    "VisitDate": "2025-06-13",
                                    "Stage": "PRODUCTPAGE",
                                    "Action": "View",
                                    "Duration": "278.0"
                                },
                                {
                                    "JourneyID": "59",
                                    "CustomerID": "32",
                                    "ProductID": "8",
                                    "VisitDate": "2024-08-19",
                                    "Stage": "HOMEPAGE",
                                    "Action": "View",
                                    "Duration": "238.0"
                                },
                                {
                                    "JourneyID": "4",
                                    "CustomerID": "33",
                                    "ProductID": "18",
                                    "VisitDate": "2025-05-28",
                                    "Stage": "CHECKOUT",
                                    "Action": "Drop-off",
                                    "Duration": ""
                                },
                                {
                                    "JourneyID": "3",
                                    "CustomerID": "34",
                                    "ProductID": "8",
                                    "VisitDate": "2024-06-14",
                                    "Stage": "PRODUCTPAGE",
                                    "Action": "View",
                                    "Duration": "235.0"
                                },
                                {
                                    "JourneyID": "77",
                                    "CustomerID": "36",
                                    "ProductID": "4",
                                    "VisitDate": "2023-06-02",
                                    "Stage": "HOMEPAGE",
                                    "Action": "Click",
                                    "Duration": "100.0"
                                },
                                {
                                    "JourneyID": "27",
                                    "CustomerID": "36",
                                    "ProductID": "9",
                                    "VisitDate": "2024-08-10",
                                    "Stage": "HOMEPAGE",
                                    "Action": "View",
                                    "Duration": "214.0"
                                },
                                {
                                    "JourneyID": "37",
                                    "CustomerID": "38",
                                    "ProductID": "17",
                                    "VisitDate": "2024-06-18",
                                    "Stage": "CHECKOUT",
                                    "Action": "Drop-off",
                                    "Duration": ""
                                },
                                {
                                    "JourneyID": "71",
                                    "CustomerID": "40",
                                    "ProductID": "20",
                                    "VisitDate": "2023-07-13",
                                    "Stage": "CHECKOUT",
                                    "Action": "Drop-off",
                                    "Duration": ""
                                },
                                {
                                    "JourneyID": "62",
                                    "CustomerID": "42",
                                    "ProductID": "1",
                                    "VisitDate": "2024-10-22",
                                    "Stage": "HOMEPAGE",
                                    "Action": "View",
                                    "Duration": "186.0"
                                },
                                {
                                    "JourneyID": "76",
                                    "CustomerID": "42",
                                    "ProductID": "17",
                                    "VisitDate": "2025-05-29",
                                    "Stage": "CHECKOUT",
                                    "Action": "Purchase",
                                    "Duration": "261.0"
                                },
                                {
                                    "JourneyID": "93",
                                    "CustomerID": "43",
                                    "ProductID": "8",
                                    "VisitDate": "2023-08-22",
                                    "Stage": "CHECKOUT",
                                    "Action": "Drop-off",
                                    "Duration": ""
                                },
                                {
                                    "JourneyID": "10",
                                    "CustomerID": "44",
                                    "ProductID": "16",
                                    "VisitDate": "2025-04-23",
                                    "Stage": "PRODUCTPAGE",
                                    "Action": "View",
                                    "Duration": "30.0"
                                },
                                {
                                    "JourneyID": "20",
                                    "CustomerID": "44",
                                    "ProductID": "18",
                                    "VisitDate": "2024-02-19",
                                    "Stage": "PRODUCTPAGE",
                                    "Action": "View",
                                    "Duration": "154.0"
                                },
                                {
                                    "JourneyID": "68",
                                    "CustomerID": "45",
                                    "ProductID": "16",
                                    "VisitDate": "2023-04-29",
                                    "Stage": "PRODUCTPAGE",
                                    "Action": "Click",
                                    "Duration": "250.0"
                                },
                                {
                                    "JourneyID": "78",
                                    "CustomerID": "46",
                                    "ProductID": "17",
                                    "VisitDate": "2025-06-15",
                                    "Stage": "CHECKOUT",
                                    "Action": "Purchase",
                                    "Duration": "122.0"
                                },
                                {
                                    "JourneyID": "72",
                                    "CustomerID": "47",
                                    "ProductID": "15",
                                    "VisitDate": "2023-08-23",
                                    "Stage": "HOMEPAGE",
                                    "Action": "Click",
                                    "Duration": "34.0"
                                },
                                {
                                    "JourneyID": "30",
                                    "CustomerID": "48",
                                    "ProductID": "2",
                                    "VisitDate": "2023-05-03",
                                    "Stage": "PRODUCTPAGE",
                                    "Action": "View",
                                    "Duration": "242.0"
                                },
                                {
                                    "JourneyID": "90",
                                    "CustomerID": "49",
                                    "ProductID": "8",
                                    "VisitDate": "2025-03-25",
                                    "Stage": "HOMEPAGE",
                                    "Action": "View",
                                    "Duration": "248.0"
                                },
                                {
                                    "JourneyID": "63",
                                    "CustomerID": "51",
                                    "ProductID": "15",
                                    "VisitDate": "2025-05-22",
                                    "Stage": "HOMEPAGE",
                                    "Action": "View",
                                    "Duration": "139.0"
                                },
                                {
                                    "JourneyID": "58",
                                    "CustomerID": "51",
                                    "ProductID": "20",
                                    "VisitDate": "2025-03-08",
                                    "Stage": "PRODUCTPAGE",
                                    "Action": "View",
                                    "Duration": "174.0"
                                },
                                {
                                    "JourneyID": "66",
                                    "CustomerID": "52",
                                    "ProductID": "2",
                                    "VisitDate": "2023-11-16",
                                    "Stage": "HOMEPAGE",
                                    "Action": "Click",
                                    "Duration": "242.0"
                                },
                                {
                                    "JourneyID": "48",
                                    "CustomerID": "52",
                                    "ProductID": "13",
                                    "VisitDate": "2025-02-01",
                                    "Stage": "HOMEPAGE",
                                    "Action": "View",
                                    "Duration": "241.0"
                                },
                                {
                                    "JourneyID": "57",
                                    "CustomerID": "52",
                                    "ProductID": "14",
                                    "VisitDate": "2024-12-02",
                                    "Stage": "HOMEPAGE",
                                    "Action": "View",
                                    "Duration": "253.0"
                                },
                                {
                                    "JourneyID": "83",
                                    "CustomerID": "54",
                                    "ProductID": "8",
                                    "VisitDate": "2024-01-18",
                                    "Stage": "PRODUCTPAGE",
                                    "Action": "Click",
                                    "Duration": "83.0"
                                },
                                {
                                    "JourneyID": "65",
                                    "CustomerID": "54",
                                    "ProductID": "10",
                                    "VisitDate": "2023-12-23",
                                    "Stage": "HOMEPAGE",
                                    "Action": "View",
                                    "Duration": "101.0"
                                },
                                {
                                    "JourneyID": "6",
                                    "CustomerID": "54",
                                    "ProductID": "11",
                                    "VisitDate": "2025-12-19",
                                    "Stage": "HOMEPAGE",
                                    "Action": "View",
                                    "Duration": "264.0"
                                },
                                {
                                    "JourneyID": "34",
                                    "CustomerID": "55",
                                    "ProductID": "15",
                                    "VisitDate": "2023-10-26",
                                    "Stage": "HOMEPAGE",
                                    "Action": "View",
                                    "Duration": "233.0"
                                },
                                {
                                    "JourneyID": "85",
                                    "CustomerID": "56",
                                    "ProductID": "4",
                                    "VisitDate": "2023-05-26",
                                    "Stage": "HOMEPAGE",
                                    "Action": "Click",
                                    "Duration": "166.0"
                                },
                                {
                                    "JourneyID": "23",
                                    "CustomerID": "58",
                                    "ProductID": "1",
                                    "VisitDate": "2023-07-05",
                                    "Stage": "HOMEPAGE",
                                    "Action": "View",
                                    "Duration": "48.0"
                                },
                                {
                                    "JourneyID": "99",
                                    "CustomerID": "58",
                                    "ProductID": "16",
                                    "VisitDate": "2024-07-06",
                                    "Stage": "CHECKOUT",
                                    "Action": "Purchase",
                                    "Duration": "87.0"
                                },
                                {
                                    "JourneyID": "21",
                                    "CustomerID": "58",
                                    "ProductID": "20",
                                    "VisitDate": "2024-03-07",
                                    "Stage": "CHECKOUT",
                                    "Action": "Drop-off",
                                    "Duration": ""
                                },
                                {
                                    "JourneyID": "95",
                                    "CustomerID": "60",
                                    "ProductID": "8",
                                    "VisitDate": "2024-09-14",
                                    "Stage": "HOMEPAGE",
                                    "Action": "View",
                                    "Duration": "182.0"
                                },
                                {
                                    "JourneyID": "35",
                                    "CustomerID": "60",
                                    "ProductID": "19",
                                    "VisitDate": "2023-06-21",
                                    "Stage": "HOMEPAGE",
                                    "Action": "Click",
                                    "Duration": "162.0"
                                },
                                {
                                    "JourneyID": "39",
                                    "CustomerID": "63",
                                    "ProductID": "18",
                                    "VisitDate": "2023-08-10",
                                    "Stage": "PRODUCTPAGE",
                                    "Action": "View",
                                    "Duration": "233.0"
                                },
                                {
                                    "JourneyID": "82",
                                    "CustomerID": "64",
                                    "ProductID": "2",
                                    "VisitDate": "2025-06-07",
                                    "Stage": "HOMEPAGE",
                                    "Action": "Click",
                                    "Duration": "261.0"
                                },
                                {
                                    "JourneyID": "80",
                                    "CustomerID": "64",
                                    "ProductID": "6",
                                    "VisitDate": "2025-04-06",
                                    "Stage": "HOMEPAGE",
                                    "Action": "Click",
                                    "Duration": "161.0"
                                },
                                {
                                    "JourneyID": "1",
                                    "CustomerID": "64",
                                    "ProductID": "18",
                                    "VisitDate": "2024-06-10",
                                    "Stage": "CHECKOUT",
                                    "Action": "Drop-off",
                                    "Duration": ""
                                },
                                {
                                    "JourneyID": "51",
                                    "CustomerID": "65",
                                    "ProductID": "8",
                                    "VisitDate": "2025-09-29",
                                    "Stage": "PRODUCTPAGE",
                                    "Action": "View",
                                    "Duration": "272.0"
                                },
                                {
                                    "JourneyID": "17",
                                    "CustomerID": "67",
                                    "ProductID": "2",
                                    "VisitDate": "2025-12-11",
                                    "Stage": "HOMEPAGE",
                                    "Action": "View",
                                    "Duration": "185.0"
                                },
                                {
                                    "JourneyID": "32",
                                    "CustomerID": "67",
                                    "ProductID": "11",
                                    "VisitDate": "2023-09-04",
                                    "Stage": "CHECKOUT",
                                    "Action": "Drop-off",
                                    "Duration": ""
                                },
                                {
                                    "JourneyID": "61",
                                    "CustomerID": "69",
                                    "ProductID": "20",
                                    "VisitDate": "2025-07-12",
                                    "Stage": "HOMEPAGE",
                                    "Action": "Click",
                                    "Duration": "14.0"
                                },
                                {
                                    "JourneyID": "18",
                                    "CustomerID": "70",
                                    "ProductID": "15",
                                    "VisitDate": "2025-10-13",
                                    "Stage": "HOMEPAGE",
                                    "Action": "View",
                                    "Duration": "191.0"
                                },
                                {
                                    "JourneyID": "79",
                                    "CustomerID": "75",
                                    "ProductID": "10",
                                    "VisitDate": "2023-11-13",
                                    "Stage": "HOMEPAGE",
                                    "Action": "View",
                                    "Duration": "244.0"
                                },
                                {
                                    "JourneyID": "25",
                                    "CustomerID": "75",
                                    "ProductID": "12",
                                    "VisitDate": "2023-11-23",
                                    "Stage": "PRODUCTPAGE",
                                    "Action": "View",
                                    "Duration": "239.0"
                                },
                                {
                                    "JourneyID": "70",
                                    "CustomerID": "75",
                                    "ProductID": "17",
                                    "VisitDate": "2023-07-07",
                                    "Stage": "HOMEPAGE",
                                    "Action": "View",
                                    "Duration": "297.0"
                                },
                                {
                                    "JourneyID": "24",
                                    "CustomerID": "77",
                                    "ProductID": "6",
                                    "VisitDate": "2025-06-25",
                                    "Stage": "CHECKOUT",
                                    "Action": "Drop-off",
                                    "Duration": ""
                                },
                                {
                                    "JourneyID": "26",
                                    "CustomerID": "78",
                                    "ProductID": "20",
                                    "VisitDate": "2024-04-17",
                                    "Stage": "HOMEPAGE",
                                    "Action": "View",
                                    "Duration": "129.0"
                                },
                                {
                                    "JourneyID": "84",
                                    "CustomerID": "79",
                                    "ProductID": "15",
                                    "VisitDate": "2025-03-09",
                                    "Stage": "CHECKOUT",
                                    "Action": "Purchase",
                                    "Duration": "48.0"
                                },
                                {
                                    "JourneyID": "7",
                                    "CustomerID": "80",
                                    "ProductID": "4",
                                    "VisitDate": "2023-08-25",
                                    "Stage": "HOMEPAGE",
                                    "Action": "View",
                                    "Duration": "298.0"
                                },
                                {
                                    "JourneyID": "74",
                                    "CustomerID": "81",
                                    "ProductID": "13",
                                    "VisitDate": "2024-09-26",
                                    "Stage": "HOMEPAGE",
                                    "Action": "Click",
                                    "Duration": "291.0"
                                },
                                {
                                    "JourneyID": "31",
                                    "CustomerID": "81",
                                    "ProductID": "19",
                                    "VisitDate": "2023-04-04",
                                    "Stage": "HOMEPAGE",
                                    "Action": "View",
                                    "Duration": "130.0"
                                },
                                {
                                    "JourneyID": "69",
                                    "CustomerID": "82",
                                    "ProductID": "19",
                                    "VisitDate": "2025-02-21",
                                    "Stage": "PRODUCTPAGE",
                                    "Action": "Click",
                                    "Duration": "158.0"
                                },
                                {
                                    "JourneyID": "86",
                                    "CustomerID": "83",
                                    "ProductID": "3",
                                    "VisitDate": "2023-09-06",
                                    "Stage": "HOMEPAGE",
                                    "Action": "View",
                                    "Duration": "79.0"
                                },
                                {
                                    "JourneyID": "13",
                                    "CustomerID": "83",
                                    "ProductID": "5",
                                    "VisitDate": "2024-06-20",
                                    "Stage": "HOMEPAGE",
                                    "Action": "View",
                                    "Duration": "223.0"
                                },
                                {
                                    "JourneyID": "64",
                                    "CustomerID": "86",
                                    "ProductID": "20",
                                    "VisitDate": "2023-07-03",
                                    "Stage": "PRODUCTPAGE",
                                    "Action": "View",
                                    "Duration": "77.0"
                                },
                                {
                                    "JourneyID": "92",
                                    "CustomerID": "88",
                                    "ProductID": "14",
                                    "VisitDate": "2025-03-09",
                                    "Stage": "HOMEPAGE",
                                    "Action": "View",
                                    "Duration": "29.0"
                                },
                                {
                                    "JourneyID": "81",
                                    "CustomerID": "89",
                                    "ProductID": "15",
                                    "VisitDate": "2025-10-27",
                                    "Stage": "CHECKOUT",
                                    "Action": "Purchase",
                                    "Duration": "246.0"
                                },
                                {
                                    "JourneyID": "5",
                                    "CustomerID": "91",
                                    "ProductID": "10",
                                    "VisitDate": "2023-02-11",
                                    "Stage": "HOMEPAGE",
                                    "Action": "Click",
                                    "Duration": "156.0"
                                },
                                {
                                    "JourneyID": "41",
                                    "CustomerID": "92",
                                    "ProductID": "5",
                                    "VisitDate": "2025-11-23",
                                    "Stage": "PRODUCTPAGE",
                                    "Action": "View",
                                    "Duration": "124.0"
                                },
                                {
                                    "JourneyID": "100",
                                    "CustomerID": "92",
                                    "ProductID": "10",
                                    "VisitDate": "2024-04-06",
                                    "Stage": "PRODUCTPAGE",
                                    "Action": "View",
                                    "Duration": "237.0"
                                },
                                {
                                    "JourneyID": "97",
                                    "CustomerID": "92",
                                    "ProductID": "19",
                                    "VisitDate": "2025-05-26",
                                    "Stage": "HOMEPAGE",
                                    "Action": "View",
                                    "Duration": "203.0"
                                },
                                {
                                    "JourneyID": "75",
                                    "CustomerID": "93",
                                    "ProductID": "1",
                                    "VisitDate": "2024-10-01",
                                    "Stage": "PRODUCTPAGE",
                                    "Action": "Click",
                                    "Duration": "279.0"
                                },
                                {
                                    "JourneyID": "49",
                                    "CustomerID": "93",
                                    "ProductID": "14",
                                    "VisitDate": "2023-04-09",
                                    "Stage": "HOMEPAGE",
                                    "Action": "Click",
                                    "Duration": "69.0"
                                },
                                {
                                    "JourneyID": "45",
                                    "CustomerID": "94",
                                    "ProductID": "6",
                                    "VisitDate": "2023-06-07",
                                    "Stage": "PRODUCTPAGE",
                                    "Action": "View",
                                    "Duration": "118.0"
                                },
                                {
                                    "JourneyID": "2",
                                    "CustomerID": "94",
                                    "ProductID": "11",
                                    "VisitDate": "2025-07-09",
                                    "Stage": "CHECKOUT",
                                    "Action": "Drop-off",
                                    "Duration": ""
                                },
                                {
                                    "JourneyID": "98",
                                    "CustomerID": "95",
                                    "ProductID": "8",
                                    "VisitDate": "2025-05-25",
                                    "Stage": "HOMEPAGE",
                                    "Action": "Click",
                                    "Duration": "68.0"
                                },
                                {
                                    "JourneyID": "42",
                                    "CustomerID": "95",
                                    "ProductID": "10",
                                    "VisitDate": "2025-01-28",
                                    "Stage": "HOMEPAGE",
                                    "Action": "View",
                                    "Duration": "172.0"
                                },
                                {
                                    "JourneyID": "56",
                                    "CustomerID": "97",
                                    "ProductID": "11",
                                    "VisitDate": "2023-12-20",
                                    "Stage": "HOMEPAGE",
                                    "Action": "Click",
                                    "Duration": "234.0"
                                },
                                {
                                    "JourneyID": "12",
                                    "CustomerID": "97",
                                    "ProductID": "12",
                                    "VisitDate": "2023-07-28",
                                    "Stage": "PRODUCTPAGE",
                                    "Action": "View",
                                    "Duration": "227.0"
                                },
                                {
                                    "JourneyID": "91",
                                    "CustomerID": "99",
                                    "ProductID": "10",
                                    "VisitDate": "2023-12-07",
                                    "Stage": "HOMEPAGE",
                                    "Action": "Click",
                                    "Duration": "244.0"
                                },
                                {
                                    "JourneyID": "8",
                                    "CustomerID": "99",
                                    "ProductID": "10",
                                    "VisitDate": "2025-07-03",
                                    "Stage": "PRODUCTPAGE",
                                    "Action": "View",
                                    "Duration": "287.0"
                                }
                            ]
                        },
                        "text/html": [
                            "<table>",
                            "<tr><th>JourneyID</th><th>CustomerID</th><th>ProductID</th><th>VisitDate</th><th>Stage</th><th>Action</th><th>Duration</th></tr>",
                            "<tr><td>55</td><td>1</td><td>7</td><td>2024-03-17</td><td>CHECKOUT</td><td>Drop-off</td><td></td></tr>",
                            "<tr><td>28</td><td>1</td><td>20</td><td>2025-09-26</td><td>PRODUCTPAGE</td><td>View</td><td>64.0</td></tr>",
                            "<tr><td>87</td><td>2</td><td>2</td><td>2023-09-25</td><td>HOMEPAGE</td><td>View</td><td>277.0</td></tr>",
                            "<tr><td>33</td><td>2</td><td>5</td><td>2025-08-10</td><td>HOMEPAGE</td><td>View</td><td>26.0</td></tr>",
                            "<tr><td>40</td><td>4</td><td>12</td><td>2024-12-22</td><td>HOMEPAGE</td><td>View</td><td>110.0</td></tr>",
                            "<tr><td>50</td><td>5</td><td>9</td><td>2024-04-19</td><td>HOMEPAGE</td><td>View</td><td>44.0</td></tr>",
                            "<tr><td>19</td><td>9</td><td>1</td><td>2024-08-15</td><td>HOMEPAGE</td><td>View</td><td>187.0</td></tr>",
                            "<tr><td>15</td><td>9</td><td>1</td><td>2025-11-04</td><td>PRODUCTPAGE</td><td>View</td><td>292.0</td></tr>",
                            "<tr><td>54</td><td>9</td><td>11</td><td>2024-11-19</td><td>CHECKOUT</td><td>Drop-off</td><td></td></tr>",
                            "<tr><td>22</td><td>12</td><td>1</td><td>2025-11-19</td><td>HOMEPAGE</td><td>Click</td><td>20.0</td></tr>",
                            "<tr><td>29</td><td>12</td><td>17</td><td>2025-06-01</td><td>HOMEPAGE</td><td>View</td><td>205.0</td></tr>",
                            "<tr><td>38</td><td>13</td><td>18</td><td>2023-02-23</td><td>PRODUCTPAGE</td><td>View</td><td>227.0</td></tr>",
                            "<tr><td>89</td><td>14</td><td>9</td><td>2025-04-18</td><td>HOMEPAGE</td><td>Click</td><td>104.0</td></tr>",
                            "<tr><td>14</td><td>14</td><td>13</td><td>2025-11-01</td><td>PRODUCTPAGE</td><td>View</td><td>13.0</td></tr>",
                            "<tr><td>16</td><td>14</td><td>16</td><td>2024-07-17</td><td>HOMEPAGE</td><td>View</td><td>46.0</td></tr>",
                            "<tr><td>52</td><td>15</td><td>9</td><td>2025-08-07</td><td>CHECKOUT</td><td>Drop-off</td><td></td></tr>",
                            "<tr><td>94</td><td>15</td><td>18</td><td>2024-09-20</td><td>HOMEPAGE</td><td>Click</td><td>143.0</td></tr>",
                            "<tr><td>88</td><td>15</td><td>20</td><td>2025-12-18</td><td>HOMEPAGE</td><td>View</td><td>136.0</td></tr>",
                            "<tr><td>36</td><td>17</td><td>2</td><td>2023-11-20</td><td>CHECKOUT</td><td>Purchase</td><td>137.0</td></tr>",
                            "<tr><td>60</td><td>19</td><td>6</td><td>2025-06-17</td><td>PRODUCTPAGE</td><td>View</td><td>190.0</td></tr>",
                            "<tr><td>73</td><td>20</td><td>16</td><td>2024-09-17</td><td>HOMEPAGE</td><td>View</td><td>17.0</td></tr>",
                            "<tr><td>43</td><td>21</td><td>8</td><td>2025-03-14</td><td>HOMEPAGE</td><td>View</td><td>40.0</td></tr>",
                            "<tr><td>96</td><td>22</td><td>9</td><td>2024-07-28</td><td>PRODUCTPAGE</td><td>View</td><td>212.0</td></tr>",
                            "<tr><td>11</td><td>23</td><td>12</td><td>2023-08-22</td><td>CHECKOUT</td><td>Drop-off</td><td></td></tr>",
                            "<tr><td>53</td><td>24</td><td>4</td><td>2024-04-05</td><td>HOMEPAGE</td><td>View</td><td>182.0</td></tr>",
                            "<tr><td>67</td><td>25</td><td>1</td><td>2023-05-21</td><td>PRODUCTPAGE</td><td>Click</td><td>57.0</td></tr>",
                            "<tr><td>44</td><td>29</td><td>3</td><td>2024-02-29</td><td>HOMEPAGE</td><td>View</td><td>193.0</td></tr>",
                            "<tr><td>46</td><td>30</td><td>19</td><td>2025-10-27</td><td>HOMEPAGE</td><td>View</td><td>210.0</td></tr>",
                            "<tr><td>47</td><td>30</td><td>20</td><td>2024-02-18</td><td>CHECKOUT</td><td>Drop-off</td><td></td></tr>",
                            "<tr><td>9</td><td>31</td><td>4</td><td>2025-06-13</td><td>PRODUCTPAGE</td><td>View</td><td>278.0</td></tr>",
                            "<tr><td>59</td><td>32</td><td>8</td><td>2024-08-19</td><td>HOMEPAGE</td><td>View</td><td>238.0</td></tr>",
                            "<tr><td>4</td><td>33</td><td>18</td><td>2025-05-28</td><td>CHECKOUT</td><td>Drop-off</td><td></td></tr>",
                            "<tr><td>3</td><td>34</td><td>8</td><td>2024-06-14</td><td>PRODUCTPAGE</td><td>View</td><td>235.0</td></tr>",
                            "<tr><td>77</td><td>36</td><td>4</td><td>2023-06-02</td><td>HOMEPAGE</td><td>Click</td><td>100.0</td></tr>",
                            "<tr><td>27</td><td>36</td><td>9</td><td>2024-08-10</td><td>HOMEPAGE</td><td>View</td><td>214.0</td></tr>",
                            "<tr><td>37</td><td>38</td><td>17</td><td>2024-06-18</td><td>CHECKOUT</td><td>Drop-off</td><td></td></tr>",
                            "<tr><td>71</td><td>40</td><td>20</td><td>2023-07-13</td><td>CHECKOUT</td><td>Drop-off</td><td></td></tr>",
                            "<tr><td>62</td><td>42</td><td>1</td><td>2024-10-22</td><td>HOMEPAGE</td><td>View</td><td>186.0</td></tr>",
                            "<tr><td>76</td><td>42</td><td>17</td><td>2025-05-29</td><td>CHECKOUT</td><td>Purchase</td><td>261.0</td></tr>",
                            "<tr><td>93</td><td>43</td><td>8</td><td>2023-08-22</td><td>CHECKOUT</td><td>Drop-off</td><td></td></tr>",
                            "<tr><td>10</td><td>44</td><td>16</td><td>2025-04-23</td><td>PRODUCTPAGE</td><td>View</td><td>30.0</td></tr>",
                            "<tr><td>20</td><td>44</td><td>18</td><td>2024-02-19</td><td>PRODUCTPAGE</td><td>View</td><td>154.0</td></tr>",
                            "<tr><td>68</td><td>45</td><td>16</td><td>2023-04-29</td><td>PRODUCTPAGE</td><td>Click</td><td>250.0</td></tr>",
                            "<tr><td>78</td><td>46</td><td>17</td><td>2025-06-15</td><td>CHECKOUT</td><td>Purchase</td><td>122.0</td></tr>",
                            "<tr><td>72</td><td>47</td><td>15</td><td>2023-08-23</td><td>HOMEPAGE</td><td>Click</td><td>34.0</td></tr>",
                            "<tr><td>30</td><td>48</td><td>2</td><td>2023-05-03</td><td>PRODUCTPAGE</td><td>View</td><td>242.0</td></tr>",
                            "<tr><td>90</td><td>49</td><td>8</td><td>2025-03-25</td><td>HOMEPAGE</td><td>View</td><td>248.0</td></tr>",
                            "<tr><td>63</td><td>51</td><td>15</td><td>2025-05-22</td><td>HOMEPAGE</td><td>View</td><td>139.0</td></tr>",
                            "<tr><td>58</td><td>51</td><td>20</td><td>2025-03-08</td><td>PRODUCTPAGE</td><td>View</td><td>174.0</td></tr>",
                            "<tr><td>66</td><td>52</td><td>2</td><td>2023-11-16</td><td>HOMEPAGE</td><td>Click</td><td>242.0</td></tr>",
                            "<tr><td>48</td><td>52</td><td>13</td><td>2025-02-01</td><td>HOMEPAGE</td><td>View</td><td>241.0</td></tr>",
                            "<tr><td>57</td><td>52</td><td>14</td><td>2024-12-02</td><td>HOMEPAGE</td><td>View</td><td>253.0</td></tr>",
                            "<tr><td>83</td><td>54</td><td>8</td><td>2024-01-18</td><td>PRODUCTPAGE</td><td>Click</td><td>83.0</td></tr>",
                            "<tr><td>65</td><td>54</td><td>10</td><td>2023-12-23</td><td>HOMEPAGE</td><td>View</td><td>101.0</td></tr>",
                            "<tr><td>6</td><td>54</td><td>11</td><td>2025-12-19</td><td>HOMEPAGE</td><td>View</td><td>264.0</td></tr>",
                            "<tr><td>34</td><td>55</td><td>15</td><td>2023-10-26</td><td>HOMEPAGE</td><td>View</td><td>233.0</td></tr>",
                            "<tr><td>85</td><td>56</td><td>4</td><td>2023-05-26</td><td>HOMEPAGE</td><td>Click</td><td>166.0</td></tr>",
                            "<tr><td>23</td><td>58</td><td>1</td><td>2023-07-05</td><td>HOMEPAGE</td><td>View</td><td>48.0</td></tr>",
                            "<tr><td>99</td><td>58</td><td>16</td><td>2024-07-06</td><td>CHECKOUT</td><td>Purchase</td><td>87.0</td></tr>",
                            "<tr><td>21</td><td>58</td><td>20</td><td>2024-03-07</td><td>CHECKOUT</td><td>Drop-off</td><td></td></tr>",
                            "<tr><td>95</td><td>60</td><td>8</td><td>2024-09-14</td><td>HOMEPAGE</td><td>View</td><td>182.0</td></tr>",
                            "<tr><td>35</td><td>60</td><td>19</td><td>2023-06-21</td><td>HOMEPAGE</td><td>Click</td><td>162.0</td></tr>",
                            "<tr><td>39</td><td>63</td><td>18</td><td>2023-08-10</td><td>PRODUCTPAGE</td><td>View</td><td>233.0</td></tr>",
                            "<tr><td>82</td><td>64</td><td>2</td><td>2025-06-07</td><td>HOMEPAGE</td><td>Click</td><td>261.0</td></tr>",
                            "<tr><td>80</td><td>64</td><td>6</td><td>2025-04-06</td><td>HOMEPAGE</td><td>Click</td><td>161.0</td></tr>",
                            "<tr><td>1</td><td>64</td><td>18</td><td>2024-06-10</td><td>CHECKOUT</td><td>Drop-off</td><td></td></tr>",
                            "<tr><td>51</td><td>65</td><td>8</td><td>2025-09-29</td><td>PRODUCTPAGE</td><td>View</td><td>272.0</td></tr>",
                            "<tr><td>17</td><td>67</td><td>2</td><td>2025-12-11</td><td>HOMEPAGE</td><td>View</td><td>185.0</td></tr>",
                            "<tr><td>32</td><td>67</td><td>11</td><td>2023-09-04</td><td>CHECKOUT</td><td>Drop-off</td><td></td></tr>",
                            "<tr><td>61</td><td>69</td><td>20</td><td>2025-07-12</td><td>HOMEPAGE</td><td>Click</td><td>14.0</td></tr>",
                            "<tr><td>18</td><td>70</td><td>15</td><td>2025-10-13</td><td>HOMEPAGE</td><td>View</td><td>191.0</td></tr>",
                            "<tr><td>79</td><td>75</td><td>10</td><td>2023-11-13</td><td>HOMEPAGE</td><td>View</td><td>244.0</td></tr>",
                            "<tr><td>25</td><td>75</td><td>12</td><td>2023-11-23</td><td>PRODUCTPAGE</td><td>View</td><td>239.0</td></tr>",
                            "<tr><td>70</td><td>75</td><td>17</td><td>2023-07-07</td><td>HOMEPAGE</td><td>View</td><td>297.0</td></tr>",
                            "<tr><td>24</td><td>77</td><td>6</td><td>2025-06-25</td><td>CHECKOUT</td><td>Drop-off</td><td></td></tr>",
                            "<tr><td>26</td><td>78</td><td>20</td><td>2024-04-17</td><td>HOMEPAGE</td><td>View</td><td>129.0</td></tr>",
                            "<tr><td>84</td><td>79</td><td>15</td><td>2025-03-09</td><td>CHECKOUT</td><td>Purchase</td><td>48.0</td></tr>",
                            "<tr><td>7</td><td>80</td><td>4</td><td>2023-08-25</td><td>HOMEPAGE</td><td>View</td><td>298.0</td></tr>",
                            "<tr><td>74</td><td>81</td><td>13</td><td>2024-09-26</td><td>HOMEPAGE</td><td>Click</td><td>291.0</td></tr>",
                            "<tr><td>31</td><td>81</td><td>19</td><td>2023-04-04</td><td>HOMEPAGE</td><td>View</td><td>130.0</td></tr>",
                            "<tr><td>69</td><td>82</td><td>19</td><td>2025-02-21</td><td>PRODUCTPAGE</td><td>Click</td><td>158.0</td></tr>",
                            "<tr><td>86</td><td>83</td><td>3</td><td>2023-09-06</td><td>HOMEPAGE</td><td>View</td><td>79.0</td></tr>",
                            "<tr><td>13</td><td>83</td><td>5</td><td>2024-06-20</td><td>HOMEPAGE</td><td>View</td><td>223.0</td></tr>",
                            "<tr><td>64</td><td>86</td><td>20</td><td>2023-07-03</td><td>PRODUCTPAGE</td><td>View</td><td>77.0</td></tr>",
                            "<tr><td>92</td><td>88</td><td>14</td><td>2025-03-09</td><td>HOMEPAGE</td><td>View</td><td>29.0</td></tr>",
                            "<tr><td>81</td><td>89</td><td>15</td><td>2025-10-27</td><td>CHECKOUT</td><td>Purchase</td><td>246.0</td></tr>",
                            "<tr><td>5</td><td>91</td><td>10</td><td>2023-02-11</td><td>HOMEPAGE</td><td>Click</td><td>156.0</td></tr>",
                            "<tr><td>41</td><td>92</td><td>5</td><td>2025-11-23</td><td>PRODUCTPAGE</td><td>View</td><td>124.0</td></tr>",
                            "<tr><td>100</td><td>92</td><td>10</td><td>2024-04-06</td><td>PRODUCTPAGE</td><td>View</td><td>237.0</td></tr>",
                            "<tr><td>97</td><td>92</td><td>19</td><td>2025-05-26</td><td>HOMEPAGE</td><td>View</td><td>203.0</td></tr>",
                            "<tr><td>75</td><td>93</td><td>1</td><td>2024-10-01</td><td>PRODUCTPAGE</td><td>Click</td><td>279.0</td></tr>",
                            "<tr><td>49</td><td>93</td><td>14</td><td>2023-04-09</td><td>HOMEPAGE</td><td>Click</td><td>69.0</td></tr>",
                            "<tr><td>45</td><td>94</td><td>6</td><td>2023-06-07</td><td>PRODUCTPAGE</td><td>View</td><td>118.0</td></tr>",
                            "<tr><td>2</td><td>94</td><td>11</td><td>2025-07-09</td><td>CHECKOUT</td><td>Drop-off</td><td></td></tr>",
                            "<tr><td>98</td><td>95</td><td>8</td><td>2025-05-25</td><td>HOMEPAGE</td><td>Click</td><td>68.0</td></tr>",
                            "<tr><td>42</td><td>95</td><td>10</td><td>2025-01-28</td><td>HOMEPAGE</td><td>View</td><td>172.0</td></tr>",
                            "<tr><td>56</td><td>97</td><td>11</td><td>2023-12-20</td><td>HOMEPAGE</td><td>Click</td><td>234.0</td></tr>",
                            "<tr><td>12</td><td>97</td><td>12</td><td>2023-07-28</td><td>PRODUCTPAGE</td><td>View</td><td>227.0</td></tr>",
                            "<tr><td>91</td><td>99</td><td>10</td><td>2023-12-07</td><td>HOMEPAGE</td><td>Click</td><td>244.0</td></tr>",
                            "<tr><td>8</td><td>99</td><td>10</td><td>2025-07-03</td><td>PRODUCTPAGE</td><td>View</td><td>287.0</td></tr>",
                            "</table>"
                        ]
                    }
                }
            ],
            "execution_count": 25
        }
    ]
}